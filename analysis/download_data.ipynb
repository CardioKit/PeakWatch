{
 "cells": [
  {
   "cell_type": "markdown",
   "id": "9e7f3f99",
   "metadata": {},
   "source": [
    "# Evaluation on an external dataset\n",
    "\n",
    "In order to evaluate PeakSwift against NeuroKit, an external dataset is required that covers a wide range of individuals and conditions. Therefore, a dataset described as \"a 12-lead electrocardiogram database for arrhythmia research with more than 10,000 patients\" is used. As we are interested in single lead ECG signals, the script downloads the dataset, extracts the first lead of the ECGs and saves it in a suitable .csv format so that it can be fed into PeakWatch for peak detection and subsequent analysis."
   ]
  },
  {
   "cell_type": "code",
   "execution_count": 29,
   "id": "ed287f97",
   "metadata": {},
   "outputs": [],
   "source": [
    "import requests\n",
    "import zipfile\n",
    "import glob\n",
    "from tqdm import tqdm\n",
    "import numpy as np\n",
    "import json"
   ]
  },
  {
   "cell_type": "code",
   "execution_count": 2,
   "id": "095798a5",
   "metadata": {},
   "outputs": [],
   "source": [
    "URL = \"https://figshare.com/ndownloader/files/15651326\"\n",
    "response = requests.get(URL)"
   ]
  },
  {
   "cell_type": "code",
   "execution_count": 40,
   "id": "56533f6b",
   "metadata": {},
   "outputs": [],
   "source": [
    "sampling_rate_dataset = 512.0"
   ]
  },
  {
   "cell_type": "code",
   "execution_count": 3,
   "id": "8db7dd5a",
   "metadata": {},
   "outputs": [
    {
     "data": {
      "text/plain": [
       "754581129"
      ]
     },
     "execution_count": 3,
     "metadata": {},
     "output_type": "execute_result"
    }
   ],
   "source": [
    "open(\"data.zip\", \"wb\").write(response.content)"
   ]
  },
  {
   "cell_type": "code",
   "execution_count": 4,
   "id": "bb1eea23",
   "metadata": {},
   "outputs": [],
   "source": [
    "with zipfile.ZipFile('./data.zip', 'r') as zip_ref:\n",
    "    zip_ref.extractall('./')"
   ]
  },
  {
   "cell_type": "code",
   "execution_count": 5,
   "id": "b08aae06",
   "metadata": {},
   "outputs": [],
   "source": [
    "files = glob.glob(\"./ECGData/*.csv\")\n",
    "M = np.zeros((len(files), 5000))"
   ]
  },
  {
   "cell_type": "code",
   "execution_count": 15,
   "id": "39ed2695",
   "metadata": {},
   "outputs": [
    {
     "name": "stderr",
     "output_type": "stream",
     "text": [
      "100%|█████████████████████████████████████| 10646/10646 [02:54<00:00, 61.01it/s]\n"
     ]
    }
   ],
   "source": [
    "i = 0\n",
    "for k in tqdm(files, total=len(files)):\n",
    "    extracted = np.genfromtxt(k, delimiter=\",\", skip_header=True)[:, 0]\n",
    "    M[i, :] = extracted\n",
    "    i = i+1"
   ]
  },
  {
   "cell_type": "code",
   "execution_count": 47,
   "id": "6ea88c04",
   "metadata": {},
   "outputs": [
    {
     "name": "stderr",
     "output_type": "stream",
     "text": [
      "100%|███████████████████████████████████| 10646/10646 [00:01<00:00, 8016.67it/s]\n"
     ]
    }
   ],
   "source": [
    "jsonResult = []\n",
    "i = 0\n",
    "for k in tqdm(M, total=len(M)):\n",
    "    extracted = M[i,:]\n",
    "    jsonResult.append({\"ecg\": extracted.tolist(), \"samplingRate\": sampling_rate_dataset})\n",
    "    i = i+1\n",
    "jsonResult = {\"dataset\": jsonResult}"
   ]
  },
  {
   "cell_type": "code",
   "execution_count": null,
   "id": "13284385",
   "metadata": {},
   "outputs": [],
   "source": [
    "jsonText = json.dumps(jsonResult)"
   ]
  },
  {
   "cell_type": "code",
   "execution_count": 43,
   "id": "08eefe65",
   "metadata": {},
   "outputs": [],
   "source": [
    "f = open(f\"./ecg_data_arrhythmia.json\", \"w\")\n",
    "f.write(jsonText)\n",
    "f.close()"
   ]
  },
  {
   "cell_type": "code",
   "execution_count": null,
   "id": "778d7124",
   "metadata": {},
   "outputs": [],
   "source": []
  }
 ],
 "metadata": {
  "kernelspec": {
   "display_name": "Python 3 (ipykernel)",
   "language": "python",
   "name": "python3"
  },
  "language_info": {
   "codemirror_mode": {
    "name": "ipython",
    "version": 3
   },
   "file_extension": ".py",
   "mimetype": "text/x-python",
   "name": "python",
   "nbconvert_exporter": "python",
   "pygments_lexer": "ipython3",
   "version": "3.9.6"
  }
 },
 "nbformat": 4,
 "nbformat_minor": 5
}
