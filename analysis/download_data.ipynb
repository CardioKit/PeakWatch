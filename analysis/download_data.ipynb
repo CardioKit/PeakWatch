{
 "cells": [
  {
   "cell_type": "markdown",
   "id": "9e7f3f99",
   "metadata": {},
   "source": [
    "# Evaluation on an external dataset\n",
    "\n",
    "In order to evaluate PeakSwift against NeuroKit, an external dataset is required that covers a wide range of individuals and conditions. Therefore, a dataset described as \"a 12-lead electrocardiogram database for arrhythmia research with more than 10,000 patients\" is used. As we are interested in single lead ECG signals, the script downloads the dataset, extracts the first lead of the ECGs and saves it in a suitable .csv format so that it can be fed into PeakWatch for peak detection and subsequent analysis."
   ]
  },
  {
   "cell_type": "code",
   "execution_count": 11,
   "id": "ed287f97",
   "metadata": {},
   "outputs": [],
   "source": [
    "import requests\n",
    "import zipfile\n",
    "import glob\n",
    "from tqdm import tqdm\n",
    "import numpy as np"
   ]
  },
  {
   "cell_type": "code",
   "execution_count": null,
   "id": "095798a5",
   "metadata": {},
   "outputs": [],
   "source": [
    "URL = \"https://figshare.com/ndownloader/files/15651326\"\n",
    "response = requests.get(URL)"
   ]
  },
  {
   "cell_type": "code",
   "execution_count": 3,
   "id": "8db7dd5a",
   "metadata": {},
   "outputs": [
    {
     "data": {
      "text/plain": [
       "754581129"
      ]
     },
     "execution_count": 3,
     "metadata": {},
     "output_type": "execute_result"
    }
   ],
   "source": [
    "open(\"data.zip\", \"wb\").write(response.content)"
   ]
  },
  {
   "cell_type": "code",
   "execution_count": 6,
   "id": "bb1eea23",
   "metadata": {},
   "outputs": [],
   "source": [
    "with zipfile.ZipFile('./data.zip', 'r') as zip_ref:\n",
    "    zip_ref.extractall('./')"
   ]
  },
  {
   "cell_type": "code",
   "execution_count": 4,
   "id": "b08aae06",
   "metadata": {},
   "outputs": [],
   "source": [
    "files = glob.glob(\"./ECGData/*.csv\")\n",
    "M = np.zeros((len(files), 5000))"
   ]
  },
  {
   "cell_type": "code",
   "execution_count": 23,
   "id": "39ed2695",
   "metadata": {},
   "outputs": [
    {
     "name": "stderr",
     "output_type": "stream",
     "text": [
      "100%|█████████████████████████████████████| 10646/10646 [02:57<00:00, 59.86it/s]\n"
     ]
    }
   ],
   "source": [
    "i = 0\n",
    "for k in tqdm(files, total=len(files)):\n",
    "    M[i, :] = np.genfromtxt(k, delimiter=\",\", skip_header=True)[:, 0]\n",
    "    i = i+1"
   ]
  },
  {
   "cell_type": "code",
   "execution_count": 26,
   "id": "4ef89f43",
   "metadata": {},
   "outputs": [],
   "source": [
    "np.savetxt(\"./ecg_data_arrhythmia.csv\", M, delimiter=\",\")"
   ]
  }
 ],
 "metadata": {
  "kernelspec": {
   "display_name": "Python 3 (ipykernel)",
   "language": "python",
   "name": "python3"
  },
  "language_info": {
   "codemirror_mode": {
    "name": "ipython",
    "version": 3
   },
   "file_extension": ".py",
   "mimetype": "text/x-python",
   "name": "python",
   "nbconvert_exporter": "python",
   "pygments_lexer": "ipython3",
   "version": "3.9.18"
  }
 },
 "nbformat": 4,
 "nbformat_minor": 5
}
