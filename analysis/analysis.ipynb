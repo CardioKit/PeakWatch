{
 "cells": [
  {
   "cell_type": "markdown",
   "id": "853061b5",
   "metadata": {},
   "source": [
    "# PeakSwift: Analysis of Accuracy through Comparison towards Neurokit"
   ]
  },
  {
   "cell_type": "markdown",
   "id": "1371336e",
   "metadata": {},
   "source": [
    "This notebook presents an analysis of the PeakSwift package's capabilities in detecting R-peaks and assessment of signal quality within single-lead electrocardiogram signals. The evaluation is conducted against the established gold standard, NeuroKit. The analysis encompasses the thorough assessment and validation of the following key aspects:\n",
    "\n",
    "- Accuracy of R-peak detection\n",
    "- Performance in signal quality assessment\n",
    "- Computational runtime efficiency\n",
    "\n",
    "Through this analysis, we aim to provide a deeper understanding of the PeakSwift package's utility and effectiveness in comparison to a recognized standard. Additionally, the computational runtime is scrutinized to gauge the efficiency of the package in real-world applications."
   ]
  },
  {
   "cell_type": "code",
   "execution_count": 1,
   "id": "5b0210d7",
   "metadata": {},
   "outputs": [],
   "source": [
    "import glob\n",
    "import json\n",
    "import time\n",
    "from tqdm import tqdm\n",
    "%matplotlib inline\n",
    "from matplotlib import pyplot as plt\n",
    "import seaborn as sns\n",
    "import numpy as np\n",
    "import pandas as pd\n",
    "import neurokit2 as nk\n",
    "from sklearn.metrics import confusion_matrix, ConfusionMatrixDisplay"
   ]
  },
  {
   "cell_type": "code",
   "execution_count": 2,
   "id": "11409080",
   "metadata": {},
   "outputs": [
    {
     "data": {
      "text/html": [
       "<details>\n",
       "<summary>Click to view session information</summary>\n",
       "<pre>\n",
       "-----\n",
       "matplotlib          3.6.2\n",
       "neurokit2           0.2.2\n",
       "numpy               1.24.3\n",
       "pandas              1.5.2\n",
       "seaborn             0.12.2\n",
       "session_info        1.0.0\n",
       "sklearn             1.2.0\n",
       "tqdm                4.64.1\n",
       "-----\n",
       "</pre>\n",
       "<details>\n",
       "<summary>Click to view modules imported as dependencies</summary>\n",
       "<pre>\n",
       "PIL                 9.4.0\n",
       "appnope             0.1.3\n",
       "asttokens           NA\n",
       "backcall            0.2.0\n",
       "cffi                1.15.1\n",
       "comm                0.1.2\n",
       "cycler              0.10.0\n",
       "cython_runtime      NA\n",
       "dateutil            2.8.2\n",
       "debugpy             1.6.4\n",
       "decorator           5.1.1\n",
       "defusedxml          0.7.1\n",
       "entrypoints         0.4\n",
       "executing           1.2.0\n",
       "google              NA\n",
       "importlib_metadata  NA\n",
       "ipykernel           6.19.4\n",
       "ipython_genutils    0.2.0\n",
       "ipywidgets          7.7.2\n",
       "jedi                0.18.2\n",
       "joblib              1.2.0\n",
       "kiwisolver          1.4.4\n",
       "matplotlib_inline   0.1.6\n",
       "mpl_toolkits        NA\n",
       "packaging           22.0\n",
       "parso               0.8.3\n",
       "pexpect             4.8.0\n",
       "pickleshare         0.7.5\n",
       "pkg_resources       NA\n",
       "platformdirs        2.6.2\n",
       "prompt_toolkit      3.0.36\n",
       "psutil              5.9.4\n",
       "ptyprocess          0.7.0\n",
       "pure_eval           0.2.2\n",
       "pydev_ipython       NA\n",
       "pydevconsole        NA\n",
       "pydevd              2.9.1\n",
       "pydevd_file_utils   NA\n",
       "pydevd_plugins      NA\n",
       "pydevd_tracing      NA\n",
       "pygments            2.14.0\n",
       "pyparsing           3.0.9\n",
       "pytz                2022.7\n",
       "scipy               1.10.0\n",
       "setuptools          68.1.2\n",
       "sitecustomize       NA\n",
       "six                 1.16.0\n",
       "stack_data          0.6.2\n",
       "threadpoolctl       3.1.0\n",
       "tornado             6.2\n",
       "traitlets           5.8.0\n",
       "typing_extensions   NA\n",
       "wcwidth             0.2.5\n",
       "zipp                NA\n",
       "zmq                 24.0.1\n",
       "zoneinfo            NA\n",
       "</pre>\n",
       "</details> <!-- seems like this ends pre, so might as well be explicit -->\n",
       "<pre>\n",
       "-----\n",
       "IPython             8.8.0\n",
       "jupyter_client      7.4.8\n",
       "jupyter_core        5.1.2\n",
       "notebook            6.5.2\n",
       "-----\n",
       "Python 3.9.18 (main, Aug 24 2023, 21:19:58) [Clang 14.0.3 (clang-1403.0.22.14.1)]\n",
       "macOS-13.4-arm64-arm-64bit\n",
       "-----\n",
       "Session information updated at 2023-11-16 12:58\n",
       "</pre>\n",
       "</details>"
      ],
      "text/plain": [
       "<IPython.core.display.HTML object>"
      ]
     },
     "execution_count": 2,
     "metadata": {},
     "output_type": "execute_result"
    }
   ],
   "source": [
    "import session_info\n",
    "session_info.show()"
   ]
  },
  {
   "cell_type": "markdown",
   "id": "256106a0",
   "metadata": {},
   "source": [
    "### Data Loading"
   ]
  },
  {
   "cell_type": "markdown",
   "id": "e55a94de",
   "metadata": {},
   "source": [
    "The JSON-formatted exported data from the PeakWatch demo application must be located within the './data' directory."
   ]
  },
  {
   "cell_type": "code",
   "execution_count": 3,
   "id": "249922a7",
   "metadata": {},
   "outputs": [],
   "source": [
    "def load_data(path=\"./data/*.json\"):\n",
    "    files = glob.glob(path)\n",
    "    df = pd.DataFrame()\n",
    "    events = pd.DataFrame()\n",
    "    for k in files:\n",
    "        f = json.load(open(k))\n",
    "        df = pd.concat([df, pd.json_normalize(f['ecgs'])])\n",
    "    df = df.reset_index()\n",
    "    return df"
   ]
  },
  {
   "cell_type": "markdown",
   "id": "a35b128d",
   "metadata": {},
   "source": [
    "Every row within the dataset corresponds to a 30-second electrocardiogram (ECG) recording, indicated in the 'ecg.ecg' column. Accompanying this primary data are essential metadata, including bpm, sampling rate, and date of recording. Additionally, PeakSwift's computed properties are included:\n",
    "\n",
    "- R-peaks, computed through eight distinct detection algorithms\n",
    "- Signal quality assessment, performed by two distinct algorithms"
   ]
  },
  {
   "cell_type": "code",
   "execution_count": 4,
   "id": "c2c37e35",
   "metadata": {},
   "outputs": [],
   "source": [
    "df = load_data()\n",
    "df_os = load_data(\"./data/open-source/*.json\")"
   ]
  },
  {
   "cell_type": "code",
   "execution_count": 5,
   "id": "57387a27",
   "metadata": {},
   "outputs": [
    {
     "data": {
      "text/html": [
       "<div>\n",
       "<style scoped>\n",
       "    .dataframe tbody tr th:only-of-type {\n",
       "        vertical-align: middle;\n",
       "    }\n",
       "\n",
       "    .dataframe tbody tr th {\n",
       "        vertical-align: top;\n",
       "    }\n",
       "\n",
       "    .dataframe thead th {\n",
       "        text-align: right;\n",
       "    }\n",
       "</style>\n",
       "<table border=\"1\" class=\"dataframe\">\n",
       "  <thead>\n",
       "    <tr style=\"text-align: right;\">\n",
       "      <th></th>\n",
       "      <th>index</th>\n",
       "      <th>signal_quality</th>\n",
       "      <th>algorithms</th>\n",
       "      <th>device_id</th>\n",
       "      <th>apple_meta_data.recording_start_time</th>\n",
       "      <th>apple_meta_data.recording_endt_ime</th>\n",
       "      <th>apple_meta_data.beats_per_minute</th>\n",
       "      <th>apple_meta_data.software_version</th>\n",
       "      <th>apple_meta_data.hardware_version</th>\n",
       "      <th>apple_meta_data.source</th>\n",
       "      <th>apple_meta_data.device_name</th>\n",
       "      <th>apple_meta_data.manufacturer</th>\n",
       "      <th>apple_meta_data.algorithm_version</th>\n",
       "      <th>apple_meta_data.added_to_health_kit_date</th>\n",
       "      <th>apple_meta_data.model</th>\n",
       "      <th>apple_meta_data.apple_rating</th>\n",
       "      <th>ecg.ecg</th>\n",
       "      <th>ecg.sampling_rate</th>\n",
       "    </tr>\n",
       "  </thead>\n",
       "  <tbody>\n",
       "    <tr>\n",
       "      <th>0</th>\n",
       "      <td>0</td>\n",
       "      <td>[{'score': 'unacceptable', 'method': 'Zhao2018...</td>\n",
       "      <td>[{'r_peaks': [], 'runtime': {'seconds': 0, 'at...</td>\n",
       "      <td>FF6DFD06-685C-4F56-95E6-46ED96109F6F</td>\n",
       "      <td>7.144910e+08</td>\n",
       "      <td>7.144910e+08</td>\n",
       "      <td>84</td>\n",
       "      <td>9.6.1</td>\n",
       "      <td>Watch6,2</td>\n",
       "      <td>ECG</td>\n",
       "      <td>Apple Watch</td>\n",
       "      <td>Apple Inc.</td>\n",
       "      <td>2.0</td>\n",
       "      <td>7.144910e+08</td>\n",
       "      <td>Watch</td>\n",
       "      <td>Sinus rhytm</td>\n",
       "      <td>[2.1156566619873046e-05, 2.0884790420532227e-0...</td>\n",
       "      <td>512.0</td>\n",
       "    </tr>\n",
       "  </tbody>\n",
       "</table>\n",
       "</div>"
      ],
      "text/plain": [
       "   index                                     signal_quality  \\\n",
       "0      0  [{'score': 'unacceptable', 'method': 'Zhao2018...   \n",
       "\n",
       "                                          algorithms  \\\n",
       "0  [{'r_peaks': [], 'runtime': {'seconds': 0, 'at...   \n",
       "\n",
       "                              device_id  apple_meta_data.recording_start_time  \\\n",
       "0  FF6DFD06-685C-4F56-95E6-46ED96109F6F                          7.144910e+08   \n",
       "\n",
       "   apple_meta_data.recording_endt_ime  apple_meta_data.beats_per_minute  \\\n",
       "0                        7.144910e+08                                84   \n",
       "\n",
       "  apple_meta_data.software_version apple_meta_data.hardware_version  \\\n",
       "0                            9.6.1                         Watch6,2   \n",
       "\n",
       "  apple_meta_data.source apple_meta_data.device_name  \\\n",
       "0                    ECG                 Apple Watch   \n",
       "\n",
       "  apple_meta_data.manufacturer  apple_meta_data.algorithm_version  \\\n",
       "0                   Apple Inc.                                2.0   \n",
       "\n",
       "   apple_meta_data.added_to_health_kit_date apple_meta_data.model  \\\n",
       "0                              7.144910e+08                 Watch   \n",
       "\n",
       "  apple_meta_data.apple_rating  \\\n",
       "0                  Sinus rhytm   \n",
       "\n",
       "                                             ecg.ecg  ecg.sampling_rate  \n",
       "0  [2.1156566619873046e-05, 2.0884790420532227e-0...              512.0  "
      ]
     },
     "execution_count": 5,
     "metadata": {},
     "output_type": "execute_result"
    }
   ],
   "source": [
    "df.head(1)"
   ]
  },
  {
   "cell_type": "code",
   "execution_count": 6,
   "id": "9f5c3c7e",
   "metadata": {},
   "outputs": [
    {
     "data": {
      "image/png": "[encoded data removed]",
      "text/plain": [
       "<Figure size 1500x500 with 1 Axes>"
      ]
     },
     "metadata": {},
     "output_type": "display_data"
    }
   ],
   "source": [
    "plt.figure(figsize=(15, 5))\n",
    "plt.plot(df['ecg.ecg'][43][2000:3536], c='royalblue')\n",
    "plt.axis('off')\n",
    "plt.savefig('./results/sample_ecg.png', bbox_inches='tight', dpi=300)\n",
    "#plt.close()"
   ]
  },
  {
   "cell_type": "code",
   "execution_count": 7,
   "id": "f986605b",
   "metadata": {},
   "outputs": [
    {
     "name": "stdout",
     "output_type": "stream",
     "text": [
      "Watch Model: ['Watch6,2' 'Watch6,1' 'Watch5,2']\n"
     ]
    }
   ],
   "source": [
    "# Watch6,2 : Apple Watch Series 6 44mm case (GPS)\n",
    "# Watch6,1 : Apple Watch Series 6 40mm case (GPS)\n",
    "# Watch5,2 : Apple Watch Series 5 44mm case (GPS)\n",
    "\n",
    "print('Watch Model:', df['apple_meta_data.hardware_version'].unique())\n",
    "\n",
    "df['timestamp_recording'] = pd.to_datetime(df['apple_meta_data.recording_start_time'] + 978307200, unit='s')\n",
    "df['subject'] = pd.factorize(df['device_id'])[0]"
   ]
  },
  {
   "cell_type": "code",
   "execution_count": 8,
   "id": "459e4ae4",
   "metadata": {
    "scrolled": true
   },
   "outputs": [
    {
     "name": "stdout",
     "output_type": "stream",
     "text": [
      "Total amount of self-recorded ECG: 509\n",
      "Total amount of open-source ECG: 10646\n"
     ]
    }
   ],
   "source": [
    "print('Total amount of self-recorded ECG:', len(df))\n",
    "print('Total amount of open-source ECG:', len(df_os))"
   ]
  },
  {
   "cell_type": "code",
   "execution_count": 9,
   "id": "c9f1158a",
   "metadata": {},
   "outputs": [
    {
     "data": {
      "text/plain": [
       "subject\n",
       "0     50\n",
       "1    240\n",
       "2     16\n",
       "3    203\n",
       "Name: subject, dtype: int64"
      ]
     },
     "execution_count": 9,
     "metadata": {},
     "output_type": "execute_result"
    }
   ],
   "source": [
    "df.groupby('subject')['subject'].count()"
   ]
  },
  {
   "cell_type": "code",
   "execution_count": 10,
   "id": "e2bc357d",
   "metadata": {},
   "outputs": [
    {
     "name": "stderr",
     "output_type": "stream",
     "text": [
      "/var/folders/tb/_5frmyz16hz24t5gwc56dzmr0000gn/T/ipykernel_69965/2499197063.py:4: UserWarning: The palette list has more values (10) than needed (4), which may not be intended.\n",
      "  ax = sns.histplot(data=df, x=\"timestamp_recording\", hue=\"subject\", bins=100, palette=palette)\n"
     ]
    },
    {
     "data": {
      "image/png": "[encoded data removed]",
      "text/plain": [
       "<Figure size 1500x500 with 1 Axes>"
      ]
     },
     "metadata": {},
     "output_type": "display_data"
    }
   ],
   "source": [
    "palette = sns.color_palette('tab10')\n",
    "fig = plt.figure(figsize=(15,5))\n",
    "plt.set_cmap('tab10')\n",
    "ax = sns.histplot(data=df, x=\"timestamp_recording\", hue=\"subject\", bins=100, palette=palette)\n",
    "ax.set(xlabel='Timestamp', ylabel='Number of ECGs')\n",
    "ax.set_title('ECG recordings over time')\n",
    "plt.show()\n",
    "fig.savefig('./results/recordings.png', bbox_inches='tight', dpi=300)\n",
    "plt.close()"
   ]
  },
  {
   "cell_type": "markdown",
   "id": "d236eed0",
   "metadata": {},
   "source": [
    "### Functions and Tools for Evaluation"
   ]
  },
  {
   "cell_type": "markdown",
   "id": "6bcde117",
   "metadata": {},
   "source": [
    "Mapping from PeakSwift's to NeuroKit's Algorithm Naming Convention"
   ]
  },
  {
   "cell_type": "code",
   "execution_count": 11,
   "id": "285ef54c",
   "metadata": {},
   "outputs": [],
   "source": [
    "algorithm_conversion_peak = {\n",
    "    'Christov': 'christov',\n",
    "    'Two Average': 'elgendi',\n",
    "    'NeuroKit': 'neurokit',\n",
    "    'Hamilton': 'hamilton',\n",
    "    'Pan Tompkins': 'pantompkins',\n",
    "    'Kalidas': 'kalidas',\n",
    "    'Engzee': 'engzee',\n",
    "    'Nabian': 'nabian',\n",
    "    'Basic': None,\n",
    "    'Aristotle': None,\n",
    "    'WQRS': None,\n",
    "    'UNSW': None,\n",
    "}\n",
    "\n",
    "algorithm_conversion_clean = {\n",
    "    'christov': 'christov',\n",
    "    'elgendi': 'elgendi2010',\n",
    "    'neurokit': 'neurokit',\n",
    "    'hamilton': 'hamilton2002',\n",
    "    'pantompkins': 'pantompkins1985',\n",
    "    'engzee': 'engzeemod2012',\n",
    "    'kalidas': 'kalidas',\n",
    "    'nabian': 'nabian',\n",
    "    'Basic': None,\n",
    "    'Aristotle': None,\n",
    "    'UNSW': None,\n",
    "    'WQRS': None,\n",
    "}"
   ]
  },
  {
   "cell_type": "code",
   "execution_count": 12,
   "id": "289e671d",
   "metadata": {},
   "outputs": [],
   "source": [
    "def mean_std(series):\n",
    "    return str(np.round(np.mean(series),5)) + '$\\pm$' + str(np.round(np.std(series),5))\n",
    "\n",
    "def closest_value(arr, value):\n",
    "    \"\"\"\n",
    "    Find the value in an array 'arr' that is closest to the given 'value'.\n",
    "    \"\"\"\n",
    "    return arr[np.argmin(np.abs(arr - value))]\n",
    "\n",
    "def mapped_mae(arr1, arr2, threshold_low=0, threshold_up=1000000000):\n",
    "    \"\"\"\n",
    "    Calculate the mapped Mean Absolute Error (MAE) between two arrays 'arr1' and 'arr2',\n",
    "    with optional lower and upper thresholds for error calculation.\n",
    "    \"\"\"\n",
    "    total_mae = 0\n",
    "    \n",
    "    shorter_arr = arr1 if len(arr1) < len(arr2) else arr2\n",
    "    longer_arr = arr2 if len(arr1) < len(arr2) else arr1\n",
    "    \n",
    "    for val1 in shorter_arr:\n",
    "        closest_val2 = closest_value(longer_arr, val1)\n",
    "        abs_diff = np.abs(val1 - closest_val2)\n",
    "        if threshold_low <= abs_diff <= threshold_up:\n",
    "            total_mae += abs_diff\n",
    "    \n",
    "    if len(shorter_arr) == 0:\n",
    "        return 0\n",
    "    \n",
    "    return total_mae / len(shorter_arr)\n",
    "\n",
    "def mae(arr1, arr2, threshold_low=0, threshold_up=100000000000):\n",
    "    \"\"\"\n",
    "    Calculate the Mean Absolute Error (MAE) between two arrays 'arr1' and 'arr2',\n",
    "    with optional lower and upper thresholds for error calculation.\n",
    "    \"\"\"\n",
    "    abs_diffs = np.abs(arr1 - arr2)\n",
    "    abs_diffs[(abs_diffs <= threshold_low) | (abs_diffs >= threshold_up)] = 0\n",
    "    return np.mean(abs_diffs)\n",
    "\n",
    "                "
   ]
  },
  {
   "cell_type": "code",
   "execution_count": 13,
   "id": "b457adda",
   "metadata": {},
   "outputs": [],
   "source": [
    "def evaluate_rPeaks(rPeaksDetected, rPeaksComparision):\n",
    "    true_positive = []\n",
    "    false_positive = []\n",
    "    false_negative = []\n",
    "    \n",
    "    for rPeakDetected in rPeaksDetected:\n",
    "        if rPeakDetected in rPeaksComparision:\n",
    "            true_positive.append(rPeakDetected)\n",
    "        else:\n",
    "            false_positive.append(rPeakDetected)\n",
    "            \n",
    "    for rPeak in rPeaksComparision:\n",
    "        if not rPeak in true_positive:\n",
    "            false_negative.append(rPeak)\n",
    "            \n",
    "    return {\n",
    "        'tp': true_positive,\n",
    "        'fp': false_positive,\n",
    "        'fn': false_negative\n",
    "    }"
   ]
  },
  {
   "cell_type": "code",
   "execution_count": 14,
   "id": "d8f2554e",
   "metadata": {},
   "outputs": [],
   "source": [
    "def compare_algorithm(signal, method, result_swift, sampling_rate=512, index=None, plot=False):\n",
    "    \n",
    "    \"\"\"\n",
    "    Compare R-peak detection algorithms and visualize the results.\n",
    "\n",
    "    Parameters:\n",
    "    signal (array-like): ECG signal.\n",
    "    method (str, optional): R-peak detection method (default: 'neurokit').\n",
    "    result_swift (array-like): Detected R-peaks from Swift algorithm.\n",
    "    sampling_rate (int, optional): Sampling rate of the signal (default: 512).\n",
    "    index (int): Index of the signal.\n",
    "    plot (bool): Whether to plot the comparison.\n",
    "\n",
    "    Returns:\n",
    "    dict: Dictionary containing comparison results.\n",
    "    \"\"\"\n",
    "\n",
    "    start = time.time()\n",
    "    if method != 'nabian':\n",
    "        cleaned_signal = nk.ecg_clean(signal, sampling_rate, method=algorithm_conversion_clean[method])\n",
    "    else:\n",
    "        cleaned_signal = signal\n",
    "    end = time.time()\n",
    "    time_cleaning = (end - start)\n",
    "\n",
    "    start = time.time()\n",
    "    \n",
    "    result_nk = nk.ecg_peaks(cleaned_signal, sampling_rate, method)\n",
    "    end = time.time()\n",
    "    time_rPeak_detection = (end - start)\n",
    "    result_nk = np.where(result_nk[0]['ECG_R_Peaks'] > 0)[0]\n",
    "    \n",
    "    number_r_peaks_swift = len(result_swift)\n",
    "    number_r_peaks_neurokit = len(result_nk)\n",
    "    \n",
    "    # Plot dedicated sample for the publication\n",
    "    if (index == 118) & (method=='engzee'):\n",
    "        n_peaks = 512*4\n",
    "        signal = 10000*signal\n",
    "        plt.figure(figsize=(15, 5))\n",
    "        plt.plot(signal[0:n_peaks], c='red', label='Original Signal')\n",
    "        a = np.array(result_swift)\n",
    "        b = np.array(result_nk)\n",
    "        a = a[a <= n_peaks]\n",
    "        b = b[b <= n_peaks]\n",
    "        plt.vlines(\n",
    "            x=a, colors='blue',\n",
    "            ymin=0.0, ymax=np.max(signal),\n",
    "            label='Swift: Detected ' + str(len(a)) +  ' R-peaks with ' + method,\n",
    "        )\n",
    "        plt.vlines(\n",
    "            x=b, colors='green',\n",
    "            ymin=np.min(signal), ymax=0.0,\n",
    "            label='Python: Detected ' + str(len(b)) + ' R-peaks with ' + method,\n",
    "        )\n",
    "        plt.xlabel('Timestamp')\n",
    "        plt.ylabel('Amplitude')\n",
    "        plt.title('Comparison of R-peak Detection')\n",
    "        plt.legend()\n",
    "        plot_filename = f'./results/publication_sample_{index}_{method}.png'\n",
    "        plt.savefig(plot_filename, bbox_inches='tight', dpi=300)\n",
    "        plt.close()\n",
    "    \n",
    "    if plot & (number_r_peaks_swift !=number_r_peaks_neurokit):\n",
    "        plt.figure(figsize=(60, 5))\n",
    "        plt.plot(signal, c='red', label='Original Signal')\n",
    "        plt.vlines(\n",
    "            x=result_swift, colors='blue',\n",
    "            ymin=np.min(signal), ymax=np.max(signal),\n",
    "            label='Swift: Detected ' + str(len(result_swift)) +  ' R-peaks with ' + method,\n",
    "        )\n",
    "        plt.vlines(\n",
    "            x=result_nk, colors='green',\n",
    "            ymin=np.min(signal), ymax=np.max(signal),\n",
    "            label='Python: Detected ' + str(len(result_nk)) + ' R-peaks with ' + method,\n",
    "        )\n",
    "        plt.xlabel('Sample')\n",
    "        plt.ylabel('Amplitude')\n",
    "        plt.title('Comparison of R-peak Detection')\n",
    "        plt.legend()\n",
    "        plot_filename = f'./results/{index}_{method}.png'\n",
    "        plt.savefig(plot_filename, bbox_inches='tight', dpi=300)\n",
    "        plt.close()\n",
    "    \n",
    "    if (number_r_peaks_swift == number_r_peaks_neurokit):\n",
    "        mean_difference_t0 = mae(result_nk, result_swift)\n",
    "        mean_difference_t1 = mae(result_nk, result_swift, 1)\n",
    "        mean_difference_t5 = mae(result_nk, result_swift, 5)\n",
    "        mean_difference_t10 = mae(result_nk, result_swift, 200)\n",
    "    else:\n",
    "        mean_difference_t0 = np.nan\n",
    "        mean_difference_t1 = np.nan\n",
    "        mean_difference_t5 = np.nan\n",
    "        mean_difference_t10 = np.nan\n",
    "\n",
    "    mean_difference_mapped_t0 = mapped_mae(result_nk, result_swift)\n",
    "    mean_difference_mapped_t1 = mapped_mae(result_nk, result_swift, 1)\n",
    "    mean_difference_mapped_t5 = mapped_mae(result_nk, result_swift, 5)\n",
    "    mean_difference_mapped_t10 = mapped_mae(result_nk, result_swift, 10)\n",
    "    \n",
    "    scores = evaluate_rPeaks(result_swift, result_nk)\n",
    "    \n",
    "    result = {\n",
    "        'mean_difference_t0': mean_difference_t0,\n",
    "        'mean_difference_t1': mean_difference_t1,\n",
    "        'mean_difference_t5': mean_difference_t5,\n",
    "        'mean_difference_t10': mean_difference_t10,\n",
    "        'mean_difference_mapped_t0': mean_difference_mapped_t0,\n",
    "        'mean_difference_mapped_t1': mean_difference_mapped_t1,\n",
    "        'mean_difference_mapped_t5': mean_difference_mapped_t5,\n",
    "        'mean_difference_mapped_t10': mean_difference_mapped_t10,\n",
    "        'bpm_swift_simple': number_r_peaks_swift * 2,\n",
    "        'bpm_swift_rr': (60*sampling_rate) / np.mean(np.diff(result_swift)),\n",
    "        'number_r_peaks_swift': number_r_peaks_swift,\n",
    "        'number_r_peaks_neurokit': number_r_peaks_neurokit,\n",
    "        'runtime_m1_cleaning': time_cleaning,\n",
    "        'runtime_m1_rPeak_detection': time_rPeak_detection,\n",
    "        'tp': len(scores['tp']),\n",
    "        'fp': len(scores['fp']),\n",
    "        'fn': len(scores['fn'])\n",
    "    }\n",
    "    \n",
    "    return result"
   ]
  },
  {
   "cell_type": "code",
   "execution_count": 15,
   "id": "73864515",
   "metadata": {},
   "outputs": [],
   "source": [
    "def process_row(row, algorithm_conversion_peak, index, plot=False, non_apple_source=False):\n",
    "    signal = np.array(row['ecg.ecg'])\n",
    "    sampling_rate = row['ecg.sampling_rate']\n",
    "    \n",
    "    quality_neurokit_simple = np.nan\n",
    "    quality_peakswift_simple = np.nan\n",
    "    quality_neurokit_fuzzy = np.nan\n",
    "    quality_peakswift_fuzzy = np.nan\n",
    "    \n",
    "    for quality in row.signal_quality:\n",
    "        if quality['method'] == 'Zhao2018Simple':\n",
    "            quality_neurokit_simple = nk.ecg_quality(signal, method='zhao2018', approach='simple', sampling_rate=sampling_rate)\n",
    "            quality_peakswift_simple = quality['score']\n",
    "        elif quality['method'] == 'Zhao2018Fuzzy':\n",
    "            quality_neurokit_fuzzy = nk.ecg_quality(signal, method='zhao2018', approach='fuzzy', sampling_rate=sampling_rate)\n",
    "            quality_peakswift_fuzzy = quality['score']\n",
    "        else:\n",
    "            print('sth went wrong')\n",
    "    \n",
    "    result_rows = []\n",
    "    \n",
    "    identifier = row['device_id']\n",
    "    \n",
    "    if non_apple_source:\n",
    "        bpm_apple = None\n",
    "        device = None\n",
    "        subject = None\n",
    "        quality_apple = None\n",
    "    else:\n",
    "        bpm_apple = row['apple_meta_data.beats_per_minute']\n",
    "        device = row['apple_meta_data.hardware_version']\n",
    "        subject = row['subject']\n",
    "        quality_apple = row['apple_meta_data.apple_rating']\n",
    "        \n",
    "    for algo_info in row.algorithms:\n",
    "        algo_name = algo_info['algorithm']\n",
    "        algorithm = algorithm_conversion_peak.get(algo_name)\n",
    "        \n",
    "        if algorithm is None:\n",
    "            continue\n",
    "        \n",
    "        try:\n",
    "            comparison = compare_algorithm(signal, algorithm, algo_info['r_peaks'], sampling_rate, index, plot)\n",
    "        except Exception as error:\n",
    "            print('Exception', identifier, algorithm, error)\n",
    "            continue\n",
    "\n",
    "        metadata = {\n",
    "            'id': index,\n",
    "            'subject': subject,\n",
    "            'device': device,\n",
    "            'sampling_rate': sampling_rate,\n",
    "            'signal_quality_neurokit_simple': quality_neurokit_simple,\n",
    "            'signal_quality_neurokit_fuzzy': quality_neurokit_fuzzy,\n",
    "            'signal_quality_swift_simple': quality_peakswift_simple,\n",
    "            'signal_quality_swift_fuzzy': quality_peakswift_fuzzy,\n",
    "            'signal_rating_apple': quality_apple,\n",
    "            'algorithm': algorithm,\n",
    "            'bpm_apple': bpm_apple,\n",
    "            'runtime_swift': algo_info['runtime']['seconds'] + algo_info['runtime']['attoseconds'] / 1e+18,\n",
    "        }\n",
    "\n",
    "        result_rows.append({**metadata, **comparison})\n",
    "\n",
    "    return result_rows"
   ]
  },
  {
   "cell_type": "markdown",
   "id": "3d47499b",
   "metadata": {},
   "source": [
    "Loop through the dataframe and construct a result table by gathering benchmarking metrics."
   ]
  },
  {
   "cell_type": "code",
   "execution_count": 16,
   "id": "3a53ae38",
   "metadata": {},
   "outputs": [],
   "source": [
    "def get_results_table(df, signal_length, algorithm_conversion_peak, non_apple_source=False, plot=False, real_time_thres=0.01):\n",
    "    result_rows = []\n",
    "    for index, row in tqdm(df.iterrows(), total=df.shape[0]):\n",
    "        try:\n",
    "            result_rows.extend(process_row(row, algorithm_conversion_peak, index, plot, non_apple_source))\n",
    "        except Exception as e:\n",
    "            print('Failed for index', index, 'with error:', e)\n",
    "        \n",
    "    result_table = pd.DataFrame(result_rows)\n",
    "    result_table.index = range(len(result_table))\n",
    "    \n",
    "    result_table['bpm_difference_simple'] = np.abs(result_table['bpm_apple'] - result_table['bpm_swift_simple'])\n",
    "    result_table['bpm_difference_rr'] = np.abs(result_table['bpm_apple'] - result_table['bpm_swift_rr'])\n",
    "    result_table['peak_diff'] = np.abs(result_table['number_r_peaks_neurokit'] - result_table['number_r_peaks_swift'])\n",
    "\n",
    "    runtime_m1_total = result_table['runtime_m1_cleaning'] + result_table['runtime_m1_rPeak_detection']\n",
    "    result_table['runtime_swift'] = result_table['runtime_swift'] * 1000 # ms instead of s\n",
    "    result_table['runtime_neurokit'] = runtime_m1_total * 1000 # ms instead of s\n",
    "    result_table['runtime_difference'] = result_table['runtime_neurokit'] - result_table['runtime_swift']\n",
    "    result_table['swift_faster'] = result_table['runtime_neurokit'] / result_table['runtime_swift']\n",
    "\n",
    "    result_table['real_time_capabilities'] = result_table.runtime_swift / signal_length\n",
    "    result_table['real_time_capabilities_bool'] = result_table.real_time_capabilities < real_time_thres\n",
    "    \n",
    "    return result_table"
   ]
  },
  {
   "cell_type": "code",
   "execution_count": 17,
   "id": "41679a40",
   "metadata": {
    "scrolled": true
   },
   "outputs": [
    {
     "name": "stderr",
     "output_type": "stream",
     "text": [
      " 12%|██████████████▏                                                                                                           | 59/509 [00:11<01:29,  5.02it/s]"
     ]
    },
    {
     "name": "stdout",
     "output_type": "stream",
     "text": [
      "Exception 047EA81E-6A86-4073-AD3B-456D8F3BD657 engzee pop from empty list\n"
     ]
    },
    {
     "name": "stderr",
     "output_type": "stream",
     "text": [
      " 29%|██████████████████████████████████▉                                                                                      | 147/509 [00:29<01:13,  4.94it/s]/Users/max/Library/Python/3.9/lib/python/site-packages/numpy/core/fromnumeric.py:3464: RuntimeWarning: Mean of empty slice.\n",
      "  return _methods._mean(a, axis=axis, dtype=dtype,\n",
      "/Users/max/Library/Python/3.9/lib/python/site-packages/numpy/core/_methods.py:192: RuntimeWarning: invalid value encountered in scalar divide\n",
      "  ret = ret.dtype.type(ret / rcount)\n",
      " 38%|█████████████████████████████████████████████▍                                                                           | 191/509 [00:38<01:03,  5.01it/s]/Users/max/Library/Python/3.9/lib/python/site-packages/numpy/core/fromnumeric.py:3464: RuntimeWarning: Mean of empty slice.\n",
      "  return _methods._mean(a, axis=axis, dtype=dtype,\n",
      "/Users/max/Library/Python/3.9/lib/python/site-packages/numpy/core/_methods.py:192: RuntimeWarning: invalid value encountered in scalar divide\n",
      "  ret = ret.dtype.type(ret / rcount)\n",
      " 38%|█████████████████████████████████████████████▋                                                                           | 192/509 [00:38<01:02,  5.04it/s]"
     ]
    },
    {
     "name": "stdout",
     "output_type": "stream",
     "text": [
      "Exception 047EA81E-6A86-4073-AD3B-456D8F3BD657 engzee pop from empty list\n"
     ]
    },
    {
     "name": "stderr",
     "output_type": "stream",
     "text": [
      " 63%|████████████████████████████████████████████████████████████████████████████▌                                            | 322/509 [01:05<00:38,  4.84it/s]/Users/max/Library/Python/3.9/lib/python/site-packages/numpy/core/fromnumeric.py:3464: RuntimeWarning: Mean of empty slice.\n",
      "  return _methods._mean(a, axis=axis, dtype=dtype,\n",
      "/Users/max/Library/Python/3.9/lib/python/site-packages/numpy/core/_methods.py:192: RuntimeWarning: invalid value encountered in scalar divide\n",
      "  ret = ret.dtype.type(ret / rcount)\n",
      " 87%|█████████████████████████████████████████████████████████████████████████████████████████████████████████▎               | 443/509 [01:30<00:13,  5.02it/s]"
     ]
    },
    {
     "name": "stdout",
     "output_type": "stream",
     "text": [
      "Exception 4AA362E7-E144-4221-B76F-0EB80FFA3DDF engzee pop from empty list\n"
     ]
    },
    {
     "name": "stderr",
     "output_type": "stream",
     "text": [
      "100%|█████████████████████████████████████████████████████████████████████████████████████████████████████████████████████████| 509/509 [01:43<00:00,  4.92it/s]\n"
     ]
    }
   ],
   "source": [
    "result_table = get_results_table(df, 30000.0, algorithm_conversion_peak)"
   ]
  },
  {
   "cell_type": "code",
   "execution_count": 18,
   "id": "f5302162",
   "metadata": {
    "scrolled": true
   },
   "outputs": [
    {
     "name": "stderr",
     "output_type": "stream",
     "text": [
      "  0%|                                                                                                                         | 1/10646 [00:00<19:23,  9.15it/s]/Users/max/Library/Python/3.9/lib/python/site-packages/numpy/core/fromnumeric.py:3464: RuntimeWarning: Mean of empty slice.\n",
      "  return _methods._mean(a, axis=axis, dtype=dtype,\n",
      "/Users/max/Library/Python/3.9/lib/python/site-packages/numpy/core/_methods.py:192: RuntimeWarning: invalid value encountered in scalar divide\n",
      "  ret = ret.dtype.type(ret / rcount)\n",
      "  0%|▏                                                                                                                       | 15/10646 [00:01<12:27, 14.23it/s]/Users/max/Library/Python/3.9/lib/python/site-packages/numpy/core/fromnumeric.py:3464: RuntimeWarning: Mean of empty slice.\n",
      "  return _methods._mean(a, axis=axis, dtype=dtype,\n",
      "/Users/max/Library/Python/3.9/lib/python/site-packages/numpy/core/_methods.py:192: RuntimeWarning: invalid value encountered in scalar divide\n",
      "  ret = ret.dtype.type(ret / rcount)\n",
      "  0%|▎                                                                                                                       | 24/10646 [00:01<10:52, 16.27it/s]"
     ]
    },
    {
     "name": "stdout",
     "output_type": "stream",
     "text": [
      "Failed for index 22 with error: index 0 is out of bounds for axis 0 with size 0\n"
     ]
    },
    {
     "name": "stderr",
     "output_type": "stream",
     "text": [
      "  0%|▎                                                                                                                       | 26/10646 [00:01<11:18, 15.66it/s]/Users/max/Library/Python/3.9/lib/python/site-packages/numpy/core/fromnumeric.py:3464: RuntimeWarning: Mean of empty slice.\n",
      "  return _methods._mean(a, axis=axis, dtype=dtype,\n",
      "/Users/max/Library/Python/3.9/lib/python/site-packages/numpy/core/_methods.py:192: RuntimeWarning: invalid value encountered in scalar divide\n",
      "  ret = ret.dtype.type(ret / rcount)\n",
      "  0%|▍                                                                                                                       | 36/10646 [00:02<12:09, 14.55it/s]/Users/max/Library/Python/3.9/lib/python/site-packages/numpy/core/fromnumeric.py:3464: RuntimeWarning: Mean of empty slice.\n",
      "  return _methods._mean(a, axis=axis, dtype=dtype,\n",
      "/Users/max/Library/Python/3.9/lib/python/site-packages/numpy/core/_methods.py:192: RuntimeWarning: invalid value encountered in scalar divide\n",
      "  ret = ret.dtype.type(ret / rcount)\n",
      "  1%|▋                                                                                                                       | 58/10646 [00:04<12:43, 13.87it/s]/Users/max/Library/Python/3.9/lib/python/site-packages/numpy/core/fromnumeric.py:3464: RuntimeWarning: Mean of empty slice.\n",
      "  return _methods._mean(a, axis=axis, dtype=dtype,\n",
      "/Users/max/Library/Python/3.9/lib/python/site-packages/numpy/core/_methods.py:192: RuntimeWarning: invalid value encountered in scalar divide\n",
      "  ret = ret.dtype.type(ret / rcount)\n",
      "  1%|▊                                                                                                                       | 68/10646 [00:04<12:33, 14.03it/s]/Users/max/Library/Python/3.9/lib/python/site-packages/numpy/core/fromnumeric.py:3464: RuntimeWarning: Mean of empty slice.\n",
      "  return _methods._mean(a, axis=axis, dtype=dtype,\n",
      "/Users/max/Library/Python/3.9/lib/python/site-packages/numpy/core/_methods.py:192: RuntimeWarning: invalid value encountered in scalar divide\n",
      "  ret = ret.dtype.type(ret / rcount)\n",
      "  1%|▊                                                                                                                       | 76/10646 [00:05<12:14, 14.39it/s]/Users/max/Library/Python/3.9/lib/python/site-packages/numpy/core/fromnumeric.py:3464: RuntimeWarning: Mean of empty slice.\n",
      "  return _methods._mean(a, axis=axis, dtype=dtype,\n",
      "/Users/max/Library/Python/3.9/lib/python/site-packages/numpy/core/_methods.py:192: RuntimeWarning: invalid value encountered in scalar divide\n",
      "  ret = ret.dtype.type(ret / rcount)\n",
      "  1%|█                                                                                                                       | 93/10646 [00:06<10:44, 16.36it/s]"
     ]
    },
    {
     "name": "stdout",
     "output_type": "stream",
     "text": [
      "Failed for index 90 with error: index 0 is out of bounds for axis 0 with size 0\n"
     ]
    },
    {
     "name": "stderr",
     "output_type": "stream",
     "text": [
      "  1%|█▋                                                                                                                     | 155/10646 [00:11<11:59, 14.58it/s]/Users/max/Library/Python/3.9/lib/python/site-packages/numpy/core/fromnumeric.py:3464: RuntimeWarning: Mean of empty slice.\n",
      "  return _methods._mean(a, axis=axis, dtype=dtype,\n",
      "/Users/max/Library/Python/3.9/lib/python/site-packages/numpy/core/_methods.py:192: RuntimeWarning: invalid value encountered in scalar divide\n",
      "  ret = ret.dtype.type(ret / rcount)\n",
      "  2%|██                                                                                                                     | 179/10646 [00:12<12:04, 14.45it/s]/Users/max/Library/Python/3.9/lib/python/site-packages/numpy/core/fromnumeric.py:3464: RuntimeWarning: Mean of empty slice.\n",
      "  return _methods._mean(a, axis=axis, dtype=dtype,\n",
      "/Users/max/Library/Python/3.9/lib/python/site-packages/numpy/core/_methods.py:192: RuntimeWarning: invalid value encountered in scalar divide\n",
      "  ret = ret.dtype.type(ret / rcount)\n",
      "  2%|██▋                                                                                                                    | 240/10646 [00:16<10:28, 16.56it/s]"
     ]
    },
    {
     "name": "stdout",
     "output_type": "stream",
     "text": [
      "Failed for index 238 with error: index 0 is out of bounds for axis 0 with size 0\n"
     ]
    },
    {
     "name": "stderr",
     "output_type": "stream",
     "text": [
      "  2%|██▊                                                                                                                    | 252/10646 [00:17<11:48, 14.68it/s]/Users/max/Library/Python/3.9/lib/python/site-packages/numpy/core/fromnumeric.py:3464: RuntimeWarning: Mean of empty slice.\n",
      "  return _methods._mean(a, axis=axis, dtype=dtype,\n",
      "/Users/max/Library/Python/3.9/lib/python/site-packages/numpy/core/_methods.py:192: RuntimeWarning: invalid value encountered in scalar divide\n",
      "  ret = ret.dtype.type(ret / rcount)\n",
      "  2%|██▉                                                                                                                    | 258/10646 [00:18<11:55, 14.51it/s]"
     ]
    },
    {
     "name": "stdout",
     "output_type": "stream",
     "text": [
      "Exception 047EA81E-6A86-4073-AD3B-456D8F3BD657 engzee pop from empty list\n"
     ]
    },
    {
     "name": "stderr",
     "output_type": "stream",
     "text": [
      "  3%|███                                                                                                                    | 278/10646 [00:19<12:07, 14.26it/s]"
     ]
    },
    {
     "name": "stdout",
     "output_type": "stream",
     "text": [
      "Exception 047EA81E-6A86-4073-AD3B-456D8F3BD657 engzee pop from empty list\n"
     ]
    },
    {
     "name": "stderr",
     "output_type": "stream",
     "text": [
      "  3%|███▏                                                                                                                   | 286/10646 [00:20<12:36, 13.70it/s]"
     ]
    },
    {
     "name": "stdout",
     "output_type": "stream",
     "text": [
      "Exception 047EA81E-6A86-4073-AD3B-456D8F3BD657 engzee pop from empty list\n"
     ]
    },
    {
     "name": "stderr",
     "output_type": "stream",
     "text": [
      "  3%|███▎                                                                                                                   | 298/10646 [00:21<12:00, 14.37it/s]/Users/max/Library/Python/3.9/lib/python/site-packages/numpy/core/fromnumeric.py:3464: RuntimeWarning: Mean of empty slice.\n",
      "  return _methods._mean(a, axis=axis, dtype=dtype,\n",
      "/Users/max/Library/Python/3.9/lib/python/site-packages/numpy/core/_methods.py:192: RuntimeWarning: invalid value encountered in scalar divide\n",
      "  ret = ret.dtype.type(ret / rcount)\n",
      "  3%|███▌                                                                                                                   | 318/10646 [00:22<11:49, 14.56it/s]"
     ]
    },
    {
     "name": "stdout",
     "output_type": "stream",
     "text": [
      "Exception 047EA81E-6A86-4073-AD3B-456D8F3BD657 engzee pop from empty list\n"
     ]
    },
    {
     "name": "stderr",
     "output_type": "stream",
     "text": [
      "  3%|███▊                                                                                                                   | 343/10646 [00:24<10:24, 16.49it/s]"
     ]
    },
    {
     "name": "stdout",
     "output_type": "stream",
     "text": [
      "Failed for index 341 with error: index 0 is out of bounds for axis 0 with size 0\n"
     ]
    },
    {
     "name": "stderr",
     "output_type": "stream",
     "text": [
      "  4%|████▏                                                                                                                  | 373/10646 [00:26<11:54, 14.39it/s]/Users/max/Library/Python/3.9/lib/python/site-packages/numpy/core/fromnumeric.py:3464: RuntimeWarning: Mean of empty slice.\n",
      "  return _methods._mean(a, axis=axis, dtype=dtype,\n",
      "/Users/max/Library/Python/3.9/lib/python/site-packages/numpy/core/_methods.py:192: RuntimeWarning: invalid value encountered in scalar divide\n",
      "  ret = ret.dtype.type(ret / rcount)\n",
      "  4%|████▏                                                                                                                  | 375/10646 [00:26<11:50, 14.45it/s]/Users/max/Library/Python/3.9/lib/python/site-packages/numpy/core/fromnumeric.py:3464: RuntimeWarning: Mean of empty slice.\n",
      "  return _methods._mean(a, axis=axis, dtype=dtype,\n",
      "/Users/max/Library/Python/3.9/lib/python/site-packages/numpy/core/_methods.py:192: RuntimeWarning: invalid value encountered in scalar divide\n",
      "  ret = ret.dtype.type(ret / rcount)\n",
      "  4%|████▎                                                                                                                  | 389/10646 [00:27<11:54, 14.37it/s]/Users/max/Library/Python/3.9/lib/python/site-packages/numpy/core/fromnumeric.py:3464: RuntimeWarning: Mean of empty slice.\n",
      "  return _methods._mean(a, axis=axis, dtype=dtype,\n",
      "/Users/max/Library/Python/3.9/lib/python/site-packages/numpy/core/_methods.py:192: RuntimeWarning: invalid value encountered in scalar divide\n",
      "  ret = ret.dtype.type(ret / rcount)\n",
      "  4%|████▍                                                                                                                  | 395/10646 [00:27<11:52, 14.39it/s]/Users/max/Library/Python/3.9/lib/python/site-packages/numpy/core/fromnumeric.py:3464: RuntimeWarning: Mean of empty slice.\n",
      "  return _methods._mean(a, axis=axis, dtype=dtype,\n",
      "/Users/max/Library/Python/3.9/lib/python/site-packages/numpy/core/_methods.py:192: RuntimeWarning: invalid value encountered in scalar divide\n",
      "  ret = ret.dtype.type(ret / rcount)\n",
      "  4%|████▉                                                                                                                  | 442/10646 [00:30<10:27, 16.25it/s]"
     ]
    },
    {
     "name": "stdout",
     "output_type": "stream",
     "text": [
      "Failed for index 440 with error: index 0 is out of bounds for axis 0 with size 0\n"
     ]
    },
    {
     "name": "stderr",
     "output_type": "stream",
     "text": [
      "  4%|█████                                                                                                                  | 448/10646 [00:31<11:17, 15.04it/s]/Users/max/Library/Python/3.9/lib/python/site-packages/numpy/core/fromnumeric.py:3464: RuntimeWarning: Mean of empty slice.\n",
      "  return _methods._mean(a, axis=axis, dtype=dtype,\n",
      "/Users/max/Library/Python/3.9/lib/python/site-packages/numpy/core/_methods.py:192: RuntimeWarning: invalid value encountered in scalar divide\n",
      "  ret = ret.dtype.type(ret / rcount)\n",
      "  4%|█████▏                                                                                                                 | 460/10646 [00:32<11:49, 14.35it/s]/Users/max/Library/Python/3.9/lib/python/site-packages/numpy/core/fromnumeric.py:3464: RuntimeWarning: Mean of empty slice.\n",
      "  return _methods._mean(a, axis=axis, dtype=dtype,\n",
      "/Users/max/Library/Python/3.9/lib/python/site-packages/numpy/core/_methods.py:192: RuntimeWarning: invalid value encountered in scalar divide\n",
      "  ret = ret.dtype.type(ret / rcount)\n",
      "  4%|█████▏                                                                                                                 | 462/10646 [00:32<11:56, 14.22it/s]"
     ]
    },
    {
     "name": "stdout",
     "output_type": "stream",
     "text": [
      "Exception 047EA81E-6A86-4073-AD3B-456D8F3BD657 engzee pop from empty list\n"
     ]
    },
    {
     "name": "stderr",
     "output_type": "stream",
     "text": [
      "  4%|█████▎                                                                                                                 | 470/10646 [00:32<11:50, 14.33it/s]/Users/max/Library/Python/3.9/lib/python/site-packages/numpy/core/fromnumeric.py:3464: RuntimeWarning: Mean of empty slice.\n",
      "  return _methods._mean(a, axis=axis, dtype=dtype,\n",
      "/Users/max/Library/Python/3.9/lib/python/site-packages/numpy/core/_methods.py:192: RuntimeWarning: invalid value encountered in scalar divide\n",
      "  ret = ret.dtype.type(ret / rcount)\n",
      "  5%|█████▍                                                                                                                 | 484/10646 [00:33<11:44, 14.43it/s]/Users/max/Library/Python/3.9/lib/python/site-packages/numpy/core/fromnumeric.py:3464: RuntimeWarning: Mean of empty slice.\n",
      "  return _methods._mean(a, axis=axis, dtype=dtype,\n",
      "/Users/max/Library/Python/3.9/lib/python/site-packages/numpy/core/_methods.py:192: RuntimeWarning: invalid value encountered in scalar divide\n",
      "  ret = ret.dtype.type(ret / rcount)\n",
      "  5%|█████▌                                                                                                                 | 502/10646 [00:35<11:48, 14.31it/s]/Users/max/Library/Python/3.9/lib/python/site-packages/numpy/core/fromnumeric.py:3464: RuntimeWarning: Mean of empty slice.\n",
      "  return _methods._mean(a, axis=axis, dtype=dtype,\n",
      "/Users/max/Library/Python/3.9/lib/python/site-packages/numpy/core/_methods.py:192: RuntimeWarning: invalid value encountered in scalar divide\n",
      "  ret = ret.dtype.type(ret / rcount)\n",
      "  5%|█████▋                                                                                                                 | 506/10646 [00:35<12:27, 13.56it/s]/Users/max/Library/Python/3.9/lib/python/site-packages/numpy/core/fromnumeric.py:3464: RuntimeWarning: Mean of empty slice.\n",
      "  return _methods._mean(a, axis=axis, dtype=dtype,\n",
      "/Users/max/Library/Python/3.9/lib/python/site-packages/numpy/core/_methods.py:192: RuntimeWarning: invalid value encountered in scalar divide\n",
      "  ret = ret.dtype.type(ret / rcount)\n",
      "  5%|██████                                                                                                                 | 544/10646 [00:38<11:36, 14.50it/s]/Users/max/Library/Python/3.9/lib/python/site-packages/numpy/core/fromnumeric.py:3464: RuntimeWarning: Mean of empty slice.\n",
      "  return _methods._mean(a, axis=axis, dtype=dtype,\n",
      "/Users/max/Library/Python/3.9/lib/python/site-packages/numpy/core/_methods.py:192: RuntimeWarning: invalid value encountered in scalar divide\n",
      "  ret = ret.dtype.type(ret / rcount)\n",
      "  5%|██████▏                                                                                                                | 556/10646 [00:38<11:37, 14.47it/s]"
     ]
    },
    {
     "name": "stdout",
     "output_type": "stream",
     "text": [
      "Exception 047EA81E-6A86-4073-AD3B-456D8F3BD657 engzee pop from empty list\n"
     ]
    },
    {
     "name": "stderr",
     "output_type": "stream",
     "text": [
      "  5%|██████▎                                                                                                                | 563/10646 [00:39<10:09, 16.54it/s]"
     ]
    },
    {
     "name": "stdout",
     "output_type": "stream",
     "text": [
      "Failed for index 561 with error: index 0 is out of bounds for axis 0 with size 0\n"
     ]
    },
    {
     "name": "stderr",
     "output_type": "stream",
     "text": [
      "  5%|██████▎                                                                                                                | 565/10646 [00:39<10:26, 16.09it/s]/Users/max/Library/Python/3.9/lib/python/site-packages/numpy/core/fromnumeric.py:3464: RuntimeWarning: Mean of empty slice.\n",
      "  return _methods._mean(a, axis=axis, dtype=dtype,\n",
      "/Users/max/Library/Python/3.9/lib/python/site-packages/numpy/core/_methods.py:192: RuntimeWarning: invalid value encountered in scalar divide\n",
      "  ret = ret.dtype.type(ret / rcount)\n",
      "  6%|██████▊                                                                                                                | 609/10646 [00:42<11:29, 14.55it/s]/Users/max/Library/Python/3.9/lib/python/site-packages/numpy/core/fromnumeric.py:3464: RuntimeWarning: Mean of empty slice.\n",
      "  return _methods._mean(a, axis=axis, dtype=dtype,\n",
      "/Users/max/Library/Python/3.9/lib/python/site-packages/numpy/core/_methods.py:192: RuntimeWarning: invalid value encountered in scalar divide\n",
      "  ret = ret.dtype.type(ret / rcount)\n",
      "  6%|██████▊                                                                                                                | 611/10646 [00:42<11:32, 14.49it/s]/Users/max/Library/Python/3.9/lib/python/site-packages/numpy/core/fromnumeric.py:3464: RuntimeWarning: Mean of empty slice.\n",
      "  return _methods._mean(a, axis=axis, dtype=dtype,\n",
      "/Users/max/Library/Python/3.9/lib/python/site-packages/numpy/core/_methods.py:192: RuntimeWarning: invalid value encountered in scalar divide\n",
      "  ret = ret.dtype.type(ret / rcount)\n",
      "  6%|██████▉                                                                                                                | 619/10646 [00:43<11:29, 14.53it/s]/Users/max/Library/Python/3.9/lib/python/site-packages/numpy/core/fromnumeric.py:3464: RuntimeWarning: Mean of empty slice.\n",
      "  return _methods._mean(a, axis=axis, dtype=dtype,\n",
      "/Users/max/Library/Python/3.9/lib/python/site-packages/numpy/core/_methods.py:192: RuntimeWarning: invalid value encountered in scalar divide\n",
      "  ret = ret.dtype.type(ret / rcount)\n",
      "  6%|███████                                                                                                                | 629/10646 [00:43<11:38, 14.35it/s]/Users/max/Library/Python/3.9/lib/python/site-packages/numpy/core/fromnumeric.py:3464: RuntimeWarning: Mean of empty slice.\n",
      "  return _methods._mean(a, axis=axis, dtype=dtype,\n",
      "/Users/max/Library/Python/3.9/lib/python/site-packages/numpy/core/_methods.py:192: RuntimeWarning: invalid value encountered in scalar divide\n",
      "  ret = ret.dtype.type(ret / rcount)\n",
      "  7%|███████▊                                                                                                               | 694/10646 [00:48<10:08, 16.35it/s]"
     ]
    },
    {
     "name": "stdout",
     "output_type": "stream",
     "text": [
      "Failed for index 691 with error: index 0 is out of bounds for axis 0 with size 0\n"
     ]
    },
    {
     "name": "stderr",
     "output_type": "stream",
     "text": [
      "  7%|████████▍                                                                                                              | 752/10646 [00:52<11:26, 14.40it/s]"
     ]
    },
    {
     "name": "stdout",
     "output_type": "stream",
     "text": [
      "Exception 047EA81E-6A86-4073-AD3B-456D8F3BD657 engzee pop from empty list\n"
     ]
    },
    {
     "name": "stderr",
     "output_type": "stream",
     "text": [
      "  7%|████████▉                                                                                                              | 796/10646 [00:55<12:14, 13.42it/s]/Users/max/Library/Python/3.9/lib/python/site-packages/numpy/core/fromnumeric.py:3464: RuntimeWarning: Mean of empty slice.\n",
      "  return _methods._mean(a, axis=axis, dtype=dtype,\n",
      "/Users/max/Library/Python/3.9/lib/python/site-packages/numpy/core/_methods.py:192: RuntimeWarning: invalid value encountered in scalar divide\n",
      "  ret = ret.dtype.type(ret / rcount)\n",
      "  8%|█████████▏                                                                                                             | 822/10646 [00:57<11:54, 13.75it/s]/Users/max/Library/Python/3.9/lib/python/site-packages/numpy/core/fromnumeric.py:3464: RuntimeWarning: Mean of empty slice.\n",
      "  return _methods._mean(a, axis=axis, dtype=dtype,\n",
      "/Users/max/Library/Python/3.9/lib/python/site-packages/numpy/core/_methods.py:192: RuntimeWarning: invalid value encountered in scalar divide\n",
      "  ret = ret.dtype.type(ret / rcount)\n",
      "  8%|█████████▋                                                                                                             | 862/10646 [01:00<11:22, 14.33it/s]/Users/max/Library/Python/3.9/lib/python/site-packages/numpy/core/fromnumeric.py:3464: RuntimeWarning: Mean of empty slice.\n",
      "  return _methods._mean(a, axis=axis, dtype=dtype,\n",
      "/Users/max/Library/Python/3.9/lib/python/site-packages/numpy/core/_methods.py:192: RuntimeWarning: invalid value encountered in scalar divide\n",
      "  ret = ret.dtype.type(ret / rcount)\n",
      "  8%|█████████▊                                                                                                             | 880/10646 [01:01<11:13, 14.50it/s]"
     ]
    },
    {
     "name": "stdout",
     "output_type": "stream",
     "text": [
      "Exception 047EA81E-6A86-4073-AD3B-456D8F3BD657 engzee pop from empty list\n"
     ]
    },
    {
     "name": "stderr",
     "output_type": "stream",
     "text": [
      "  8%|█████████▉                                                                                                             | 886/10646 [01:02<11:13, 14.50it/s]/Users/max/Library/Python/3.9/lib/python/site-packages/numpy/core/fromnumeric.py:3464: RuntimeWarning: Mean of empty slice.\n",
      "  return _methods._mean(a, axis=axis, dtype=dtype,\n",
      "/Users/max/Library/Python/3.9/lib/python/site-packages/numpy/core/_methods.py:192: RuntimeWarning: invalid value encountered in scalar divide\n",
      "  ret = ret.dtype.type(ret / rcount)\n",
      "  8%|█████████▉                                                                                                             | 894/10646 [01:02<11:13, 14.47it/s]"
     ]
    },
    {
     "name": "stdout",
     "output_type": "stream",
     "text": [
      "Exception 047EA81E-6A86-4073-AD3B-456D8F3BD657 engzee pop from empty list\n"
     ]
    },
    {
     "name": "stderr",
     "output_type": "stream",
     "text": [
      "  8%|██████████                                                                                                             | 900/10646 [01:02<11:12, 14.48it/s]/Users/max/Library/Python/3.9/lib/python/site-packages/numpy/core/fromnumeric.py:3464: RuntimeWarning: Mean of empty slice.\n",
      "  return _methods._mean(a, axis=axis, dtype=dtype,\n",
      "/Users/max/Library/Python/3.9/lib/python/site-packages/numpy/core/_methods.py:192: RuntimeWarning: invalid value encountered in scalar divide\n",
      "  ret = ret.dtype.type(ret / rcount)\n",
      "  9%|██████████▍                                                                                                            | 939/10646 [01:05<09:45, 16.59it/s]"
     ]
    },
    {
     "name": "stdout",
     "output_type": "stream",
     "text": [
      "Failed for index 937 with error: index 0 is out of bounds for axis 0 with size 0\n"
     ]
    },
    {
     "name": "stderr",
     "output_type": "stream",
     "text": [
      "  9%|██████████▋                                                                                                            | 954/10646 [01:06<09:37, 16.78it/s]"
     ]
    },
    {
     "name": "stdout",
     "output_type": "stream",
     "text": [
      "Failed for index 951 with error: index 0 is out of bounds for axis 0 with size 0\n"
     ]
    },
    {
     "name": "stderr",
     "output_type": "stream",
     "text": [
      "  9%|██████████▊                                                                                                            | 968/10646 [01:07<11:05, 14.53it/s]/Users/max/Library/Python/3.9/lib/python/site-packages/numpy/core/fromnumeric.py:3464: RuntimeWarning: Mean of empty slice.\n",
      "  return _methods._mean(a, axis=axis, dtype=dtype,\n",
      "/Users/max/Library/Python/3.9/lib/python/site-packages/numpy/core/_methods.py:192: RuntimeWarning: invalid value encountered in scalar divide\n",
      "  ret = ret.dtype.type(ret / rcount)\n"
     ]
    },
    {
     "name": "stdout",
     "output_type": "stream",
     "text": [
      "Exception 047EA81E-6A86-4073-AD3B-456D8F3BD657 engzee pop from empty list\n",
      "Exception 047EA81E-6A86-4073-AD3B-456D8F3BD657 engzee pop from empty list\n"
     ]
    },
    {
     "name": "stderr",
     "output_type": "stream",
     "text": [
      "  9%|██████████▊                                                                                                            | 970/10646 [01:07<11:06, 14.52it/s]/Users/max/Library/Python/3.9/lib/python/site-packages/numpy/core/fromnumeric.py:3464: RuntimeWarning: Mean of empty slice.\n",
      "  return _methods._mean(a, axis=axis, dtype=dtype,\n",
      "/Users/max/Library/Python/3.9/lib/python/site-packages/numpy/core/_methods.py:192: RuntimeWarning: invalid value encountered in scalar divide\n",
      "  ret = ret.dtype.type(ret / rcount)\n",
      "  9%|██████████▊                                                                                                            | 972/10646 [01:07<11:09, 14.44it/s]/Users/max/Library/Python/3.9/lib/python/site-packages/numpy/core/fromnumeric.py:3464: RuntimeWarning: Mean of empty slice.\n",
      "  return _methods._mean(a, axis=axis, dtype=dtype,\n",
      "/Users/max/Library/Python/3.9/lib/python/site-packages/numpy/core/_methods.py:192: RuntimeWarning: invalid value encountered in scalar divide\n",
      "  ret = ret.dtype.type(ret / rcount)\n",
      "  9%|██████████▉                                                                                                            | 974/10646 [01:07<11:11, 14.40it/s]/Users/max/Library/Python/3.9/lib/python/site-packages/numpy/core/fromnumeric.py:3464: RuntimeWarning: Mean of empty slice.\n",
      "  return _methods._mean(a, axis=axis, dtype=dtype,\n",
      "/Users/max/Library/Python/3.9/lib/python/site-packages/numpy/core/_methods.py:192: RuntimeWarning: invalid value encountered in scalar divide\n",
      "  ret = ret.dtype.type(ret / rcount)\n",
      " 10%|███████████▎                                                                                                          | 1016/10646 [01:10<11:38, 13.78it/s]/Users/max/Library/Python/3.9/lib/python/site-packages/numpy/core/fromnumeric.py:3464: RuntimeWarning: Mean of empty slice.\n",
      "  return _methods._mean(a, axis=axis, dtype=dtype,\n",
      "/Users/max/Library/Python/3.9/lib/python/site-packages/numpy/core/_methods.py:192: RuntimeWarning: invalid value encountered in scalar divide\n",
      "  ret = ret.dtype.type(ret / rcount)\n",
      "/Users/max/Library/Python/3.9/lib/python/site-packages/numpy/core/fromnumeric.py:3464: RuntimeWarning: Mean of empty slice.\n",
      "  return _methods._mean(a, axis=axis, dtype=dtype,\n",
      "/Users/max/Library/Python/3.9/lib/python/site-packages/numpy/core/_methods.py:192: RuntimeWarning: invalid value encountered in scalar divide\n",
      "  ret = ret.dtype.type(ret / rcount)\n",
      " 10%|███████████▎                                                                                                          | 1020/10646 [01:11<11:21, 14.12it/s]"
     ]
    },
    {
     "name": "stdout",
     "output_type": "stream",
     "text": [
      "Exception 047EA81E-6A86-4073-AD3B-456D8F3BD657 engzee pop from empty list\n"
     ]
    },
    {
     "name": "stderr",
     "output_type": "stream",
     "text": [
      " 10%|███████████▍                                                                                                          | 1031/10646 [01:11<09:37, 16.64it/s]/Users/max/Library/Python/3.9/lib/python/site-packages/numpy/core/fromnumeric.py:3464: RuntimeWarning: Mean of empty slice.\n",
      "  return _methods._mean(a, axis=axis, dtype=dtype,\n"
     ]
    },
    {
     "name": "stdout",
     "output_type": "stream",
     "text": [
      "Failed for index 1028 with error: index 0 is out of bounds for axis 0 with size 0\n"
     ]
    },
    {
     "name": "stderr",
     "output_type": "stream",
     "text": [
      "/Users/max/Library/Python/3.9/lib/python/site-packages/numpy/core/_methods.py:192: RuntimeWarning: invalid value encountered in scalar divide\n",
      "  ret = ret.dtype.type(ret / rcount)\n",
      " 10%|███████████▌                                                                                                          | 1041/10646 [01:12<11:13, 14.25it/s]"
     ]
    },
    {
     "name": "stdout",
     "output_type": "stream",
     "text": [
      "Exception 047EA81E-6A86-4073-AD3B-456D8F3BD657 engzee pop from empty list\n"
     ]
    },
    {
     "name": "stderr",
     "output_type": "stream",
     "text": [
      " 10%|███████████▋                                                                                                          | 1057/10646 [01:13<11:05, 14.40it/s]/Users/max/Library/Python/3.9/lib/python/site-packages/numpy/core/fromnumeric.py:3464: RuntimeWarning: Mean of empty slice.\n",
      "  return _methods._mean(a, axis=axis, dtype=dtype,\n",
      "/Users/max/Library/Python/3.9/lib/python/site-packages/numpy/core/_methods.py:192: RuntimeWarning: invalid value encountered in scalar divide\n",
      "  ret = ret.dtype.type(ret / rcount)\n",
      " 10%|███████████▋                                                                                                          | 1059/10646 [01:13<11:09, 14.32it/s]/Users/max/Library/Python/3.9/lib/python/site-packages/numpy/core/fromnumeric.py:3464: RuntimeWarning: Mean of empty slice.\n",
      "  return _methods._mean(a, axis=axis, dtype=dtype,\n",
      "/Users/max/Library/Python/3.9/lib/python/site-packages/numpy/core/_methods.py:192: RuntimeWarning: invalid value encountered in scalar divide\n",
      "  ret = ret.dtype.type(ret / rcount)\n",
      " 10%|███████████▉                                                                                                          | 1077/10646 [01:15<10:53, 14.63it/s]/Users/max/Library/Python/3.9/lib/python/site-packages/numpy/core/fromnumeric.py:3464: RuntimeWarning: Mean of empty slice.\n",
      "  return _methods._mean(a, axis=axis, dtype=dtype,\n",
      "/Users/max/Library/Python/3.9/lib/python/site-packages/numpy/core/_methods.py:192: RuntimeWarning: invalid value encountered in scalar divide\n",
      "  ret = ret.dtype.type(ret / rcount)\n",
      " 10%|████████████                                                                                                          | 1085/10646 [01:15<11:00, 14.47it/s]/Users/max/Library/Python/3.9/lib/python/site-packages/numpy/core/fromnumeric.py:3464: RuntimeWarning: Mean of empty slice.\n",
      "  return _methods._mean(a, axis=axis, dtype=dtype,\n",
      "/Users/max/Library/Python/3.9/lib/python/site-packages/numpy/core/_methods.py:192: RuntimeWarning: invalid value encountered in scalar divide\n",
      "  ret = ret.dtype.type(ret / rcount)\n",
      " 10%|████████████▏                                                                                                         | 1102/10646 [01:16<09:28, 16.79it/s]"
     ]
    },
    {
     "name": "stdout",
     "output_type": "stream",
     "text": [
      "Exception 047EA81E-6A86-4073-AD3B-456D8F3BD657 engzee pop from empty list\n",
      "Failed for index 1099 with error: index 0 is out of bounds for axis 0 with size 0\n"
     ]
    },
    {
     "name": "stderr",
     "output_type": "stream",
     "text": [
      "/Users/max/Library/Python/3.9/lib/python/site-packages/numpy/core/fromnumeric.py:3464: RuntimeWarning: Mean of empty slice.\n",
      "  return _methods._mean(a, axis=axis, dtype=dtype,\n",
      "/Users/max/Library/Python/3.9/lib/python/site-packages/numpy/core/_methods.py:192: RuntimeWarning: invalid value encountered in scalar divide\n",
      "  ret = ret.dtype.type(ret / rcount)\n",
      " 11%|████████████▍                                                                                                         | 1124/10646 [01:18<10:55, 14.54it/s]/Users/max/Library/Python/3.9/lib/python/site-packages/numpy/core/fromnumeric.py:3464: RuntimeWarning: Mean of empty slice.\n",
      "  return _methods._mean(a, axis=axis, dtype=dtype,\n",
      "/Users/max/Library/Python/3.9/lib/python/site-packages/numpy/core/_methods.py:192: RuntimeWarning: invalid value encountered in scalar divide\n",
      "  ret = ret.dtype.type(ret / rcount)\n",
      " 11%|████████████▋                                                                                                         | 1140/10646 [01:19<11:04, 14.31it/s]"
     ]
    },
    {
     "name": "stdout",
     "output_type": "stream",
     "text": [
      "Exception 047EA81E-6A86-4073-AD3B-456D8F3BD657 engzee pop from empty list\n"
     ]
    },
    {
     "name": "stderr",
     "output_type": "stream",
     "text": [
      " 11%|████████████▉                                                                                                         | 1168/10646 [01:21<10:51, 14.55it/s]"
     ]
    },
    {
     "name": "stdout",
     "output_type": "stream",
     "text": [
      "Exception 047EA81E-6A86-4073-AD3B-456D8F3BD657 engzee pop from empty list\n"
     ]
    },
    {
     "name": "stderr",
     "output_type": "stream",
     "text": [
      " 11%|█████████████                                                                                                         | 1177/10646 [01:22<10:36, 14.87it/s]"
     ]
    },
    {
     "name": "stdout",
     "output_type": "stream",
     "text": [
      "Failed for index 1175 with error: index 0 is out of bounds for axis 0 with size 0\n"
     ]
    },
    {
     "name": "stderr",
     "output_type": "stream",
     "text": [
      " 11%|█████████████                                                                                                         | 1181/10646 [01:22<10:44, 14.70it/s]/Users/max/Library/Python/3.9/lib/python/site-packages/numpy/core/fromnumeric.py:3464: RuntimeWarning: Mean of empty slice.\n",
      "  return _methods._mean(a, axis=axis, dtype=dtype,\n",
      "/Users/max/Library/Python/3.9/lib/python/site-packages/numpy/core/_methods.py:192: RuntimeWarning: invalid value encountered in scalar divide\n",
      "  ret = ret.dtype.type(ret / rcount)\n",
      " 11%|█████████████▏                                                                                                        | 1189/10646 [01:22<10:53, 14.48it/s]/Users/max/Library/Python/3.9/lib/python/site-packages/numpy/core/fromnumeric.py:3464: RuntimeWarning: Mean of empty slice.\n",
      "  return _methods._mean(a, axis=axis, dtype=dtype,\n",
      "/Users/max/Library/Python/3.9/lib/python/site-packages/numpy/core/_methods.py:192: RuntimeWarning: invalid value encountered in scalar divide\n",
      "  ret = ret.dtype.type(ret / rcount)\n",
      " 11%|█████████████▎                                                                                                        | 1199/10646 [01:23<10:55, 14.41it/s]/Users/max/Library/Python/3.9/lib/python/site-packages/numpy/core/fromnumeric.py:3464: RuntimeWarning: Mean of empty slice.\n",
      "  return _methods._mean(a, axis=axis, dtype=dtype,\n",
      "/Users/max/Library/Python/3.9/lib/python/site-packages/numpy/core/_methods.py:192: RuntimeWarning: invalid value encountered in scalar divide\n",
      "  ret = ret.dtype.type(ret / rcount)\n",
      " 11%|█████████████▍                                                                                                        | 1216/10646 [01:24<09:29, 16.55it/s]"
     ]
    },
    {
     "name": "stdout",
     "output_type": "stream",
     "text": [
      "Failed for index 1213 with error: index 0 is out of bounds for axis 0 with size 0\n"
     ]
    },
    {
     "name": "stderr",
     "output_type": "stream",
     "text": [
      " 12%|█████████████▊                                                                                                        | 1250/10646 [01:27<10:44, 14.58it/s]"
     ]
    },
    {
     "name": "stdout",
     "output_type": "stream",
     "text": [
      "Exception 047EA81E-6A86-4073-AD3B-456D8F3BD657 engzee pop from empty list\n"
     ]
    },
    {
     "name": "stderr",
     "output_type": "stream",
     "text": [
      " 12%|█████████████▉                                                                                                        | 1258/10646 [01:27<10:40, 14.66it/s]/Users/max/Library/Python/3.9/lib/python/site-packages/numpy/core/fromnumeric.py:3464: RuntimeWarning: Mean of empty slice.\n",
      "  return _methods._mean(a, axis=axis, dtype=dtype,\n"
     ]
    },
    {
     "name": "stdout",
     "output_type": "stream",
     "text": [
      "Exception 047EA81E-6A86-4073-AD3B-456D8F3BD657 engzee pop from empty list\n"
     ]
    },
    {
     "name": "stderr",
     "output_type": "stream",
     "text": [
      "/Users/max/Library/Python/3.9/lib/python/site-packages/numpy/core/_methods.py:192: RuntimeWarning: invalid value encountered in scalar divide\n",
      "  ret = ret.dtype.type(ret / rcount)\n",
      "/Users/max/Library/Python/3.9/lib/python/site-packages/numpy/core/fromnumeric.py:3464: RuntimeWarning: Mean of empty slice.\n",
      "  return _methods._mean(a, axis=axis, dtype=dtype,\n",
      "/Users/max/Library/Python/3.9/lib/python/site-packages/numpy/core/_methods.py:192: RuntimeWarning: invalid value encountered in scalar divide\n",
      "  ret = ret.dtype.type(ret / rcount)\n",
      " 12%|█████████████▉                                                                                                        | 1260/10646 [01:27<10:42, 14.60it/s]/Users/max/Library/Python/3.9/lib/python/site-packages/numpy/core/fromnumeric.py:3464: RuntimeWarning: Mean of empty slice.\n",
      "  return _methods._mean(a, axis=axis, dtype=dtype,\n",
      "/Users/max/Library/Python/3.9/lib/python/site-packages/numpy/core/_methods.py:192: RuntimeWarning: invalid value encountered in scalar divide\n",
      "  ret = ret.dtype.type(ret / rcount)\n",
      " 12%|██████████████                                                                                                        | 1274/10646 [01:28<10:49, 14.44it/s]"
     ]
    },
    {
     "name": "stdout",
     "output_type": "stream",
     "text": [
      "Exception 047EA81E-6A86-4073-AD3B-456D8F3BD657 engzee pop from empty list\n"
     ]
    },
    {
     "name": "stderr",
     "output_type": "stream",
     "text": [
      " 12%|██████████████▎                                                                                                       | 1290/10646 [01:29<10:47, 14.45it/s]"
     ]
    },
    {
     "name": "stdout",
     "output_type": "stream",
     "text": [
      "Exception 047EA81E-6A86-4073-AD3B-456D8F3BD657 engzee pop from empty list\n"
     ]
    },
    {
     "name": "stderr",
     "output_type": "stream",
     "text": [
      " 12%|██████████████▌                                                                                                       | 1310/10646 [01:31<10:35, 14.70it/s]/Users/max/Library/Python/3.9/lib/python/site-packages/numpy/core/fromnumeric.py:3464: RuntimeWarning: Mean of empty slice.\n",
      "  return _methods._mean(a, axis=axis, dtype=dtype,\n",
      "/Users/max/Library/Python/3.9/lib/python/site-packages/numpy/core/_methods.py:192: RuntimeWarning: invalid value encountered in scalar divide\n",
      "  ret = ret.dtype.type(ret / rcount)\n",
      " 13%|██████████████▉                                                                                                       | 1346/10646 [01:33<11:37, 13.32it/s]"
     ]
    },
    {
     "name": "stdout",
     "output_type": "stream",
     "text": [
      "Exception 047EA81E-6A86-4073-AD3B-456D8F3BD657 engzee pop from empty list\n"
     ]
    },
    {
     "name": "stderr",
     "output_type": "stream",
     "text": [
      " 13%|███████████████▋                                                                                                      | 1418/10646 [01:38<10:37, 14.48it/s]/Users/max/Library/Python/3.9/lib/python/site-packages/numpy/core/fromnumeric.py:3464: RuntimeWarning: Mean of empty slice.\n",
      "  return _methods._mean(a, axis=axis, dtype=dtype,\n",
      "/Users/max/Library/Python/3.9/lib/python/site-packages/numpy/core/_methods.py:192: RuntimeWarning: invalid value encountered in scalar divide\n",
      "  ret = ret.dtype.type(ret / rcount)\n",
      " 13%|███████████████▋                                                                                                      | 1420/10646 [01:38<10:37, 14.47it/s]/Users/max/Library/Python/3.9/lib/python/site-packages/numpy/core/fromnumeric.py:3464: RuntimeWarning: Mean of empty slice.\n",
      "  return _methods._mean(a, axis=axis, dtype=dtype,\n",
      "/Users/max/Library/Python/3.9/lib/python/site-packages/numpy/core/_methods.py:192: RuntimeWarning: invalid value encountered in scalar divide\n",
      "  ret = ret.dtype.type(ret / rcount)\n",
      " 13%|███████████████▊                                                                                                      | 1430/10646 [01:39<10:41, 14.36it/s]/Users/max/Library/Python/3.9/lib/python/site-packages/numpy/core/fromnumeric.py:3464: RuntimeWarning: Mean of empty slice.\n",
      "  return _methods._mean(a, axis=axis, dtype=dtype,\n",
      "/Users/max/Library/Python/3.9/lib/python/site-packages/numpy/core/_methods.py:192: RuntimeWarning: invalid value encountered in scalar divide\n",
      "  ret = ret.dtype.type(ret / rcount)\n",
      " 14%|████████████████                                                                                                      | 1446/10646 [01:40<10:38, 14.42it/s]/Users/max/Library/Python/3.9/lib/python/site-packages/numpy/core/fromnumeric.py:3464: RuntimeWarning: Mean of empty slice.\n",
      "  return _methods._mean(a, axis=axis, dtype=dtype,\n",
      "/Users/max/Library/Python/3.9/lib/python/site-packages/numpy/core/_methods.py:192: RuntimeWarning: invalid value encountered in scalar divide\n",
      "  ret = ret.dtype.type(ret / rcount)\n",
      " 14%|████████████████▏                                                                                                     | 1460/10646 [01:41<10:34, 14.49it/s]"
     ]
    },
    {
     "name": "stdout",
     "output_type": "stream",
     "text": [
      "Exception 047EA81E-6A86-4073-AD3B-456D8F3BD657 engzee pop from empty list\n"
     ]
    },
    {
     "name": "stderr",
     "output_type": "stream",
     "text": [
      "/Users/max/Library/Python/3.9/lib/python/site-packages/numpy/core/fromnumeric.py:3464: RuntimeWarning: Mean of empty slice.\n",
      "  return _methods._mean(a, axis=axis, dtype=dtype,\n",
      "/Users/max/Library/Python/3.9/lib/python/site-packages/numpy/core/_methods.py:192: RuntimeWarning: invalid value encountered in scalar divide\n",
      "  ret = ret.dtype.type(ret / rcount)\n",
      " 14%|████████████████▍                                                                                                     | 1478/10646 [01:42<10:34, 14.45it/s]"
     ]
    },
    {
     "name": "stdout",
     "output_type": "stream",
     "text": [
      "Exception 047EA81E-6A86-4073-AD3B-456D8F3BD657 engzee pop from empty list\n"
     ]
    },
    {
     "name": "stderr",
     "output_type": "stream",
     "text": [
      " 14%|████████████████▍                                                                                                     | 1484/10646 [01:43<10:35, 14.43it/s]/Users/max/Library/Python/3.9/lib/python/site-packages/numpy/core/fromnumeric.py:3464: RuntimeWarning: Mean of empty slice.\n",
      "  return _methods._mean(a, axis=axis, dtype=dtype,\n",
      "/Users/max/Library/Python/3.9/lib/python/site-packages/numpy/core/_methods.py:192: RuntimeWarning: invalid value encountered in scalar divide\n",
      "  ret = ret.dtype.type(ret / rcount)\n",
      " 14%|████████████████▋                                                                                                     | 1501/10646 [01:44<09:06, 16.73it/s]"
     ]
    },
    {
     "name": "stdout",
     "output_type": "stream",
     "text": [
      "Failed for index 1498 with error: index 0 is out of bounds for axis 0 with size 0\n"
     ]
    },
    {
     "name": "stderr",
     "output_type": "stream",
     "text": [
      " 14%|████████████████▋                                                                                                     | 1503/10646 [01:44<09:31, 15.99it/s]/Users/max/Library/Python/3.9/lib/python/site-packages/numpy/core/fromnumeric.py:3464: RuntimeWarning: Mean of empty slice.\n",
      "  return _methods._mean(a, axis=axis, dtype=dtype,\n",
      "/Users/max/Library/Python/3.9/lib/python/site-packages/numpy/core/_methods.py:192: RuntimeWarning: invalid value encountered in scalar divide\n",
      "  ret = ret.dtype.type(ret / rcount)\n",
      " 15%|█████████████████▎                                                                                                    | 1563/10646 [01:48<10:30, 14.40it/s]/Users/max/Library/Python/3.9/lib/python/site-packages/numpy/core/fromnumeric.py:3464: RuntimeWarning: Mean of empty slice.\n",
      "  return _methods._mean(a, axis=axis, dtype=dtype,\n",
      "/Users/max/Library/Python/3.9/lib/python/site-packages/numpy/core/_methods.py:192: RuntimeWarning: invalid value encountered in scalar divide\n",
      "  ret = ret.dtype.type(ret / rcount)\n",
      " 15%|█████████████████▌                                                                                                    | 1581/10646 [01:49<10:27, 14.45it/s]/Users/max/Library/Python/3.9/lib/python/site-packages/numpy/core/fromnumeric.py:3464: RuntimeWarning: Mean of empty slice.\n",
      "  return _methods._mean(a, axis=axis, dtype=dtype,\n",
      "/Users/max/Library/Python/3.9/lib/python/site-packages/numpy/core/_methods.py:192: RuntimeWarning: invalid value encountered in scalar divide\n",
      "  ret = ret.dtype.type(ret / rcount)\n",
      " 15%|█████████████████▌                                                                                                    | 1589/10646 [01:50<10:33, 14.31it/s]/Users/max/Library/Python/3.9/lib/python/site-packages/numpy/core/fromnumeric.py:3464: RuntimeWarning: Mean of empty slice.\n",
      "  return _methods._mean(a, axis=axis, dtype=dtype,\n",
      "/Users/max/Library/Python/3.9/lib/python/site-packages/numpy/core/_methods.py:192: RuntimeWarning: invalid value encountered in scalar divide\n",
      "  ret = ret.dtype.type(ret / rcount)\n",
      " 15%|█████████████████▊                                                                                                    | 1607/10646 [01:51<10:26, 14.43it/s]"
     ]
    },
    {
     "name": "stdout",
     "output_type": "stream",
     "text": [
      "Exception 047EA81E-6A86-4073-AD3B-456D8F3BD657 engzee pop from empty list\n"
     ]
    },
    {
     "name": "stderr",
     "output_type": "stream",
     "text": [
      " 15%|█████████████████▉                                                                                                    | 1614/10646 [01:52<08:58, 16.77it/s]"
     ]
    },
    {
     "name": "stdout",
     "output_type": "stream",
     "text": [
      "Failed for index 1612 with error: index 0 is out of bounds for axis 0 with size 0\n"
     ]
    },
    {
     "name": "stderr",
     "output_type": "stream",
     "text": [
      " 15%|█████████████████▉                                                                                                    | 1618/10646 [01:52<09:42, 15.51it/s]/Users/max/Library/Python/3.9/lib/python/site-packages/numpy/core/fromnumeric.py:3464: RuntimeWarning: Mean of empty slice.\n",
      "  return _methods._mean(a, axis=axis, dtype=dtype,\n",
      "/Users/max/Library/Python/3.9/lib/python/site-packages/numpy/core/_methods.py:192: RuntimeWarning: invalid value encountered in scalar divide\n",
      "  ret = ret.dtype.type(ret / rcount)\n",
      " 15%|██████████████████                                                                                                    | 1634/10646 [01:53<10:15, 14.63it/s]/Users/max/Library/Python/3.9/lib/python/site-packages/numpy/core/fromnumeric.py:3464: RuntimeWarning: Mean of empty slice.\n",
      "  return _methods._mean(a, axis=axis, dtype=dtype,\n",
      "/Users/max/Library/Python/3.9/lib/python/site-packages/numpy/core/_methods.py:192: RuntimeWarning: invalid value encountered in scalar divide\n",
      "  ret = ret.dtype.type(ret / rcount)\n",
      " 16%|██████████████████▎                                                                                                   | 1656/10646 [01:55<10:23, 14.42it/s]"
     ]
    },
    {
     "name": "stdout",
     "output_type": "stream",
     "text": [
      "Exception 047EA81E-6A86-4073-AD3B-456D8F3BD657 engzee pop from empty list\n"
     ]
    },
    {
     "name": "stderr",
     "output_type": "stream",
     "text": [
      " 16%|██████████████████▍                                                                                                   | 1669/10646 [01:55<09:05, 16.46it/s]"
     ]
    },
    {
     "name": "stdout",
     "output_type": "stream",
     "text": [
      "Failed for index 1666 with error: index 0 is out of bounds for axis 0 with size 0\n"
     ]
    },
    {
     "name": "stderr",
     "output_type": "stream",
     "text": [
      " 16%|██████████████████▌                                                                                                   | 1677/10646 [01:56<09:57, 15.01it/s]/Users/max/Library/Python/3.9/lib/python/site-packages/numpy/core/fromnumeric.py:3464: RuntimeWarning: Mean of empty slice.\n",
      "  return _methods._mean(a, axis=axis, dtype=dtype,\n",
      "/Users/max/Library/Python/3.9/lib/python/site-packages/numpy/core/_methods.py:192: RuntimeWarning: invalid value encountered in scalar divide\n",
      "  ret = ret.dtype.type(ret / rcount)\n",
      " 16%|██████████████████▌                                                                                                   | 1679/10646 [01:56<10:03, 14.86it/s]/Users/max/Library/Python/3.9/lib/python/site-packages/numpy/core/fromnumeric.py:3464: RuntimeWarning: Mean of empty slice.\n",
      "  return _methods._mean(a, axis=axis, dtype=dtype,\n",
      "/Users/max/Library/Python/3.9/lib/python/site-packages/numpy/core/_methods.py:192: RuntimeWarning: invalid value encountered in scalar divide\n",
      "  ret = ret.dtype.type(ret / rcount)\n",
      " 16%|██████████████████▋                                                                                                   | 1683/10646 [01:56<10:11, 14.66it/s]"
     ]
    },
    {
     "name": "stdout",
     "output_type": "stream",
     "text": [
      "Exception 047EA81E-6A86-4073-AD3B-456D8F3BD657 engzee pop from empty list\n"
     ]
    },
    {
     "name": "stderr",
     "output_type": "stream",
     "text": [
      " 16%|██████████████████▋                                                                                                   | 1687/10646 [01:57<10:14, 14.58it/s]/Users/max/Library/Python/3.9/lib/python/site-packages/numpy/core/fromnumeric.py:3464: RuntimeWarning: Mean of empty slice.\n",
      "  return _methods._mean(a, axis=axis, dtype=dtype,\n",
      "/Users/max/Library/Python/3.9/lib/python/site-packages/numpy/core/_methods.py:192: RuntimeWarning: invalid value encountered in scalar divide\n",
      "  ret = ret.dtype.type(ret / rcount)\n",
      " 16%|██████████████████▋                                                                                                   | 1689/10646 [01:57<10:15, 14.55it/s]/Users/max/Library/Python/3.9/lib/python/site-packages/numpy/core/fromnumeric.py:3464: RuntimeWarning: Mean of empty slice.\n",
      "  return _methods._mean(a, axis=axis, dtype=dtype,\n",
      "/Users/max/Library/Python/3.9/lib/python/site-packages/numpy/core/_methods.py:192: RuntimeWarning: invalid value encountered in scalar divide\n",
      "  ret = ret.dtype.type(ret / rcount)\n",
      " 16%|██████████████████▊                                                                                                   | 1693/10646 [01:57<10:15, 14.55it/s]"
     ]
    },
    {
     "name": "stdout",
     "output_type": "stream",
     "text": [
      "Exception 047EA81E-6A86-4073-AD3B-456D8F3BD657 engzee pop from empty list\n"
     ]
    },
    {
     "name": "stderr",
     "output_type": "stream",
     "text": [
      " 16%|██████████████████▉                                                                                                   | 1709/10646 [01:58<10:18, 14.45it/s]/Users/max/Library/Python/3.9/lib/python/site-packages/numpy/core/fromnumeric.py:3464: RuntimeWarning: Mean of empty slice.\n",
      "  return _methods._mean(a, axis=axis, dtype=dtype,\n",
      "/Users/max/Library/Python/3.9/lib/python/site-packages/numpy/core/_methods.py:192: RuntimeWarning: invalid value encountered in scalar divide\n",
      "  ret = ret.dtype.type(ret / rcount)\n",
      " 16%|███████████████████                                                                                                   | 1717/10646 [01:59<10:15, 14.51it/s]/Users/max/Library/Python/3.9/lib/python/site-packages/numpy/core/fromnumeric.py:3464: RuntimeWarning: Mean of empty slice.\n",
      "  return _methods._mean(a, axis=axis, dtype=dtype,\n",
      "/Users/max/Library/Python/3.9/lib/python/site-packages/numpy/core/_methods.py:192: RuntimeWarning: invalid value encountered in scalar divide\n",
      "  ret = ret.dtype.type(ret / rcount)\n",
      " 16%|███████████████████▍                                                                                                  | 1756/10646 [02:01<08:48, 16.83it/s]"
     ]
    },
    {
     "name": "stdout",
     "output_type": "stream",
     "text": [
      "Failed for index 1754 with error: index 0 is out of bounds for axis 0 with size 0\n"
     ]
    },
    {
     "name": "stderr",
     "output_type": "stream",
     "text": [
      " 17%|███████████████████▌                                                                                                  | 1766/10646 [02:02<09:57, 14.85it/s]/Users/max/Library/Python/3.9/lib/python/site-packages/numpy/core/fromnumeric.py:3464: RuntimeWarning: Mean of empty slice.\n",
      "  return _methods._mean(a, axis=axis, dtype=dtype,\n",
      "/Users/max/Library/Python/3.9/lib/python/site-packages/numpy/core/_methods.py:192: RuntimeWarning: invalid value encountered in scalar divide\n",
      "  ret = ret.dtype.type(ret / rcount)\n",
      " 17%|███████████████████▊                                                                                                  | 1784/10646 [02:03<10:16, 14.36it/s]/Users/max/Library/Python/3.9/lib/python/site-packages/numpy/core/fromnumeric.py:3464: RuntimeWarning: Mean of empty slice.\n",
      "  return _methods._mean(a, axis=axis, dtype=dtype,\n",
      "/Users/max/Library/Python/3.9/lib/python/site-packages/numpy/core/_methods.py:192: RuntimeWarning: invalid value encountered in scalar divide\n",
      "  ret = ret.dtype.type(ret / rcount)\n",
      " 17%|███████████████████▉                                                                                                  | 1795/10646 [02:04<08:49, 16.71it/s]"
     ]
    },
    {
     "name": "stdout",
     "output_type": "stream",
     "text": [
      "Failed for index 1792 with error: index 0 is out of bounds for axis 0 with size 0\n"
     ]
    },
    {
     "name": "stderr",
     "output_type": "stream",
     "text": [
      " 17%|████████████████████▏                                                                                                 | 1817/10646 [02:05<10:03, 14.64it/s]/Users/max/Library/Python/3.9/lib/python/site-packages/numpy/core/fromnumeric.py:3464: RuntimeWarning: Mean of empty slice.\n",
      "  return _methods._mean(a, axis=axis, dtype=dtype,\n",
      "/Users/max/Library/Python/3.9/lib/python/site-packages/numpy/core/_methods.py:192: RuntimeWarning: invalid value encountered in scalar divide\n",
      "  ret = ret.dtype.type(ret / rcount)\n",
      " 17%|████████████████████▏                                                                                                 | 1823/10646 [02:06<10:14, 14.37it/s]/Users/max/Library/Python/3.9/lib/python/site-packages/numpy/core/fromnumeric.py:3464: RuntimeWarning: Mean of empty slice.\n",
      "  return _methods._mean(a, axis=axis, dtype=dtype,\n",
      "/Users/max/Library/Python/3.9/lib/python/site-packages/numpy/core/_methods.py:192: RuntimeWarning: invalid value encountered in scalar divide\n",
      "  ret = ret.dtype.type(ret / rcount)\n",
      " 17%|████████████████████▏                                                                                                 | 1826/10646 [02:06<08:56, 16.43it/s]"
     ]
    },
    {
     "name": "stdout",
     "output_type": "stream",
     "text": [
      "Failed for index 1824 with error: index 0 is out of bounds for axis 0 with size 0\n"
     ]
    },
    {
     "name": "stderr",
     "output_type": "stream",
     "text": [
      " 17%|████████████████████▎                                                                                                 | 1838/10646 [02:07<10:03, 14.60it/s]/Users/max/Library/Python/3.9/lib/python/site-packages/numpy/core/fromnumeric.py:3464: RuntimeWarning: Mean of empty slice.\n",
      "  return _methods._mean(a, axis=axis, dtype=dtype,\n",
      "/Users/max/Library/Python/3.9/lib/python/site-packages/numpy/core/_methods.py:192: RuntimeWarning: invalid value encountered in scalar divide\n",
      "  ret = ret.dtype.type(ret / rcount)\n",
      " 17%|████████████████████▌                                                                                                 | 1850/10646 [02:08<10:06, 14.50it/s]/Users/max/Library/Python/3.9/lib/python/site-packages/numpy/core/fromnumeric.py:3464: RuntimeWarning: Mean of empty slice.\n",
      "  return _methods._mean(a, axis=axis, dtype=dtype,\n",
      "/Users/max/Library/Python/3.9/lib/python/site-packages/numpy/core/_methods.py:192: RuntimeWarning: invalid value encountered in scalar divide\n",
      "  ret = ret.dtype.type(ret / rcount)\n",
      " 17%|████████████████████▌                                                                                                 | 1852/10646 [02:08<10:08, 14.46it/s]"
     ]
    },
    {
     "name": "stdout",
     "output_type": "stream",
     "text": [
      "Exception 047EA81E-6A86-4073-AD3B-456D8F3BD657 engzee pop from empty list\n"
     ]
    },
    {
     "name": "stderr",
     "output_type": "stream",
     "text": [
      " 18%|████████████████████▋                                                                                                 | 1868/10646 [02:09<10:11, 14.35it/s]"
     ]
    },
    {
     "name": "stdout",
     "output_type": "stream",
     "text": [
      "Exception 047EA81E-6A86-4073-AD3B-456D8F3BD657 engzee pop from empty list\n"
     ]
    },
    {
     "name": "stderr",
     "output_type": "stream",
     "text": [
      " 18%|████████████████████▊                                                                                                 | 1874/10646 [02:09<10:12, 14.31it/s]/Users/max/Library/Python/3.9/lib/python/site-packages/numpy/core/fromnumeric.py:3464: RuntimeWarning: Mean of empty slice.\n",
      "  return _methods._mean(a, axis=axis, dtype=dtype,\n",
      "/Users/max/Library/Python/3.9/lib/python/site-packages/numpy/core/_methods.py:192: RuntimeWarning: invalid value encountered in scalar divide\n",
      "  ret = ret.dtype.type(ret / rcount)\n",
      "/Users/max/Library/Python/3.9/lib/python/site-packages/numpy/core/fromnumeric.py:3464: RuntimeWarning: Mean of empty slice.\n",
      "  return _methods._mean(a, axis=axis, dtype=dtype,\n",
      "/Users/max/Library/Python/3.9/lib/python/site-packages/numpy/core/_methods.py:192: RuntimeWarning: invalid value encountered in scalar divide\n",
      "  ret = ret.dtype.type(ret / rcount)\n",
      " 18%|████████████████████▊                                                                                                 | 1880/10646 [02:10<10:04, 14.49it/s]"
     ]
    },
    {
     "name": "stdout",
     "output_type": "stream",
     "text": [
      "Exception 047EA81E-6A86-4073-AD3B-456D8F3BD657 engzee pop from empty list\n"
     ]
    },
    {
     "name": "stderr",
     "output_type": "stream",
     "text": [
      " 18%|█████████████████████▏                                                                                                | 1908/10646 [02:12<10:05, 14.43it/s]/Users/max/Library/Python/3.9/lib/python/site-packages/numpy/core/fromnumeric.py:3464: RuntimeWarning: Mean of empty slice.\n",
      "  return _methods._mean(a, axis=axis, dtype=dtype,\n",
      "/Users/max/Library/Python/3.9/lib/python/site-packages/numpy/core/_methods.py:192: RuntimeWarning: invalid value encountered in scalar divide\n",
      "  ret = ret.dtype.type(ret / rcount)\n",
      " 18%|█████████████████████▌                                                                                                | 1940/10646 [02:14<10:03, 14.44it/s]/Users/max/Library/Python/3.9/lib/python/site-packages/numpy/core/fromnumeric.py:3464: RuntimeWarning: Mean of empty slice.\n",
      "  return _methods._mean(a, axis=axis, dtype=dtype,\n",
      "/Users/max/Library/Python/3.9/lib/python/site-packages/numpy/core/_methods.py:192: RuntimeWarning: invalid value encountered in scalar divide\n",
      "  ret = ret.dtype.type(ret / rcount)\n",
      " 19%|█████████████████████▊                                                                                                | 1973/10646 [02:16<08:43, 16.58it/s]"
     ]
    },
    {
     "name": "stdout",
     "output_type": "stream",
     "text": [
      "Failed for index 1970 with error: index 0 is out of bounds for axis 0 with size 0\n"
     ]
    },
    {
     "name": "stderr",
     "output_type": "stream",
     "text": [
      " 19%|██████████████████████▏                                                                                               | 2003/10646 [02:18<09:50, 14.63it/s]/Users/max/Library/Python/3.9/lib/python/site-packages/numpy/core/fromnumeric.py:3464: RuntimeWarning: Mean of empty slice.\n",
      "  return _methods._mean(a, axis=axis, dtype=dtype,\n",
      "/Users/max/Library/Python/3.9/lib/python/site-packages/numpy/core/_methods.py:192: RuntimeWarning: invalid value encountered in scalar divide\n",
      "  ret = ret.dtype.type(ret / rcount)\n",
      " 19%|██████████████████████▎                                                                                               | 2011/10646 [02:19<09:56, 14.49it/s]/Users/max/Library/Python/3.9/lib/python/site-packages/numpy/core/fromnumeric.py:3464: RuntimeWarning: Mean of empty slice.\n",
      "  return _methods._mean(a, axis=axis, dtype=dtype,\n",
      "/Users/max/Library/Python/3.9/lib/python/site-packages/numpy/core/_methods.py:192: RuntimeWarning: invalid value encountered in scalar divide\n",
      "  ret = ret.dtype.type(ret / rcount)\n",
      " 19%|██████████████████████▎                                                                                               | 2015/10646 [02:19<09:53, 14.55it/s]"
     ]
    },
    {
     "name": "stdout",
     "output_type": "stream",
     "text": [
      "Exception 047EA81E-6A86-4073-AD3B-456D8F3BD657 engzee pop from empty list\n"
     ]
    },
    {
     "name": "stderr",
     "output_type": "stream",
     "text": [
      " 19%|██████████████████████▋                                                                                               | 2046/10646 [02:21<08:30, 16.85it/s]"
     ]
    },
    {
     "name": "stdout",
     "output_type": "stream",
     "text": [
      "Failed for index 2043 with error: index 0 is out of bounds for axis 0 with size 0\n"
     ]
    },
    {
     "name": "stderr",
     "output_type": "stream",
     "text": [
      " 19%|██████████████████████▋                                                                                               | 2050/10646 [02:21<09:05, 15.76it/s]/Users/max/Library/Python/3.9/lib/python/site-packages/numpy/core/fromnumeric.py:3464: RuntimeWarning: Mean of empty slice.\n",
      "  return _methods._mean(a, axis=axis, dtype=dtype,\n",
      "/Users/max/Library/Python/3.9/lib/python/site-packages/numpy/core/_methods.py:192: RuntimeWarning: invalid value encountered in scalar divide\n",
      "  ret = ret.dtype.type(ret / rcount)\n",
      "/Users/max/Library/Python/3.9/lib/python/site-packages/numpy/core/fromnumeric.py:3464: RuntimeWarning: Mean of empty slice.\n",
      "  return _methods._mean(a, axis=axis, dtype=dtype,\n",
      "/Users/max/Library/Python/3.9/lib/python/site-packages/numpy/core/_methods.py:192: RuntimeWarning: invalid value encountered in scalar divide\n",
      "  ret = ret.dtype.type(ret / rcount)\n",
      " 19%|██████████████████████▉                                                                                               | 2069/10646 [02:23<08:27, 16.90it/s]"
     ]
    },
    {
     "name": "stdout",
     "output_type": "stream",
     "text": [
      "Failed for index 2067 with error: index 0 is out of bounds for axis 0 with size 0\n",
      "Exception 047EA81E-6A86-4073-AD3B-456D8F3BD657 engzee pop from empty list\n"
     ]
    },
    {
     "name": "stderr",
     "output_type": "stream",
     "text": [
      " 20%|███████████████████████                                                                                               | 2081/10646 [02:23<09:40, 14.76it/s]/Users/max/Library/Python/3.9/lib/python/site-packages/numpy/core/fromnumeric.py:3464: RuntimeWarning: Mean of empty slice.\n",
      "  return _methods._mean(a, axis=axis, dtype=dtype,\n",
      "/Users/max/Library/Python/3.9/lib/python/site-packages/numpy/core/_methods.py:192: RuntimeWarning: invalid value encountered in scalar divide\n",
      "  ret = ret.dtype.type(ret / rcount)\n",
      " 20%|███████████████████████▎                                                                                              | 2099/10646 [02:25<09:53, 14.40it/s]/Users/max/Library/Python/3.9/lib/python/site-packages/numpy/core/fromnumeric.py:3464: RuntimeWarning: Mean of empty slice.\n",
      "  return _methods._mean(a, axis=axis, dtype=dtype,\n",
      "/Users/max/Library/Python/3.9/lib/python/site-packages/numpy/core/_methods.py:192: RuntimeWarning: invalid value encountered in scalar divide\n",
      "  ret = ret.dtype.type(ret / rcount)\n",
      " 20%|███████████████████████▎                                                                                              | 2108/10646 [02:25<08:48, 16.14it/s]"
     ]
    },
    {
     "name": "stdout",
     "output_type": "stream",
     "text": [
      "Failed for index 2104 with error: index 0 is out of bounds for axis 0 with size 0\n",
      "Exception 047EA81E-6A86-4073-AD3B-456D8F3BD657 engzee pop from empty list\n"
     ]
    },
    {
     "name": "stderr",
     "output_type": "stream",
     "text": [
      " 20%|███████████████████████▍                                                                                              | 2116/10646 [02:26<09:33, 14.87it/s]/Users/max/Library/Python/3.9/lib/python/site-packages/numpy/core/fromnumeric.py:3464: RuntimeWarning: Mean of empty slice.\n",
      "  return _methods._mean(a, axis=axis, dtype=dtype,\n",
      "/Users/max/Library/Python/3.9/lib/python/site-packages/numpy/core/_methods.py:192: RuntimeWarning: invalid value encountered in scalar divide\n",
      "  ret = ret.dtype.type(ret / rcount)\n",
      " 20%|███████████████████████▌                                                                                              | 2124/10646 [02:26<09:49, 14.46it/s]/Users/max/Library/Python/3.9/lib/python/site-packages/numpy/core/fromnumeric.py:3464: RuntimeWarning: Mean of empty slice.\n",
      "  return _methods._mean(a, axis=axis, dtype=dtype,\n",
      "/Users/max/Library/Python/3.9/lib/python/site-packages/numpy/core/_methods.py:192: RuntimeWarning: invalid value encountered in scalar divide\n",
      "  ret = ret.dtype.type(ret / rcount)\n",
      " 20%|████████████████████████                                                                                              | 2173/10646 [02:30<08:26, 16.72it/s]"
     ]
    },
    {
     "name": "stdout",
     "output_type": "stream",
     "text": [
      "Failed for index 2171 with error: index 0 is out of bounds for axis 0 with size 0\n"
     ]
    },
    {
     "name": "stderr",
     "output_type": "stream",
     "text": [
      " 21%|████████████████████████▍                                                                                             | 2201/10646 [02:32<09:40, 14.54it/s]"
     ]
    },
    {
     "name": "stdout",
     "output_type": "stream",
     "text": [
      "Exception 047EA81E-6A86-4073-AD3B-456D8F3BD657 engzee pop from empty list\n"
     ]
    },
    {
     "name": "stderr",
     "output_type": "stream",
     "text": [
      " 21%|████████████████████████▍                                                                                             | 2205/10646 [02:32<09:39, 14.56it/s]/Users/max/Library/Python/3.9/lib/python/site-packages/numpy/core/fromnumeric.py:3464: RuntimeWarning: Mean of empty slice.\n",
      "  return _methods._mean(a, axis=axis, dtype=dtype,\n",
      "/Users/max/Library/Python/3.9/lib/python/site-packages/numpy/core/_methods.py:192: RuntimeWarning: invalid value encountered in scalar divide\n",
      "  ret = ret.dtype.type(ret / rcount)\n",
      " 21%|████████████████████████▍                                                                                             | 2207/10646 [02:32<09:41, 14.50it/s]"
     ]
    },
    {
     "name": "stdout",
     "output_type": "stream",
     "text": [
      "Exception 047EA81E-6A86-4073-AD3B-456D8F3BD657 engzee pop from empty list\n"
     ]
    },
    {
     "name": "stderr",
     "output_type": "stream",
     "text": [
      "/Users/max/Library/Python/3.9/lib/python/site-packages/numpy/core/fromnumeric.py:3464: RuntimeWarning: Mean of empty slice.\n",
      "  return _methods._mean(a, axis=axis, dtype=dtype,\n",
      "/Users/max/Library/Python/3.9/lib/python/site-packages/numpy/core/_methods.py:192: RuntimeWarning: invalid value encountered in scalar divide\n",
      "  ret = ret.dtype.type(ret / rcount)\n",
      " 21%|████████████████████████▋                                                                                             | 2222/10646 [02:33<08:23, 16.72it/s]"
     ]
    },
    {
     "name": "stdout",
     "output_type": "stream",
     "text": [
      "Failed for index 2219 with error: index 0 is out of bounds for axis 0 with size 0\n"
     ]
    },
    {
     "name": "stderr",
     "output_type": "stream",
     "text": [
      " 21%|█████████████████████████                                                                                             | 2265/10646 [02:36<08:24, 16.62it/s]"
     ]
    },
    {
     "name": "stdout",
     "output_type": "stream",
     "text": [
      "Failed for index 2263 with error: index 0 is out of bounds for axis 0 with size 0\n"
     ]
    },
    {
     "name": "stderr",
     "output_type": "stream",
     "text": [
      " 22%|█████████████████████████▍                                                                                            | 2299/10646 [02:38<09:39, 14.40it/s]/Users/max/Library/Python/3.9/lib/python/site-packages/numpy/core/fromnumeric.py:3464: RuntimeWarning: Mean of empty slice.\n",
      "  return _methods._mean(a, axis=axis, dtype=dtype,\n",
      "/Users/max/Library/Python/3.9/lib/python/site-packages/numpy/core/_methods.py:192: RuntimeWarning: invalid value encountered in scalar divide\n",
      "  ret = ret.dtype.type(ret / rcount)\n",
      " 22%|█████████████████████████▌                                                                                            | 2301/10646 [02:38<09:40, 14.38it/s]/Users/max/Library/Python/3.9/lib/python/site-packages/numpy/core/fromnumeric.py:3464: RuntimeWarning: Mean of empty slice.\n",
      "  return _methods._mean(a, axis=axis, dtype=dtype,\n",
      "/Users/max/Library/Python/3.9/lib/python/site-packages/numpy/core/_methods.py:192: RuntimeWarning: invalid value encountered in scalar divide\n",
      "  ret = ret.dtype.type(ret / rcount)\n",
      " 22%|█████████████████████████▋                                                                                            | 2315/10646 [02:39<09:36, 14.45it/s]"
     ]
    },
    {
     "name": "stdout",
     "output_type": "stream",
     "text": [
      "Exception 047EA81E-6A86-4073-AD3B-456D8F3BD657 engzee pop from empty list\n"
     ]
    },
    {
     "name": "stderr",
     "output_type": "stream",
     "text": [
      " 22%|█████████████████████████▊                                                                                            | 2333/10646 [02:41<09:42, 14.27it/s]"
     ]
    },
    {
     "name": "stdout",
     "output_type": "stream",
     "text": [
      "Exception 047EA81E-6A86-4073-AD3B-456D8F3BD657 engzee pop from empty list\n"
     ]
    },
    {
     "name": "stderr",
     "output_type": "stream",
     "text": [
      " 22%|██████████████████████████                                                                                            | 2347/10646 [02:42<09:51, 14.04it/s]/Users/max/Library/Python/3.9/lib/python/site-packages/numpy/core/fromnumeric.py:3464: RuntimeWarning: Mean of empty slice.\n",
      "  return _methods._mean(a, axis=axis, dtype=dtype,\n",
      "/Users/max/Library/Python/3.9/lib/python/site-packages/numpy/core/_methods.py:192: RuntimeWarning: invalid value encountered in scalar divide\n",
      "  ret = ret.dtype.type(ret / rcount)\n",
      " 22%|██████████████████████████▌                                                                                           | 2391/10646 [02:45<09:37, 14.28it/s]"
     ]
    },
    {
     "name": "stdout",
     "output_type": "stream",
     "text": [
      "Exception 047EA81E-6A86-4073-AD3B-456D8F3BD657 engzee pop from empty list\n"
     ]
    },
    {
     "name": "stderr",
     "output_type": "stream",
     "text": [
      " 22%|██████████████████████████▌                                                                                           | 2393/10646 [02:45<09:41, 14.19it/s]/Users/max/Library/Python/3.9/lib/python/site-packages/numpy/core/fromnumeric.py:3464: RuntimeWarning: Mean of empty slice.\n",
      "  return _methods._mean(a, axis=axis, dtype=dtype,\n",
      "/Users/max/Library/Python/3.9/lib/python/site-packages/numpy/core/_methods.py:192: RuntimeWarning: invalid value encountered in scalar divide\n",
      "  ret = ret.dtype.type(ret / rcount)\n",
      "/Users/max/Library/Python/3.9/lib/python/site-packages/numpy/core/fromnumeric.py:3464: RuntimeWarning: Mean of empty slice.\n",
      "  return _methods._mean(a, axis=axis, dtype=dtype,\n",
      "/Users/max/Library/Python/3.9/lib/python/site-packages/numpy/core/_methods.py:192: RuntimeWarning: invalid value encountered in scalar divide\n",
      "  ret = ret.dtype.type(ret / rcount)\n",
      " 23%|██████████████████████████▌                                                                                           | 2402/10646 [02:45<08:26, 16.27it/s]"
     ]
    },
    {
     "name": "stdout",
     "output_type": "stream",
     "text": [
      "Failed for index 2400 with error: index 0 is out of bounds for axis 0 with size 0\n"
     ]
    },
    {
     "name": "stderr",
     "output_type": "stream",
     "text": [
      " 23%|██████████████████████████▊                                                                                           | 2424/10646 [02:47<09:36, 14.26it/s]/Users/max/Library/Python/3.9/lib/python/site-packages/numpy/core/fromnumeric.py:3464: RuntimeWarning: Mean of empty slice.\n",
      "  return _methods._mean(a, axis=axis, dtype=dtype,\n",
      "/Users/max/Library/Python/3.9/lib/python/site-packages/numpy/core/_methods.py:192: RuntimeWarning: invalid value encountered in scalar divide\n",
      "  ret = ret.dtype.type(ret / rcount)\n",
      " 23%|███████████████████████████                                                                                           | 2438/10646 [02:48<09:47, 13.97it/s]"
     ]
    },
    {
     "name": "stdout",
     "output_type": "stream",
     "text": [
      "Exception 047EA81E-6A86-4073-AD3B-456D8F3BD657 engzee pop from empty list\n"
     ]
    },
    {
     "name": "stderr",
     "output_type": "stream",
     "text": [
      " 23%|███████████████████████████                                                                                           | 2446/10646 [02:49<09:41, 14.10it/s]/Users/max/Library/Python/3.9/lib/python/site-packages/numpy/core/fromnumeric.py:3464: RuntimeWarning: Mean of empty slice.\n",
      "  return _methods._mean(a, axis=axis, dtype=dtype,\n",
      "/Users/max/Library/Python/3.9/lib/python/site-packages/numpy/core/_methods.py:192: RuntimeWarning: invalid value encountered in scalar divide\n",
      "  ret = ret.dtype.type(ret / rcount)\n",
      " 23%|███████████████████████████▌                                                                                          | 2485/10646 [02:51<08:59, 15.12it/s]"
     ]
    },
    {
     "name": "stdout",
     "output_type": "stream",
     "text": [
      "Failed for index 2482 with error: index 0 is out of bounds for axis 0 with size 0\n"
     ]
    },
    {
     "name": "stderr",
     "output_type": "stream",
     "text": [
      " 23%|███████████████████████████▌                                                                                          | 2489/10646 [02:52<09:15, 14.68it/s]"
     ]
    },
    {
     "name": "stdout",
     "output_type": "stream",
     "text": [
      "Exception 047EA81E-6A86-4073-AD3B-456D8F3BD657 engzee pop from empty list\n"
     ]
    },
    {
     "name": "stderr",
     "output_type": "stream",
     "text": [
      " 24%|███████████████████████████▊                                                                                          | 2511/10646 [02:53<09:26, 14.35it/s]/Users/max/Library/Python/3.9/lib/python/site-packages/numpy/core/fromnumeric.py:3464: RuntimeWarning: Mean of empty slice.\n",
      "  return _methods._mean(a, axis=axis, dtype=dtype,\n",
      "/Users/max/Library/Python/3.9/lib/python/site-packages/numpy/core/_methods.py:192: RuntimeWarning: invalid value encountered in scalar divide\n",
      "  ret = ret.dtype.type(ret / rcount)\n",
      " 24%|████████████████████████████▎                                                                                         | 2555/10646 [02:57<10:05, 13.36it/s]"
     ]
    },
    {
     "name": "stdout",
     "output_type": "stream",
     "text": [
      "Exception 047EA81E-6A86-4073-AD3B-456D8F3BD657 engzee pop from empty list\n"
     ]
    },
    {
     "name": "stderr",
     "output_type": "stream",
     "text": [
      " 24%|████████████████████████████▍                                                                                         | 2567/10646 [02:57<09:27, 14.23it/s]"
     ]
    },
    {
     "name": "stdout",
     "output_type": "stream",
     "text": [
      "Exception 047EA81E-6A86-4073-AD3B-456D8F3BD657 engzee pop from empty list\n"
     ]
    },
    {
     "name": "stderr",
     "output_type": "stream",
     "text": [
      " 24%|████████████████████████████▍                                                                                         | 2569/10646 [02:57<09:25, 14.29it/s]/Users/max/Library/Python/3.9/lib/python/site-packages/numpy/core/fromnumeric.py:3464: RuntimeWarning: Mean of empty slice.\n",
      "  return _methods._mean(a, axis=axis, dtype=dtype,\n",
      "/Users/max/Library/Python/3.9/lib/python/site-packages/numpy/core/_methods.py:192: RuntimeWarning: invalid value encountered in scalar divide\n",
      "  ret = ret.dtype.type(ret / rcount)\n",
      " 24%|████████████████████████████▍                                                                                         | 2571/10646 [02:58<09:29, 14.18it/s]"
     ]
    },
    {
     "name": "stdout",
     "output_type": "stream",
     "text": [
      "Exception 047EA81E-6A86-4073-AD3B-456D8F3BD657 engzee pop from empty list\n"
     ]
    },
    {
     "name": "stderr",
     "output_type": "stream",
     "text": [
      " 24%|████████████████████████████▋                                                                                         | 2593/10646 [02:59<09:14, 14.54it/s]/Users/max/Library/Python/3.9/lib/python/site-packages/numpy/core/fromnumeric.py:3464: RuntimeWarning: Mean of empty slice.\n",
      "  return _methods._mean(a, axis=axis, dtype=dtype,\n",
      "/Users/max/Library/Python/3.9/lib/python/site-packages/numpy/core/_methods.py:192: RuntimeWarning: invalid value encountered in scalar divide\n",
      "  ret = ret.dtype.type(ret / rcount)\n",
      " 24%|████████████████████████████▉                                                                                         | 2607/10646 [03:00<09:15, 14.47it/s]/Users/max/Library/Python/3.9/lib/python/site-packages/numpy/core/fromnumeric.py:3464: RuntimeWarning: Mean of empty slice.\n",
      "  return _methods._mean(a, axis=axis, dtype=dtype,\n",
      "/Users/max/Library/Python/3.9/lib/python/site-packages/numpy/core/_methods.py:192: RuntimeWarning: invalid value encountered in scalar divide\n",
      "  ret = ret.dtype.type(ret / rcount)\n",
      " 25%|█████████████████████████████▊                                                                                        | 2691/10646 [03:06<09:13, 14.38it/s]/Users/max/Library/Python/3.9/lib/python/site-packages/numpy/core/fromnumeric.py:3464: RuntimeWarning: Mean of empty slice.\n",
      "  return _methods._mean(a, axis=axis, dtype=dtype,\n",
      "/Users/max/Library/Python/3.9/lib/python/site-packages/numpy/core/_methods.py:192: RuntimeWarning: invalid value encountered in scalar divide\n",
      "  ret = ret.dtype.type(ret / rcount)\n",
      " 26%|██████████████████████████████▏                                                                                       | 2721/10646 [03:08<09:13, 14.31it/s]"
     ]
    },
    {
     "name": "stdout",
     "output_type": "stream",
     "text": [
      "Exception 047EA81E-6A86-4073-AD3B-456D8F3BD657 engzee pop from empty list\n"
     ]
    },
    {
     "name": "stderr",
     "output_type": "stream",
     "text": [
      " 26%|██████████████████████████████▉                                                                                       | 2787/10646 [03:13<09:03, 14.46it/s]"
     ]
    },
    {
     "name": "stdout",
     "output_type": "stream",
     "text": [
      "Exception 047EA81E-6A86-4073-AD3B-456D8F3BD657 engzee pop from empty list\n"
     ]
    },
    {
     "name": "stderr",
     "output_type": "stream",
     "text": [
      " 26%|███████████████████████████████                                                                                       | 2805/10646 [03:14<09:00, 14.50it/s]/Users/max/Library/Python/3.9/lib/python/site-packages/numpy/core/fromnumeric.py:3464: RuntimeWarning: Mean of empty slice.\n",
      "  return _methods._mean(a, axis=axis, dtype=dtype,\n",
      "/Users/max/Library/Python/3.9/lib/python/site-packages/numpy/core/_methods.py:192: RuntimeWarning: invalid value encountered in scalar divide\n",
      "  ret = ret.dtype.type(ret / rcount)\n",
      " 27%|███████████████████████████████▋                                                                                      | 2859/10646 [03:18<09:01, 14.37it/s]/Users/max/Library/Python/3.9/lib/python/site-packages/numpy/core/fromnumeric.py:3464: RuntimeWarning: Mean of empty slice.\n",
      "  return _methods._mean(a, axis=axis, dtype=dtype,\n",
      "/Users/max/Library/Python/3.9/lib/python/site-packages/numpy/core/_methods.py:192: RuntimeWarning: invalid value encountered in scalar divide\n",
      "  ret = ret.dtype.type(ret / rcount)\n",
      " 27%|███████████████████████████████▋                                                                                      | 2863/10646 [03:18<09:02, 14.34it/s]/Users/max/Library/Python/3.9/lib/python/site-packages/numpy/core/fromnumeric.py:3464: RuntimeWarning: Mean of empty slice.\n",
      "  return _methods._mean(a, axis=axis, dtype=dtype,\n",
      "/Users/max/Library/Python/3.9/lib/python/site-packages/numpy/core/_methods.py:192: RuntimeWarning: invalid value encountered in scalar divide\n",
      "  ret = ret.dtype.type(ret / rcount)\n",
      " 27%|███████████████████████████████▊                                                                                      | 2867/10646 [03:18<09:06, 14.23it/s]/Users/max/Library/Python/3.9/lib/python/site-packages/numpy/core/fromnumeric.py:3464: RuntimeWarning: Mean of empty slice.\n",
      "  return _methods._mean(a, axis=axis, dtype=dtype,\n",
      "/Users/max/Library/Python/3.9/lib/python/site-packages/numpy/core/_methods.py:192: RuntimeWarning: invalid value encountered in scalar divide\n",
      "  ret = ret.dtype.type(ret / rcount)\n",
      " 27%|███████████████████████████████▉                                                                                      | 2883/10646 [03:19<08:58, 14.43it/s]/Users/max/Library/Python/3.9/lib/python/site-packages/numpy/core/fromnumeric.py:3464: RuntimeWarning: Mean of empty slice.\n",
      "  return _methods._mean(a, axis=axis, dtype=dtype,\n",
      "/Users/max/Library/Python/3.9/lib/python/site-packages/numpy/core/_methods.py:192: RuntimeWarning: invalid value encountered in scalar divide\n",
      "  ret = ret.dtype.type(ret / rcount)\n",
      " 27%|████████████████████████████████▏                                                                                     | 2899/10646 [03:20<08:53, 14.52it/s]"
     ]
    },
    {
     "name": "stdout",
     "output_type": "stream",
     "text": [
      "Exception 047EA81E-6A86-4073-AD3B-456D8F3BD657 engzee pop from empty list\n"
     ]
    },
    {
     "name": "stderr",
     "output_type": "stream",
     "text": [
      " 27%|████████████████████████████████▎                                                                                     | 2917/10646 [03:22<08:54, 14.47it/s]"
     ]
    },
    {
     "name": "stdout",
     "output_type": "stream",
     "text": [
      "Exception 047EA81E-6A86-4073-AD3B-456D8F3BD657 engzee pop from empty list\n"
     ]
    },
    {
     "name": "stderr",
     "output_type": "stream",
     "text": [
      " 28%|████████████████████████████████▉                                                                                     | 2971/10646 [03:25<08:53, 14.38it/s]"
     ]
    },
    {
     "name": "stdout",
     "output_type": "stream",
     "text": [
      "Exception 047EA81E-6A86-4073-AD3B-456D8F3BD657 engzee pop from empty list\n"
     ]
    },
    {
     "name": "stderr",
     "output_type": "stream",
     "text": [
      " 28%|█████████████████████████████████                                                                                     | 2985/10646 [03:26<08:52, 14.38it/s]/Users/max/Library/Python/3.9/lib/python/site-packages/numpy/core/fromnumeric.py:3464: RuntimeWarning: Mean of empty slice.\n",
      "  return _methods._mean(a, axis=axis, dtype=dtype,\n",
      "/Users/max/Library/Python/3.9/lib/python/site-packages/numpy/core/_methods.py:192: RuntimeWarning: invalid value encountered in scalar divide\n",
      "  ret = ret.dtype.type(ret / rcount)\n",
      " 28%|█████████████████████████████████▏                                                                                    | 2997/10646 [03:27<08:53, 14.33it/s]/Users/max/Library/Python/3.9/lib/python/site-packages/numpy/core/fromnumeric.py:3464: RuntimeWarning: Mean of empty slice.\n",
      "  return _methods._mean(a, axis=axis, dtype=dtype,\n",
      "/Users/max/Library/Python/3.9/lib/python/site-packages/numpy/core/_methods.py:192: RuntimeWarning: invalid value encountered in scalar divide\n",
      "  ret = ret.dtype.type(ret / rcount)\n",
      " 28%|█████████████████████████████████▎                                                                                    | 3004/10646 [03:28<07:42, 16.52it/s]"
     ]
    },
    {
     "name": "stdout",
     "output_type": "stream",
     "text": [
      "Failed for index 3002 with error: index 0 is out of bounds for axis 0 with size 0\n"
     ]
    },
    {
     "name": "stderr",
     "output_type": "stream",
     "text": [
      " 29%|█████████████████████████████████▋                                                                                    | 3036/10646 [03:30<08:47, 14.43it/s]/Users/max/Library/Python/3.9/lib/python/site-packages/numpy/core/fromnumeric.py:3464: RuntimeWarning: Mean of empty slice.\n",
      "  return _methods._mean(a, axis=axis, dtype=dtype,\n",
      "/Users/max/Library/Python/3.9/lib/python/site-packages/numpy/core/_methods.py:192: RuntimeWarning: invalid value encountered in scalar divide\n",
      "  ret = ret.dtype.type(ret / rcount)\n",
      " 29%|█████████████████████████████████▉                                                                                    | 3060/10646 [03:32<08:51, 14.28it/s]/Users/max/Library/Python/3.9/lib/python/site-packages/numpy/core/fromnumeric.py:3464: RuntimeWarning: Mean of empty slice.\n",
      "  return _methods._mean(a, axis=axis, dtype=dtype,\n",
      "/Users/max/Library/Python/3.9/lib/python/site-packages/numpy/core/_methods.py:192: RuntimeWarning: invalid value encountered in scalar divide\n",
      "  ret = ret.dtype.type(ret / rcount)\n",
      " 29%|██████████████████████████████████                                                                                    | 3072/10646 [03:32<08:48, 14.33it/s]/Users/max/Library/Python/3.9/lib/python/site-packages/numpy/core/fromnumeric.py:3464: RuntimeWarning: Mean of empty slice.\n",
      "  return _methods._mean(a, axis=axis, dtype=dtype,\n",
      "/Users/max/Library/Python/3.9/lib/python/site-packages/numpy/core/_methods.py:192: RuntimeWarning: invalid value encountered in scalar divide\n",
      "  ret = ret.dtype.type(ret / rcount)\n",
      " 29%|██████████████████████████████████▍                                                                                   | 3102/10646 [03:35<08:41, 14.47it/s]"
     ]
    },
    {
     "name": "stdout",
     "output_type": "stream",
     "text": [
      "Exception 047EA81E-6A86-4073-AD3B-456D8F3BD657 engzee pop from empty list\n"
     ]
    },
    {
     "name": "stderr",
     "output_type": "stream",
     "text": [
      " 29%|██████████████████████████████████▋                                                                                   | 3124/10646 [03:36<08:38, 14.51it/s]"
     ]
    },
    {
     "name": "stdout",
     "output_type": "stream",
     "text": [
      "Exception 047EA81E-6A86-4073-AD3B-456D8F3BD657 engzee pop from empty list\n"
     ]
    },
    {
     "name": "stderr",
     "output_type": "stream",
     "text": [
      " 29%|██████████████████████████████████▊                                                                                   | 3140/10646 [03:37<08:42, 14.37it/s]"
     ]
    },
    {
     "name": "stdout",
     "output_type": "stream",
     "text": [
      "Exception 047EA81E-6A86-4073-AD3B-456D8F3BD657 engzee pop from empty list\n"
     ]
    },
    {
     "name": "stderr",
     "output_type": "stream",
     "text": [
      " 30%|██████████████████████████████████▉                                                                                   | 3156/10646 [03:38<08:39, 14.42it/s]/Users/max/Library/Python/3.9/lib/python/site-packages/numpy/core/fromnumeric.py:3464: RuntimeWarning: Mean of empty slice.\n",
      "  return _methods._mean(a, axis=axis, dtype=dtype,\n",
      "/Users/max/Library/Python/3.9/lib/python/site-packages/numpy/core/_methods.py:192: RuntimeWarning: invalid value encountered in scalar divide\n",
      "  ret = ret.dtype.type(ret / rcount)\n",
      " 30%|███████████████████████████████████▏                                                                                  | 3176/10646 [03:40<08:40, 14.34it/s]/Users/max/Library/Python/3.9/lib/python/site-packages/numpy/core/fromnumeric.py:3464: RuntimeWarning: Mean of empty slice.\n",
      "  return _methods._mean(a, axis=axis, dtype=dtype,\n",
      "/Users/max/Library/Python/3.9/lib/python/site-packages/numpy/core/_methods.py:192: RuntimeWarning: invalid value encountered in scalar divide\n",
      "  ret = ret.dtype.type(ret / rcount)\n",
      " 30%|███████████████████████████████████▌                                                                                  | 3214/10646 [03:42<08:46, 14.11it/s]/Users/max/Library/Python/3.9/lib/python/site-packages/numpy/core/fromnumeric.py:3464: RuntimeWarning: Mean of empty slice.\n",
      "  return _methods._mean(a, axis=axis, dtype=dtype,\n",
      "/Users/max/Library/Python/3.9/lib/python/site-packages/numpy/core/_methods.py:192: RuntimeWarning: invalid value encountered in scalar divide\n",
      "  ret = ret.dtype.type(ret / rcount)\n",
      " 31%|████████████████████████████████████▏                                                                                 | 3264/10646 [03:46<09:21, 13.15it/s]"
     ]
    },
    {
     "name": "stdout",
     "output_type": "stream",
     "text": [
      "Exception 047EA81E-6A86-4073-AD3B-456D8F3BD657 engzee pop from empty list\n"
     ]
    },
    {
     "name": "stderr",
     "output_type": "stream",
     "text": [
      " 31%|████████████████████████████████████▌                                                                                 | 3294/10646 [03:48<08:35, 14.26it/s]/Users/max/Library/Python/3.9/lib/python/site-packages/numpy/core/fromnumeric.py:3464: RuntimeWarning: Mean of empty slice.\n",
      "  return _methods._mean(a, axis=axis, dtype=dtype,\n",
      "/Users/max/Library/Python/3.9/lib/python/site-packages/numpy/core/_methods.py:192: RuntimeWarning: invalid value encountered in scalar divide\n",
      "  ret = ret.dtype.type(ret / rcount)\n",
      " 31%|████████████████████████████████████▊                                                                                 | 3321/10646 [03:50<07:24, 16.48it/s]"
     ]
    },
    {
     "name": "stdout",
     "output_type": "stream",
     "text": [
      "Failed for index 3318 with error: index 0 is out of bounds for axis 0 with size 0\n"
     ]
    },
    {
     "name": "stderr",
     "output_type": "stream",
     "text": [
      " 32%|█████████████████████████████████████▎                                                                                | 3361/10646 [03:53<08:22, 14.51it/s]/Users/max/Library/Python/3.9/lib/python/site-packages/numpy/core/fromnumeric.py:3464: RuntimeWarning: Mean of empty slice.\n",
      "  return _methods._mean(a, axis=axis, dtype=dtype,\n",
      "/Users/max/Library/Python/3.9/lib/python/site-packages/numpy/core/_methods.py:192: RuntimeWarning: invalid value encountered in scalar divide\n",
      "  ret = ret.dtype.type(ret / rcount)\n",
      " 32%|█████████████████████████████████████▍                                                                                | 3373/10646 [03:53<08:23, 14.45it/s]/Users/max/Library/Python/3.9/lib/python/site-packages/numpy/core/fromnumeric.py:3464: RuntimeWarning: Mean of empty slice.\n",
      "  return _methods._mean(a, axis=axis, dtype=dtype,\n",
      "/Users/max/Library/Python/3.9/lib/python/site-packages/numpy/core/_methods.py:192: RuntimeWarning: invalid value encountered in scalar divide\n",
      "  ret = ret.dtype.type(ret / rcount)\n",
      " 32%|█████████████████████████████████████▍                                                                                | 3381/10646 [03:54<08:26, 14.34it/s]/Users/max/Library/Python/3.9/lib/python/site-packages/numpy/core/fromnumeric.py:3464: RuntimeWarning: Mean of empty slice.\n",
      "  return _methods._mean(a, axis=axis, dtype=dtype,\n",
      "/Users/max/Library/Python/3.9/lib/python/site-packages/numpy/core/_methods.py:192: RuntimeWarning: invalid value encountered in scalar divide\n",
      "  ret = ret.dtype.type(ret / rcount)\n",
      " 32%|██████████████████████████████████████▏                                                                               | 3441/10646 [03:58<08:23, 14.31it/s]"
     ]
    },
    {
     "name": "stdout",
     "output_type": "stream",
     "text": [
      "Exception 047EA81E-6A86-4073-AD3B-456D8F3BD657 engzee pop from empty list\n"
     ]
    },
    {
     "name": "stderr",
     "output_type": "stream",
     "text": [
      " 32%|██████████████████████████████████████▏                                                                               | 3447/10646 [03:59<08:21, 14.36it/s]/Users/max/Library/Python/3.9/lib/python/site-packages/numpy/core/fromnumeric.py:3464: RuntimeWarning: Mean of empty slice.\n",
      "  return _methods._mean(a, axis=axis, dtype=dtype,\n",
      "/Users/max/Library/Python/3.9/lib/python/site-packages/numpy/core/_methods.py:192: RuntimeWarning: invalid value encountered in scalar divide\n",
      "  ret = ret.dtype.type(ret / rcount)\n",
      " 32%|██████████████████████████████████████▏                                                                               | 3449/10646 [03:59<08:18, 14.43it/s]/Users/max/Library/Python/3.9/lib/python/site-packages/numpy/core/fromnumeric.py:3464: RuntimeWarning: Mean of empty slice.\n",
      "  return _methods._mean(a, axis=axis, dtype=dtype,\n",
      "/Users/max/Library/Python/3.9/lib/python/site-packages/numpy/core/_methods.py:192: RuntimeWarning: invalid value encountered in scalar divide\n",
      "  ret = ret.dtype.type(ret / rcount)\n",
      " 32%|██████████████████████████████████████▎                                                                               | 3458/10646 [03:59<07:14, 16.55it/s]"
     ]
    },
    {
     "name": "stdout",
     "output_type": "stream",
     "text": [
      "Failed for index 3456 with error: index 0 is out of bounds for axis 0 with size 0\n"
     ]
    },
    {
     "name": "stderr",
     "output_type": "stream",
     "text": [
      " 33%|██████████████████████████████████████▍                                                                               | 3464/10646 [04:00<07:58, 15.01it/s]/Users/max/Library/Python/3.9/lib/python/site-packages/numpy/core/fromnumeric.py:3464: RuntimeWarning: Mean of empty slice.\n",
      "  return _methods._mean(a, axis=axis, dtype=dtype,\n",
      "/Users/max/Library/Python/3.9/lib/python/site-packages/numpy/core/_methods.py:192: RuntimeWarning: invalid value encountered in scalar divide\n",
      "  ret = ret.dtype.type(ret / rcount)\n",
      " 33%|██████████████████████████████████████▌                                                                               | 3476/10646 [04:01<08:11, 14.58it/s]/Users/max/Library/Python/3.9/lib/python/site-packages/numpy/core/fromnumeric.py:3464: RuntimeWarning: Mean of empty slice.\n",
      "  return _methods._mean(a, axis=axis, dtype=dtype,\n",
      "/Users/max/Library/Python/3.9/lib/python/site-packages/numpy/core/_methods.py:192: RuntimeWarning: invalid value encountered in scalar divide\n",
      "  ret = ret.dtype.type(ret / rcount)\n",
      " 33%|██████████████████████████████████████▋                                                                               | 3492/10646 [04:02<08:12, 14.54it/s]/Users/max/Library/Python/3.9/lib/python/site-packages/numpy/core/fromnumeric.py:3464: RuntimeWarning: Mean of empty slice.\n",
      "  return _methods._mean(a, axis=axis, dtype=dtype,\n",
      "/Users/max/Library/Python/3.9/lib/python/site-packages/numpy/core/_methods.py:192: RuntimeWarning: invalid value encountered in scalar divide\n",
      "  ret = ret.dtype.type(ret / rcount)\n",
      " 33%|███████████████████████████████████████                                                                               | 3522/10646 [04:04<08:33, 13.86it/s]"
     ]
    },
    {
     "name": "stdout",
     "output_type": "stream",
     "text": [
      "Exception 047EA81E-6A86-4073-AD3B-456D8F3BD657 engzee pop from empty list\n"
     ]
    },
    {
     "name": "stderr",
     "output_type": "stream",
     "text": [
      " 33%|███████████████████████████████████████                                                                               | 3526/10646 [04:04<08:26, 14.06it/s]/Users/max/Library/Python/3.9/lib/python/site-packages/numpy/core/fromnumeric.py:3464: RuntimeWarning: Mean of empty slice.\n",
      "  return _methods._mean(a, axis=axis, dtype=dtype,\n",
      "/Users/max/Library/Python/3.9/lib/python/site-packages/numpy/core/_methods.py:192: RuntimeWarning: invalid value encountered in scalar divide\n",
      "  ret = ret.dtype.type(ret / rcount)\n",
      " 33%|███████████████████████████████████████▍                                                                              | 3560/10646 [04:06<08:14, 14.34it/s]"
     ]
    },
    {
     "name": "stdout",
     "output_type": "stream",
     "text": [
      "Exception 047EA81E-6A86-4073-AD3B-456D8F3BD657 engzee pop from empty list\n"
     ]
    },
    {
     "name": "stderr",
     "output_type": "stream",
     "text": [
      "\r",
      " 33%|███████████████████████████████████████▍                                                                              | 3562/10646 [04:07<08:15, 14.30it/s]"
     ]
    },
    {
     "name": "stdout",
     "output_type": "stream",
     "text": [
      "Exception 047EA81E-6A86-4073-AD3B-456D8F3BD657 engzee pop from empty list\n"
     ]
    },
    {
     "name": "stderr",
     "output_type": "stream",
     "text": [
      " 34%|███████████████████████████████████████▌                                                                              | 3572/10646 [04:07<08:08, 14.47it/s]"
     ]
    },
    {
     "name": "stdout",
     "output_type": "stream",
     "text": [
      "Exception 047EA81E-6A86-4073-AD3B-456D8F3BD657 engzee pop from empty list\n"
     ]
    },
    {
     "name": "stderr",
     "output_type": "stream",
     "text": [
      " 34%|████████████████████████████████████████▍                                                                             | 3652/10646 [04:13<08:02, 14.50it/s]"
     ]
    },
    {
     "name": "stdout",
     "output_type": "stream",
     "text": [
      "Exception 047EA81E-6A86-4073-AD3B-456D8F3BD657 engzee pop from empty list\n"
     ]
    },
    {
     "name": "stderr",
     "output_type": "stream",
     "text": [
      " 35%|████████████████████████████████████████▉                                                                             | 3692/10646 [04:16<07:59, 14.51it/s]/Users/max/Library/Python/3.9/lib/python/site-packages/numpy/core/fromnumeric.py:3464: RuntimeWarning: Mean of empty slice.\n",
      "  return _methods._mean(a, axis=axis, dtype=dtype,\n",
      "/Users/max/Library/Python/3.9/lib/python/site-packages/numpy/core/_methods.py:192: RuntimeWarning: invalid value encountered in scalar divide\n",
      "  ret = ret.dtype.type(ret / rcount)\n",
      " 35%|████████████████████████████████████████▉                                                                             | 3694/10646 [04:16<08:01, 14.44it/s]/Users/max/Library/Python/3.9/lib/python/site-packages/numpy/core/fromnumeric.py:3464: RuntimeWarning: Mean of empty slice.\n",
      "  return _methods._mean(a, axis=axis, dtype=dtype,\n",
      "/Users/max/Library/Python/3.9/lib/python/site-packages/numpy/core/_methods.py:192: RuntimeWarning: invalid value encountered in scalar divide\n",
      "  ret = ret.dtype.type(ret / rcount)\n",
      " 35%|█████████████████████████████████████████                                                                             | 3700/10646 [04:16<07:57, 14.55it/s]/Users/max/Library/Python/3.9/lib/python/site-packages/numpy/core/fromnumeric.py:3464: RuntimeWarning: Mean of empty slice.\n",
      "  return _methods._mean(a, axis=axis, dtype=dtype,\n",
      "/Users/max/Library/Python/3.9/lib/python/site-packages/numpy/core/_methods.py:192: RuntimeWarning: invalid value encountered in scalar divide\n",
      "  ret = ret.dtype.type(ret / rcount)\n",
      " 35%|█████████████████████████████████████████                                                                             | 3708/10646 [04:17<08:00, 14.42it/s]/Users/max/Library/Python/3.9/lib/python/site-packages/numpy/core/fromnumeric.py:3464: RuntimeWarning: Mean of empty slice.\n",
      "  return _methods._mean(a, axis=axis, dtype=dtype,\n",
      "/Users/max/Library/Python/3.9/lib/python/site-packages/numpy/core/_methods.py:192: RuntimeWarning: invalid value encountered in scalar divide\n",
      "  ret = ret.dtype.type(ret / rcount)\n",
      " 35%|█████████████████████████████████████████                                                                             | 3710/10646 [04:17<08:02, 14.38it/s]"
     ]
    },
    {
     "name": "stdout",
     "output_type": "stream",
     "text": [
      "Exception 047EA81E-6A86-4073-AD3B-456D8F3BD657 engzee pop from empty list\n"
     ]
    },
    {
     "name": "stderr",
     "output_type": "stream",
     "text": [
      " 35%|█████████████████████████████████████████▍                                                                            | 3738/10646 [04:19<07:57, 14.45it/s]/Users/max/Library/Python/3.9/lib/python/site-packages/numpy/core/fromnumeric.py:3464: RuntimeWarning: Mean of empty slice.\n",
      "  return _methods._mean(a, axis=axis, dtype=dtype,\n",
      "/Users/max/Library/Python/3.9/lib/python/site-packages/numpy/core/_methods.py:192: RuntimeWarning: invalid value encountered in scalar divide\n",
      "  ret = ret.dtype.type(ret / rcount)\n",
      " 35%|█████████████████████████████████████████▋                                                                            | 3762/10646 [04:20<07:53, 14.53it/s]/Users/max/Library/Python/3.9/lib/python/site-packages/numpy/core/fromnumeric.py:3464: RuntimeWarning: Mean of empty slice.\n",
      "  return _methods._mean(a, axis=axis, dtype=dtype,\n",
      "/Users/max/Library/Python/3.9/lib/python/site-packages/numpy/core/_methods.py:192: RuntimeWarning: invalid value encountered in scalar divide\n",
      "  ret = ret.dtype.type(ret / rcount)\n",
      " 35%|█████████████████████████████████████████▊                                                                            | 3776/10646 [04:21<08:00, 14.29it/s]/Users/max/Library/Python/3.9/lib/python/site-packages/numpy/core/fromnumeric.py:3464: RuntimeWarning: Mean of empty slice.\n",
      "  return _methods._mean(a, axis=axis, dtype=dtype,\n",
      "/Users/max/Library/Python/3.9/lib/python/site-packages/numpy/core/_methods.py:192: RuntimeWarning: invalid value encountered in scalar divide\n",
      "  ret = ret.dtype.type(ret / rcount)\n",
      " 36%|██████████████████████████████████████████▎                                                                           | 3812/10646 [04:24<07:54, 14.41it/s]/Users/max/Library/Python/3.9/lib/python/site-packages/numpy/core/fromnumeric.py:3464: RuntimeWarning: Mean of empty slice.\n",
      "  return _methods._mean(a, axis=axis, dtype=dtype,\n",
      "/Users/max/Library/Python/3.9/lib/python/site-packages/numpy/core/_methods.py:192: RuntimeWarning: invalid value encountered in scalar divide\n",
      "  ret = ret.dtype.type(ret / rcount)\n",
      " 36%|██████████████████████████████████████████▎                                                                           | 3814/10646 [04:24<07:53, 14.42it/s]"
     ]
    },
    {
     "name": "stdout",
     "output_type": "stream",
     "text": [
      "Exception 047EA81E-6A86-4073-AD3B-456D8F3BD657 engzee pop from empty list\n"
     ]
    },
    {
     "name": "stderr",
     "output_type": "stream",
     "text": [
      " 36%|██████████████████████████████████████████▌                                                                           | 3836/10646 [04:26<07:48, 14.54it/s]/Users/max/Library/Python/3.9/lib/python/site-packages/numpy/core/fromnumeric.py:3464: RuntimeWarning: Mean of empty slice.\n",
      "  return _methods._mean(a, axis=axis, dtype=dtype,\n",
      "/Users/max/Library/Python/3.9/lib/python/site-packages/numpy/core/_methods.py:192: RuntimeWarning: invalid value encountered in scalar divide\n",
      "  ret = ret.dtype.type(ret / rcount)\n",
      " 36%|██████████████████████████████████████████▉                                                                           | 3872/10646 [04:28<07:43, 14.62it/s]/Users/max/Library/Python/3.9/lib/python/site-packages/numpy/core/fromnumeric.py:3464: RuntimeWarning: Mean of empty slice.\n",
      "  return _methods._mean(a, axis=axis, dtype=dtype,\n",
      "/Users/max/Library/Python/3.9/lib/python/site-packages/numpy/core/_methods.py:192: RuntimeWarning: invalid value encountered in scalar divide\n",
      "  ret = ret.dtype.type(ret / rcount)\n",
      " 36%|██████████████████████████████████████████▉                                                                           | 3874/10646 [04:28<07:43, 14.61it/s]/Users/max/Library/Python/3.9/lib/python/site-packages/numpy/core/fromnumeric.py:3464: RuntimeWarning: Mean of empty slice.\n",
      "  return _methods._mean(a, axis=axis, dtype=dtype,\n",
      "/Users/max/Library/Python/3.9/lib/python/site-packages/numpy/core/_methods.py:192: RuntimeWarning: invalid value encountered in scalar divide\n",
      "  ret = ret.dtype.type(ret / rcount)\n",
      " 37%|███████████████████████████████████████████▍                                                                          | 3924/10646 [04:32<07:48, 14.35it/s]"
     ]
    },
    {
     "name": "stdout",
     "output_type": "stream",
     "text": [
      "Exception 047EA81E-6A86-4073-AD3B-456D8F3BD657 engzee pop from empty list\n"
     ]
    },
    {
     "name": "stderr",
     "output_type": "stream",
     "text": [
      " 37%|███████████████████████████████████████████▌                                                                          | 3928/10646 [04:32<07:47, 14.38it/s]/Users/max/Library/Python/3.9/lib/python/site-packages/numpy/core/fromnumeric.py:3464: RuntimeWarning: Mean of empty slice.\n",
      "  return _methods._mean(a, axis=axis, dtype=dtype,\n",
      "/Users/max/Library/Python/3.9/lib/python/site-packages/numpy/core/_methods.py:192: RuntimeWarning: invalid value encountered in scalar divide\n",
      "  ret = ret.dtype.type(ret / rcount)\n",
      " 37%|███████████████████████████████████████████▌                                                                          | 3931/10646 [04:32<06:45, 16.57it/s]"
     ]
    },
    {
     "name": "stdout",
     "output_type": "stream",
     "text": [
      "Failed for index 3929 with error: index 0 is out of bounds for axis 0 with size 0\n"
     ]
    },
    {
     "name": "stderr",
     "output_type": "stream",
     "text": [
      " 37%|███████████████████████████████████████████▊                                                                          | 3949/10646 [04:33<07:41, 14.52it/s]/Users/max/Library/Python/3.9/lib/python/site-packages/numpy/core/fromnumeric.py:3464: RuntimeWarning: Mean of empty slice.\n",
      "  return _methods._mean(a, axis=axis, dtype=dtype,\n",
      "/Users/max/Library/Python/3.9/lib/python/site-packages/numpy/core/_methods.py:192: RuntimeWarning: invalid value encountered in scalar divide\n",
      "  ret = ret.dtype.type(ret / rcount)\n",
      " 37%|████████████████████████████████████████████▏                                                                         | 3991/10646 [04:36<07:38, 14.50it/s]"
     ]
    },
    {
     "name": "stdout",
     "output_type": "stream",
     "text": [
      "Exception 047EA81E-6A86-4073-AD3B-456D8F3BD657 engzee pop from empty list\n"
     ]
    },
    {
     "name": "stderr",
     "output_type": "stream",
     "text": [
      " 38%|████████████████████████████████████████████▌                                                                         | 4017/10646 [04:38<07:35, 14.54it/s]"
     ]
    },
    {
     "name": "stdout",
     "output_type": "stream",
     "text": [
      "Exception 047EA81E-6A86-4073-AD3B-456D8F3BD657 engzee pop from empty list\n"
     ]
    },
    {
     "name": "stderr",
     "output_type": "stream",
     "text": [
      " 38%|████████████████████████████████████████████▉                                                                         | 4057/10646 [04:41<07:32, 14.55it/s]/Users/max/Library/Python/3.9/lib/python/site-packages/numpy/core/fromnumeric.py:3464: RuntimeWarning: Mean of empty slice.\n",
      "  return _methods._mean(a, axis=axis, dtype=dtype,\n",
      "/Users/max/Library/Python/3.9/lib/python/site-packages/numpy/core/_methods.py:192: RuntimeWarning: invalid value encountered in scalar divide\n",
      "  ret = ret.dtype.type(ret / rcount)\n",
      " 38%|█████████████████████████████████████████████                                                                         | 4063/10646 [04:41<07:33, 14.52it/s]/Users/max/Library/Python/3.9/lib/python/site-packages/numpy/core/fromnumeric.py:3464: RuntimeWarning: Mean of empty slice.\n",
      "  return _methods._mean(a, axis=axis, dtype=dtype,\n",
      "/Users/max/Library/Python/3.9/lib/python/site-packages/numpy/core/_methods.py:192: RuntimeWarning: invalid value encountered in scalar divide\n",
      "  ret = ret.dtype.type(ret / rcount)\n",
      " 39%|█████████████████████████████████████████████▋                                                                        | 4125/10646 [04:45<07:27, 14.56it/s]"
     ]
    },
    {
     "name": "stdout",
     "output_type": "stream",
     "text": [
      "Exception 047EA81E-6A86-4073-AD3B-456D8F3BD657 engzee pop from empty list\n"
     ]
    },
    {
     "name": "stderr",
     "output_type": "stream",
     "text": [
      " 39%|█████████████████████████████████████████████▋                                                                        | 4127/10646 [04:46<07:30, 14.46it/s]/Users/max/Library/Python/3.9/lib/python/site-packages/numpy/core/fromnumeric.py:3464: RuntimeWarning: Mean of empty slice.\n",
      "  return _methods._mean(a, axis=axis, dtype=dtype,\n",
      "/Users/max/Library/Python/3.9/lib/python/site-packages/numpy/core/_methods.py:192: RuntimeWarning: invalid value encountered in scalar divide\n",
      "  ret = ret.dtype.type(ret / rcount)\n",
      " 39%|█████████████████████████████████████████████▊                                                                        | 4130/10646 [04:46<06:33, 16.57it/s]"
     ]
    },
    {
     "name": "stdout",
     "output_type": "stream",
     "text": [
      "Failed for index 4128 with error: index 0 is out of bounds for axis 0 with size 0\n"
     ]
    },
    {
     "name": "stderr",
     "output_type": "stream",
     "text": [
      " 39%|█████████████████████████████████████████████▊                                                                        | 4138/10646 [04:46<07:13, 15.00it/s]"
     ]
    },
    {
     "name": "stdout",
     "output_type": "stream",
     "text": [
      "Exception 047EA81E-6A86-4073-AD3B-456D8F3BD657 engzee pop from empty list\n"
     ]
    },
    {
     "name": "stderr",
     "output_type": "stream",
     "text": [
      " 39%|██████████████████████████████████████████████▎                                                                       | 4178/10646 [04:49<07:51, 13.70it/s]/Users/max/Library/Python/3.9/lib/python/site-packages/numpy/core/fromnumeric.py:3464: RuntimeWarning: Mean of empty slice.\n",
      "  return _methods._mean(a, axis=axis, dtype=dtype,\n",
      "/Users/max/Library/Python/3.9/lib/python/site-packages/numpy/core/_methods.py:192: RuntimeWarning: invalid value encountered in scalar divide\n",
      "  ret = ret.dtype.type(ret / rcount)\n",
      " 39%|██████████████████████████████████████████████▎                                                                       | 4180/10646 [04:49<07:41, 14.00it/s]"
     ]
    },
    {
     "name": "stdout",
     "output_type": "stream",
     "text": [
      "Exception 047EA81E-6A86-4073-AD3B-456D8F3BD657 engzee pop from empty list\n"
     ]
    },
    {
     "name": "stderr",
     "output_type": "stream",
     "text": [
      " 40%|██████████████████████████████████████████████▋                                                                       | 4211/10646 [04:51<06:32, 16.38it/s]"
     ]
    },
    {
     "name": "stdout",
     "output_type": "stream",
     "text": [
      "Failed for index 4208 with error: index 0 is out of bounds for axis 0 with size 0\n"
     ]
    },
    {
     "name": "stderr",
     "output_type": "stream",
     "text": [
      " 40%|██████████████████████████████████████████████▊                                                                       | 4219/10646 [04:52<07:20, 14.58it/s]"
     ]
    },
    {
     "name": "stdout",
     "output_type": "stream",
     "text": [
      "Exception 047EA81E-6A86-4073-AD3B-456D8F3BD657 engzee pop from empty list\n"
     ]
    },
    {
     "name": "stderr",
     "output_type": "stream",
     "text": [
      " 40%|██████████████████████████████████████████████▉                                                                       | 4233/10646 [04:53<07:39, 13.96it/s]/Users/max/Library/Python/3.9/lib/python/site-packages/numpy/core/fromnumeric.py:3464: RuntimeWarning: Mean of empty slice.\n",
      "  return _methods._mean(a, axis=axis, dtype=dtype,\n",
      "/Users/max/Library/Python/3.9/lib/python/site-packages/numpy/core/_methods.py:192: RuntimeWarning: invalid value encountered in scalar divide\n",
      "  ret = ret.dtype.type(ret / rcount)\n",
      " 40%|███████████████████████████████████████████████                                                                       | 4241/10646 [04:54<07:36, 14.04it/s]/Users/max/Library/Python/3.9/lib/python/site-packages/numpy/core/fromnumeric.py:3464: RuntimeWarning: Mean of empty slice.\n",
      "  return _methods._mean(a, axis=axis, dtype=dtype,\n",
      "/Users/max/Library/Python/3.9/lib/python/site-packages/numpy/core/_methods.py:192: RuntimeWarning: invalid value encountered in scalar divide\n",
      "  ret = ret.dtype.type(ret / rcount)\n",
      " 40%|███████████████████████████████████████████████▌                                                                      | 4295/10646 [04:57<07:19, 14.44it/s]"
     ]
    },
    {
     "name": "stdout",
     "output_type": "stream",
     "text": [
      "Exception 047EA81E-6A86-4073-AD3B-456D8F3BD657 engzee pop from empty list\n"
     ]
    },
    {
     "name": "stderr",
     "output_type": "stream",
     "text": [
      " 40%|███████████████████████████████████████████████▋                                                                      | 4297/10646 [04:58<07:20, 14.40it/s]/Users/max/Library/Python/3.9/lib/python/site-packages/numpy/core/fromnumeric.py:3464: RuntimeWarning: Mean of empty slice.\n",
      "  return _methods._mean(a, axis=axis, dtype=dtype,\n",
      "/Users/max/Library/Python/3.9/lib/python/site-packages/numpy/core/_methods.py:192: RuntimeWarning: invalid value encountered in scalar divide\n",
      "  ret = ret.dtype.type(ret / rcount)\n",
      " 41%|███████████████████████████████████████████████▉                                                                      | 4326/10646 [04:59<06:22, 16.53it/s]"
     ]
    },
    {
     "name": "stdout",
     "output_type": "stream",
     "text": [
      "Failed for index 4323 with error: index 0 is out of bounds for axis 0 with size 0\n"
     ]
    },
    {
     "name": "stderr",
     "output_type": "stream",
     "text": [
      " 41%|████████████████████████████████████████████████▎                                                                     | 4354/10646 [05:01<07:16, 14.41it/s]"
     ]
    },
    {
     "name": "stdout",
     "output_type": "stream",
     "text": [
      "Exception 047EA81E-6A86-4073-AD3B-456D8F3BD657 engzee pop from empty list\n"
     ]
    },
    {
     "name": "stderr",
     "output_type": "stream",
     "text": [
      " 41%|████████████████████████████████████████████████▍                                                                     | 4368/10646 [05:02<07:14, 14.46it/s]/Users/max/Library/Python/3.9/lib/python/site-packages/numpy/core/fromnumeric.py:3464: RuntimeWarning: Mean of empty slice.\n",
      "  return _methods._mean(a, axis=axis, dtype=dtype,\n",
      "/Users/max/Library/Python/3.9/lib/python/site-packages/numpy/core/_methods.py:192: RuntimeWarning: invalid value encountered in scalar divide\n",
      "  ret = ret.dtype.type(ret / rcount)\n",
      " 41%|████████████████████████████████████████████████▍                                                                     | 4374/10646 [05:03<07:12, 14.49it/s]"
     ]
    },
    {
     "name": "stdout",
     "output_type": "stream",
     "text": [
      "Exception 047EA81E-6A86-4073-AD3B-456D8F3BD657 engzee pop from empty list\n"
     ]
    },
    {
     "name": "stderr",
     "output_type": "stream",
     "text": [
      " 41%|████████████████████████████████████████████████▌                                                                     | 4380/10646 [05:03<07:13, 14.45it/s]"
     ]
    },
    {
     "name": "stdout",
     "output_type": "stream",
     "text": [
      "Exception 047EA81E-6A86-4073-AD3B-456D8F3BD657 engzee pop from empty list\n"
     ]
    },
    {
     "name": "stderr",
     "output_type": "stream",
     "text": [
      " 41%|████████████████████████████████████████████████▋                                                                     | 4396/10646 [05:04<07:14, 14.40it/s]/Users/max/Library/Python/3.9/lib/python/site-packages/numpy/core/fromnumeric.py:3464: RuntimeWarning: Mean of empty slice.\n",
      "  return _methods._mean(a, axis=axis, dtype=dtype,\n",
      "/Users/max/Library/Python/3.9/lib/python/site-packages/numpy/core/_methods.py:192: RuntimeWarning: invalid value encountered in scalar divide\n",
      "  ret = ret.dtype.type(ret / rcount)\n",
      " 41%|████████████████████████████████████████████████▊                                                                     | 4404/10646 [05:05<07:10, 14.50it/s]"
     ]
    },
    {
     "name": "stdout",
     "output_type": "stream",
     "text": [
      "Exception 047EA81E-6A86-4073-AD3B-456D8F3BD657 engzee pop from empty list\n"
     ]
    },
    {
     "name": "stderr",
     "output_type": "stream",
     "text": [
      " 42%|████████████████████████████████████████████████▉                                                                     | 4420/10646 [05:06<07:10, 14.45it/s]/Users/max/Library/Python/3.9/lib/python/site-packages/numpy/core/fromnumeric.py:3464: RuntimeWarning: Mean of empty slice.\n",
      "  return _methods._mean(a, axis=axis, dtype=dtype,\n",
      "/Users/max/Library/Python/3.9/lib/python/site-packages/numpy/core/_methods.py:192: RuntimeWarning: invalid value encountered in scalar divide\n",
      "  ret = ret.dtype.type(ret / rcount)\n",
      " 42%|█████████████████████████████████████████████████▎                                                                    | 4446/10646 [05:08<07:04, 14.62it/s]"
     ]
    },
    {
     "name": "stdout",
     "output_type": "stream",
     "text": [
      "Exception 047EA81E-6A86-4073-AD3B-456D8F3BD657 engzee pop from empty list\n"
     ]
    },
    {
     "name": "stderr",
     "output_type": "stream",
     "text": [
      " 42%|█████████████████████████████████████████████████▎                                                                    | 4450/10646 [05:08<07:05, 14.58it/s]/Users/max/Library/Python/3.9/lib/python/site-packages/numpy/core/fromnumeric.py:3464: RuntimeWarning: Mean of empty slice.\n",
      "  return _methods._mean(a, axis=axis, dtype=dtype,\n",
      "/Users/max/Library/Python/3.9/lib/python/site-packages/numpy/core/_methods.py:192: RuntimeWarning: invalid value encountered in scalar divide\n",
      "  ret = ret.dtype.type(ret / rcount)\n",
      " 42%|█████████████████████████████████████████████████▌                                                                    | 4476/10646 [05:10<07:02, 14.60it/s]"
     ]
    },
    {
     "name": "stdout",
     "output_type": "stream",
     "text": [
      "Exception 047EA81E-6A86-4073-AD3B-456D8F3BD657 engzee pop from empty list\n"
     ]
    },
    {
     "name": "stderr",
     "output_type": "stream",
     "text": [
      " 43%|██████████████████████████████████████████████████▍                                                                   | 4556/10646 [05:15<07:01, 14.45it/s]/Users/max/Library/Python/3.9/lib/python/site-packages/numpy/core/fromnumeric.py:3464: RuntimeWarning: Mean of empty slice.\n",
      "  return _methods._mean(a, axis=axis, dtype=dtype,\n",
      "/Users/max/Library/Python/3.9/lib/python/site-packages/numpy/core/_methods.py:192: RuntimeWarning: invalid value encountered in scalar divide\n",
      "  ret = ret.dtype.type(ret / rcount)\n",
      " 43%|███████████████████████████████████████████████████▏                                                                  | 4620/10646 [05:20<06:55, 14.50it/s]"
     ]
    },
    {
     "name": "stdout",
     "output_type": "stream",
     "text": [
      "Exception 047EA81E-6A86-4073-AD3B-456D8F3BD657 engzee pop from empty list\n"
     ]
    },
    {
     "name": "stderr",
     "output_type": "stream",
     "text": [
      "/Users/max/Library/Python/3.9/lib/python/site-packages/numpy/core/fromnumeric.py:3464: RuntimeWarning: Mean of empty slice.\n",
      "  return _methods._mean(a, axis=axis, dtype=dtype,\n",
      "/Users/max/Library/Python/3.9/lib/python/site-packages/numpy/core/_methods.py:192: RuntimeWarning: invalid value encountered in scalar divide\n",
      "  ret = ret.dtype.type(ret / rcount)\n",
      " 43%|███████████████████████████████████████████████████▏                                                                  | 4622/10646 [05:20<06:56, 14.46it/s]/Users/max/Library/Python/3.9/lib/python/site-packages/numpy/core/fromnumeric.py:3464: RuntimeWarning: Mean of empty slice.\n",
      "  return _methods._mean(a, axis=axis, dtype=dtype,\n",
      "/Users/max/Library/Python/3.9/lib/python/site-packages/numpy/core/_methods.py:192: RuntimeWarning: invalid value encountered in scalar divide\n",
      "  ret = ret.dtype.type(ret / rcount)\n",
      " 43%|███████████████████████████████████████████████████▎                                                                  | 4626/10646 [05:20<06:53, 14.54it/s]"
     ]
    },
    {
     "name": "stdout",
     "output_type": "stream",
     "text": [
      "Exception 047EA81E-6A86-4073-AD3B-456D8F3BD657 engzee pop from empty list\n"
     ]
    },
    {
     "name": "stderr",
     "output_type": "stream",
     "text": [
      " 44%|███████████████████████████████████████████████████▍                                                                  | 4636/10646 [05:21<06:54, 14.49it/s]/Users/max/Library/Python/3.9/lib/python/site-packages/numpy/core/fromnumeric.py:3464: RuntimeWarning: Mean of empty slice.\n",
      "  return _methods._mean(a, axis=axis, dtype=dtype,\n",
      "/Users/max/Library/Python/3.9/lib/python/site-packages/numpy/core/_methods.py:192: RuntimeWarning: invalid value encountered in scalar divide\n",
      "  ret = ret.dtype.type(ret / rcount)\n",
      " 44%|███████████████████████████████████████████████████▌                                                                  | 4648/10646 [05:22<07:14, 13.80it/s]"
     ]
    },
    {
     "name": "stdout",
     "output_type": "stream",
     "text": [
      "Exception 047EA81E-6A86-4073-AD3B-456D8F3BD657 engzee pop from empty list\n"
     ]
    },
    {
     "name": "stderr",
     "output_type": "stream",
     "text": [
      " 44%|████████████████████████████████████████████████████                                                                  | 4694/10646 [05:25<06:57, 14.25it/s]/Users/max/Library/Python/3.9/lib/python/site-packages/numpy/core/fromnumeric.py:3464: RuntimeWarning: Mean of empty slice.\n",
      "  return _methods._mean(a, axis=axis, dtype=dtype,\n",
      "/Users/max/Library/Python/3.9/lib/python/site-packages/numpy/core/_methods.py:192: RuntimeWarning: invalid value encountered in scalar divide\n",
      "  ret = ret.dtype.type(ret / rcount)\n",
      " 44%|████████████████████████████████████████████████████▏                                                                 | 4710/10646 [05:26<06:54, 14.32it/s]/Users/max/Library/Python/3.9/lib/python/site-packages/numpy/core/fromnumeric.py:3464: RuntimeWarning: Mean of empty slice.\n",
      "  return _methods._mean(a, axis=axis, dtype=dtype,\n",
      "/Users/max/Library/Python/3.9/lib/python/site-packages/numpy/core/_methods.py:192: RuntimeWarning: invalid value encountered in scalar divide\n",
      "  ret = ret.dtype.type(ret / rcount)\n",
      " 44%|████████████████████████████████████████████████████▎                                                                 | 4722/10646 [05:27<06:51, 14.41it/s]"
     ]
    },
    {
     "name": "stdout",
     "output_type": "stream",
     "text": [
      "Exception 047EA81E-6A86-4073-AD3B-456D8F3BD657 engzee pop from empty list\n"
     ]
    },
    {
     "name": "stderr",
     "output_type": "stream",
     "text": [
      " 45%|████████████████████████████████████████████████████▌                                                                 | 4742/10646 [05:28<07:15, 13.57it/s]/Users/max/Library/Python/3.9/lib/python/site-packages/numpy/core/fromnumeric.py:3464: RuntimeWarning: Mean of empty slice.\n",
      "  return _methods._mean(a, axis=axis, dtype=dtype,\n",
      "/Users/max/Library/Python/3.9/lib/python/site-packages/numpy/core/_methods.py:192: RuntimeWarning: invalid value encountered in scalar divide\n",
      "  ret = ret.dtype.type(ret / rcount)\n",
      " 45%|████████████████████████████████████████████████████▋                                                                 | 4750/10646 [05:29<06:53, 14.26it/s]/Users/max/Library/Python/3.9/lib/python/site-packages/numpy/core/fromnumeric.py:3464: RuntimeWarning: Mean of empty slice.\n",
      "  return _methods._mean(a, axis=axis, dtype=dtype,\n",
      "/Users/max/Library/Python/3.9/lib/python/site-packages/numpy/core/_methods.py:192: RuntimeWarning: invalid value encountered in scalar divide\n",
      "  ret = ret.dtype.type(ret / rcount)\n",
      " 45%|████████████████████████████████████████████████████▊                                                                 | 4768/10646 [05:30<06:47, 14.41it/s]/Users/max/Library/Python/3.9/lib/python/site-packages/numpy/core/fromnumeric.py:3464: RuntimeWarning: Mean of empty slice.\n",
      "  return _methods._mean(a, axis=axis, dtype=dtype,\n",
      "/Users/max/Library/Python/3.9/lib/python/site-packages/numpy/core/_methods.py:192: RuntimeWarning: invalid value encountered in scalar divide\n",
      "  ret = ret.dtype.type(ret / rcount)\n",
      " 45%|█████████████████████████████████████████████████████                                                                 | 4790/10646 [05:32<07:07, 13.71it/s]/Users/max/Library/Python/3.9/lib/python/site-packages/numpy/core/fromnumeric.py:3464: RuntimeWarning: Mean of empty slice.\n",
      "  return _methods._mean(a, axis=axis, dtype=dtype,\n",
      "/Users/max/Library/Python/3.9/lib/python/site-packages/numpy/core/_methods.py:192: RuntimeWarning: invalid value encountered in scalar divide\n",
      "  ret = ret.dtype.type(ret / rcount)\n",
      " 45%|█████████████████████████████████████████████████████▍                                                                | 4822/10646 [05:34<06:42, 14.48it/s]"
     ]
    },
    {
     "name": "stdout",
     "output_type": "stream",
     "text": [
      "Exception 047EA81E-6A86-4073-AD3B-456D8F3BD657 engzee pop from empty list\n"
     ]
    },
    {
     "name": "stderr",
     "output_type": "stream",
     "text": [
      " 46%|█████████████████████████████████████████████████████▋                                                                | 4844/10646 [05:36<06:40, 14.49it/s]/Users/max/Library/Python/3.9/lib/python/site-packages/numpy/core/fromnumeric.py:3464: RuntimeWarning: Mean of empty slice.\n",
      "  return _methods._mean(a, axis=axis, dtype=dtype,\n",
      "/Users/max/Library/Python/3.9/lib/python/site-packages/numpy/core/_methods.py:192: RuntimeWarning: invalid value encountered in scalar divide\n",
      "  ret = ret.dtype.type(ret / rcount)\n",
      " 46%|█████████████████████████████████████████████████████▊                                                                | 4856/10646 [05:37<08:13, 11.73it/s]/Users/max/Library/Python/3.9/lib/python/site-packages/numpy/core/fromnumeric.py:3464: RuntimeWarning: Mean of empty slice.\n",
      "  return _methods._mean(a, axis=axis, dtype=dtype,\n",
      "/Users/max/Library/Python/3.9/lib/python/site-packages/numpy/core/_methods.py:192: RuntimeWarning: invalid value encountered in scalar divide\n",
      "  ret = ret.dtype.type(ret / rcount)\n",
      " 46%|█████████████████████████████████████████████████████▉                                                                | 4870/10646 [05:38<07:04, 13.61it/s]/Users/max/Library/Python/3.9/lib/python/site-packages/numpy/core/fromnumeric.py:3464: RuntimeWarning: Mean of empty slice.\n",
      "  return _methods._mean(a, axis=axis, dtype=dtype,\n",
      "/Users/max/Library/Python/3.9/lib/python/site-packages/numpy/core/_methods.py:192: RuntimeWarning: invalid value encountered in scalar divide\n",
      "  ret = ret.dtype.type(ret / rcount)\n",
      " 46%|██████████████████████████████████████████████████████▏                                                               | 4888/10646 [05:39<06:42, 14.32it/s]/Users/max/Library/Python/3.9/lib/python/site-packages/numpy/core/fromnumeric.py:3464: RuntimeWarning: Mean of empty slice.\n",
      "  return _methods._mean(a, axis=axis, dtype=dtype,\n",
      "/Users/max/Library/Python/3.9/lib/python/site-packages/numpy/core/_methods.py:192: RuntimeWarning: invalid value encountered in scalar divide\n",
      "  ret = ret.dtype.type(ret / rcount)\n",
      " 46%|██████████████████████████████████████████████████████▌                                                               | 4918/10646 [05:41<06:34, 14.54it/s]/Users/max/Library/Python/3.9/lib/python/site-packages/numpy/core/fromnumeric.py:3464: RuntimeWarning: Mean of empty slice.\n",
      "  return _methods._mean(a, axis=axis, dtype=dtype,\n",
      "/Users/max/Library/Python/3.9/lib/python/site-packages/numpy/core/_methods.py:192: RuntimeWarning: invalid value encountered in scalar divide\n",
      "  ret = ret.dtype.type(ret / rcount)\n",
      " 46%|██████████████████████████████████████████████████████▌                                                               | 4924/10646 [05:41<06:37, 14.40it/s]/Users/max/Library/Python/3.9/lib/python/site-packages/numpy/core/fromnumeric.py:3464: RuntimeWarning: Mean of empty slice.\n",
      "  return _methods._mean(a, axis=axis, dtype=dtype,\n",
      "/Users/max/Library/Python/3.9/lib/python/site-packages/numpy/core/_methods.py:192: RuntimeWarning: invalid value encountered in scalar divide\n",
      "  ret = ret.dtype.type(ret / rcount)\n",
      " 46%|██████████████████████████████████████████████████████▊                                                               | 4948/10646 [05:43<06:36, 14.36it/s]/Users/max/Library/Python/3.9/lib/python/site-packages/numpy/core/fromnumeric.py:3464: RuntimeWarning: Mean of empty slice.\n",
      "  return _methods._mean(a, axis=axis, dtype=dtype,\n",
      "/Users/max/Library/Python/3.9/lib/python/site-packages/numpy/core/_methods.py:192: RuntimeWarning: invalid value encountered in scalar divide\n",
      "  ret = ret.dtype.type(ret / rcount)\n",
      " 47%|██████████████████████████████████████████████████████▉                                                               | 4959/10646 [05:44<05:42, 16.62it/s]"
     ]
    },
    {
     "name": "stdout",
     "output_type": "stream",
     "text": [
      "Failed for index 4956 with error: index 0 is out of bounds for axis 0 with size 0\n"
     ]
    },
    {
     "name": "stderr",
     "output_type": "stream",
     "text": [
      " 47%|███████████████████████████████████████████████████████                                                               | 4963/10646 [05:44<06:05, 15.56it/s]"
     ]
    },
    {
     "name": "stdout",
     "output_type": "stream",
     "text": [
      "Exception 047EA81E-6A86-4073-AD3B-456D8F3BD657 engzee pop from empty list\n"
     ]
    },
    {
     "name": "stderr",
     "output_type": "stream",
     "text": [
      " 47%|███████████████████████████████████████████████████████▌                                                              | 5009/10646 [05:47<06:34, 14.28it/s]"
     ]
    },
    {
     "name": "stdout",
     "output_type": "stream",
     "text": [
      "Exception 047EA81E-6A86-4073-AD3B-456D8F3BD657 engzee pop from empty list\n"
     ]
    },
    {
     "name": "stderr",
     "output_type": "stream",
     "text": [
      "/Users/max/Library/Python/3.9/lib/python/site-packages/numpy/core/fromnumeric.py:3464: RuntimeWarning: Mean of empty slice.\n",
      "  return _methods._mean(a, axis=axis, dtype=dtype,\n",
      "/Users/max/Library/Python/3.9/lib/python/site-packages/numpy/core/_methods.py:192: RuntimeWarning: invalid value encountered in scalar divide\n",
      "  ret = ret.dtype.type(ret / rcount)\n",
      " 47%|███████████████████████████████████████████████████████▋                                                              | 5019/10646 [05:48<06:39, 14.10it/s]"
     ]
    },
    {
     "name": "stdout",
     "output_type": "stream",
     "text": [
      "Exception 047EA81E-6A86-4073-AD3B-456D8F3BD657 engzee pop from empty list\n"
     ]
    },
    {
     "name": "stderr",
     "output_type": "stream",
     "text": [
      " 47%|███████████████████████████████████████████████████████▊                                                              | 5031/10646 [05:49<06:38, 14.10it/s]"
     ]
    },
    {
     "name": "stdout",
     "output_type": "stream",
     "text": [
      "Exception 047EA81E-6A86-4073-AD3B-456D8F3BD657 engzee pop from empty list\n"
     ]
    },
    {
     "name": "stderr",
     "output_type": "stream",
     "text": [
      " 47%|███████████████████████████████████████████████████████▉                                                              | 5045/10646 [05:50<06:39, 14.01it/s]/Users/max/Library/Python/3.9/lib/python/site-packages/numpy/core/fromnumeric.py:3464: RuntimeWarning: Mean of empty slice.\n",
      "  return _methods._mean(a, axis=axis, dtype=dtype,\n",
      "/Users/max/Library/Python/3.9/lib/python/site-packages/numpy/core/_methods.py:192: RuntimeWarning: invalid value encountered in scalar divide\n",
      "  ret = ret.dtype.type(ret / rcount)\n",
      " 47%|███████████████████████████████████████████████████████▉                                                              | 5049/10646 [05:50<06:35, 14.15it/s]/Users/max/Library/Python/3.9/lib/python/site-packages/numpy/core/fromnumeric.py:3464: RuntimeWarning: Mean of empty slice.\n",
      "  return _methods._mean(a, axis=axis, dtype=dtype,\n",
      "/Users/max/Library/Python/3.9/lib/python/site-packages/numpy/core/_methods.py:192: RuntimeWarning: invalid value encountered in scalar divide\n",
      "  ret = ret.dtype.type(ret / rcount)\n",
      " 48%|████████████████████████████████████████████████████████▋                                                             | 5119/10646 [05:55<06:28, 14.24it/s]"
     ]
    },
    {
     "name": "stdout",
     "output_type": "stream",
     "text": [
      "Exception 047EA81E-6A86-4073-AD3B-456D8F3BD657 engzee pop from empty list\n"
     ]
    },
    {
     "name": "stderr",
     "output_type": "stream",
     "text": [
      " 48%|████████████████████████████████████████████████████████▉                                                             | 5137/10646 [05:56<06:19, 14.51it/s]"
     ]
    },
    {
     "name": "stdout",
     "output_type": "stream",
     "text": [
      "Exception 047EA81E-6A86-4073-AD3B-456D8F3BD657 engzee pop from empty list\n"
     ]
    },
    {
     "name": "stderr",
     "output_type": "stream",
     "text": [
      " 48%|█████████████████████████████████████████████████████████                                                             | 5145/10646 [05:57<06:30, 14.10it/s]/Users/max/Library/Python/3.9/lib/python/site-packages/numpy/core/fromnumeric.py:3464: RuntimeWarning: Mean of empty slice.\n",
      "  return _methods._mean(a, axis=axis, dtype=dtype,\n",
      "/Users/max/Library/Python/3.9/lib/python/site-packages/numpy/core/_methods.py:192: RuntimeWarning: invalid value encountered in scalar divide\n",
      "  ret = ret.dtype.type(ret / rcount)\n",
      " 48%|█████████████████████████████████████████████████████████▏                                                            | 5159/10646 [05:58<06:22, 14.36it/s]/Users/max/Library/Python/3.9/lib/python/site-packages/numpy/core/fromnumeric.py:3464: RuntimeWarning: Mean of empty slice.\n",
      "  return _methods._mean(a, axis=axis, dtype=dtype,\n",
      "/Users/max/Library/Python/3.9/lib/python/site-packages/numpy/core/_methods.py:192: RuntimeWarning: invalid value encountered in scalar divide\n",
      "  ret = ret.dtype.type(ret / rcount)\n",
      " 49%|█████████████████████████████████████████████████████████▎                                                            | 5169/10646 [05:59<06:27, 14.14it/s]"
     ]
    },
    {
     "name": "stdout",
     "output_type": "stream",
     "text": [
      "Exception 047EA81E-6A86-4073-AD3B-456D8F3BD657 engzee pop from empty list\n"
     ]
    },
    {
     "name": "stderr",
     "output_type": "stream",
     "text": [
      " 49%|█████████████████████████████████████████████████████████▊                                                            | 5213/10646 [06:02<06:27, 14.02it/s]"
     ]
    },
    {
     "name": "stdout",
     "output_type": "stream",
     "text": [
      "Exception 047EA81E-6A86-4073-AD3B-456D8F3BD657 engzee pop from empty list\n"
     ]
    },
    {
     "name": "stderr",
     "output_type": "stream",
     "text": [
      " 49%|██████████████████████████████████████████████████████████                                                            | 5236/10646 [06:03<05:32, 16.27it/s]"
     ]
    },
    {
     "name": "stdout",
     "output_type": "stream",
     "text": [
      "Failed for index 5233 with error: index 0 is out of bounds for axis 0 with size 0\n"
     ]
    },
    {
     "name": "stderr",
     "output_type": "stream",
     "text": [
      " 49%|██████████████████████████████████████████████████████████▏                                                           | 5250/10646 [06:04<06:21, 14.13it/s]"
     ]
    },
    {
     "name": "stdout",
     "output_type": "stream",
     "text": [
      "Exception 047EA81E-6A86-4073-AD3B-456D8F3BD657 engzee pop from empty list\n"
     ]
    },
    {
     "name": "stderr",
     "output_type": "stream",
     "text": [
      " 50%|██████████████████████████████████████████████████████████▉                                                           | 5312/10646 [06:09<06:09, 14.42it/s]"
     ]
    },
    {
     "name": "stdout",
     "output_type": "stream",
     "text": [
      "Exception 047EA81E-6A86-4073-AD3B-456D8F3BD657 engzee pop from empty list\n"
     ]
    },
    {
     "name": "stderr",
     "output_type": "stream",
     "text": [
      " 50%|███████████████████████████████████████████████████████████                                                           | 5330/10646 [06:10<06:07, 14.45it/s]/Users/max/Library/Python/3.9/lib/python/site-packages/numpy/core/fromnumeric.py:3464: RuntimeWarning: Mean of empty slice.\n",
      "  return _methods._mean(a, axis=axis, dtype=dtype,\n",
      "/Users/max/Library/Python/3.9/lib/python/site-packages/numpy/core/_methods.py:192: RuntimeWarning: invalid value encountered in scalar divide\n",
      "  ret = ret.dtype.type(ret / rcount)\n",
      " 50%|███████████████████████████████████████████████████████████▎                                                          | 5346/10646 [06:11<06:09, 14.35it/s]/Users/max/Library/Python/3.9/lib/python/site-packages/numpy/core/fromnumeric.py:3464: RuntimeWarning: Mean of empty slice.\n",
      "  return _methods._mean(a, axis=axis, dtype=dtype,\n",
      "/Users/max/Library/Python/3.9/lib/python/site-packages/numpy/core/_methods.py:192: RuntimeWarning: invalid value encountered in scalar divide\n",
      "  ret = ret.dtype.type(ret / rcount)\n",
      " 50%|███████████████████████████████████████████████████████████▎                                                          | 5352/10646 [06:11<06:07, 14.42it/s]/Users/max/Library/Python/3.9/lib/python/site-packages/numpy/core/fromnumeric.py:3464: RuntimeWarning: Mean of empty slice.\n",
      "  return _methods._mean(a, axis=axis, dtype=dtype,\n",
      "/Users/max/Library/Python/3.9/lib/python/site-packages/numpy/core/_methods.py:192: RuntimeWarning: invalid value encountered in scalar divide\n",
      "  ret = ret.dtype.type(ret / rcount)\n",
      " 50%|███████████████████████████████████████████████████████████▍                                                          | 5359/10646 [06:12<05:19, 16.56it/s]"
     ]
    },
    {
     "name": "stdout",
     "output_type": "stream",
     "text": [
      "Failed for index 5356 with error: index 0 is out of bounds for axis 0 with size 0\n"
     ]
    },
    {
     "name": "stderr",
     "output_type": "stream",
     "text": [
      "/Users/max/Library/Python/3.9/lib/python/site-packages/numpy/core/fromnumeric.py:3464: RuntimeWarning: Mean of empty slice.\n",
      "  return _methods._mean(a, axis=axis, dtype=dtype,\n",
      "/Users/max/Library/Python/3.9/lib/python/site-packages/numpy/core/_methods.py:192: RuntimeWarning: invalid value encountered in scalar divide\n",
      "  ret = ret.dtype.type(ret / rcount)\n",
      " 51%|███████████████████████████████████████████████████████████▌                                                          | 5378/10646 [06:13<05:22, 16.34it/s]"
     ]
    },
    {
     "name": "stdout",
     "output_type": "stream",
     "text": [
      "Failed for index 5376 with error: index 0 is out of bounds for axis 0 with size 0\n"
     ]
    },
    {
     "name": "stderr",
     "output_type": "stream",
     "text": [
      " 51%|███████████████████████████████████████████████████████████▋                                                          | 5382/10646 [06:13<05:47, 15.14it/s]/Users/max/Library/Python/3.9/lib/python/site-packages/numpy/core/fromnumeric.py:3464: RuntimeWarning: Mean of empty slice.\n",
      "  return _methods._mean(a, axis=axis, dtype=dtype,\n",
      "/Users/max/Library/Python/3.9/lib/python/site-packages/numpy/core/_methods.py:192: RuntimeWarning: invalid value encountered in scalar divide\n",
      "  ret = ret.dtype.type(ret / rcount)\n",
      " 51%|████████████████████████████████████████████████████████████▏                                                         | 5434/10646 [06:17<06:02, 14.40it/s]"
     ]
    },
    {
     "name": "stdout",
     "output_type": "stream",
     "text": [
      "Exception 047EA81E-6A86-4073-AD3B-456D8F3BD657 engzee pop from empty list\n"
     ]
    },
    {
     "name": "stderr",
     "output_type": "stream",
     "text": [
      " 51%|████████████████████████████████████████████████████████████▎                                                         | 5440/10646 [06:17<06:03, 14.32it/s]/Users/max/Library/Python/3.9/lib/python/site-packages/numpy/core/fromnumeric.py:3464: RuntimeWarning: Mean of empty slice.\n",
      "  return _methods._mean(a, axis=axis, dtype=dtype,\n",
      "/Users/max/Library/Python/3.9/lib/python/site-packages/numpy/core/_methods.py:192: RuntimeWarning: invalid value encountered in scalar divide\n",
      "  ret = ret.dtype.type(ret / rcount)\n",
      " 51%|████████████████████████████████████████████████████████████▋                                                         | 5480/10646 [06:20<06:02, 14.24it/s]/Users/max/Library/Python/3.9/lib/python/site-packages/numpy/core/fromnumeric.py:3464: RuntimeWarning: Mean of empty slice.\n",
      "  return _methods._mean(a, axis=axis, dtype=dtype,\n",
      "/Users/max/Library/Python/3.9/lib/python/site-packages/numpy/core/_methods.py:192: RuntimeWarning: invalid value encountered in scalar divide\n",
      "  ret = ret.dtype.type(ret / rcount)\n",
      " 52%|████████████████████████████████████████████████████████████▉                                                         | 5496/10646 [06:21<06:04, 14.13it/s]"
     ]
    },
    {
     "name": "stdout",
     "output_type": "stream",
     "text": [
      "Exception 047EA81E-6A86-4073-AD3B-456D8F3BD657 engzee pop from empty list\n"
     ]
    },
    {
     "name": "stderr",
     "output_type": "stream",
     "text": [
      " 52%|█████████████████████████████████████████████████████████████▎                                                        | 5526/10646 [06:23<05:58, 14.27it/s]/Users/max/Library/Python/3.9/lib/python/site-packages/numpy/core/fromnumeric.py:3464: RuntimeWarning: Mean of empty slice.\n",
      "  return _methods._mean(a, axis=axis, dtype=dtype,\n",
      "/Users/max/Library/Python/3.9/lib/python/site-packages/numpy/core/_methods.py:192: RuntimeWarning: invalid value encountered in scalar divide\n",
      "  ret = ret.dtype.type(ret / rcount)\n",
      "/Users/max/Library/Python/3.9/lib/python/site-packages/numpy/core/fromnumeric.py:3464: RuntimeWarning: Mean of empty slice.\n",
      "  return _methods._mean(a, axis=axis, dtype=dtype,\n",
      "/Users/max/Library/Python/3.9/lib/python/site-packages/numpy/core/_methods.py:192: RuntimeWarning: invalid value encountered in scalar divide\n",
      "  ret = ret.dtype.type(ret / rcount)\n",
      " 52%|█████████████████████████████████████████████████████████████▎                                                        | 5528/10646 [06:24<05:59, 14.24it/s]/Users/max/Library/Python/3.9/lib/python/site-packages/numpy/core/fromnumeric.py:3464: RuntimeWarning: Mean of empty slice.\n",
      "  return _methods._mean(a, axis=axis, dtype=dtype,\n",
      "/Users/max/Library/Python/3.9/lib/python/site-packages/numpy/core/_methods.py:192: RuntimeWarning: invalid value encountered in scalar divide\n",
      "  ret = ret.dtype.type(ret / rcount)\n",
      " 52%|█████████████████████████████████████████████████████████████▍                                                        | 5540/10646 [06:24<06:01, 14.14it/s]/Users/max/Library/Python/3.9/lib/python/site-packages/numpy/core/fromnumeric.py:3464: RuntimeWarning: Mean of empty slice.\n",
      "  return _methods._mean(a, axis=axis, dtype=dtype,\n",
      "/Users/max/Library/Python/3.9/lib/python/site-packages/numpy/core/_methods.py:192: RuntimeWarning: invalid value encountered in scalar divide\n",
      "  ret = ret.dtype.type(ret / rcount)\n",
      " 52%|█████████████████████████████████████████████████████████████▋                                                        | 5560/10646 [06:26<06:05, 13.91it/s]/Users/max/Library/Python/3.9/lib/python/site-packages/numpy/core/fromnumeric.py:3464: RuntimeWarning: Mean of empty slice.\n",
      "  return _methods._mean(a, axis=axis, dtype=dtype,\n",
      "/Users/max/Library/Python/3.9/lib/python/site-packages/numpy/core/_methods.py:192: RuntimeWarning: invalid value encountered in scalar divide\n",
      "  ret = ret.dtype.type(ret / rcount)\n",
      " 52%|█████████████████████████████████████████████████████████████▋                                                        | 5563/10646 [06:26<05:16, 16.07it/s]"
     ]
    },
    {
     "name": "stdout",
     "output_type": "stream",
     "text": [
      "Failed for index 5560 with error: index 0 is out of bounds for axis 0 with size 0\n"
     ]
    },
    {
     "name": "stderr",
     "output_type": "stream",
     "text": [
      " 52%|█████████████████████████████████████████████████████████████▊                                                        | 5573/10646 [06:27<05:48, 14.58it/s]/Users/max/Library/Python/3.9/lib/python/site-packages/numpy/core/fromnumeric.py:3464: RuntimeWarning: Mean of empty slice.\n",
      "  return _methods._mean(a, axis=axis, dtype=dtype,\n",
      "/Users/max/Library/Python/3.9/lib/python/site-packages/numpy/core/_methods.py:192: RuntimeWarning: invalid value encountered in scalar divide\n",
      "  ret = ret.dtype.type(ret / rcount)\n",
      " 53%|█████████████████████████████████████████████████████████████▉                                                        | 5593/10646 [06:28<05:47, 14.53it/s]/Users/max/Library/Python/3.9/lib/python/site-packages/numpy/core/fromnumeric.py:3464: RuntimeWarning: Mean of empty slice.\n",
      "  return _methods._mean(a, axis=axis, dtype=dtype,\n",
      "/Users/max/Library/Python/3.9/lib/python/site-packages/numpy/core/_methods.py:192: RuntimeWarning: invalid value encountered in scalar divide\n",
      "  ret = ret.dtype.type(ret / rcount)\n",
      " 53%|██████████████████████████████████████████████████████████████                                                        | 5597/10646 [06:28<05:49, 14.46it/s]"
     ]
    },
    {
     "name": "stdout",
     "output_type": "stream",
     "text": [
      "Exception 047EA81E-6A86-4073-AD3B-456D8F3BD657 engzee pop from empty list\n"
     ]
    },
    {
     "name": "stderr",
     "output_type": "stream",
     "text": [
      " 53%|██████████████████████████████████████████████████████████████▎                                                       | 5624/10646 [06:30<05:02, 16.59it/s]"
     ]
    },
    {
     "name": "stdout",
     "output_type": "stream",
     "text": [
      "Failed for index 5621 with error: index 0 is out of bounds for axis 0 with size 0\n"
     ]
    },
    {
     "name": "stderr",
     "output_type": "stream",
     "text": [
      " 53%|██████████████████████████████████████████████████████████████▋                                                       | 5658/10646 [06:32<05:43, 14.52it/s]/Users/max/Library/Python/3.9/lib/python/site-packages/numpy/core/fromnumeric.py:3464: RuntimeWarning: Mean of empty slice.\n",
      "  return _methods._mean(a, axis=axis, dtype=dtype,\n",
      "/Users/max/Library/Python/3.9/lib/python/site-packages/numpy/core/_methods.py:192: RuntimeWarning: invalid value encountered in scalar divide\n",
      "  ret = ret.dtype.type(ret / rcount)\n",
      " 53%|███████████████████████████████████████████████████████████████                                                       | 5694/10646 [06:35<05:40, 14.56it/s]/Users/max/Library/Python/3.9/lib/python/site-packages/numpy/core/fromnumeric.py:3464: RuntimeWarning: Mean of empty slice.\n",
      "  return _methods._mean(a, axis=axis, dtype=dtype,\n",
      "/Users/max/Library/Python/3.9/lib/python/site-packages/numpy/core/_methods.py:192: RuntimeWarning: invalid value encountered in scalar divide\n",
      "  ret = ret.dtype.type(ret / rcount)\n",
      " 54%|███████████████████████████████████████████████████████████████▏                                                      | 5702/10646 [06:36<05:41, 14.46it/s]/Users/max/Library/Python/3.9/lib/python/site-packages/numpy/core/fromnumeric.py:3464: RuntimeWarning: Mean of empty slice.\n",
      "  return _methods._mean(a, axis=axis, dtype=dtype,\n",
      "/Users/max/Library/Python/3.9/lib/python/site-packages/numpy/core/_methods.py:192: RuntimeWarning: invalid value encountered in scalar divide\n",
      "  ret = ret.dtype.type(ret / rcount)\n",
      " 54%|███████████████████████████████████████████████████████████████▏                                                      | 5705/10646 [06:36<04:57, 16.60it/s]"
     ]
    },
    {
     "name": "stdout",
     "output_type": "stream",
     "text": [
      "Failed for index 5702 with error: index 0 is out of bounds for axis 0 with size 0\n"
     ]
    },
    {
     "name": "stderr",
     "output_type": "stream",
     "text": [
      " 54%|███████████████████████████████████████████████████████████████▍                                                      | 5723/10646 [06:37<05:42, 14.38it/s]"
     ]
    },
    {
     "name": "stdout",
     "output_type": "stream",
     "text": [
      "Exception 047EA81E-6A86-4073-AD3B-456D8F3BD657 engzee pop from empty list\n"
     ]
    },
    {
     "name": "stderr",
     "output_type": "stream",
     "text": [
      " 54%|███████████████████████████████████████████████████████████████▋                                                      | 5745/10646 [06:38<05:43, 14.29it/s]/Users/max/Library/Python/3.9/lib/python/site-packages/numpy/core/fromnumeric.py:3464: RuntimeWarning: Mean of empty slice.\n",
      "  return _methods._mean(a, axis=axis, dtype=dtype,\n",
      "/Users/max/Library/Python/3.9/lib/python/site-packages/numpy/core/_methods.py:192: RuntimeWarning: invalid value encountered in scalar divide\n",
      "  ret = ret.dtype.type(ret / rcount)\n",
      " 54%|███████████████████████████████████████████████████████████████▊                                                      | 5756/10646 [06:39<04:51, 16.76it/s]"
     ]
    },
    {
     "name": "stdout",
     "output_type": "stream",
     "text": [
      "Failed for index 5753 with error: index 0 is out of bounds for axis 0 with size 0\n"
     ]
    },
    {
     "name": "stderr",
     "output_type": "stream",
     "text": [
      "/Users/max/Library/Python/3.9/lib/python/site-packages/numpy/core/fromnumeric.py:3464: RuntimeWarning: Mean of empty slice.\n",
      "  return _methods._mean(a, axis=axis, dtype=dtype,\n",
      "/Users/max/Library/Python/3.9/lib/python/site-packages/numpy/core/_methods.py:192: RuntimeWarning: invalid value encountered in scalar divide\n",
      "  ret = ret.dtype.type(ret / rcount)\n",
      " 54%|███████████████████████████████████████████████████████████████▉                                                      | 5772/10646 [06:40<05:30, 14.73it/s]"
     ]
    },
    {
     "name": "stdout",
     "output_type": "stream",
     "text": [
      "Exception 047EA81E-6A86-4073-AD3B-456D8F3BD657 engzee pop from empty list\n"
     ]
    },
    {
     "name": "stderr",
     "output_type": "stream",
     "text": [
      " 54%|████████████████████████████████████████████████████████████████▏                                                     | 5788/10646 [06:41<05:37, 14.41it/s]/Users/max/Library/Python/3.9/lib/python/site-packages/numpy/core/fromnumeric.py:3464: RuntimeWarning: Mean of empty slice.\n",
      "  return _methods._mean(a, axis=axis, dtype=dtype,\n",
      "/Users/max/Library/Python/3.9/lib/python/site-packages/numpy/core/_methods.py:192: RuntimeWarning: invalid value encountered in scalar divide\n",
      "  ret = ret.dtype.type(ret / rcount)\n",
      " 55%|████████████████████████████████████████████████████████████████▍                                                     | 5817/10646 [06:43<04:50, 16.62it/s]"
     ]
    },
    {
     "name": "stdout",
     "output_type": "stream",
     "text": [
      "Failed for index 5815 with error: index 0 is out of bounds for axis 0 with size 0\n"
     ]
    },
    {
     "name": "stderr",
     "output_type": "stream",
     "text": [
      " 55%|████████████████████████████████████████████████████████████████▌                                                     | 5821/10646 [06:44<05:12, 15.44it/s]/Users/max/Library/Python/3.9/lib/python/site-packages/numpy/core/fromnumeric.py:3464: RuntimeWarning: Mean of empty slice.\n",
      "  return _methods._mean(a, axis=axis, dtype=dtype,\n",
      "/Users/max/Library/Python/3.9/lib/python/site-packages/numpy/core/_methods.py:192: RuntimeWarning: invalid value encountered in scalar divide\n",
      "  ret = ret.dtype.type(ret / rcount)\n",
      " 55%|████████████████████████████████████████████████████████████████▌                                                     | 5823/10646 [06:44<05:17, 15.18it/s]/Users/max/Library/Python/3.9/lib/python/site-packages/numpy/core/fromnumeric.py:3464: RuntimeWarning: Mean of empty slice.\n",
      "  return _methods._mean(a, axis=axis, dtype=dtype,\n",
      "/Users/max/Library/Python/3.9/lib/python/site-packages/numpy/core/_methods.py:192: RuntimeWarning: invalid value encountered in scalar divide\n",
      "  ret = ret.dtype.type(ret / rcount)\n",
      " 55%|████████████████████████████████████████████████████████████████▌                                                     | 5827/10646 [06:44<05:26, 14.74it/s]"
     ]
    },
    {
     "name": "stdout",
     "output_type": "stream",
     "text": [
      "Exception 047EA81E-6A86-4073-AD3B-456D8F3BD657 engzee pop from empty list\n"
     ]
    },
    {
     "name": "stderr",
     "output_type": "stream",
     "text": [
      " 55%|████████████████████████████████████████████████████████████████▉                                                     | 5860/10646 [06:46<04:47, 16.64it/s]"
     ]
    },
    {
     "name": "stdout",
     "output_type": "stream",
     "text": [
      "Failed for index 5857 with error: index 0 is out of bounds for axis 0 with size 0\n"
     ]
    },
    {
     "name": "stderr",
     "output_type": "stream",
     "text": [
      " 55%|█████████████████████████████████████████████████████████████████▎                                                    | 5893/10646 [06:48<04:47, 16.51it/s]"
     ]
    },
    {
     "name": "stdout",
     "output_type": "stream",
     "text": [
      "Failed for index 5890 with error: index 0 is out of bounds for axis 0 with size 0\n"
     ]
    },
    {
     "name": "stderr",
     "output_type": "stream",
     "text": [
      " 55%|█████████████████████████████████████████████████████████████████▍                                                    | 5901/10646 [06:49<05:18, 14.89it/s]/Users/max/Library/Python/3.9/lib/python/site-packages/numpy/core/fromnumeric.py:3464: RuntimeWarning: Mean of empty slice.\n",
      "  return _methods._mean(a, axis=axis, dtype=dtype,\n",
      "/Users/max/Library/Python/3.9/lib/python/site-packages/numpy/core/_methods.py:192: RuntimeWarning: invalid value encountered in scalar divide\n",
      "  ret = ret.dtype.type(ret / rcount)\n",
      " 56%|█████████████████████████████████████████████████████████████████▌                                                    | 5915/10646 [06:50<05:27, 14.42it/s]/Users/max/Library/Python/3.9/lib/python/site-packages/numpy/core/fromnumeric.py:3464: RuntimeWarning: Mean of empty slice.\n",
      "  return _methods._mean(a, axis=axis, dtype=dtype,\n",
      "/Users/max/Library/Python/3.9/lib/python/site-packages/numpy/core/_methods.py:192: RuntimeWarning: invalid value encountered in scalar divide\n",
      "  ret = ret.dtype.type(ret / rcount)\n",
      " 56%|█████████████████████████████████████████████████████████████████▋                                                    | 5931/10646 [06:51<05:44, 13.68it/s]"
     ]
    },
    {
     "name": "stdout",
     "output_type": "stream",
     "text": [
      "Exception 047EA81E-6A86-4073-AD3B-456D8F3BD657 engzee pop from empty list\n"
     ]
    },
    {
     "name": "stderr",
     "output_type": "stream",
     "text": [
      " 56%|█████████████████████████████████████████████████████████████████▊                                                    | 5943/10646 [06:52<05:35, 14.04it/s]/Users/max/Library/Python/3.9/lib/python/site-packages/numpy/core/fromnumeric.py:3464: RuntimeWarning: Mean of empty slice.\n",
      "  return _methods._mean(a, axis=axis, dtype=dtype,\n",
      "/Users/max/Library/Python/3.9/lib/python/site-packages/numpy/core/_methods.py:192: RuntimeWarning: invalid value encountered in scalar divide\n",
      "  ret = ret.dtype.type(ret / rcount)\n",
      " 56%|██████████████████████████████████████████████████████████████████                                                    | 5964/10646 [06:53<04:44, 16.48it/s]"
     ]
    },
    {
     "name": "stdout",
     "output_type": "stream",
     "text": [
      "Failed for index 5961 with error: index 0 is out of bounds for axis 0 with size 0\n"
     ]
    },
    {
     "name": "stderr",
     "output_type": "stream",
     "text": [
      " 56%|██████████████████████████████████████████████████████████████████▎                                                   | 5979/10646 [06:54<04:40, 16.66it/s]"
     ]
    },
    {
     "name": "stdout",
     "output_type": "stream",
     "text": [
      "Failed for index 5977 with error: index 0 is out of bounds for axis 0 with size 0\n"
     ]
    },
    {
     "name": "stderr",
     "output_type": "stream",
     "text": [
      " 57%|███████████████████████████████████████████████████████████████████                                                   | 6049/10646 [06:59<05:15, 14.58it/s]"
     ]
    },
    {
     "name": "stdout",
     "output_type": "stream",
     "text": [
      "Exception 047EA81E-6A86-4073-AD3B-456D8F3BD657 engzee pop from empty list\n"
     ]
    },
    {
     "name": "stderr",
     "output_type": "stream",
     "text": [
      " 57%|███████████████████████████████████████████████████████████████████▏                                                  | 6059/10646 [07:00<05:14, 14.59it/s]/Users/max/Library/Python/3.9/lib/python/site-packages/numpy/core/fromnumeric.py:3464: RuntimeWarning: Mean of empty slice.\n",
      "  return _methods._mean(a, axis=axis, dtype=dtype,\n",
      "/Users/max/Library/Python/3.9/lib/python/site-packages/numpy/core/_methods.py:192: RuntimeWarning: invalid value encountered in scalar divide\n",
      "  ret = ret.dtype.type(ret / rcount)\n",
      " 57%|███████████████████████████████████████████████████████████████████▌                                                  | 6093/10646 [07:02<05:12, 14.56it/s]/Users/max/Library/Python/3.9/lib/python/site-packages/numpy/core/fromnumeric.py:3464: RuntimeWarning: Mean of empty slice.\n",
      "  return _methods._mean(a, axis=axis, dtype=dtype,\n",
      "/Users/max/Library/Python/3.9/lib/python/site-packages/numpy/core/_methods.py:192: RuntimeWarning: invalid value encountered in scalar divide\n",
      "  ret = ret.dtype.type(ret / rcount)\n",
      " 57%|███████████████████████████████████████████████████████████████████▌                                                  | 6101/10646 [07:03<05:09, 14.70it/s]/Users/max/Library/Python/3.9/lib/python/site-packages/numpy/core/fromnumeric.py:3464: RuntimeWarning: Mean of empty slice.\n",
      "  return _methods._mean(a, axis=axis, dtype=dtype,\n",
      "/Users/max/Library/Python/3.9/lib/python/site-packages/numpy/core/_methods.py:192: RuntimeWarning: invalid value encountered in scalar divide\n",
      "  ret = ret.dtype.type(ret / rcount)\n",
      " 58%|███████████████████████████████████████████████████████████████████▉                                                  | 6129/10646 [07:05<05:11, 14.49it/s]/Users/max/Library/Python/3.9/lib/python/site-packages/numpy/core/fromnumeric.py:3464: RuntimeWarning: Mean of empty slice.\n",
      "  return _methods._mean(a, axis=axis, dtype=dtype,\n",
      "/Users/max/Library/Python/3.9/lib/python/site-packages/numpy/core/_methods.py:192: RuntimeWarning: invalid value encountered in scalar divide\n",
      "  ret = ret.dtype.type(ret / rcount)\n",
      " 58%|████████████████████████████████████████████████████████████████████▏                                                 | 6153/10646 [07:06<05:06, 14.66it/s]"
     ]
    },
    {
     "name": "stdout",
     "output_type": "stream",
     "text": [
      "Exception 047EA81E-6A86-4073-AD3B-456D8F3BD657 engzee pop from empty list\n"
     ]
    },
    {
     "name": "stderr",
     "output_type": "stream",
     "text": [
      " 58%|████████████████████████████████████████████████████████████████████▏                                                 | 6157/10646 [07:07<05:05, 14.68it/s]/Users/max/Library/Python/3.9/lib/python/site-packages/numpy/core/fromnumeric.py:3464: RuntimeWarning: Mean of empty slice.\n",
      "  return _methods._mean(a, axis=axis, dtype=dtype,\n",
      "/Users/max/Library/Python/3.9/lib/python/site-packages/numpy/core/_methods.py:192: RuntimeWarning: invalid value encountered in scalar divide\n",
      "  ret = ret.dtype.type(ret / rcount)\n",
      " 58%|████████████████████████████████████████████████████████████████████▌                                                 | 6189/10646 [07:09<05:07, 14.48it/s]/Users/max/Library/Python/3.9/lib/python/site-packages/numpy/core/fromnumeric.py:3464: RuntimeWarning: Mean of empty slice.\n",
      "  return _methods._mean(a, axis=axis, dtype=dtype,\n",
      "/Users/max/Library/Python/3.9/lib/python/site-packages/numpy/core/_methods.py:192: RuntimeWarning: invalid value encountered in scalar divide\n",
      "  ret = ret.dtype.type(ret / rcount)\n",
      " 58%|████████████████████████████████████████████████████████████████████▊                                                 | 6203/10646 [07:10<05:06, 14.51it/s]/Users/max/Library/Python/3.9/lib/python/site-packages/numpy/core/fromnumeric.py:3464: RuntimeWarning: Mean of empty slice.\n",
      "  return _methods._mean(a, axis=axis, dtype=dtype,\n",
      "/Users/max/Library/Python/3.9/lib/python/site-packages/numpy/core/_methods.py:192: RuntimeWarning: invalid value encountered in scalar divide\n",
      "  ret = ret.dtype.type(ret / rcount)\n",
      " 58%|████████████████████████████████████████████████████████████████████▊                                                 | 6207/10646 [07:10<05:05, 14.54it/s]/Users/max/Library/Python/3.9/lib/python/site-packages/numpy/core/fromnumeric.py:3464: RuntimeWarning: Mean of empty slice.\n",
      "  return _methods._mean(a, axis=axis, dtype=dtype,\n",
      "/Users/max/Library/Python/3.9/lib/python/site-packages/numpy/core/_methods.py:192: RuntimeWarning: invalid value encountered in scalar divide\n",
      "  ret = ret.dtype.type(ret / rcount)\n",
      " 58%|████████████████████████████████████████████████████████████████████▊                                                 | 6211/10646 [07:10<05:05, 14.54it/s]/Users/max/Library/Python/3.9/lib/python/site-packages/numpy/core/fromnumeric.py:3464: RuntimeWarning: Mean of empty slice.\n",
      "  return _methods._mean(a, axis=axis, dtype=dtype,\n",
      "/Users/max/Library/Python/3.9/lib/python/site-packages/numpy/core/_methods.py:192: RuntimeWarning: invalid value encountered in scalar divide\n",
      "  ret = ret.dtype.type(ret / rcount)\n",
      " 58%|████████████████████████████████████████████████████████████████████▉                                                 | 6225/10646 [07:11<05:13, 14.10it/s]/Users/max/Library/Python/3.9/lib/python/site-packages/numpy/core/fromnumeric.py:3464: RuntimeWarning: Mean of empty slice.\n",
      "  return _methods._mean(a, axis=axis, dtype=dtype,\n",
      "/Users/max/Library/Python/3.9/lib/python/site-packages/numpy/core/_methods.py:192: RuntimeWarning: invalid value encountered in scalar divide\n",
      "  ret = ret.dtype.type(ret / rcount)\n",
      " 59%|█████████████████████████████████████████████████████████████████████▍                                                | 6269/10646 [07:15<05:08, 14.20it/s]"
     ]
    },
    {
     "name": "stdout",
     "output_type": "stream",
     "text": [
      "Exception 047EA81E-6A86-4073-AD3B-456D8F3BD657 engzee pop from empty list\n"
     ]
    },
    {
     "name": "stderr",
     "output_type": "stream",
     "text": [
      " 59%|█████████████████████████████████████████████████████████████████████▋                                                | 6283/10646 [07:16<05:05, 14.28it/s]/Users/max/Library/Python/3.9/lib/python/site-packages/numpy/core/fromnumeric.py:3464: RuntimeWarning: Mean of empty slice.\n",
      "  return _methods._mean(a, axis=axis, dtype=dtype,\n",
      "/Users/max/Library/Python/3.9/lib/python/site-packages/numpy/core/_methods.py:192: RuntimeWarning: invalid value encountered in scalar divide\n",
      "  ret = ret.dtype.type(ret / rcount)\n",
      " 59%|█████████████████████████████████████████████████████████████████████▋                                                | 6287/10646 [07:16<05:01, 14.45it/s]"
     ]
    },
    {
     "name": "stdout",
     "output_type": "stream",
     "text": [
      "Exception 047EA81E-6A86-4073-AD3B-456D8F3BD657 engzee pop from empty list\n"
     ]
    },
    {
     "name": "stderr",
     "output_type": "stream",
     "text": [
      " 59%|█████████████████████████████████████████████████████████████████████▋                                                | 6292/10646 [07:16<04:23, 16.52it/s]"
     ]
    },
    {
     "name": "stdout",
     "output_type": "stream",
     "text": [
      "Failed for index 6289 with error: index 0 is out of bounds for axis 0 with size 0\n"
     ]
    },
    {
     "name": "stderr",
     "output_type": "stream",
     "text": [
      " 59%|██████████████████████████████████████████████████████████████████████                                                | 6324/10646 [07:18<05:04, 14.19it/s]/Users/max/Library/Python/3.9/lib/python/site-packages/numpy/core/fromnumeric.py:3464: RuntimeWarning: Mean of empty slice.\n",
      "  return _methods._mean(a, axis=axis, dtype=dtype,\n",
      "/Users/max/Library/Python/3.9/lib/python/site-packages/numpy/core/_methods.py:192: RuntimeWarning: invalid value encountered in scalar divide\n",
      "  ret = ret.dtype.type(ret / rcount)\n",
      " 60%|██████████████████████████████████████████████████████████████████████▎                                               | 6342/10646 [07:20<04:57, 14.47it/s]"
     ]
    },
    {
     "name": "stdout",
     "output_type": "stream",
     "text": [
      "Exception 047EA81E-6A86-4073-AD3B-456D8F3BD657 engzee pop from empty list\n"
     ]
    },
    {
     "name": "stderr",
     "output_type": "stream",
     "text": [
      " 60%|██████████████████████████████████████████████████████████████████████▌                                               | 6366/10646 [07:21<04:54, 14.52it/s]"
     ]
    },
    {
     "name": "stdout",
     "output_type": "stream",
     "text": [
      "Exception 047EA81E-6A86-4073-AD3B-456D8F3BD657 engzee pop from empty list\n"
     ]
    },
    {
     "name": "stderr",
     "output_type": "stream",
     "text": [
      " 60%|██████████████████████████████████████████████████████████████████████▊                                               | 6394/10646 [07:23<04:55, 14.37it/s]/Users/max/Library/Python/3.9/lib/python/site-packages/numpy/core/fromnumeric.py:3464: RuntimeWarning: Mean of empty slice.\n",
      "  return _methods._mean(a, axis=axis, dtype=dtype,\n",
      "/Users/max/Library/Python/3.9/lib/python/site-packages/numpy/core/_methods.py:192: RuntimeWarning: invalid value encountered in scalar divide\n",
      "  ret = ret.dtype.type(ret / rcount)\n",
      " 60%|███████████████████████████████████████████████████████████████████████▏                                              | 6419/10646 [07:25<04:14, 16.58it/s]"
     ]
    },
    {
     "name": "stdout",
     "output_type": "stream",
     "text": [
      "Failed for index 6417 with error: index 0 is out of bounds for axis 0 with size 0\n"
     ]
    },
    {
     "name": "stderr",
     "output_type": "stream",
     "text": [
      " 60%|███████████████████████████████████████████████████████████████████████▎                                              | 6439/10646 [07:26<04:55, 14.25it/s]/Users/max/Library/Python/3.9/lib/python/site-packages/numpy/core/fromnumeric.py:3464: RuntimeWarning: Mean of empty slice.\n",
      "  return _methods._mean(a, axis=axis, dtype=dtype,\n",
      "/Users/max/Library/Python/3.9/lib/python/site-packages/numpy/core/_methods.py:192: RuntimeWarning: invalid value encountered in scalar divide\n",
      "  ret = ret.dtype.type(ret / rcount)\n",
      " 61%|███████████████████████████████████████████████████████████████████████▋                                              | 6468/10646 [07:28<04:10, 16.67it/s]"
     ]
    },
    {
     "name": "stdout",
     "output_type": "stream",
     "text": [
      "Failed for index 6465 with error: index 0 is out of bounds for axis 0 with size 0\n",
      "Exception 047EA81E-6A86-4073-AD3B-456D8F3BD657 engzee pop from empty list\n"
     ]
    },
    {
     "name": "stderr",
     "output_type": "stream",
     "text": [
      " 61%|███████████████████████████████████████████████████████████████████████▊                                              | 6478/10646 [07:29<04:41, 14.83it/s]"
     ]
    },
    {
     "name": "stdout",
     "output_type": "stream",
     "text": [
      "Exception 047EA81E-6A86-4073-AD3B-456D8F3BD657 engzee pop from empty list\n"
     ]
    },
    {
     "name": "stderr",
     "output_type": "stream",
     "text": [
      " 61%|███████████████████████████████████████████████████████████████████████▉                                              | 6489/10646 [07:30<04:08, 16.71it/s]"
     ]
    },
    {
     "name": "stdout",
     "output_type": "stream",
     "text": [
      "Failed for index 6487 with error: index 0 is out of bounds for axis 0 with size 0\n"
     ]
    },
    {
     "name": "stderr",
     "output_type": "stream",
     "text": [
      " 62%|████████████████████████████████████████████████████████████████████████▌                                             | 6549/10646 [07:34<04:55, 13.86it/s]"
     ]
    },
    {
     "name": "stdout",
     "output_type": "stream",
     "text": [
      "Exception 047EA81E-6A86-4073-AD3B-456D8F3BD657 engzee pop from empty list\n"
     ]
    },
    {
     "name": "stderr",
     "output_type": "stream",
     "text": [
      " 62%|████████████████████████████████████████████████████████████████████████▋                                             | 6563/10646 [07:35<04:43, 14.40it/s]"
     ]
    },
    {
     "name": "stdout",
     "output_type": "stream",
     "text": [
      "Exception 047EA81E-6A86-4073-AD3B-456D8F3BD657 engzee pop from empty list\n"
     ]
    },
    {
     "name": "stderr",
     "output_type": "stream",
     "text": [
      " 62%|████████████████████████████████████████████████████████████████████████▉                                             | 6577/10646 [07:36<04:40, 14.49it/s]"
     ]
    },
    {
     "name": "stdout",
     "output_type": "stream",
     "text": [
      "Exception 047EA81E-6A86-4073-AD3B-456D8F3BD657 engzee pop from empty list\n"
     ]
    },
    {
     "name": "stderr",
     "output_type": "stream",
     "text": [
      " 62%|█████████████████████████████████████████████████████████████████████████▏                                            | 6605/10646 [07:38<04:41, 14.36it/s]/Users/max/Library/Python/3.9/lib/python/site-packages/numpy/core/fromnumeric.py:3464: RuntimeWarning: Mean of empty slice.\n",
      "  return _methods._mean(a, axis=axis, dtype=dtype,\n",
      "/Users/max/Library/Python/3.9/lib/python/site-packages/numpy/core/_methods.py:192: RuntimeWarning: invalid value encountered in scalar divide\n",
      "  ret = ret.dtype.type(ret / rcount)\n",
      " 62%|█████████████████████████████████████████████████████████████████████████▋                                            | 6645/10646 [07:40<04:37, 14.44it/s]"
     ]
    },
    {
     "name": "stdout",
     "output_type": "stream",
     "text": [
      "Exception 047EA81E-6A86-4073-AD3B-456D8F3BD657 engzee pop from empty list\n"
     ]
    },
    {
     "name": "stderr",
     "output_type": "stream",
     "text": [
      " 63%|█████████████████████████████████████████████████████████████████████████▊                                            | 6655/10646 [07:41<04:35, 14.50it/s]/Users/max/Library/Python/3.9/lib/python/site-packages/numpy/core/fromnumeric.py:3464: RuntimeWarning: Mean of empty slice.\n",
      "  return _methods._mean(a, axis=axis, dtype=dtype,\n",
      "/Users/max/Library/Python/3.9/lib/python/site-packages/numpy/core/_methods.py:192: RuntimeWarning: invalid value encountered in scalar divide\n",
      "  ret = ret.dtype.type(ret / rcount)\n",
      " 63%|██████████████████████████████████████████████████████████████████████████                                            | 6685/10646 [07:43<04:38, 14.20it/s]"
     ]
    },
    {
     "name": "stdout",
     "output_type": "stream",
     "text": [
      "Exception 047EA81E-6A86-4073-AD3B-456D8F3BD657 engzee pop from empty list\n"
     ]
    },
    {
     "name": "stderr",
     "output_type": "stream",
     "text": [
      " 63%|██████████████████████████████████████████████████████████████████████████▏                                           | 6691/10646 [07:44<04:36, 14.31it/s]/Users/max/Library/Python/3.9/lib/python/site-packages/numpy/core/fromnumeric.py:3464: RuntimeWarning: Mean of empty slice.\n",
      "  return _methods._mean(a, axis=axis, dtype=dtype,\n",
      "/Users/max/Library/Python/3.9/lib/python/site-packages/numpy/core/_methods.py:192: RuntimeWarning: invalid value encountered in scalar divide\n",
      "  ret = ret.dtype.type(ret / rcount)\n",
      " 63%|██████████████████████████████████████████████████████████████████████████▏                                           | 6695/10646 [07:44<04:34, 14.41it/s]/Users/max/Library/Python/3.9/lib/python/site-packages/numpy/core/fromnumeric.py:3464: RuntimeWarning: Mean of empty slice.\n",
      "  return _methods._mean(a, axis=axis, dtype=dtype,\n",
      "/Users/max/Library/Python/3.9/lib/python/site-packages/numpy/core/_methods.py:192: RuntimeWarning: invalid value encountered in scalar divide\n",
      "  ret = ret.dtype.type(ret / rcount)\n",
      " 63%|██████████████████████████████████████████████████████████████████████████▏                                           | 6697/10646 [07:44<04:32, 14.47it/s]"
     ]
    },
    {
     "name": "stdout",
     "output_type": "stream",
     "text": [
      "Exception 047EA81E-6A86-4073-AD3B-456D8F3BD657 engzee pop from empty list\n"
     ]
    },
    {
     "name": "stderr",
     "output_type": "stream",
     "text": [
      " 63%|██████████████████████████████████████████████████████████████████████████▎                                           | 6705/10646 [07:45<04:31, 14.50it/s]/Users/max/Library/Python/3.9/lib/python/site-packages/numpy/core/fromnumeric.py:3464: RuntimeWarning: Mean of empty slice.\n",
      "  return _methods._mean(a, axis=axis, dtype=dtype,\n",
      "/Users/max/Library/Python/3.9/lib/python/site-packages/numpy/core/_methods.py:192: RuntimeWarning: invalid value encountered in scalar divide\n",
      "  ret = ret.dtype.type(ret / rcount)\n",
      " 63%|██████████████████████████████████████████████████████████████████████████▎                                           | 6707/10646 [07:45<04:31, 14.49it/s]/Users/max/Library/Python/3.9/lib/python/site-packages/numpy/core/fromnumeric.py:3464: RuntimeWarning: Mean of empty slice.\n",
      "  return _methods._mean(a, axis=axis, dtype=dtype,\n",
      "/Users/max/Library/Python/3.9/lib/python/site-packages/numpy/core/_methods.py:192: RuntimeWarning: invalid value encountered in scalar divide\n",
      "  ret = ret.dtype.type(ret / rcount)\n",
      " 63%|██████████████████████████████████████████████████████████████████████████▋                                           | 6734/10646 [07:47<03:58, 16.42it/s]"
     ]
    },
    {
     "name": "stdout",
     "output_type": "stream",
     "text": [
      "Failed for index 6731 with error: index 0 is out of bounds for axis 0 with size 0\n"
     ]
    },
    {
     "name": "stderr",
     "output_type": "stream",
     "text": [
      " 63%|██████████████████████████████████████████████████████████████████████████▊                                           | 6744/10646 [07:47<04:27, 14.59it/s]/Users/max/Library/Python/3.9/lib/python/site-packages/numpy/core/fromnumeric.py:3464: RuntimeWarning: Mean of empty slice.\n",
      "  return _methods._mean(a, axis=axis, dtype=dtype,\n",
      "/Users/max/Library/Python/3.9/lib/python/site-packages/numpy/core/_methods.py:192: RuntimeWarning: invalid value encountered in scalar divide\n",
      "  ret = ret.dtype.type(ret / rcount)\n",
      "/Users/max/Library/Python/3.9/lib/python/site-packages/numpy/core/fromnumeric.py:3464: RuntimeWarning: Mean of empty slice.\n",
      "  return _methods._mean(a, axis=axis, dtype=dtype,\n",
      "/Users/max/Library/Python/3.9/lib/python/site-packages/numpy/core/_methods.py:192: RuntimeWarning: invalid value encountered in scalar divide\n",
      "  ret = ret.dtype.type(ret / rcount)\n",
      " 64%|██████████████████████████████████████████████████████████████████████████▉                                           | 6762/10646 [07:49<04:27, 14.50it/s]"
     ]
    },
    {
     "name": "stdout",
     "output_type": "stream",
     "text": [
      "Exception 047EA81E-6A86-4073-AD3B-456D8F3BD657 engzee pop from empty list\n"
     ]
    },
    {
     "name": "stderr",
     "output_type": "stream",
     "text": [
      " 64%|███████████████████████████████████████████████████████████████████████████                                           | 6774/10646 [07:49<04:29, 14.36it/s]/Users/max/Library/Python/3.9/lib/python/site-packages/numpy/core/fromnumeric.py:3464: RuntimeWarning: Mean of empty slice.\n",
      "  return _methods._mean(a, axis=axis, dtype=dtype,\n",
      "/Users/max/Library/Python/3.9/lib/python/site-packages/numpy/core/_methods.py:192: RuntimeWarning: invalid value encountered in scalar divide\n",
      "  ret = ret.dtype.type(ret / rcount)\n",
      " 64%|███████████████████████████████████████████████████████████████████████████▎                                          | 6796/10646 [07:51<04:36, 13.90it/s]/Users/max/Library/Python/3.9/lib/python/site-packages/numpy/core/fromnumeric.py:3464: RuntimeWarning: Mean of empty slice.\n",
      "  return _methods._mean(a, axis=axis, dtype=dtype,\n",
      "/Users/max/Library/Python/3.9/lib/python/site-packages/numpy/core/_methods.py:192: RuntimeWarning: invalid value encountered in scalar divide\n",
      "  ret = ret.dtype.type(ret / rcount)\n",
      " 64%|███████████████████████████████████████████████████████████████████████████▍                                          | 6808/10646 [07:52<04:27, 14.34it/s]/Users/max/Library/Python/3.9/lib/python/site-packages/numpy/core/fromnumeric.py:3464: RuntimeWarning: Mean of empty slice.\n",
      "  return _methods._mean(a, axis=axis, dtype=dtype,\n",
      "/Users/max/Library/Python/3.9/lib/python/site-packages/numpy/core/_methods.py:192: RuntimeWarning: invalid value encountered in scalar divide\n",
      "  ret = ret.dtype.type(ret / rcount)\n",
      " 64%|███████████████████████████████████████████████████████████████████████████▊                                          | 6842/10646 [07:54<04:21, 14.57it/s]"
     ]
    },
    {
     "name": "stdout",
     "output_type": "stream",
     "text": [
      "Exception 047EA81E-6A86-4073-AD3B-456D8F3BD657 engzee pop from empty list\n"
     ]
    },
    {
     "name": "stderr",
     "output_type": "stream",
     "text": [
      " 64%|███████████████████████████████████████████████████████████████████████████▉                                          | 6848/10646 [07:55<04:22, 14.45it/s]"
     ]
    },
    {
     "name": "stdout",
     "output_type": "stream",
     "text": [
      "Exception 047EA81E-6A86-4073-AD3B-456D8F3BD657 engzee pop from empty list\n"
     ]
    },
    {
     "name": "stderr",
     "output_type": "stream",
     "text": [
      " 64%|████████████████████████████████████████████████████████████████████████████                                          | 6866/10646 [07:56<04:22, 14.42it/s]"
     ]
    },
    {
     "name": "stdout",
     "output_type": "stream",
     "text": [
      "Exception 047EA81E-6A86-4073-AD3B-456D8F3BD657 engzee pop from empty list\n"
     ]
    },
    {
     "name": "stderr",
     "output_type": "stream",
     "text": [
      " 65%|████████████████████████████████████████████████████████████████████████████▎                                         | 6890/10646 [07:57<04:18, 14.51it/s]"
     ]
    },
    {
     "name": "stdout",
     "output_type": "stream",
     "text": [
      "Exception 047EA81E-6A86-4073-AD3B-456D8F3BD657 engzee pop from empty list\n"
     ]
    },
    {
     "name": "stderr",
     "output_type": "stream",
     "text": [
      " 65%|████████████████████████████████████████████████████████████████████████████▋                                         | 6920/10646 [08:00<04:29, 13.84it/s]"
     ]
    },
    {
     "name": "stdout",
     "output_type": "stream",
     "text": [
      "Exception 047EA81E-6A86-4073-AD3B-456D8F3BD657 engzee pop from empty list\n"
     ]
    },
    {
     "name": "stderr",
     "output_type": "stream",
     "text": [
      "/Users/max/Library/Python/3.9/lib/python/site-packages/numpy/core/fromnumeric.py:3464: RuntimeWarning: Mean of empty slice.\n",
      "  return _methods._mean(a, axis=axis, dtype=dtype,\n",
      "/Users/max/Library/Python/3.9/lib/python/site-packages/numpy/core/_methods.py:192: RuntimeWarning: invalid value encountered in scalar divide\n",
      "  ret = ret.dtype.type(ret / rcount)\n",
      " 65%|████████████████████████████████████████████████████████████████████████████▊                                         | 6932/10646 [08:00<04:17, 14.43it/s]/Users/max/Library/Python/3.9/lib/python/site-packages/numpy/core/fromnumeric.py:3464: RuntimeWarning: Mean of empty slice.\n",
      "  return _methods._mean(a, axis=axis, dtype=dtype,\n",
      "/Users/max/Library/Python/3.9/lib/python/site-packages/numpy/core/_methods.py:192: RuntimeWarning: invalid value encountered in scalar divide\n",
      "  ret = ret.dtype.type(ret / rcount)\n",
      " 65%|████████████████████████████████████████████████████████████████████████████▉                                         | 6943/10646 [08:01<03:41, 16.69it/s]"
     ]
    },
    {
     "name": "stdout",
     "output_type": "stream",
     "text": [
      "Failed for index 6941 with error: index 0 is out of bounds for axis 0 with size 0\n"
     ]
    },
    {
     "name": "stderr",
     "output_type": "stream",
     "text": [
      " 65%|█████████████████████████████████████████████████████████████████████████████                                         | 6957/10646 [08:02<04:10, 14.71it/s]/Users/max/Library/Python/3.9/lib/python/site-packages/numpy/core/fromnumeric.py:3464: RuntimeWarning: Mean of empty slice.\n",
      "  return _methods._mean(a, axis=axis, dtype=dtype,\n",
      "/Users/max/Library/Python/3.9/lib/python/site-packages/numpy/core/_methods.py:192: RuntimeWarning: invalid value encountered in scalar divide\n",
      "  ret = ret.dtype.type(ret / rcount)\n",
      " 65%|█████████████████████████████████████████████████████████████████████████████▏                                        | 6961/10646 [08:02<04:13, 14.55it/s]/Users/max/Library/Python/3.9/lib/python/site-packages/numpy/core/fromnumeric.py:3464: RuntimeWarning: Mean of empty slice.\n",
      "  return _methods._mean(a, axis=axis, dtype=dtype,\n",
      "/Users/max/Library/Python/3.9/lib/python/site-packages/numpy/core/_methods.py:192: RuntimeWarning: invalid value encountered in scalar divide\n",
      "  ret = ret.dtype.type(ret / rcount)\n",
      " 65%|█████████████████████████████████████████████████████████████████████████████▏                                        | 6963/10646 [08:03<04:12, 14.60it/s]/Users/max/Library/Python/3.9/lib/python/site-packages/numpy/core/fromnumeric.py:3464: RuntimeWarning: Mean of empty slice.\n",
      "  return _methods._mean(a, axis=axis, dtype=dtype,\n",
      "/Users/max/Library/Python/3.9/lib/python/site-packages/numpy/core/_methods.py:192: RuntimeWarning: invalid value encountered in scalar divide\n",
      "  ret = ret.dtype.type(ret / rcount)\n",
      " 65%|█████████████████████████████████████████████████████████████████████████████▏                                        | 6965/10646 [08:03<04:11, 14.63it/s]"
     ]
    },
    {
     "name": "stdout",
     "output_type": "stream",
     "text": [
      "Exception 047EA81E-6A86-4073-AD3B-456D8F3BD657 engzee pop from empty list\n"
     ]
    },
    {
     "name": "stderr",
     "output_type": "stream",
     "text": [
      " 66%|█████████████████████████████████████████████████████████████████████████████▍                                        | 6991/10646 [08:04<04:12, 14.50it/s]"
     ]
    },
    {
     "name": "stdout",
     "output_type": "stream",
     "text": [
      "Exception 047EA81E-6A86-4073-AD3B-456D8F3BD657 engzee pop from empty list\n",
      "Exception 047EA81E-6A86-4073-AD3B-456D8F3BD657 engzee pop from empty list\n",
      "Failed for index 6991 with error: index 0 is out of bounds for axis 0 with size 0\n"
     ]
    },
    {
     "name": "stderr",
     "output_type": "stream",
     "text": [
      " 66%|█████████████████████████████████████████████████████████████████████████████▌                                        | 6996/10646 [08:05<03:48, 15.98it/s]/Users/max/Library/Python/3.9/lib/python/site-packages/numpy/core/fromnumeric.py:3464: RuntimeWarning: Mean of empty slice.\n",
      "  return _methods._mean(a, axis=axis, dtype=dtype,\n",
      "/Users/max/Library/Python/3.9/lib/python/site-packages/numpy/core/_methods.py:192: RuntimeWarning: invalid value encountered in scalar divide\n",
      "  ret = ret.dtype.type(ret / rcount)\n",
      " 66%|█████████████████████████████████████████████████████████████████████████████▌                                        | 7000/10646 [08:05<03:58, 15.27it/s]"
     ]
    },
    {
     "name": "stdout",
     "output_type": "stream",
     "text": [
      "Exception 047EA81E-6A86-4073-AD3B-456D8F3BD657 engzee pop from empty list\n"
     ]
    },
    {
     "name": "stderr",
     "output_type": "stream",
     "text": [
      " 66%|█████████████████████████████████████████████████████████████████████████████▋                                        | 7008/10646 [08:06<04:09, 14.59it/s]/Users/max/Library/Python/3.9/lib/python/site-packages/numpy/core/fromnumeric.py:3464: RuntimeWarning: Mean of empty slice.\n",
      "  return _methods._mean(a, axis=axis, dtype=dtype,\n",
      "/Users/max/Library/Python/3.9/lib/python/site-packages/numpy/core/_methods.py:192: RuntimeWarning: invalid value encountered in scalar divide\n",
      "  ret = ret.dtype.type(ret / rcount)\n",
      " 66%|██████████████████████████████████████████████████████████████████████████████                                        | 7045/10646 [08:08<03:36, 16.60it/s]"
     ]
    },
    {
     "name": "stdout",
     "output_type": "stream",
     "text": [
      "Failed for index 7043 with error: index 0 is out of bounds for axis 0 with size 0\n"
     ]
    },
    {
     "name": "stderr",
     "output_type": "stream",
     "text": [
      " 66%|██████████████████████████████████████████████████████████████████████████████▏                                       | 7052/10646 [08:08<03:26, 17.39it/s]"
     ]
    },
    {
     "name": "stdout",
     "output_type": "stream",
     "text": [
      "Failed for index 7050 with error: index 0 is out of bounds for axis 0 with size 0\n"
     ]
    },
    {
     "name": "stderr",
     "output_type": "stream",
     "text": [
      " 67%|██████████████████████████████████████████████████████████████████████████████▊                                       | 7110/10646 [08:12<04:04, 14.46it/s]/Users/max/Library/Python/3.9/lib/python/site-packages/numpy/core/fromnumeric.py:3464: RuntimeWarning: Mean of empty slice.\n",
      "  return _methods._mean(a, axis=axis, dtype=dtype,\n",
      "/Users/max/Library/Python/3.9/lib/python/site-packages/numpy/core/_methods.py:192: RuntimeWarning: invalid value encountered in scalar divide\n",
      "  ret = ret.dtype.type(ret / rcount)\n",
      " 67%|██████████████████████████████████████████████████████████████████████████████▉                                       | 7124/10646 [08:13<04:02, 14.52it/s]/Users/max/Library/Python/3.9/lib/python/site-packages/numpy/core/fromnumeric.py:3464: RuntimeWarning: Mean of empty slice.\n",
      "  return _methods._mean(a, axis=axis, dtype=dtype,\n",
      "/Users/max/Library/Python/3.9/lib/python/site-packages/numpy/core/_methods.py:192: RuntimeWarning: invalid value encountered in scalar divide\n",
      "  ret = ret.dtype.type(ret / rcount)\n",
      " 67%|███████████████████████████████████████████████████████████████████████████████                                       | 7130/10646 [08:14<04:02, 14.49it/s]/Users/max/Library/Python/3.9/lib/python/site-packages/numpy/core/fromnumeric.py:3464: RuntimeWarning: Mean of empty slice.\n",
      "  return _methods._mean(a, axis=axis, dtype=dtype,\n",
      "/Users/max/Library/Python/3.9/lib/python/site-packages/numpy/core/_methods.py:192: RuntimeWarning: invalid value encountered in scalar divide\n",
      "  ret = ret.dtype.type(ret / rcount)\n",
      " 67%|███████████████████████████████████████████████████████████████████████████████▏                                      | 7145/10646 [08:15<03:29, 16.71it/s]"
     ]
    },
    {
     "name": "stdout",
     "output_type": "stream",
     "text": [
      "Failed for index 7142 with error: index 0 is out of bounds for axis 0 with size 0\n"
     ]
    },
    {
     "name": "stderr",
     "output_type": "stream",
     "text": [
      " 67%|███████████████████████████████████████████████████████████████████████████████▍                                      | 7169/10646 [08:16<03:59, 14.51it/s]"
     ]
    },
    {
     "name": "stdout",
     "output_type": "stream",
     "text": [
      "Exception 047EA81E-6A86-4073-AD3B-456D8F3BD657 engzee pop from empty list\n"
     ]
    },
    {
     "name": "stderr",
     "output_type": "stream",
     "text": [
      " 68%|███████████████████████████████████████████████████████████████████████████████▊                                      | 7197/10646 [08:18<04:02, 14.24it/s]/Users/max/Library/Python/3.9/lib/python/site-packages/numpy/core/fromnumeric.py:3464: RuntimeWarning: Mean of empty slice.\n",
      "  return _methods._mean(a, axis=axis, dtype=dtype,\n",
      "/Users/max/Library/Python/3.9/lib/python/site-packages/numpy/core/_methods.py:192: RuntimeWarning: invalid value encountered in scalar divide\n",
      "  ret = ret.dtype.type(ret / rcount)\n",
      " 68%|███████████████████████████████████████████████████████████████████████████████▊                                      | 7205/10646 [08:19<04:01, 14.27it/s]/Users/max/Library/Python/3.9/lib/python/site-packages/numpy/core/fromnumeric.py:3464: RuntimeWarning: Mean of empty slice.\n",
      "  return _methods._mean(a, axis=axis, dtype=dtype,\n",
      "/Users/max/Library/Python/3.9/lib/python/site-packages/numpy/core/_methods.py:192: RuntimeWarning: invalid value encountered in scalar divide\n",
      "  ret = ret.dtype.type(ret / rcount)\n",
      " 68%|████████████████████████████████████████████████████████████████████████████████                                      | 7219/10646 [08:20<03:56, 14.47it/s]/Users/max/Library/Python/3.9/lib/python/site-packages/numpy/core/fromnumeric.py:3464: RuntimeWarning: Mean of empty slice.\n",
      "  return _methods._mean(a, axis=axis, dtype=dtype,\n",
      "/Users/max/Library/Python/3.9/lib/python/site-packages/numpy/core/_methods.py:192: RuntimeWarning: invalid value encountered in scalar divide\n",
      "  ret = ret.dtype.type(ret / rcount)\n",
      " 68%|████████████████████████████████████████████████████████████████████████████████                                      | 7225/10646 [08:20<03:55, 14.51it/s]/Users/max/Library/Python/3.9/lib/python/site-packages/numpy/core/fromnumeric.py:3464: RuntimeWarning: Mean of empty slice.\n",
      "  return _methods._mean(a, axis=axis, dtype=dtype,\n",
      "/Users/max/Library/Python/3.9/lib/python/site-packages/numpy/core/_methods.py:192: RuntimeWarning: invalid value encountered in scalar divide\n",
      "  ret = ret.dtype.type(ret / rcount)\n",
      " 68%|████████████████████████████████████████████████████████████████████████████████▎                                     | 7247/10646 [08:22<04:07, 13.73it/s]/Users/max/Library/Python/3.9/lib/python/site-packages/numpy/core/fromnumeric.py:3464: RuntimeWarning: Mean of empty slice.\n",
      "  return _methods._mean(a, axis=axis, dtype=dtype,\n",
      "/Users/max/Library/Python/3.9/lib/python/site-packages/numpy/core/_methods.py:192: RuntimeWarning: invalid value encountered in scalar divide\n",
      "  ret = ret.dtype.type(ret / rcount)\n",
      " 68%|████████████████████████████████████████████████████████████████████████████████▋                                     | 7283/10646 [08:24<03:56, 14.19it/s]/Users/max/Library/Python/3.9/lib/python/site-packages/numpy/core/fromnumeric.py:3464: RuntimeWarning: Mean of empty slice.\n",
      "  return _methods._mean(a, axis=axis, dtype=dtype,\n",
      "/Users/max/Library/Python/3.9/lib/python/site-packages/numpy/core/_methods.py:192: RuntimeWarning: invalid value encountered in scalar divide\n",
      "  ret = ret.dtype.type(ret / rcount)\n",
      " 69%|█████████████████████████████████████████████████████████████████████████████████                                     | 7313/10646 [08:27<03:57, 14.03it/s]"
     ]
    },
    {
     "name": "stdout",
     "output_type": "stream",
     "text": [
      "Exception 047EA81E-6A86-4073-AD3B-456D8F3BD657 engzee pop from empty list\n"
     ]
    },
    {
     "name": "stderr",
     "output_type": "stream",
     "text": [
      " 69%|█████████████████████████████████████████████████████████████████████████████████▎                                    | 7331/10646 [08:28<03:51, 14.30it/s]"
     ]
    },
    {
     "name": "stdout",
     "output_type": "stream",
     "text": [
      "Exception 047EA81E-6A86-4073-AD3B-456D8F3BD657 engzee pop from empty list\n"
     ]
    },
    {
     "name": "stderr",
     "output_type": "stream",
     "text": [
      " 69%|█████████████████████████████████████████████████████████████████████████████████▌                                    | 7355/10646 [08:30<03:58, 13.80it/s]"
     ]
    },
    {
     "name": "stdout",
     "output_type": "stream",
     "text": [
      "Exception 047EA81E-6A86-4073-AD3B-456D8F3BD657 engzee pop from empty list\n"
     ]
    },
    {
     "name": "stderr",
     "output_type": "stream",
     "text": [
      " 69%|█████████████████████████████████████████████████████████████████████████████████▉                                    | 7393/10646 [08:32<03:59, 13.58it/s]/Users/max/Library/Python/3.9/lib/python/site-packages/numpy/core/fromnumeric.py:3464: RuntimeWarning: Mean of empty slice.\n",
      "  return _methods._mean(a, axis=axis, dtype=dtype,\n",
      "/Users/max/Library/Python/3.9/lib/python/site-packages/numpy/core/_methods.py:192: RuntimeWarning: invalid value encountered in scalar divide\n",
      "  ret = ret.dtype.type(ret / rcount)\n",
      " 69%|█████████████████████████████████████████████████████████████████████████████████▉                                    | 7395/10646 [08:33<03:57, 13.67it/s]/Users/max/Library/Python/3.9/lib/python/site-packages/numpy/core/fromnumeric.py:3464: RuntimeWarning: Mean of empty slice.\n",
      "  return _methods._mean(a, axis=axis, dtype=dtype,\n",
      "/Users/max/Library/Python/3.9/lib/python/site-packages/numpy/core/_methods.py:192: RuntimeWarning: invalid value encountered in scalar divide\n",
      "  ret = ret.dtype.type(ret / rcount)\n",
      " 70%|██████████████████████████████████████████████████████████████████████████████████                                    | 7406/10646 [08:33<03:17, 16.40it/s]"
     ]
    },
    {
     "name": "stdout",
     "output_type": "stream",
     "text": [
      "Failed for index 7403 with error: index 0 is out of bounds for axis 0 with size 0\n"
     ]
    },
    {
     "name": "stderr",
     "output_type": "stream",
     "text": [
      " 70%|██████████████████████████████████████████████████████████████████████████████████▏                                   | 7410/10646 [08:34<03:29, 15.42it/s]"
     ]
    },
    {
     "name": "stdout",
     "output_type": "stream",
     "text": [
      "Exception 047EA81E-6A86-4073-AD3B-456D8F3BD657 engzee pop from empty list\n"
     ]
    },
    {
     "name": "stderr",
     "output_type": "stream",
     "text": [
      " 70%|██████████████████████████████████████████████████████████████████████████████████▋                                   | 7464/10646 [08:37<03:38, 14.56it/s]/Users/max/Library/Python/3.9/lib/python/site-packages/numpy/core/fromnumeric.py:3464: RuntimeWarning: Mean of empty slice.\n",
      "  return _methods._mean(a, axis=axis, dtype=dtype,\n",
      "/Users/max/Library/Python/3.9/lib/python/site-packages/numpy/core/_methods.py:192: RuntimeWarning: invalid value encountered in scalar divide\n",
      "  ret = ret.dtype.type(ret / rcount)\n",
      " 70%|██████████████████████████████████████████████████████████████████████████████████▊                                   | 7466/10646 [08:37<03:38, 14.53it/s]"
     ]
    },
    {
     "name": "stdout",
     "output_type": "stream",
     "text": [
      "Exception 047EA81E-6A86-4073-AD3B-456D8F3BD657 engzee pop from empty list\n"
     ]
    },
    {
     "name": "stderr",
     "output_type": "stream",
     "text": [
      " 70%|██████████████████████████████████████████████████████████████████████████████████▊                                   | 7476/10646 [08:38<03:39, 14.46it/s]/Users/max/Library/Python/3.9/lib/python/site-packages/numpy/core/fromnumeric.py:3464: RuntimeWarning: Mean of empty slice.\n",
      "  return _methods._mean(a, axis=axis, dtype=dtype,\n",
      "/Users/max/Library/Python/3.9/lib/python/site-packages/numpy/core/_methods.py:192: RuntimeWarning: invalid value encountered in scalar divide\n",
      "  ret = ret.dtype.type(ret / rcount)\n",
      " 70%|██████████████████████████████████████████████████████████████████████████████████▉                                   | 7478/10646 [08:38<03:38, 14.52it/s]/Users/max/Library/Python/3.9/lib/python/site-packages/numpy/core/fromnumeric.py:3464: RuntimeWarning: Mean of empty slice.\n",
      "  return _methods._mean(a, axis=axis, dtype=dtype,\n",
      "/Users/max/Library/Python/3.9/lib/python/site-packages/numpy/core/_methods.py:192: RuntimeWarning: invalid value encountered in scalar divide\n",
      "  ret = ret.dtype.type(ret / rcount)\n",
      " 70%|██████████████████████████████████████████████████████████████████████████████████▉                                   | 7486/10646 [08:39<03:37, 14.51it/s]/Users/max/Library/Python/3.9/lib/python/site-packages/numpy/core/fromnumeric.py:3464: RuntimeWarning: Mean of empty slice.\n",
      "  return _methods._mean(a, axis=axis, dtype=dtype,\n",
      "/Users/max/Library/Python/3.9/lib/python/site-packages/numpy/core/_methods.py:192: RuntimeWarning: invalid value encountered in scalar divide\n",
      "  ret = ret.dtype.type(ret / rcount)\n",
      " 70%|███████████████████████████████████████████████████████████████████████████████████                                   | 7497/10646 [08:39<03:09, 16.64it/s]"
     ]
    },
    {
     "name": "stdout",
     "output_type": "stream",
     "text": [
      "Failed for index 7494 with error: index 0 is out of bounds for axis 0 with size 0\n"
     ]
    },
    {
     "name": "stderr",
     "output_type": "stream",
     "text": [
      "/Users/max/Library/Python/3.9/lib/python/site-packages/numpy/core/fromnumeric.py:3464: RuntimeWarning: Mean of empty slice.\n",
      "  return _methods._mean(a, axis=axis, dtype=dtype,\n",
      "/Users/max/Library/Python/3.9/lib/python/site-packages/numpy/core/_methods.py:192: RuntimeWarning: invalid value encountered in scalar divide\n",
      "  ret = ret.dtype.type(ret / rcount)\n",
      " 70%|███████████████████████████████████████████████████████████████████████████████████▏                                  | 7502/10646 [08:40<02:55, 17.90it/s]"
     ]
    },
    {
     "name": "stdout",
     "output_type": "stream",
     "text": [
      "Failed for index 7500 with error: index 0 is out of bounds for axis 0 with size 0\n"
     ]
    },
    {
     "name": "stderr",
     "output_type": "stream",
     "text": [
      " 71%|███████████████████████████████████████████████████████████████████████████████████▎                                  | 7518/10646 [08:41<03:31, 14.78it/s]"
     ]
    },
    {
     "name": "stdout",
     "output_type": "stream",
     "text": [
      "Exception 047EA81E-6A86-4073-AD3B-456D8F3BD657 engzee pop from empty list\n"
     ]
    },
    {
     "name": "stderr",
     "output_type": "stream",
     "text": [
      " 71%|███████████████████████████████████████████████████████████████████████████████████▍                                  | 7523/10646 [08:41<03:05, 16.80it/s]"
     ]
    },
    {
     "name": "stdout",
     "output_type": "stream",
     "text": [
      "Failed for index 7520 with error: index 0 is out of bounds for axis 0 with size 0\n"
     ]
    },
    {
     "name": "stderr",
     "output_type": "stream",
     "text": [
      " 71%|███████████████████████████████████████████████████████████████████████████████████▍                                  | 7529/10646 [08:42<03:24, 15.23it/s]/Users/max/Library/Python/3.9/lib/python/site-packages/numpy/core/fromnumeric.py:3464: RuntimeWarning: Mean of empty slice.\n",
      "  return _methods._mean(a, axis=axis, dtype=dtype,\n",
      "/Users/max/Library/Python/3.9/lib/python/site-packages/numpy/core/_methods.py:192: RuntimeWarning: invalid value encountered in scalar divide\n",
      "  ret = ret.dtype.type(ret / rcount)\n",
      " 71%|███████████████████████████████████████████████████████████████████████████████████▋                                  | 7553/10646 [08:43<03:33, 14.46it/s]/Users/max/Library/Python/3.9/lib/python/site-packages/numpy/core/fromnumeric.py:3464: RuntimeWarning: Mean of empty slice.\n",
      "  return _methods._mean(a, axis=axis, dtype=dtype,\n",
      "/Users/max/Library/Python/3.9/lib/python/site-packages/numpy/core/_methods.py:192: RuntimeWarning: invalid value encountered in scalar divide\n",
      "  ret = ret.dtype.type(ret / rcount)\n",
      " 71%|███████████████████████████████████████████████████████████████████████████████████▊                                  | 7563/10646 [08:44<03:32, 14.50it/s]"
     ]
    },
    {
     "name": "stdout",
     "output_type": "stream",
     "text": [
      "Exception 047EA81E-6A86-4073-AD3B-456D8F3BD657 engzee pop from empty list\n"
     ]
    },
    {
     "name": "stderr",
     "output_type": "stream",
     "text": [
      " 71%|███████████████████████████████████████████████████████████████████████████████████▊                                  | 7565/10646 [08:44<03:33, 14.45it/s]/Users/max/Library/Python/3.9/lib/python/site-packages/numpy/core/fromnumeric.py:3464: RuntimeWarning: Mean of empty slice.\n",
      "  return _methods._mean(a, axis=axis, dtype=dtype,\n",
      "/Users/max/Library/Python/3.9/lib/python/site-packages/numpy/core/_methods.py:192: RuntimeWarning: invalid value encountered in scalar divide\n",
      "  ret = ret.dtype.type(ret / rcount)\n",
      " 72%|████████████████████████████████████████████████████████████████████████████████████▍                                 | 7613/10646 [08:47<03:29, 14.45it/s]/Users/max/Library/Python/3.9/lib/python/site-packages/numpy/core/fromnumeric.py:3464: RuntimeWarning: Mean of empty slice.\n",
      "  return _methods._mean(a, axis=axis, dtype=dtype,\n",
      "/Users/max/Library/Python/3.9/lib/python/site-packages/numpy/core/_methods.py:192: RuntimeWarning: invalid value encountered in scalar divide\n",
      "  ret = ret.dtype.type(ret / rcount)\n",
      " 72%|████████████████████████████████████████████████████████████████████████████████████▍                                 | 7620/10646 [08:48<02:59, 16.82it/s]"
     ]
    },
    {
     "name": "stdout",
     "output_type": "stream",
     "text": [
      "Failed for index 7618 with error: index 0 is out of bounds for axis 0 with size 0\n"
     ]
    },
    {
     "name": "stderr",
     "output_type": "stream",
     "text": [
      " 72%|████████████████████████████████████████████████████████████████████████████████████▍                                 | 7622/10646 [08:48<03:08, 16.05it/s]/Users/max/Library/Python/3.9/lib/python/site-packages/numpy/core/fromnumeric.py:3464: RuntimeWarning: Mean of empty slice.\n",
      "  return _methods._mean(a, axis=axis, dtype=dtype,\n",
      "/Users/max/Library/Python/3.9/lib/python/site-packages/numpy/core/_methods.py:192: RuntimeWarning: invalid value encountered in scalar divide\n",
      "  ret = ret.dtype.type(ret / rcount)\n",
      " 72%|████████████████████████████████████████████████████████████████████████████████████▉                                 | 7668/10646 [08:51<03:24, 14.55it/s]/Users/max/Library/Python/3.9/lib/python/site-packages/numpy/core/fromnumeric.py:3464: RuntimeWarning: Mean of empty slice.\n",
      "  return _methods._mean(a, axis=axis, dtype=dtype,\n",
      "/Users/max/Library/Python/3.9/lib/python/site-packages/numpy/core/_methods.py:192: RuntimeWarning: invalid value encountered in scalar divide\n",
      "  ret = ret.dtype.type(ret / rcount)\n",
      " 73%|█████████████████████████████████████████████████████████████████████████████████████▊                                | 7739/10646 [08:56<02:54, 16.64it/s]"
     ]
    },
    {
     "name": "stdout",
     "output_type": "stream",
     "text": [
      "Failed for index 7737 with error: index 0 is out of bounds for axis 0 with size 0\n"
     ]
    },
    {
     "name": "stderr",
     "output_type": "stream",
     "text": [
      " 73%|█████████████████████████████████████████████████████████████████████████████████████▉                                | 7755/10646 [08:57<03:27, 13.95it/s]"
     ]
    },
    {
     "name": "stdout",
     "output_type": "stream",
     "text": [
      "Exception 047EA81E-6A86-4073-AD3B-456D8F3BD657 engzee pop from empty list\n",
      "Exception 047EA81E-6A86-4073-AD3B-456D8F3BD657 engzee pop from empty list\n"
     ]
    },
    {
     "name": "stderr",
     "output_type": "stream",
     "text": [
      " 73%|██████████████████████████████████████████████████████████████████████████████████████                                | 7763/10646 [08:58<03:24, 14.08it/s]/Users/max/Library/Python/3.9/lib/python/site-packages/numpy/core/fromnumeric.py:3464: RuntimeWarning: Mean of empty slice.\n",
      "  return _methods._mean(a, axis=axis, dtype=dtype,\n",
      "/Users/max/Library/Python/3.9/lib/python/site-packages/numpy/core/_methods.py:192: RuntimeWarning: invalid value encountered in scalar divide\n",
      "  ret = ret.dtype.type(ret / rcount)\n",
      " 73%|██████████████████████████████████████████████████████████████████████████████████████▏                               | 7777/10646 [08:59<03:41, 12.95it/s]/Users/max/Library/Python/3.9/lib/python/site-packages/numpy/core/fromnumeric.py:3464: RuntimeWarning: Mean of empty slice.\n",
      "  return _methods._mean(a, axis=axis, dtype=dtype,\n",
      "/Users/max/Library/Python/3.9/lib/python/site-packages/numpy/core/_methods.py:192: RuntimeWarning: invalid value encountered in scalar divide\n",
      "  ret = ret.dtype.type(ret / rcount)\n",
      " 73%|██████████████████████████████████████████████████████████████████████████████████████▎                               | 7790/10646 [09:00<03:24, 13.97it/s]"
     ]
    },
    {
     "name": "stdout",
     "output_type": "stream",
     "text": [
      "Failed for index 7787 with error: index 0 is out of bounds for axis 0 with size 0\n"
     ]
    },
    {
     "name": "stderr",
     "output_type": "stream",
     "text": [
      " 73%|██████████████████████████████████████████████████████████████████████████████████████▋                               | 7816/10646 [09:02<03:24, 13.84it/s]/Users/max/Library/Python/3.9/lib/python/site-packages/numpy/core/fromnumeric.py:3464: RuntimeWarning: Mean of empty slice.\n",
      "  return _methods._mean(a, axis=axis, dtype=dtype,\n",
      "/Users/max/Library/Python/3.9/lib/python/site-packages/numpy/core/_methods.py:192: RuntimeWarning: invalid value encountered in scalar divide\n",
      "  ret = ret.dtype.type(ret / rcount)\n",
      " 74%|██████████████████████████████████████████████████████████████████████████████████████▊                               | 7835/10646 [09:03<02:56, 15.89it/s]"
     ]
    },
    {
     "name": "stdout",
     "output_type": "stream",
     "text": [
      "Failed for index 7833 with error: index 0 is out of bounds for axis 0 with size 0\n"
     ]
    },
    {
     "name": "stderr",
     "output_type": "stream",
     "text": [
      " 74%|███████████████████████████████████████████████████████████████████████████████████████                               | 7856/10646 [09:04<02:53, 16.04it/s]"
     ]
    },
    {
     "name": "stdout",
     "output_type": "stream",
     "text": [
      "Failed for index 7854 with error: index 0 is out of bounds for axis 0 with size 0\n"
     ]
    },
    {
     "name": "stderr",
     "output_type": "stream",
     "text": [
      " 74%|███████████████████████████████████████████████████████████████████████████████████████▌                              | 7896/10646 [09:07<03:11, 14.38it/s]"
     ]
    },
    {
     "name": "stdout",
     "output_type": "stream",
     "text": [
      "Exception 047EA81E-6A86-4073-AD3B-456D8F3BD657 engzee pop from empty list\n"
     ]
    },
    {
     "name": "stderr",
     "output_type": "stream",
     "text": [
      " 74%|███████████████████████████████████████████████████████████████████████████████████████▌                              | 7905/10646 [09:08<02:45, 16.52it/s]"
     ]
    },
    {
     "name": "stdout",
     "output_type": "stream",
     "text": [
      "Failed for index 7902 with error: index 0 is out of bounds for axis 0 with size 0\n"
     ]
    },
    {
     "name": "stderr",
     "output_type": "stream",
     "text": [
      " 75%|████████████████████████████████████████████████████████████████████████████████████████                              | 7949/10646 [09:11<03:15, 13.76it/s]"
     ]
    },
    {
     "name": "stdout",
     "output_type": "stream",
     "text": [
      "Exception 047EA81E-6A86-4073-AD3B-456D8F3BD657 engzee pop from empty list\n"
     ]
    },
    {
     "name": "stderr",
     "output_type": "stream",
     "text": [
      "/Users/max/Library/Python/3.9/lib/python/site-packages/numpy/core/fromnumeric.py:3464: RuntimeWarning: Mean of empty slice.\n",
      "  return _methods._mean(a, axis=axis, dtype=dtype,\n",
      "/Users/max/Library/Python/3.9/lib/python/site-packages/numpy/core/_methods.py:192: RuntimeWarning: invalid value encountered in scalar divide\n",
      "  ret = ret.dtype.type(ret / rcount)\n",
      " 75%|████████████████████████████████████████████████████████████████████████████████████████▏                             | 7961/10646 [09:12<03:07, 14.34it/s]"
     ]
    },
    {
     "name": "stdout",
     "output_type": "stream",
     "text": [
      "Exception 047EA81E-6A86-4073-AD3B-456D8F3BD657 engzee pop from empty list\n"
     ]
    },
    {
     "name": "stderr",
     "output_type": "stream",
     "text": [
      " 75%|████████████████████████████████████████████████████████████████████████████████████████▍                             | 7977/10646 [09:13<03:15, 13.67it/s]/Users/max/Library/Python/3.9/lib/python/site-packages/numpy/core/fromnumeric.py:3464: RuntimeWarning: Mean of empty slice.\n",
      "  return _methods._mean(a, axis=axis, dtype=dtype,\n",
      "/Users/max/Library/Python/3.9/lib/python/site-packages/numpy/core/_methods.py:192: RuntimeWarning: invalid value encountered in scalar divide\n",
      "  ret = ret.dtype.type(ret / rcount)\n",
      " 75%|████████████████████████████████████████████████████████████████████████████████████████▋                             | 7997/10646 [09:14<03:05, 14.25it/s]/Users/max/Library/Python/3.9/lib/python/site-packages/numpy/core/fromnumeric.py:3464: RuntimeWarning: Mean of empty slice.\n",
      "  return _methods._mean(a, axis=axis, dtype=dtype,\n",
      "/Users/max/Library/Python/3.9/lib/python/site-packages/numpy/core/_methods.py:192: RuntimeWarning: invalid value encountered in scalar divide\n",
      "  ret = ret.dtype.type(ret / rcount)\n",
      " 75%|████████████████████████████████████████████████████████████████████████████████████████▊                             | 8009/10646 [09:15<03:06, 14.14it/s]/Users/max/Library/Python/3.9/lib/python/site-packages/numpy/core/fromnumeric.py:3464: RuntimeWarning: Mean of empty slice.\n",
      "  return _methods._mean(a, axis=axis, dtype=dtype,\n",
      "/Users/max/Library/Python/3.9/lib/python/site-packages/numpy/core/_methods.py:192: RuntimeWarning: invalid value encountered in scalar divide\n",
      "  ret = ret.dtype.type(ret / rcount)\n",
      " 75%|████████████████████████████████████████████████████████████████████████████████████████▉                             | 8019/10646 [09:16<03:05, 14.19it/s]/Users/max/Library/Python/3.9/lib/python/site-packages/numpy/core/fromnumeric.py:3464: RuntimeWarning: Mean of empty slice.\n",
      "  return _methods._mean(a, axis=axis, dtype=dtype,\n",
      "/Users/max/Library/Python/3.9/lib/python/site-packages/numpy/core/_methods.py:192: RuntimeWarning: invalid value encountered in scalar divide\n",
      "  ret = ret.dtype.type(ret / rcount)\n",
      " 75%|█████████████████████████████████████████████████████████████████████████████████████████                             | 8031/10646 [09:17<03:00, 14.47it/s]"
     ]
    },
    {
     "name": "stdout",
     "output_type": "stream",
     "text": [
      "Exception 047EA81E-6A86-4073-AD3B-456D8F3BD657 engzee pop from empty list\n"
     ]
    },
    {
     "name": "stderr",
     "output_type": "stream",
     "text": [
      " 76%|█████████████████████████████████████████████████████████████████████████████████████████▎                            | 8056/10646 [09:18<02:35, 16.62it/s]"
     ]
    },
    {
     "name": "stdout",
     "output_type": "stream",
     "text": [
      "Failed for index 8053 with error: index 0 is out of bounds for axis 0 with size 0\n"
     ]
    },
    {
     "name": "stderr",
     "output_type": "stream",
     "text": [
      " 76%|█████████████████████████████████████████████████████████████████████████████████████████▋                            | 8088/10646 [09:20<02:56, 14.45it/s]/Users/max/Library/Python/3.9/lib/python/site-packages/numpy/core/fromnumeric.py:3464: RuntimeWarning: Mean of empty slice.\n",
      "  return _methods._mean(a, axis=axis, dtype=dtype,\n",
      "/Users/max/Library/Python/3.9/lib/python/site-packages/numpy/core/_methods.py:192: RuntimeWarning: invalid value encountered in scalar divide\n",
      "  ret = ret.dtype.type(ret / rcount)\n",
      " 76%|█████████████████████████████████████████████████████████████████████████████████████████▊                            | 8098/10646 [09:21<02:55, 14.54it/s]/Users/max/Library/Python/3.9/lib/python/site-packages/numpy/core/fromnumeric.py:3464: RuntimeWarning: Mean of empty slice.\n",
      "  return _methods._mean(a, axis=axis, dtype=dtype,\n",
      "/Users/max/Library/Python/3.9/lib/python/site-packages/numpy/core/_methods.py:192: RuntimeWarning: invalid value encountered in scalar divide\n",
      "  ret = ret.dtype.type(ret / rcount)\n",
      " 76%|█████████████████████████████████████████████████████████████████████████████████████████▊                            | 8106/10646 [09:22<02:53, 14.65it/s]/Users/max/Library/Python/3.9/lib/python/site-packages/numpy/core/fromnumeric.py:3464: RuntimeWarning: Mean of empty slice.\n",
      "  return _methods._mean(a, axis=axis, dtype=dtype,\n",
      "/Users/max/Library/Python/3.9/lib/python/site-packages/numpy/core/_methods.py:192: RuntimeWarning: invalid value encountered in scalar divide\n",
      "  ret = ret.dtype.type(ret / rcount)\n",
      " 76%|██████████████████████████████████████████████████████████████████████████████████████████▏                           | 8142/10646 [09:24<02:53, 14.46it/s]"
     ]
    },
    {
     "name": "stdout",
     "output_type": "stream",
     "text": [
      "Exception 047EA81E-6A86-4073-AD3B-456D8F3BD657 engzee pop from empty list\n"
     ]
    },
    {
     "name": "stderr",
     "output_type": "stream",
     "text": [
      " 77%|██████████████████████████████████████████████████████████████████████████████████████████▎                           | 8147/10646 [09:24<02:31, 16.54it/s]"
     ]
    },
    {
     "name": "stdout",
     "output_type": "stream",
     "text": [
      "Failed for index 8144 with error: index 0 is out of bounds for axis 0 with size 0\n"
     ]
    },
    {
     "name": "stderr",
     "output_type": "stream",
     "text": [
      " 77%|██████████████████████████████████████████████████████████████████████████████████████████▌                           | 8167/10646 [09:26<02:50, 14.56it/s]/Users/max/Library/Python/3.9/lib/python/site-packages/numpy/core/fromnumeric.py:3464: RuntimeWarning: Mean of empty slice.\n",
      "  return _methods._mean(a, axis=axis, dtype=dtype,\n",
      "/Users/max/Library/Python/3.9/lib/python/site-packages/numpy/core/_methods.py:192: RuntimeWarning: invalid value encountered in scalar divide\n",
      "  ret = ret.dtype.type(ret / rcount)\n",
      " 77%|██████████████████████████████████████████████████████████████████████████████████████████▊                           | 8195/10646 [09:28<02:49, 14.45it/s]"
     ]
    },
    {
     "name": "stdout",
     "output_type": "stream",
     "text": [
      "Exception 047EA81E-6A86-4073-AD3B-456D8F3BD657 engzee pop from empty list\n"
     ]
    },
    {
     "name": "stderr",
     "output_type": "stream",
     "text": [
      " 77%|██████████████████████████████████████████████████████████████████████████████████████████▉                           | 8199/10646 [09:28<02:48, 14.49it/s]"
     ]
    },
    {
     "name": "stdout",
     "output_type": "stream",
     "text": [
      "Exception 047EA81E-6A86-4073-AD3B-456D8F3BD657 engzee pop from empty list\n"
     ]
    },
    {
     "name": "stderr",
     "output_type": "stream",
     "text": [
      " 77%|██████████████████████████████████████████████████████████████████████████████████████████▉                           | 8209/10646 [09:29<02:48, 14.45it/s]"
     ]
    },
    {
     "name": "stdout",
     "output_type": "stream",
     "text": [
      "Exception 047EA81E-6A86-4073-AD3B-456D8F3BD657 engzee pop from empty list\n"
     ]
    },
    {
     "name": "stderr",
     "output_type": "stream",
     "text": [
      " 77%|███████████████████████████████████████████████████████████████████████████████████████████                           | 8220/10646 [09:29<02:26, 16.61it/s]"
     ]
    },
    {
     "name": "stdout",
     "output_type": "stream",
     "text": [
      "Failed for index 8218 with error: index 0 is out of bounds for axis 0 with size 0\n"
     ]
    },
    {
     "name": "stderr",
     "output_type": "stream",
     "text": [
      " 78%|███████████████████████████████████████████████████████████████████████████████████████████▋                          | 8272/10646 [09:33<02:43, 14.50it/s]/Users/max/Library/Python/3.9/lib/python/site-packages/numpy/core/fromnumeric.py:3464: RuntimeWarning: Mean of empty slice.\n",
      "  return _methods._mean(a, axis=axis, dtype=dtype,\n",
      "/Users/max/Library/Python/3.9/lib/python/site-packages/numpy/core/_methods.py:192: RuntimeWarning: invalid value encountered in scalar divide\n",
      "  ret = ret.dtype.type(ret / rcount)\n",
      " 78%|███████████████████████████████████████████████████████████████████████████████████████████▊                          | 8284/10646 [09:34<02:43, 14.41it/s]"
     ]
    },
    {
     "name": "stdout",
     "output_type": "stream",
     "text": [
      "Exception 047EA81E-6A86-4073-AD3B-456D8F3BD657 engzee pop from empty list\n"
     ]
    },
    {
     "name": "stderr",
     "output_type": "stream",
     "text": [
      " 78%|████████████████████████████████████████████████████████████████████████████████████████████                          | 8302/10646 [09:35<02:51, 13.69it/s]"
     ]
    },
    {
     "name": "stdout",
     "output_type": "stream",
     "text": [
      "Exception 047EA81E-6A86-4073-AD3B-456D8F3BD657 engzee pop from empty list\n"
     ]
    },
    {
     "name": "stderr",
     "output_type": "stream",
     "text": [
      " 78%|████████████████████████████████████████████████████████████████████████████████████████████▏                         | 8314/10646 [09:36<02:43, 14.28it/s]/Users/max/Library/Python/3.9/lib/python/site-packages/numpy/core/fromnumeric.py:3464: RuntimeWarning: Mean of empty slice.\n",
      "  return _methods._mean(a, axis=axis, dtype=dtype,\n",
      "/Users/max/Library/Python/3.9/lib/python/site-packages/numpy/core/_methods.py:192: RuntimeWarning: invalid value encountered in scalar divide\n",
      "  ret = ret.dtype.type(ret / rcount)\n",
      " 78%|████████████████████████████████████████████████████████████████████████████████████████████▏                         | 8319/10646 [09:36<02:29, 15.55it/s]"
     ]
    },
    {
     "name": "stdout",
     "output_type": "stream",
     "text": [
      "Failed for index 8317 with error: index 0 is out of bounds for axis 0 with size 0\n"
     ]
    },
    {
     "name": "stderr",
     "output_type": "stream",
     "text": [
      " 78%|████████████████████████████████████████████████████████████████████████████████████████████▎                         | 8329/10646 [09:37<02:39, 14.52it/s]"
     ]
    },
    {
     "name": "stdout",
     "output_type": "stream",
     "text": [
      "Exception 047EA81E-6A86-4073-AD3B-456D8F3BD657 engzee pop from empty list\n"
     ]
    },
    {
     "name": "stderr",
     "output_type": "stream",
     "text": [
      " 79%|████████████████████████████████████████████████████████████████████████████████████████████▋                         | 8363/10646 [09:39<02:39, 14.34it/s]/Users/max/Library/Python/3.9/lib/python/site-packages/numpy/core/fromnumeric.py:3464: RuntimeWarning: Mean of empty slice.\n",
      "  return _methods._mean(a, axis=axis, dtype=dtype,\n",
      "/Users/max/Library/Python/3.9/lib/python/site-packages/numpy/core/_methods.py:192: RuntimeWarning: invalid value encountered in scalar divide\n",
      "  ret = ret.dtype.type(ret / rcount)\n",
      " 79%|████████████████████████████████████████████████████████████████████████████████████████████▊                         | 8369/10646 [09:40<02:36, 14.59it/s]/Users/max/Library/Python/3.9/lib/python/site-packages/numpy/core/fromnumeric.py:3464: RuntimeWarning: Mean of empty slice.\n",
      "  return _methods._mean(a, axis=axis, dtype=dtype,\n",
      "/Users/max/Library/Python/3.9/lib/python/site-packages/numpy/core/_methods.py:192: RuntimeWarning: invalid value encountered in scalar divide\n",
      "  ret = ret.dtype.type(ret / rcount)\n",
      " 79%|█████████████████████████████████████████████████████████████████████████████████████████████▏                        | 8405/10646 [09:42<02:35, 14.46it/s]/Users/max/Library/Python/3.9/lib/python/site-packages/numpy/core/fromnumeric.py:3464: RuntimeWarning: Mean of empty slice.\n",
      "  return _methods._mean(a, axis=axis, dtype=dtype,\n",
      "/Users/max/Library/Python/3.9/lib/python/site-packages/numpy/core/_methods.py:192: RuntimeWarning: invalid value encountered in scalar divide\n",
      "  ret = ret.dtype.type(ret / rcount)\n",
      " 79%|█████████████████████████████████████████████████████████████████████████████████████████████▎                        | 8423/10646 [09:44<02:33, 14.48it/s]"
     ]
    },
    {
     "name": "stdout",
     "output_type": "stream",
     "text": [
      "Exception 047EA81E-6A86-4073-AD3B-456D8F3BD657 engzee pop from empty list\n"
     ]
    },
    {
     "name": "stderr",
     "output_type": "stream",
     "text": [
      " 79%|█████████████████████████████████████████████████████████████████████████████████████████████▋                        | 8451/10646 [09:45<02:32, 14.43it/s]"
     ]
    },
    {
     "name": "stdout",
     "output_type": "stream",
     "text": [
      "Exception 047EA81E-6A86-4073-AD3B-456D8F3BD657 engzee pop from empty list\n"
     ]
    },
    {
     "name": "stderr",
     "output_type": "stream",
     "text": [
      " 79%|█████████████████████████████████████████████████████████████████████████████████████████████▋                        | 8457/10646 [09:46<02:31, 14.46it/s]"
     ]
    },
    {
     "name": "stdout",
     "output_type": "stream",
     "text": [
      "Exception 047EA81E-6A86-4073-AD3B-456D8F3BD657 engzee pop from empty list\n"
     ]
    },
    {
     "name": "stderr",
     "output_type": "stream",
     "text": [
      " 79%|█████████████████████████████████████████████████████████████████████████████████████████████▊                        | 8463/10646 [09:46<02:30, 14.55it/s]/Users/max/Library/Python/3.9/lib/python/site-packages/numpy/core/fromnumeric.py:3464: RuntimeWarning: Mean of empty slice.\n",
      "  return _methods._mean(a, axis=axis, dtype=dtype,\n",
      "/Users/max/Library/Python/3.9/lib/python/site-packages/numpy/core/_methods.py:192: RuntimeWarning: invalid value encountered in scalar divide\n",
      "  ret = ret.dtype.type(ret / rcount)\n",
      " 80%|█████████████████████████████████████████████████████████████████████████████████████████████▉                        | 8473/10646 [09:47<02:29, 14.56it/s]/Users/max/Library/Python/3.9/lib/python/site-packages/numpy/core/fromnumeric.py:3464: RuntimeWarning: Mean of empty slice.\n",
      "  return _methods._mean(a, axis=axis, dtype=dtype,\n",
      "/Users/max/Library/Python/3.9/lib/python/site-packages/numpy/core/_methods.py:192: RuntimeWarning: invalid value encountered in scalar divide\n",
      "  ret = ret.dtype.type(ret / rcount)\n",
      " 80%|█████████████████████████████████████████████████████████████████████████████████████████████▉                        | 8479/10646 [09:47<02:28, 14.55it/s]"
     ]
    },
    {
     "name": "stdout",
     "output_type": "stream",
     "text": [
      "Exception 047EA81E-6A86-4073-AD3B-456D8F3BD657 engzee pop from empty list\n",
      "Exception 047EA81E-6A86-4073-AD3B-456D8F3BD657 engzee pop from empty list\n"
     ]
    },
    {
     "name": "stderr",
     "output_type": "stream",
     "text": [
      " 80%|██████████████████████████████████████████████████████████████████████████████████████████████▍                       | 8515/10646 [09:50<02:25, 14.66it/s]/Users/max/Library/Python/3.9/lib/python/site-packages/numpy/core/fromnumeric.py:3464: RuntimeWarning: Mean of empty slice.\n",
      "  return _methods._mean(a, axis=axis, dtype=dtype,\n",
      "/Users/max/Library/Python/3.9/lib/python/site-packages/numpy/core/_methods.py:192: RuntimeWarning: invalid value encountered in scalar divide\n",
      "  ret = ret.dtype.type(ret / rcount)\n",
      " 80%|██████████████████████████████████████████████████████████████████████████████████████████████▌                       | 8533/10646 [09:51<02:24, 14.63it/s]"
     ]
    },
    {
     "name": "stdout",
     "output_type": "stream",
     "text": [
      "Exception 047EA81E-6A86-4073-AD3B-456D8F3BD657 engzee pop from empty list\n"
     ]
    },
    {
     "name": "stderr",
     "output_type": "stream",
     "text": [
      " 80%|██████████████████████████████████████████████████████████████████████████████████████████████▉                       | 8563/10646 [09:53<02:21, 14.73it/s]/Users/max/Library/Python/3.9/lib/python/site-packages/numpy/core/fromnumeric.py:3464: RuntimeWarning: Mean of empty slice.\n",
      "  return _methods._mean(a, axis=axis, dtype=dtype,\n",
      "/Users/max/Library/Python/3.9/lib/python/site-packages/numpy/core/_methods.py:192: RuntimeWarning: invalid value encountered in scalar divide\n",
      "  ret = ret.dtype.type(ret / rcount)\n",
      " 80%|██████████████████████████████████████████████████████████████████████████████████████████████▉                       | 8565/10646 [09:53<02:21, 14.75it/s]/Users/max/Library/Python/3.9/lib/python/site-packages/numpy/core/fromnumeric.py:3464: RuntimeWarning: Mean of empty slice.\n",
      "  return _methods._mean(a, axis=axis, dtype=dtype,\n",
      "/Users/max/Library/Python/3.9/lib/python/site-packages/numpy/core/_methods.py:192: RuntimeWarning: invalid value encountered in scalar divide\n",
      "  ret = ret.dtype.type(ret / rcount)\n",
      " 81%|███████████████████████████████████████████████████████████████████████████████████████████████▏                      | 8588/10646 [09:55<02:04, 16.58it/s]"
     ]
    },
    {
     "name": "stdout",
     "output_type": "stream",
     "text": [
      "Failed for index 8585 with error: index 0 is out of bounds for axis 0 with size 0\n"
     ]
    },
    {
     "name": "stderr",
     "output_type": "stream",
     "text": [
      " 81%|███████████████████████████████████████████████████████████████████████████████████████████████▌                      | 8622/10646 [09:57<02:19, 14.51it/s]"
     ]
    },
    {
     "name": "stdout",
     "output_type": "stream",
     "text": [
      "Exception 047EA81E-6A86-4073-AD3B-456D8F3BD657 engzee pop from empty list\n"
     ]
    },
    {
     "name": "stderr",
     "output_type": "stream",
     "text": [
      " 81%|███████████████████████████████████████████████████████████████████████████████████████████████▋                      | 8636/10646 [09:58<02:18, 14.55it/s]/Users/max/Library/Python/3.9/lib/python/site-packages/numpy/core/fromnumeric.py:3464: RuntimeWarning: Mean of empty slice.\n",
      "  return _methods._mean(a, axis=axis, dtype=dtype,\n",
      "/Users/max/Library/Python/3.9/lib/python/site-packages/numpy/core/_methods.py:192: RuntimeWarning: invalid value encountered in scalar divide\n",
      "  ret = ret.dtype.type(ret / rcount)\n",
      " 81%|███████████████████████████████████████████████████████████████████████████████████████████████▋                      | 8638/10646 [09:58<02:17, 14.62it/s]/Users/max/Library/Python/3.9/lib/python/site-packages/numpy/core/fromnumeric.py:3464: RuntimeWarning: Mean of empty slice.\n",
      "  return _methods._mean(a, axis=axis, dtype=dtype,\n",
      "/Users/max/Library/Python/3.9/lib/python/site-packages/numpy/core/_methods.py:192: RuntimeWarning: invalid value encountered in scalar divide\n",
      "  ret = ret.dtype.type(ret / rcount)\n",
      " 81%|███████████████████████████████████████████████████████████████████████████████████████████████▊                      | 8640/10646 [09:58<02:17, 14.64it/s]/Users/max/Library/Python/3.9/lib/python/site-packages/numpy/core/fromnumeric.py:3464: RuntimeWarning: Mean of empty slice.\n",
      "  return _methods._mean(a, axis=axis, dtype=dtype,\n",
      "/Users/max/Library/Python/3.9/lib/python/site-packages/numpy/core/_methods.py:192: RuntimeWarning: invalid value encountered in scalar divide\n",
      "  ret = ret.dtype.type(ret / rcount)\n",
      " 81%|███████████████████████████████████████████████████████████████████████████████████████████████▉                      | 8652/10646 [09:59<02:17, 14.48it/s]"
     ]
    },
    {
     "name": "stdout",
     "output_type": "stream",
     "text": [
      "Exception 047EA81E-6A86-4073-AD3B-456D8F3BD657 engzee pop from empty list\n",
      "Exception 047EA81E-6A86-4073-AD3B-456D8F3BD657 engzee pop from empty list\n"
     ]
    },
    {
     "name": "stderr",
     "output_type": "stream",
     "text": [
      " 81%|███████████████████████████████████████████████████████████████████████████████████████████████▉                      | 8656/10646 [10:00<02:17, 14.47it/s]/Users/max/Library/Python/3.9/lib/python/site-packages/numpy/core/fromnumeric.py:3464: RuntimeWarning: Mean of empty slice.\n",
      "  return _methods._mean(a, axis=axis, dtype=dtype,\n",
      "/Users/max/Library/Python/3.9/lib/python/site-packages/numpy/core/_methods.py:192: RuntimeWarning: invalid value encountered in scalar divide\n",
      "  ret = ret.dtype.type(ret / rcount)\n",
      " 81%|████████████████████████████████████████████████████████████████████████████████████████████████                      | 8670/10646 [10:00<02:16, 14.48it/s]/Users/max/Library/Python/3.9/lib/python/site-packages/numpy/core/fromnumeric.py:3464: RuntimeWarning: Mean of empty slice.\n",
      "  return _methods._mean(a, axis=axis, dtype=dtype,\n",
      "/Users/max/Library/Python/3.9/lib/python/site-packages/numpy/core/_methods.py:192: RuntimeWarning: invalid value encountered in scalar divide\n",
      "  ret = ret.dtype.type(ret / rcount)\n",
      " 82%|████████████████████████████████████████████████████████████████████████████████████████████████▍                     | 8696/10646 [10:02<02:14, 14.48it/s]/Users/max/Library/Python/3.9/lib/python/site-packages/numpy/core/fromnumeric.py:3464: RuntimeWarning: Mean of empty slice.\n",
      "  return _methods._mean(a, axis=axis, dtype=dtype,\n",
      "/Users/max/Library/Python/3.9/lib/python/site-packages/numpy/core/_methods.py:192: RuntimeWarning: invalid value encountered in scalar divide\n",
      "  ret = ret.dtype.type(ret / rcount)\n",
      " 82%|████████████████████████████████████████████████████████████████████████████████████████████████▌                     | 8717/10646 [10:04<01:54, 16.78it/s]"
     ]
    },
    {
     "name": "stdout",
     "output_type": "stream",
     "text": [
      "Exception 047EA81E-6A86-4073-AD3B-456D8F3BD657 engzee pop from empty list\n",
      "Failed for index 8715 with error: index 0 is out of bounds for axis 0 with size 0\n"
     ]
    },
    {
     "name": "stderr",
     "output_type": "stream",
     "text": [
      " 83%|█████████████████████████████████████████████████████████████████████████████████████████████████▎                    | 8785/10646 [10:08<02:07, 14.64it/s]"
     ]
    },
    {
     "name": "stdout",
     "output_type": "stream",
     "text": [
      "Exception 047EA81E-6A86-4073-AD3B-456D8F3BD657 engzee pop from empty list\n"
     ]
    },
    {
     "name": "stderr",
     "output_type": "stream",
     "text": [
      " 83%|█████████████████████████████████████████████████████████████████████████████████████████████████▍                    | 8793/10646 [10:09<02:08, 14.37it/s]/Users/max/Library/Python/3.9/lib/python/site-packages/numpy/core/fromnumeric.py:3464: RuntimeWarning: Mean of empty slice.\n",
      "  return _methods._mean(a, axis=axis, dtype=dtype,\n",
      "/Users/max/Library/Python/3.9/lib/python/site-packages/numpy/core/_methods.py:192: RuntimeWarning: invalid value encountered in scalar divide\n",
      "  ret = ret.dtype.type(ret / rcount)\n",
      " 83%|█████████████████████████████████████████████████████████████████████████████████████████████████▌                    | 8807/10646 [10:10<02:07, 14.42it/s]/Users/max/Library/Python/3.9/lib/python/site-packages/numpy/core/fromnumeric.py:3464: RuntimeWarning: Mean of empty slice.\n",
      "  return _methods._mean(a, axis=axis, dtype=dtype,\n",
      "/Users/max/Library/Python/3.9/lib/python/site-packages/numpy/core/_methods.py:192: RuntimeWarning: invalid value encountered in scalar divide\n",
      "  ret = ret.dtype.type(ret / rcount)\n",
      " 83%|█████████████████████████████████████████████████████████████████████████████████████████████████▉                    | 8841/10646 [10:12<02:05, 14.39it/s]/Users/max/Library/Python/3.9/lib/python/site-packages/numpy/core/fromnumeric.py:3464: RuntimeWarning: Mean of empty slice.\n",
      "  return _methods._mean(a, axis=axis, dtype=dtype,\n",
      "/Users/max/Library/Python/3.9/lib/python/site-packages/numpy/core/_methods.py:192: RuntimeWarning: invalid value encountered in scalar divide\n",
      "  ret = ret.dtype.type(ret / rcount)\n",
      " 83%|██████████████████████████████████████████████████████████████████████████████████████████████████▏                   | 8863/10646 [10:14<02:01, 14.67it/s]"
     ]
    },
    {
     "name": "stdout",
     "output_type": "stream",
     "text": [
      "Exception 047EA81E-6A86-4073-AD3B-456D8F3BD657 engzee pop from empty list\n"
     ]
    },
    {
     "name": "stderr",
     "output_type": "stream",
     "text": [
      " 83%|██████████████████████████████████████████████████████████████████████████████████████████████████▎                   | 8871/10646 [10:14<02:02, 14.48it/s]"
     ]
    },
    {
     "name": "stdout",
     "output_type": "stream",
     "text": [
      "Exception 047EA81E-6A86-4073-AD3B-456D8F3BD657 engzee pop from empty list\n"
     ]
    },
    {
     "name": "stderr",
     "output_type": "stream",
     "text": [
      " 83%|██████████████████████████████████████████████████████████████████████████████████████████████████▍                   | 8885/10646 [10:15<02:02, 14.33it/s]"
     ]
    },
    {
     "name": "stdout",
     "output_type": "stream",
     "text": [
      "Exception 047EA81E-6A86-4073-AD3B-456D8F3BD657 engzee pop from empty list\n"
     ]
    },
    {
     "name": "stderr",
     "output_type": "stream",
     "text": [
      " 83%|██████████████████████████████████████████████████████████████████████████████████████████████████▌                   | 8887/10646 [10:15<02:02, 14.35it/s]/Users/max/Library/Python/3.9/lib/python/site-packages/numpy/core/fromnumeric.py:3464: RuntimeWarning: Mean of empty slice.\n",
      "  return _methods._mean(a, axis=axis, dtype=dtype,\n",
      "/Users/max/Library/Python/3.9/lib/python/site-packages/numpy/core/_methods.py:192: RuntimeWarning: invalid value encountered in scalar divide\n",
      "  ret = ret.dtype.type(ret / rcount)\n",
      " 84%|██████████████████████████████████████████████████████████████████████████████████████████████████▋                   | 8908/10646 [10:17<01:44, 16.63it/s]"
     ]
    },
    {
     "name": "stdout",
     "output_type": "stream",
     "text": [
      "Failed for index 8905 with error: index 0 is out of bounds for axis 0 with size 0\n"
     ]
    },
    {
     "name": "stderr",
     "output_type": "stream",
     "text": [
      " 84%|██████████████████████████████████████████████████████████████████████████████████████████████████▊                   | 8910/10646 [10:17<01:48, 16.05it/s]/Users/max/Library/Python/3.9/lib/python/site-packages/numpy/core/fromnumeric.py:3464: RuntimeWarning: Mean of empty slice.\n",
      "  return _methods._mean(a, axis=axis, dtype=dtype,\n",
      "/Users/max/Library/Python/3.9/lib/python/site-packages/numpy/core/_methods.py:192: RuntimeWarning: invalid value encountered in scalar divide\n",
      "  ret = ret.dtype.type(ret / rcount)\n",
      " 84%|██████████████████████████████████████████████████████████████████████████████████████████████████▉                   | 8928/10646 [10:18<01:58, 14.53it/s]/Users/max/Library/Python/3.9/lib/python/site-packages/numpy/core/fromnumeric.py:3464: RuntimeWarning: Mean of empty slice.\n",
      "  return _methods._mean(a, axis=axis, dtype=dtype,\n",
      "/Users/max/Library/Python/3.9/lib/python/site-packages/numpy/core/_methods.py:192: RuntimeWarning: invalid value encountered in scalar divide\n",
      "  ret = ret.dtype.type(ret / rcount)\n",
      " 84%|███████████████████████████████████████████████████████████████████████████████████████████████████                   | 8933/10646 [10:18<01:43, 16.59it/s]"
     ]
    },
    {
     "name": "stdout",
     "output_type": "stream",
     "text": [
      "Failed for index 8931 with error: index 0 is out of bounds for axis 0 with size 0\n"
     ]
    },
    {
     "name": "stderr",
     "output_type": "stream",
     "text": [
      " 84%|███████████████████████████████████████████████████████████████████████████████████████████████████▍                  | 8974/10646 [10:21<01:46, 15.76it/s]"
     ]
    },
    {
     "name": "stdout",
     "output_type": "stream",
     "text": [
      "Failed for index 8971 with error: index 0 is out of bounds for axis 0 with size 0\n"
     ]
    },
    {
     "name": "stderr",
     "output_type": "stream",
     "text": [
      " 85%|████████████████████████████████████████████████████████████████████████████████████████████████████▏                 | 9038/10646 [10:26<01:52, 14.26it/s]/Users/max/Library/Python/3.9/lib/python/site-packages/numpy/core/fromnumeric.py:3464: RuntimeWarning: Mean of empty slice.\n",
      "  return _methods._mean(a, axis=axis, dtype=dtype,\n",
      "/Users/max/Library/Python/3.9/lib/python/site-packages/numpy/core/_methods.py:192: RuntimeWarning: invalid value encountered in scalar divide\n",
      "  ret = ret.dtype.type(ret / rcount)\n",
      "/Users/max/Library/Python/3.9/lib/python/site-packages/numpy/core/fromnumeric.py:3464: RuntimeWarning: Mean of empty slice.\n",
      "  return _methods._mean(a, axis=axis, dtype=dtype,\n",
      "/Users/max/Library/Python/3.9/lib/python/site-packages/numpy/core/_methods.py:192: RuntimeWarning: invalid value encountered in scalar divide\n",
      "  ret = ret.dtype.type(ret / rcount)\n",
      " 85%|████████████████████████████████████████████████████████████████████████████████████████████████████▎                 | 9052/10646 [10:27<01:51, 14.35it/s]"
     ]
    },
    {
     "name": "stdout",
     "output_type": "stream",
     "text": [
      "Exception 047EA81E-6A86-4073-AD3B-456D8F3BD657 engzee pop from empty list\n",
      "Exception 047EA81E-6A86-4073-AD3B-456D8F3BD657 engzee pop from empty list\n"
     ]
    },
    {
     "name": "stderr",
     "output_type": "stream",
     "text": [
      " 85%|████████████████████████████████████████████████████████████████████████████████████████████████████▌                 | 9076/10646 [10:28<01:48, 14.44it/s]/Users/max/Library/Python/3.9/lib/python/site-packages/numpy/core/fromnumeric.py:3464: RuntimeWarning: Mean of empty slice.\n",
      "  return _methods._mean(a, axis=axis, dtype=dtype,\n",
      "/Users/max/Library/Python/3.9/lib/python/site-packages/numpy/core/_methods.py:192: RuntimeWarning: invalid value encountered in scalar divide\n",
      "  ret = ret.dtype.type(ret / rcount)\n",
      " 86%|████████████████████████████████████████████████████████████████████████████████████████████████████▉                 | 9105/10646 [10:30<01:33, 16.50it/s]"
     ]
    },
    {
     "name": "stdout",
     "output_type": "stream",
     "text": [
      "Failed for index 9102 with error: index 0 is out of bounds for axis 0 with size 0\n"
     ]
    },
    {
     "name": "stderr",
     "output_type": "stream",
     "text": [
      " 86%|█████████████████████████████████████████████████████████████████████████████████████████████████████▊                | 9189/10646 [10:36<01:43, 14.03it/s]/Users/max/Library/Python/3.9/lib/python/site-packages/numpy/core/fromnumeric.py:3464: RuntimeWarning: Mean of empty slice.\n",
      "  return _methods._mean(a, axis=axis, dtype=dtype,\n",
      "/Users/max/Library/Python/3.9/lib/python/site-packages/numpy/core/_methods.py:192: RuntimeWarning: invalid value encountered in scalar divide\n",
      "  ret = ret.dtype.type(ret / rcount)\n",
      " 86%|█████████████████████████████████████████████████████████████████████████████████████████████████████▉                | 9193/10646 [10:36<01:43, 14.02it/s]/Users/max/Library/Python/3.9/lib/python/site-packages/numpy/core/fromnumeric.py:3464: RuntimeWarning: Mean of empty slice.\n",
      "  return _methods._mean(a, axis=axis, dtype=dtype,\n",
      "/Users/max/Library/Python/3.9/lib/python/site-packages/numpy/core/_methods.py:192: RuntimeWarning: invalid value encountered in scalar divide\n",
      "  ret = ret.dtype.type(ret / rcount)\n",
      " 86%|█████████████████████████████████████████████████████████████████████████████████████████████████████▉                | 9197/10646 [10:37<01:41, 14.22it/s]/Users/max/Library/Python/3.9/lib/python/site-packages/numpy/core/fromnumeric.py:3464: RuntimeWarning: Mean of empty slice.\n",
      "  return _methods._mean(a, axis=axis, dtype=dtype,\n",
      "/Users/max/Library/Python/3.9/lib/python/site-packages/numpy/core/_methods.py:192: RuntimeWarning: invalid value encountered in scalar divide\n",
      "  ret = ret.dtype.type(ret / rcount)\n"
     ]
    },
    {
     "name": "stdout",
     "output_type": "stream",
     "text": [
      "Exception 047EA81E-6A86-4073-AD3B-456D8F3BD657 engzee pop from empty list\n"
     ]
    },
    {
     "name": "stderr",
     "output_type": "stream",
     "text": [
      " 87%|██████████████████████████████████████████████████████████████████████████████████████████████████████▍               | 9239/10646 [10:40<01:36, 14.54it/s]"
     ]
    },
    {
     "name": "stdout",
     "output_type": "stream",
     "text": [
      "Exception 047EA81E-6A86-4073-AD3B-456D8F3BD657 engzee pop from empty list\n"
     ]
    },
    {
     "name": "stderr",
     "output_type": "stream",
     "text": [
      " 87%|██████████████████████████████████████████████████████████████████████████████████████████████████████▋               | 9265/10646 [10:41<01:37, 14.20it/s]"
     ]
    },
    {
     "name": "stdout",
     "output_type": "stream",
     "text": [
      "Exception 047EA81E-6A86-4073-AD3B-456D8F3BD657 neurokit index 0 is out of bounds for axis 0 with size 0\n"
     ]
    },
    {
     "name": "stderr",
     "output_type": "stream",
     "text": [
      " 87%|██████████████████████████████████████████████████████████████████████████████████████████████████████▊               | 9271/10646 [10:42<01:38, 14.01it/s]/Users/max/Library/Python/3.9/lib/python/site-packages/numpy/core/fromnumeric.py:3464: RuntimeWarning: Mean of empty slice.\n",
      "  return _methods._mean(a, axis=axis, dtype=dtype,\n",
      "/Users/max/Library/Python/3.9/lib/python/site-packages/numpy/core/_methods.py:192: RuntimeWarning: invalid value encountered in scalar divide\n",
      "  ret = ret.dtype.type(ret / rcount)\n",
      " 87%|██████████████████████████████████████████████████████████████████████████████████████████████████████▉               | 9285/10646 [10:43<01:43, 13.15it/s]"
     ]
    },
    {
     "name": "stdout",
     "output_type": "stream",
     "text": [
      "Exception 047EA81E-6A86-4073-AD3B-456D8F3BD657 engzee pop from empty list\n",
      "Exception 047EA81E-6A86-4073-AD3B-456D8F3BD657 engzee pop from empty list\n"
     ]
    },
    {
     "name": "stderr",
     "output_type": "stream",
     "text": [
      "/Users/max/Library/Python/3.9/lib/python/site-packages/numpy/core/fromnumeric.py:3464: RuntimeWarning: Mean of empty slice.\n",
      "  return _methods._mean(a, axis=axis, dtype=dtype,\n",
      "/Users/max/Library/Python/3.9/lib/python/site-packages/numpy/core/_methods.py:192: RuntimeWarning: invalid value encountered in scalar divide\n",
      "  ret = ret.dtype.type(ret / rcount)\n",
      " 87%|███████████████████████████████████████████████████████████████████████████████████████████████████████▏              | 9309/10646 [10:45<01:33, 14.28it/s]"
     ]
    },
    {
     "name": "stdout",
     "output_type": "stream",
     "text": [
      "Exception 047EA81E-6A86-4073-AD3B-456D8F3BD657 engzee pop from empty list\n"
     ]
    },
    {
     "name": "stderr",
     "output_type": "stream",
     "text": [
      " 88%|███████████████████████████████████████████████████████████████████████████████████████████████████████▊              | 9363/10646 [10:48<01:29, 14.39it/s]/Users/max/Library/Python/3.9/lib/python/site-packages/numpy/core/fromnumeric.py:3464: RuntimeWarning: Mean of empty slice.\n",
      "  return _methods._mean(a, axis=axis, dtype=dtype,\n",
      "/Users/max/Library/Python/3.9/lib/python/site-packages/numpy/core/_methods.py:192: RuntimeWarning: invalid value encountered in scalar divide\n",
      "  ret = ret.dtype.type(ret / rcount)\n",
      " 88%|███████████████████████████████████████████████████████████████████████████████████████████████████████▉              | 9375/10646 [10:49<01:29, 14.27it/s]/Users/max/Library/Python/3.9/lib/python/site-packages/numpy/core/fromnumeric.py:3464: RuntimeWarning: Mean of empty slice.\n",
      "  return _methods._mean(a, axis=axis, dtype=dtype,\n",
      "/Users/max/Library/Python/3.9/lib/python/site-packages/numpy/core/_methods.py:192: RuntimeWarning: invalid value encountered in scalar divide\n",
      "  ret = ret.dtype.type(ret / rcount)\n",
      " 89%|████████████████████████████████████████████████████████████████████████████████████████████████████████▍             | 9428/10646 [10:53<01:14, 16.45it/s]"
     ]
    },
    {
     "name": "stdout",
     "output_type": "stream",
     "text": [
      "Failed for index 9425 with error: index 0 is out of bounds for axis 0 with size 0\n"
     ]
    },
    {
     "name": "stderr",
     "output_type": "stream",
     "text": [
      " 89%|████████████████████████████████████████████████████████████████████████████████████████████████████████▋             | 9440/10646 [10:54<01:23, 14.43it/s]/Users/max/Library/Python/3.9/lib/python/site-packages/numpy/core/fromnumeric.py:3464: RuntimeWarning: Mean of empty slice.\n",
      "  return _methods._mean(a, axis=axis, dtype=dtype,\n",
      "/Users/max/Library/Python/3.9/lib/python/site-packages/numpy/core/_methods.py:192: RuntimeWarning: invalid value encountered in scalar divide\n",
      "  ret = ret.dtype.type(ret / rcount)\n",
      " 89%|█████████████████████████████████████████████████████████████████████████████████████████████████████████▌            | 9521/10646 [11:00<01:09, 16.19it/s]"
     ]
    },
    {
     "name": "stdout",
     "output_type": "stream",
     "text": [
      "Failed for index 9519 with error: index 0 is out of bounds for axis 0 with size 0\n"
     ]
    },
    {
     "name": "stderr",
     "output_type": "stream",
     "text": [
      " 89%|█████████████████████████████████████████████████████████████████████████████████████████████████████████▌            | 9527/10646 [11:00<01:14, 14.94it/s]"
     ]
    },
    {
     "name": "stdout",
     "output_type": "stream",
     "text": [
      "Exception 047EA81E-6A86-4073-AD3B-456D8F3BD657 engzee pop from empty list\n",
      "Failed for index 9528 with error: index 0 is out of bounds for axis 0 with size 0\n"
     ]
    },
    {
     "name": "stderr",
     "output_type": "stream",
     "text": [
      " 90%|██████████████████████████████████████████████████████████████████████████████████████████████████████████▎           | 9586/10646 [11:04<01:13, 14.39it/s]/Users/max/Library/Python/3.9/lib/python/site-packages/numpy/core/fromnumeric.py:3464: RuntimeWarning: Mean of empty slice.\n",
      "  return _methods._mean(a, axis=axis, dtype=dtype,\n",
      "/Users/max/Library/Python/3.9/lib/python/site-packages/numpy/core/_methods.py:192: RuntimeWarning: invalid value encountered in scalar divide\n",
      "  ret = ret.dtype.type(ret / rcount)\n",
      " 90%|██████████████████████████████████████████████████████████████████████████████████████████████████████████▍           | 9600/10646 [11:05<01:12, 14.50it/s]/Users/max/Library/Python/3.9/lib/python/site-packages/numpy/core/fromnumeric.py:3464: RuntimeWarning: Mean of empty slice.\n",
      "  return _methods._mean(a, axis=axis, dtype=dtype,\n",
      "/Users/max/Library/Python/3.9/lib/python/site-packages/numpy/core/_methods.py:192: RuntimeWarning: invalid value encountered in scalar divide\n",
      "  ret = ret.dtype.type(ret / rcount)\n",
      " 90%|██████████████████████████████████████████████████████████████████████████████████████████████████████████▌           | 9614/10646 [11:06<01:12, 14.29it/s]/Users/max/Library/Python/3.9/lib/python/site-packages/numpy/core/fromnumeric.py:3464: RuntimeWarning: Mean of empty slice.\n",
      "  return _methods._mean(a, axis=axis, dtype=dtype,\n",
      "/Users/max/Library/Python/3.9/lib/python/site-packages/numpy/core/_methods.py:192: RuntimeWarning: invalid value encountered in scalar divide\n",
      "  ret = ret.dtype.type(ret / rcount)\n",
      " 90%|██████████████████████████████████████████████████████████████████████████████████████████████████████████▊           | 9632/10646 [11:07<01:11, 14.26it/s]/Users/max/Library/Python/3.9/lib/python/site-packages/numpy/core/fromnumeric.py:3464: RuntimeWarning: Mean of empty slice.\n",
      "  return _methods._mean(a, axis=axis, dtype=dtype,\n",
      "/Users/max/Library/Python/3.9/lib/python/site-packages/numpy/core/_methods.py:192: RuntimeWarning: invalid value encountered in scalar divide\n",
      "  ret = ret.dtype.type(ret / rcount)\n",
      " 90%|██████████████████████████████████████████████████████████████████████████████████████████████████████████▊           | 9634/10646 [11:07<01:10, 14.40it/s]/Users/max/Library/Python/3.9/lib/python/site-packages/numpy/core/fromnumeric.py:3464: RuntimeWarning: Mean of empty slice.\n",
      "  return _methods._mean(a, axis=axis, dtype=dtype,\n",
      "/Users/max/Library/Python/3.9/lib/python/site-packages/numpy/core/_methods.py:192: RuntimeWarning: invalid value encountered in scalar divide\n",
      "  ret = ret.dtype.type(ret / rcount)\n",
      " 91%|██████████████████████████████████████████████████████████████████████████████████████████████████████████▊           | 9636/10646 [11:07<01:10, 14.30it/s]/Users/max/Library/Python/3.9/lib/python/site-packages/numpy/core/fromnumeric.py:3464: RuntimeWarning: Mean of empty slice.\n",
      "  return _methods._mean(a, axis=axis, dtype=dtype,\n",
      "/Users/max/Library/Python/3.9/lib/python/site-packages/numpy/core/_methods.py:192: RuntimeWarning: invalid value encountered in scalar divide\n",
      "  ret = ret.dtype.type(ret / rcount)\n",
      "/Users/max/Library/Python/3.9/lib/python/site-packages/numpy/core/fromnumeric.py:3464: RuntimeWarning: Mean of empty slice.\n",
      "  return _methods._mean(a, axis=axis, dtype=dtype,\n",
      "/Users/max/Library/Python/3.9/lib/python/site-packages/numpy/core/_methods.py:192: RuntimeWarning: invalid value encountered in scalar divide\n",
      "  ret = ret.dtype.type(ret / rcount)\n",
      " 91%|██████████████████████████████████████████████████████████████████████████████████████████████████████████▉           | 9644/10646 [11:08<01:10, 14.23it/s]/Users/max/Library/Python/3.9/lib/python/site-packages/numpy/core/fromnumeric.py:3464: RuntimeWarning: Mean of empty slice.\n",
      "  return _methods._mean(a, axis=axis, dtype=dtype,\n",
      "/Users/max/Library/Python/3.9/lib/python/site-packages/numpy/core/_methods.py:192: RuntimeWarning: invalid value encountered in scalar divide\n",
      "  ret = ret.dtype.type(ret / rcount)\n",
      " 91%|██████████████████████████████████████████████████████████████████████████████████████████████████████████▉           | 9648/10646 [11:08<01:10, 14.21it/s]"
     ]
    },
    {
     "name": "stdout",
     "output_type": "stream",
     "text": [
      "Exception 047EA81E-6A86-4073-AD3B-456D8F3BD657 engzee pop from empty list\n"
     ]
    },
    {
     "name": "stderr",
     "output_type": "stream",
     "text": [
      "\r",
      " 91%|██████████████████████████████████████████████████████████████████████████████████████████████████████████▉           | 9650/10646 [11:08<01:10, 14.07it/s]"
     ]
    },
    {
     "name": "stdout",
     "output_type": "stream",
     "text": [
      "Exception 047EA81E-6A86-4073-AD3B-456D8F3BD657 engzee pop from empty list\n"
     ]
    },
    {
     "name": "stderr",
     "output_type": "stream",
     "text": [
      " 91%|███████████████████████████████████████████████████████████████████████████████████████████████████████████           | 9658/10646 [11:09<01:10, 14.06it/s]"
     ]
    },
    {
     "name": "stdout",
     "output_type": "stream",
     "text": [
      "Exception 047EA81E-6A86-4073-AD3B-456D8F3BD657 engzee pop from empty list\n"
     ]
    },
    {
     "name": "stderr",
     "output_type": "stream",
     "text": [
      " 91%|███████████████████████████████████████████████████████████████████████████████████████████████████████████           | 9662/10646 [11:09<01:09, 14.18it/s]/Users/max/Library/Python/3.9/lib/python/site-packages/numpy/core/fromnumeric.py:3464: RuntimeWarning: Mean of empty slice.\n",
      "  return _methods._mean(a, axis=axis, dtype=dtype,\n",
      "/Users/max/Library/Python/3.9/lib/python/site-packages/numpy/core/_methods.py:192: RuntimeWarning: invalid value encountered in scalar divide\n",
      "  ret = ret.dtype.type(ret / rcount)\n",
      "/Users/max/Library/Python/3.9/lib/python/site-packages/numpy/core/fromnumeric.py:3464: RuntimeWarning: Mean of empty slice.\n",
      "  return _methods._mean(a, axis=axis, dtype=dtype,\n",
      "/Users/max/Library/Python/3.9/lib/python/site-packages/numpy/core/_methods.py:192: RuntimeWarning: invalid value encountered in scalar divide\n",
      "  ret = ret.dtype.type(ret / rcount)\n",
      " 91%|███████████████████████████████████████████████████████████████████████████████████████████████████████████▍          | 9690/10646 [11:11<01:06, 14.40it/s]/Users/max/Library/Python/3.9/lib/python/site-packages/numpy/core/fromnumeric.py:3464: RuntimeWarning: Mean of empty slice.\n",
      "  return _methods._mean(a, axis=axis, dtype=dtype,\n",
      "/Users/max/Library/Python/3.9/lib/python/site-packages/numpy/core/_methods.py:192: RuntimeWarning: invalid value encountered in scalar divide\n",
      "  ret = ret.dtype.type(ret / rcount)\n",
      " 91%|███████████████████████████████████████████████████████████████████████████████████████████████████████████▍          | 9692/10646 [11:11<01:06, 14.40it/s]/Users/max/Library/Python/3.9/lib/python/site-packages/numpy/core/fromnumeric.py:3464: RuntimeWarning: Mean of empty slice.\n",
      "  return _methods._mean(a, axis=axis, dtype=dtype,\n",
      "/Users/max/Library/Python/3.9/lib/python/site-packages/numpy/core/_methods.py:192: RuntimeWarning: invalid value encountered in scalar divide\n",
      "  ret = ret.dtype.type(ret / rcount)\n",
      " 91%|███████████████████████████████████████████████████████████████████████████████████████████████████████████▍          | 9696/10646 [11:12<01:06, 14.29it/s]/Users/max/Library/Python/3.9/lib/python/site-packages/numpy/core/fromnumeric.py:3464: RuntimeWarning: Mean of empty slice.\n",
      "  return _methods._mean(a, axis=axis, dtype=dtype,\n",
      "/Users/max/Library/Python/3.9/lib/python/site-packages/numpy/core/_methods.py:192: RuntimeWarning: invalid value encountered in scalar divide\n",
      "  ret = ret.dtype.type(ret / rcount)\n",
      " 91%|███████████████████████████████████████████████████████████████████████████████████████████████████████████▌          | 9700/10646 [11:12<01:06, 14.33it/s]/Users/max/Library/Python/3.9/lib/python/site-packages/numpy/core/fromnumeric.py:3464: RuntimeWarning: Mean of empty slice.\n",
      "  return _methods._mean(a, axis=axis, dtype=dtype,\n",
      "/Users/max/Library/Python/3.9/lib/python/site-packages/numpy/core/_methods.py:192: RuntimeWarning: invalid value encountered in scalar divide\n",
      "  ret = ret.dtype.type(ret / rcount)\n",
      " 91%|███████████████████████████████████████████████████████████████████████████████████████████████████████████▋          | 9715/10646 [11:13<00:56, 16.43it/s]"
     ]
    },
    {
     "name": "stdout",
     "output_type": "stream",
     "text": [
      "Failed for index 9713 with error: index 0 is out of bounds for axis 0 with size 0\n"
     ]
    },
    {
     "name": "stderr",
     "output_type": "stream",
     "text": [
      " 91%|███████████████████████████████████████████████████████████████████████████████████████████████████████████▊          | 9729/10646 [11:14<01:02, 14.56it/s]/Users/max/Library/Python/3.9/lib/python/site-packages/numpy/core/fromnumeric.py:3464: RuntimeWarning: Mean of empty slice.\n",
      "  return _methods._mean(a, axis=axis, dtype=dtype,\n",
      "/Users/max/Library/Python/3.9/lib/python/site-packages/numpy/core/_methods.py:192: RuntimeWarning: invalid value encountered in scalar divide\n",
      "  ret = ret.dtype.type(ret / rcount)\n",
      " 92%|████████████████████████████████████████████████████████████████████████████████████████████████████████████          | 9745/10646 [11:15<01:03, 14.18it/s]/Users/max/Library/Python/3.9/lib/python/site-packages/numpy/core/fromnumeric.py:3464: RuntimeWarning: Mean of empty slice.\n",
      "  return _methods._mean(a, axis=axis, dtype=dtype,\n",
      "/Users/max/Library/Python/3.9/lib/python/site-packages/numpy/core/_methods.py:192: RuntimeWarning: invalid value encountered in scalar divide\n",
      "  ret = ret.dtype.type(ret / rcount)\n",
      " 92%|████████████████████████████████████████████████████████████████████████████████████████████████████████████          | 9755/10646 [11:16<01:03, 14.09it/s]"
     ]
    },
    {
     "name": "stdout",
     "output_type": "stream",
     "text": [
      "Exception 047EA81E-6A86-4073-AD3B-456D8F3BD657 engzee pop from empty list\n"
     ]
    },
    {
     "name": "stderr",
     "output_type": "stream",
     "text": [
      " 92%|████████████████████████████████████████████████████████████████████████████████████████████████████████████▍         | 9782/10646 [11:18<00:53, 16.10it/s]"
     ]
    },
    {
     "name": "stdout",
     "output_type": "stream",
     "text": [
      "Failed for index 9780 with error: index 0 is out of bounds for axis 0 with size 0\n"
     ]
    },
    {
     "name": "stderr",
     "output_type": "stream",
     "text": [
      " 92%|████████████████████████████████████████████████████████████████████████████████████████████████████████████▍         | 9784/10646 [11:18<00:55, 15.40it/s]/Users/max/Library/Python/3.9/lib/python/site-packages/numpy/core/fromnumeric.py:3464: RuntimeWarning: Mean of empty slice.\n",
      "  return _methods._mean(a, axis=axis, dtype=dtype,\n",
      "/Users/max/Library/Python/3.9/lib/python/site-packages/numpy/core/_methods.py:192: RuntimeWarning: invalid value encountered in scalar divide\n",
      "  ret = ret.dtype.type(ret / rcount)\n",
      " 92%|████████████████████████████████████████████████████████████████████████████████████████████████████████████▋         | 9806/10646 [11:19<00:59, 14.01it/s]/Users/max/Library/Python/3.9/lib/python/site-packages/numpy/core/fromnumeric.py:3464: RuntimeWarning: Mean of empty slice.\n",
      "  return _methods._mean(a, axis=axis, dtype=dtype,\n",
      "/Users/max/Library/Python/3.9/lib/python/site-packages/numpy/core/_methods.py:192: RuntimeWarning: invalid value encountered in scalar divide\n",
      "  ret = ret.dtype.type(ret / rcount)\n",
      " 92%|████████████████████████████████████████████████████████████████████████████████████████████████████████████▋         | 9808/10646 [11:20<01:00, 13.92it/s]/Users/max/Library/Python/3.9/lib/python/site-packages/numpy/core/fromnumeric.py:3464: RuntimeWarning: Mean of empty slice.\n",
      "  return _methods._mean(a, axis=axis, dtype=dtype,\n",
      "/Users/max/Library/Python/3.9/lib/python/site-packages/numpy/core/_methods.py:192: RuntimeWarning: invalid value encountered in scalar divide\n",
      "  ret = ret.dtype.type(ret / rcount)\n",
      " 92%|████████████████████████████████████████████████████████████████████████████████████████████████████████████▉         | 9825/10646 [11:21<00:51, 15.89it/s]"
     ]
    },
    {
     "name": "stdout",
     "output_type": "stream",
     "text": [
      "Failed for index 9822 with error: index 0 is out of bounds for axis 0 with size 0\n"
     ]
    },
    {
     "name": "stderr",
     "output_type": "stream",
     "text": [
      " 92%|█████████████████████████████████████████████████████████████████████████████████████████████████████████████         | 9841/10646 [11:22<00:56, 14.27it/s]"
     ]
    },
    {
     "name": "stdout",
     "output_type": "stream",
     "text": [
      "Exception 047EA81E-6A86-4073-AD3B-456D8F3BD657 engzee pop from empty list\n"
     ]
    },
    {
     "name": "stderr",
     "output_type": "stream",
     "text": [
      " 93%|█████████████████████████████████████████████████████████████████████████████████████████████████████████████▎        | 9861/10646 [11:23<00:55, 14.12it/s]/Users/max/Library/Python/3.9/lib/python/site-packages/numpy/core/fromnumeric.py:3464: RuntimeWarning: Mean of empty slice.\n",
      "  return _methods._mean(a, axis=axis, dtype=dtype,\n",
      "/Users/max/Library/Python/3.9/lib/python/site-packages/numpy/core/_methods.py:192: RuntimeWarning: invalid value encountered in scalar divide\n",
      "  ret = ret.dtype.type(ret / rcount)\n",
      " 93%|█████████████████████████████████████████████████████████████████████████████████████████████████████████████▎        | 9863/10646 [11:23<00:55, 14.19it/s]/Users/max/Library/Python/3.9/lib/python/site-packages/numpy/core/fromnumeric.py:3464: RuntimeWarning: Mean of empty slice.\n",
      "  return _methods._mean(a, axis=axis, dtype=dtype,\n",
      "/Users/max/Library/Python/3.9/lib/python/site-packages/numpy/core/_methods.py:192: RuntimeWarning: invalid value encountered in scalar divide\n",
      "  ret = ret.dtype.type(ret / rcount)\n",
      " 93%|█████████████████████████████████████████████████████████████████████████████████████████████████████████████▋        | 9899/10646 [11:26<00:53, 13.92it/s]/Users/max/Library/Python/3.9/lib/python/site-packages/numpy/core/fromnumeric.py:3464: RuntimeWarning: Mean of empty slice.\n",
      "  return _methods._mean(a, axis=axis, dtype=dtype,\n",
      "/Users/max/Library/Python/3.9/lib/python/site-packages/numpy/core/_methods.py:192: RuntimeWarning: invalid value encountered in scalar divide\n",
      "  ret = ret.dtype.type(ret / rcount)\n",
      " 93%|█████████████████████████████████████████████████████████████████████████████████████████████████████████████▊        | 9909/10646 [11:27<00:57, 12.71it/s]/Users/max/Library/Python/3.9/lib/python/site-packages/numpy/core/fromnumeric.py:3464: RuntimeWarning: Mean of empty slice.\n",
      "  return _methods._mean(a, axis=axis, dtype=dtype,\n",
      "/Users/max/Library/Python/3.9/lib/python/site-packages/numpy/core/_methods.py:192: RuntimeWarning: invalid value encountered in scalar divide\n",
      "  ret = ret.dtype.type(ret / rcount)\n",
      " 93%|██████████████████████████████████████████████████████████████████████████████████████████████████████████████        | 9933/10646 [11:29<00:53, 13.39it/s]/Users/max/Library/Python/3.9/lib/python/site-packages/numpy/core/fromnumeric.py:3464: RuntimeWarning: Mean of empty slice.\n",
      "  return _methods._mean(a, axis=axis, dtype=dtype,\n",
      "/Users/max/Library/Python/3.9/lib/python/site-packages/numpy/core/_methods.py:192: RuntimeWarning: invalid value encountered in scalar divide\n",
      "  ret = ret.dtype.type(ret / rcount)\n",
      " 94%|██████████████████████████████████████████████████████████████████████████████████████████████████████████████▍       | 9969/10646 [11:31<00:48, 14.08it/s]"
     ]
    },
    {
     "name": "stdout",
     "output_type": "stream",
     "text": [
      "Exception 047EA81E-6A86-4073-AD3B-456D8F3BD657 engzee pop from empty list\n"
     ]
    },
    {
     "name": "stderr",
     "output_type": "stream",
     "text": [
      " 94%|██████████████████████████████████████████████████████████████████████████████████████████████████████████████▋       | 9985/10646 [11:32<00:46, 14.27it/s]/Users/max/Library/Python/3.9/lib/python/site-packages/numpy/core/fromnumeric.py:3464: RuntimeWarning: Mean of empty slice.\n",
      "  return _methods._mean(a, axis=axis, dtype=dtype,\n",
      "/Users/max/Library/Python/3.9/lib/python/site-packages/numpy/core/_methods.py:192: RuntimeWarning: invalid value encountered in scalar divide\n",
      "  ret = ret.dtype.type(ret / rcount)\n",
      " 94%|██████████████████████████████████████████████████████████████████████████████████████████████████████████████▋       | 9991/10646 [11:33<00:45, 14.37it/s]"
     ]
    },
    {
     "name": "stdout",
     "output_type": "stream",
     "text": [
      "Exception 047EA81E-6A86-4073-AD3B-456D8F3BD657 engzee pop from empty list\n",
      "Exception 047EA81E-6A86-4073-AD3B-456D8F3BD657 engzee pop from empty list\n"
     ]
    },
    {
     "name": "stderr",
     "output_type": "stream",
     "text": [
      " 94%|█████████████████████████████████████████████████████████████████████████████████████████████████████████████▉       | 10009/10646 [11:34<00:45, 13.98it/s]/Users/max/Library/Python/3.9/lib/python/site-packages/numpy/core/fromnumeric.py:3464: RuntimeWarning: Mean of empty slice.\n",
      "  return _methods._mean(a, axis=axis, dtype=dtype,\n",
      "/Users/max/Library/Python/3.9/lib/python/site-packages/numpy/core/_methods.py:192: RuntimeWarning: invalid value encountered in scalar divide\n",
      "  ret = ret.dtype.type(ret / rcount)\n",
      " 94%|██████████████████████████████████████████████████████████████████████████████████████████████████████████████       | 10013/10646 [11:34<00:45, 14.03it/s]"
     ]
    },
    {
     "name": "stdout",
     "output_type": "stream",
     "text": [
      "Exception 047EA81E-6A86-4073-AD3B-456D8F3BD657 engzee pop from empty list\n"
     ]
    },
    {
     "name": "stderr",
     "output_type": "stream",
     "text": [
      " 95%|██████████████████████████████████████████████████████████████████████████████████████████████████████████████▋      | 10076/10646 [11:39<00:35, 16.07it/s]"
     ]
    },
    {
     "name": "stdout",
     "output_type": "stream",
     "text": [
      "Failed for index 10073 with error: index 0 is out of bounds for axis 0 with size 0\n"
     ]
    },
    {
     "name": "stderr",
     "output_type": "stream",
     "text": [
      " 95%|██████████████████████████████████████████████████████████████████████████████████████████████████████████████▉      | 10094/10646 [11:40<00:38, 14.48it/s]/Users/max/Library/Python/3.9/lib/python/site-packages/numpy/core/fromnumeric.py:3464: RuntimeWarning: Mean of empty slice.\n",
      "  return _methods._mean(a, axis=axis, dtype=dtype,\n",
      "/Users/max/Library/Python/3.9/lib/python/site-packages/numpy/core/_methods.py:192: RuntimeWarning: invalid value encountered in scalar divide\n",
      "  ret = ret.dtype.type(ret / rcount)\n",
      " 95%|███████████████████████████████████████████████████████████████████████████████████████████████████████████████      | 10110/10646 [11:41<00:37, 14.40it/s]/Users/max/Library/Python/3.9/lib/python/site-packages/numpy/core/fromnumeric.py:3464: RuntimeWarning: Mean of empty slice.\n",
      "  return _methods._mean(a, axis=axis, dtype=dtype,\n",
      "/Users/max/Library/Python/3.9/lib/python/site-packages/numpy/core/_methods.py:192: RuntimeWarning: invalid value encountered in scalar divide\n",
      "  ret = ret.dtype.type(ret / rcount)\n",
      " 95%|███████████████████████████████████████████████████████████████████████████████████████████████████████████████▏     | 10118/10646 [11:42<00:36, 14.54it/s]"
     ]
    },
    {
     "name": "stdout",
     "output_type": "stream",
     "text": [
      "Exception 047EA81E-6A86-4073-AD3B-456D8F3BD657 engzee pop from empty list\n"
     ]
    },
    {
     "name": "stderr",
     "output_type": "stream",
     "text": [
      " 95%|███████████████████████████████████████████████████████████████████████████████████████████████████████████████▎     | 10127/10646 [11:42<00:31, 16.61it/s]"
     ]
    },
    {
     "name": "stdout",
     "output_type": "stream",
     "text": [
      "Failed for index 10124 with error: index 0 is out of bounds for axis 0 with size 0\n"
     ]
    },
    {
     "name": "stderr",
     "output_type": "stream",
     "text": [
      " 96%|███████████████████████████████████████████████████████████████████████████████████████████████████████████████▉     | 10181/10646 [11:46<00:32, 14.30it/s]/Users/max/Library/Python/3.9/lib/python/site-packages/numpy/core/fromnumeric.py:3464: RuntimeWarning: Mean of empty slice.\n",
      "  return _methods._mean(a, axis=axis, dtype=dtype,\n",
      "/Users/max/Library/Python/3.9/lib/python/site-packages/numpy/core/_methods.py:192: RuntimeWarning: invalid value encountered in scalar divide\n",
      "  ret = ret.dtype.type(ret / rcount)\n",
      " 96%|████████████████████████████████████████████████████████████████████████████████████████████████████████████████▍    | 10227/10646 [11:49<00:29, 14.10it/s]/Users/max/Library/Python/3.9/lib/python/site-packages/numpy/core/fromnumeric.py:3464: RuntimeWarning: Mean of empty slice.\n",
      "  return _methods._mean(a, axis=axis, dtype=dtype,\n",
      "/Users/max/Library/Python/3.9/lib/python/site-packages/numpy/core/_methods.py:192: RuntimeWarning: invalid value encountered in scalar divide\n",
      "  ret = ret.dtype.type(ret / rcount)\n",
      " 96%|████████████████████████████████████████████████████████████████████████████████████████████████████████████████▍    | 10229/10646 [11:49<00:29, 14.25it/s]"
     ]
    },
    {
     "name": "stdout",
     "output_type": "stream",
     "text": [
      "Exception 047EA81E-6A86-4073-AD3B-456D8F3BD657 engzee pop from empty list\n"
     ]
    },
    {
     "name": "stderr",
     "output_type": "stream",
     "text": [
      " 96%|████████████████████████████████████████████████████████████████████████████████████████████████████████████████▍    | 10235/10646 [11:50<00:28, 14.38it/s]/Users/max/Library/Python/3.9/lib/python/site-packages/numpy/core/fromnumeric.py:3464: RuntimeWarning: Mean of empty slice.\n",
      "  return _methods._mean(a, axis=axis, dtype=dtype,\n",
      "/Users/max/Library/Python/3.9/lib/python/site-packages/numpy/core/_methods.py:192: RuntimeWarning: invalid value encountered in scalar divide\n",
      "  ret = ret.dtype.type(ret / rcount)\n",
      " 96%|████████████████████████████████████████████████████████████████████████████████████████████████████████████████▋    | 10259/10646 [11:52<00:26, 14.51it/s]"
     ]
    },
    {
     "name": "stdout",
     "output_type": "stream",
     "text": [
      "Exception 047EA81E-6A86-4073-AD3B-456D8F3BD657 engzee pop from empty list\n"
     ]
    },
    {
     "name": "stderr",
     "output_type": "stream",
     "text": [
      " 97%|█████████████████████████████████████████████████████████████████████████████████████████████████████████████████▎   | 10309/10646 [11:55<00:23, 14.42it/s]/Users/max/Library/Python/3.9/lib/python/site-packages/numpy/core/fromnumeric.py:3464: RuntimeWarning: Mean of empty slice.\n",
      "  return _methods._mean(a, axis=axis, dtype=dtype,\n",
      "/Users/max/Library/Python/3.9/lib/python/site-packages/numpy/core/_methods.py:192: RuntimeWarning: invalid value encountered in scalar divide\n",
      "  ret = ret.dtype.type(ret / rcount)\n",
      " 97%|█████████████████████████████████████████████████████████████████████████████████████████████████████████████████▍   | 10317/10646 [11:56<00:23, 14.29it/s]/Users/max/Library/Python/3.9/lib/python/site-packages/numpy/core/fromnumeric.py:3464: RuntimeWarning: Mean of empty slice.\n",
      "  return _methods._mean(a, axis=axis, dtype=dtype,\n",
      "/Users/max/Library/Python/3.9/lib/python/site-packages/numpy/core/_methods.py:192: RuntimeWarning: invalid value encountered in scalar divide\n",
      "  ret = ret.dtype.type(ret / rcount)\n",
      " 97%|█████████████████████████████████████████████████████████████████████████████████████████████████████████████████▍   | 10321/10646 [11:56<00:22, 14.33it/s]/Users/max/Library/Python/3.9/lib/python/site-packages/numpy/core/fromnumeric.py:3464: RuntimeWarning: Mean of empty slice.\n",
      "  return _methods._mean(a, axis=axis, dtype=dtype,\n",
      "/Users/max/Library/Python/3.9/lib/python/site-packages/numpy/core/_methods.py:192: RuntimeWarning: invalid value encountered in scalar divide\n",
      "  ret = ret.dtype.type(ret / rcount)\n",
      " 97%|█████████████████████████████████████████████████████████████████████████████████████████████████████████████████▋   | 10350/10646 [11:58<00:17, 16.51it/s]"
     ]
    },
    {
     "name": "stdout",
     "output_type": "stream",
     "text": [
      "Failed for index 10347 with error: index 0 is out of bounds for axis 0 with size 0\n"
     ]
    },
    {
     "name": "stderr",
     "output_type": "stream",
     "text": [
      " 98%|██████████████████████████████████████████████████████████████████████████████████████████████████████████████████   | 10384/10646 [12:00<00:18, 14.39it/s]/Users/max/Library/Python/3.9/lib/python/site-packages/numpy/core/fromnumeric.py:3464: RuntimeWarning: Mean of empty slice.\n",
      "  return _methods._mean(a, axis=axis, dtype=dtype,\n",
      "/Users/max/Library/Python/3.9/lib/python/site-packages/numpy/core/_methods.py:192: RuntimeWarning: invalid value encountered in scalar divide\n",
      "  ret = ret.dtype.type(ret / rcount)\n",
      " 98%|██████████████████████████████████████████████████████████████████████████████████████████████████████████████████▏  | 10386/10646 [12:00<00:17, 14.50it/s]"
     ]
    },
    {
     "name": "stdout",
     "output_type": "stream",
     "text": [
      "Exception 047EA81E-6A86-4073-AD3B-456D8F3BD657 engzee pop from empty list\n"
     ]
    },
    {
     "name": "stderr",
     "output_type": "stream",
     "text": [
      " 98%|██████████████████████████████████████████████████████████████████████████████████████████████████████████████████▏  | 10390/10646 [12:01<00:17, 14.47it/s]"
     ]
    },
    {
     "name": "stdout",
     "output_type": "stream",
     "text": [
      "Exception 047EA81E-6A86-4073-AD3B-456D8F3BD657 engzee pop from empty list\n"
     ]
    },
    {
     "name": "stderr",
     "output_type": "stream",
     "text": [
      " 98%|██████████████████████████████████████████████████████████████████████████████████████████████████████████████████▊  | 10445/10646 [12:04<00:11, 16.75it/s]"
     ]
    },
    {
     "name": "stdout",
     "output_type": "stream",
     "text": [
      "Exception 047EA81E-6A86-4073-AD3B-456D8F3BD657 engzee pop from empty list\n",
      "Failed for index 10442 with error: index 0 is out of bounds for axis 0 with size 0\n"
     ]
    },
    {
     "name": "stderr",
     "output_type": "stream",
     "text": [
      " 98%|███████████████████████████████████████████████████████████████████████████████████████████████████████████████████  | 10475/10646 [12:06<00:11, 14.49it/s]"
     ]
    },
    {
     "name": "stdout",
     "output_type": "stream",
     "text": [
      "Exception 047EA81E-6A86-4073-AD3B-456D8F3BD657 engzee pop from empty list\n"
     ]
    },
    {
     "name": "stderr",
     "output_type": "stream",
     "text": [
      " 99%|███████████████████████████████████████████████████████████████████████████████████████████████████████████████████▎ | 10495/10646 [12:08<00:10, 14.36it/s]/Users/max/Library/Python/3.9/lib/python/site-packages/numpy/core/fromnumeric.py:3464: RuntimeWarning: Mean of empty slice.\n",
      "  return _methods._mean(a, axis=axis, dtype=dtype,\n",
      "/Users/max/Library/Python/3.9/lib/python/site-packages/numpy/core/_methods.py:192: RuntimeWarning: invalid value encountered in scalar divide\n",
      "  ret = ret.dtype.type(ret / rcount)\n",
      " 99%|███████████████████████████████████████████████████████████████████████████████████████████████████████████████████▋ | 10530/10646 [12:10<00:07, 16.57it/s]"
     ]
    },
    {
     "name": "stdout",
     "output_type": "stream",
     "text": [
      "Failed for index 10527 with error: index 0 is out of bounds for axis 0 with size 0\n"
     ]
    },
    {
     "name": "stderr",
     "output_type": "stream",
     "text": [
      " 99%|███████████████████████████████████████████████████████████████████████████████████████████████████████████████████▊ | 10539/10646 [12:11<00:06, 16.91it/s]"
     ]
    },
    {
     "name": "stdout",
     "output_type": "stream",
     "text": [
      "Failed for index 10537 with error: index 0 is out of bounds for axis 0 with size 0\n"
     ]
    },
    {
     "name": "stderr",
     "output_type": "stream",
     "text": [
      " 99%|███████████████████████████████████████████████████████████████████████████████████████████████████████████████████▊ | 10543/10646 [12:11<00:06, 15.62it/s]/Users/max/Library/Python/3.9/lib/python/site-packages/numpy/core/fromnumeric.py:3464: RuntimeWarning: Mean of empty slice.\n",
      "  return _methods._mean(a, axis=axis, dtype=dtype,\n",
      "/Users/max/Library/Python/3.9/lib/python/site-packages/numpy/core/_methods.py:192: RuntimeWarning: invalid value encountered in scalar divide\n",
      "  ret = ret.dtype.type(ret / rcount)\n",
      " 99%|████████████████████████████████████████████████████████████████████████████████████████████████████████████████████▍| 10592/10646 [12:14<00:03, 16.46it/s]"
     ]
    },
    {
     "name": "stdout",
     "output_type": "stream",
     "text": [
      "Failed for index 10590 with error: index 0 is out of bounds for axis 0 with size 0\n"
     ]
    },
    {
     "name": "stderr",
     "output_type": "stream",
     "text": [
      "100%|████████████████████████████████████████████████████████████████████████████████████████████████████████████████████▌| 10604/10646 [12:15<00:02, 14.65it/s]/Users/max/Library/Python/3.9/lib/python/site-packages/numpy/core/fromnumeric.py:3464: RuntimeWarning: Mean of empty slice.\n",
      "  return _methods._mean(a, axis=axis, dtype=dtype,\n",
      "/Users/max/Library/Python/3.9/lib/python/site-packages/numpy/core/_methods.py:192: RuntimeWarning: invalid value encountered in scalar divide\n",
      "  ret = ret.dtype.type(ret / rcount)\n",
      "100%|████████████████████████████████████████████████████████████████████████████████████████████████████████████████████▊| 10626/10646 [12:17<00:01, 14.35it/s]/Users/max/Library/Python/3.9/lib/python/site-packages/numpy/core/fromnumeric.py:3464: RuntimeWarning: Mean of empty slice.\n",
      "  return _methods._mean(a, axis=axis, dtype=dtype,\n",
      "/Users/max/Library/Python/3.9/lib/python/site-packages/numpy/core/_methods.py:192: RuntimeWarning: invalid value encountered in scalar divide\n",
      "  ret = ret.dtype.type(ret / rcount)\n",
      "100%|████████████████████████████████████████████████████████████████████████████████████████████████████████████████████▊| 10628/10646 [12:17<00:01, 14.38it/s]"
     ]
    },
    {
     "name": "stdout",
     "output_type": "stream",
     "text": [
      "Exception 047EA81E-6A86-4073-AD3B-456D8F3BD657 engzee pop from empty list\n"
     ]
    },
    {
     "name": "stderr",
     "output_type": "stream",
     "text": [
      "/Users/max/Library/Python/3.9/lib/python/site-packages/numpy/core/fromnumeric.py:3464: RuntimeWarning: Mean of empty slice.\n",
      "  return _methods._mean(a, axis=axis, dtype=dtype,\n",
      "/Users/max/Library/Python/3.9/lib/python/site-packages/numpy/core/_methods.py:192: RuntimeWarning: invalid value encountered in scalar divide\n",
      "  ret = ret.dtype.type(ret / rcount)\n",
      "100%|████████████████████████████████████████████████████████████████████████████████████████████████████████████████████▊| 10632/10646 [12:17<00:00, 14.39it/s]/Users/max/Library/Python/3.9/lib/python/site-packages/numpy/core/fromnumeric.py:3464: RuntimeWarning: Mean of empty slice.\n",
      "  return _methods._mean(a, axis=axis, dtype=dtype,\n",
      "/Users/max/Library/Python/3.9/lib/python/site-packages/numpy/core/_methods.py:192: RuntimeWarning: invalid value encountered in scalar divide\n",
      "  ret = ret.dtype.type(ret / rcount)\n",
      "100%|█████████████████████████████████████████████████████████████████████████████████████████████████████████████████████| 10646/10646 [12:18<00:00, 14.42it/s]\n"
     ]
    }
   ],
   "source": [
    "result_table_os = get_results_table(df_os, 10000.0, algorithm_conversion_peak, non_apple_source=True)"
   ]
  },
  {
   "cell_type": "markdown",
   "id": "eeeebdd7",
   "metadata": {},
   "source": [
    "### Signal Quality"
   ]
  },
  {
   "cell_type": "code",
   "execution_count": 19,
   "id": "8c57563d",
   "metadata": {},
   "outputs": [],
   "source": [
    "def plot_confusion_matrix(\n",
    "    groundtruth, prediction, labels,\n",
    "    title, xlabel='PeakSwift', ylabel='NeuroKit', x_rotation=0, y_rotation=0,\n",
    "    save=False\n",
    "):\n",
    "    cm = confusion_matrix(groundtruth, prediction, labels=labels)\n",
    "    disp = ConfusionMatrixDisplay(confusion_matrix=cm, display_labels=labels)\n",
    "    disp.plot(cmap=plt.cm.Blues)\n",
    "    disp.ax_.set(title=title, xlabel = xlabel, ylabel = ylabel)\n",
    "    plt.xticks(rotation=x_rotation)\n",
    "    plt.yticks(rotation=y_rotation)\n",
    "    if save:\n",
    "        plt.savefig('./results/' + title + '.png', bbox_inches='tight', dpi=300)\n",
    "    plt.show()\n",
    "    plt.close()"
   ]
  },
  {
   "cell_type": "code",
   "execution_count": 20,
   "id": "671fddcd",
   "metadata": {},
   "outputs": [],
   "source": [
    "def get_signal_quality(result_table):\n",
    "    sq = result_table[\n",
    "        [\n",
    "            'id', 'signal_quality_neurokit_simple',\n",
    "            'signal_quality_neurokit_fuzzy', 'signal_quality_swift_simple',\n",
    "            'signal_quality_swift_fuzzy', 'signal_rating_apple',\n",
    "        ]\n",
    "    ].drop_duplicates('id')\n",
    "\n",
    "    labels = ['Excellent', 'Barely acceptable', 'Unacceptable']\n",
    "    labels_apple = list(sq.signal_rating_apple.unique())\n",
    "\n",
    "    # Neurokit returns a small spelling mistake: Unnacceptable\n",
    "    sq.signal_quality_neurokit_fuzzy = sq.signal_quality_neurokit_fuzzy.replace('Unnacceptable', 'Unacceptable')\n",
    "    sq.signal_quality_swift_simple = sq.signal_quality_swift_simple.replace('barelyAcceptable', 'Barely acceptable').replace('unacceptable', 'Unacceptable').replace('excellent', 'Excellent')\n",
    "    sq.signal_quality_swift_fuzzy = sq.signal_quality_swift_fuzzy.replace('barelyAcceptable', 'Barely acceptable').replace('unacceptable', 'Unacceptable').replace('excellent', 'Excellent')\n",
    "    return sq"
   ]
  },
  {
   "cell_type": "code",
   "execution_count": 21,
   "id": "a0498b7e",
   "metadata": {},
   "outputs": [],
   "source": [
    "def plot_signal_quality(sq, context, iOS_source=True):\n",
    "    labels = ['Excellent', 'Barely acceptable', 'Unacceptable']\n",
    "    labels_apple = list(sq.signal_rating_apple.unique())\n",
    "    plot_confusion_matrix(\n",
    "        sq.signal_quality_neurokit_simple, sq.signal_quality_swift_simple, labels,\n",
    "        title=\"Zhao2018 Simple - \" + context, y_rotation=0, save=True,\n",
    "    )\n",
    "    plot_confusion_matrix(\n",
    "        sq.signal_quality_neurokit_fuzzy, sq.signal_quality_swift_fuzzy, labels,\n",
    "        title=\"Zhao2018 Fuzzy - \" + context, y_rotation=0, save=True,\n",
    "    )\n",
    "    if iOS_source:\n",
    "        plot_confusion_matrix(\n",
    "            sq.signal_quality_swift_simple, sq.signal_rating_apple, labels + labels_apple,\n",
    "            title=\"Signal Rating\", xlabel='Apple', x_rotation=90, save=True,\n",
    "        )"
   ]
  },
  {
   "cell_type": "code",
   "execution_count": 22,
   "id": "b49650ef",
   "metadata": {},
   "outputs": [],
   "source": [
    "sq = get_signal_quality(result_table)\n",
    "sq_os = get_signal_quality(result_table_os)"
   ]
  },
  {
   "cell_type": "code",
   "execution_count": 23,
   "id": "53cf3dd8",
   "metadata": {
    "scrolled": false
   },
   "outputs": [
    {
     "data": {
      "image/png": "[encoded data removed]",
      "text/plain": [
       "<Figure size 640x480 with 2 Axes>"
      ]
     },
     "metadata": {},
     "output_type": "display_data"
    },
    {
     "data": {
      "image/png": "[encoded data removed]",
      "text/plain": [
       "<Figure size 640x480 with 2 Axes>"
      ]
     },
     "metadata": {},
     "output_type": "display_data"
    },
    {
     "data": {
      "image/png": "[encoded data removed]",
      "text/plain": [
       "<Figure size 640x480 with 2 Axes>"
      ]
     },
     "metadata": {},
     "output_type": "display_data"
    },
    {
     "data": {
      "image/png": "[encoded data removed]",
      "text/plain": [
       "<Figure size 640x480 with 2 Axes>"
      ]
     },
     "metadata": {},
     "output_type": "display_data"
    },
    {
     "data": {
      "image/png": "[encoded data removed]",
      "text/plain": [
       "<Figure size 640x480 with 2 Axes>"
      ]
     },
     "metadata": {},
     "output_type": "display_data"
    }
   ],
   "source": [
    "plot_signal_quality(sq, \"Self Recorded\")\n",
    "plot_signal_quality(sq_os, \"Open Source\", False)"
   ]
  },
  {
   "cell_type": "markdown",
   "id": "736466e9",
   "metadata": {},
   "source": [
    "### R-peak Detection Accuracy"
   ]
  },
  {
   "cell_type": "code",
   "execution_count": 58,
   "id": "0dce929d",
   "metadata": {},
   "outputs": [],
   "source": [
    "def print_performance_metrics(result_table):\n",
    "    print(\n",
    "    'Mean Absolute Error:',\n",
    "    np.mean(result_table.mean_difference_t0),\n",
    "    '±',\n",
    "    np.std(result_table.mean_difference_t0),\n",
    "    )\n",
    "    print(\n",
    "        'Max Error:',\n",
    "        np.max(result_table.mean_difference_t0),\n",
    "    )\n",
    "    print(\n",
    "        'Cases with Error:',\n",
    "        len(result_table.mean_difference_t0[result_table.mean_difference_t0 > 0.0]),\n",
    "    )\n",
    "    print(\n",
    "        'Ratio of cases with error:',\n",
    "        (len(result_table.mean_difference_t0[result_table.mean_difference_t0 > 0.0]) / len(result_table))*100,\n",
    "        '%',\n",
    "    )\n",
    "    \n",
    "    print(\n",
    "        'Mean Absolute Error (error tolerance 10):',\n",
    "        np.mean(result_table.mean_difference_t10),\n",
    "        '±',\n",
    "        np.std(result_table.mean_difference_t10),\n",
    "    )\n",
    "    \n",
    "    print(\n",
    "        'Number of deviating R-peak count:',\n",
    "        len(result_table[result_table.peak_diff != 0]),\n",
    "    )\n",
    "    print(\n",
    "        'Ratio of cases with error:',\n",
    "        (len(result_table.mean_difference_mapped_t0[result_table.mean_difference_mapped_t0 > 0.0]) / len(result_table))*100,\n",
    "        '%',\n",
    "    )\n",
    "    print(\n",
    "        'Mean Absolute Error:',\n",
    "        np.mean(result_table.mean_difference_mapped_t0),\n",
    "        '±',\n",
    "        np.std(result_table.mean_difference_mapped_t0),\n",
    "    )\n",
    "    print(\n",
    "        'Max Error:',\n",
    "        np.max(result_table.mean_difference_mapped_t0),\n",
    "    )\n",
    "    print(\n",
    "        'ECGs with Error:',\n",
    "        len(result_table.mean_difference_mapped_t0[result_table.mean_difference_mapped_t0 > 0.0]),\n",
    "    )\n",
    "    print(\n",
    "        'Mean Absolute Error (error tolerance 10):',\n",
    "        np.mean(result_table.mean_difference_mapped_t10),\n",
    "        '±',\n",
    "        np.std(result_table.mean_difference_mapped_t10),\n",
    "    )\n",
    "    \n",
    "    print(\n",
    "        'Runtime NeuroKit (ms):',\n",
    "        np.mean(result_table.runtime_neurokit),\n",
    "        '±',\n",
    "        np.std(result_table.runtime_neurokit),\n",
    "    )\n",
    "    print(\n",
    "        'Runtime Swift (ms):',\n",
    "        np.mean(result_table.runtime_swift),\n",
    "        '±',\n",
    "        np.std(result_table.runtime_swift),\n",
    "    )\n",
    "    print(\n",
    "        'Runtime Difference (ms):',\n",
    "        np.mean(result_table.runtime_difference),\n",
    "        '±',\n",
    "        np.std(result_table.runtime_difference),\n",
    "    )\n",
    "    print(\n",
    "        'Runtime Difference without Christov (ms):',\n",
    "        np.mean(result_table[result_table.algorithm != 'christov'].runtime_difference),\n",
    "        '±',\n",
    "        np.std(result_table[result_table.algorithm != 'christov'].runtime_difference),\n",
    "    )"
   ]
  },
  {
   "cell_type": "code",
   "execution_count": 59,
   "id": "4b8a66d7",
   "metadata": {},
   "outputs": [
    {
     "name": "stdout",
     "output_type": "stream",
     "text": [
      "Mean Absolute Error: 0.003171951840883707 ± 0.08071190684109533\n",
      "Max Error: 3.4358974358974357\n",
      "Cases with Error: 48\n",
      "Ratio of cases with error: 1.179651019906611 %\n",
      "Mean Absolute Error (error tolerance 10): 0.0 ± 0.0\n",
      "Number of deviating R-peak count: 15\n",
      "Ratio of cases with error: 1.204227082821332 %\n",
      "Mean Absolute Error: 0.003470396053621924 ± 0.0829487372539662\n",
      "Max Error: 3.4358974358974357\n",
      "ECGs with Error: 49\n",
      "Mean Absolute Error (error tolerance 10): 0.0031881682528231226 ± 0.08291181533469877\n",
      "Runtime NeuroKit (ms): 23.518025362394926 ± 35.804830335018714\n",
      "Runtime Swift (ms): 3.133691522241337 ± 4.694793242635367\n",
      "Runtime Difference (ms): 20.38433384015359 ± 35.11379460103254\n",
      "Runtime Difference without Christov (ms): 8.281945108795716 ± 15.171084385689815\n"
     ]
    }
   ],
   "source": [
    "print_performance_metrics(result_table)"
   ]
  },
  {
   "cell_type": "code",
   "execution_count": 60,
   "id": "ee9de549",
   "metadata": {},
   "outputs": [
    {
     "name": "stdout",
     "output_type": "stream",
     "text": [
      "Mean Absolute Error: 0.033973883372039396 ± 1.8020603181181225\n",
      "Max Error: 356.3333333333333\n",
      "Cases with Error: 1345\n",
      "Ratio of cases with error: 1.5962686478595758 %\n",
      "Mean Absolute Error (error tolerance 10): 0.013031413729869995 ± 1.6699590784231455\n",
      "Number of deviating R-peak count: 647\n",
      "Ratio of cases with error: 1.6947744454598321 %\n",
      "Mean Absolute Error: 0.03106208009142161 ± 0.950532173226377\n",
      "Max Error: 134.61111111111111\n",
      "ECGs with Error: 1428\n",
      "Mean Absolute Error (error tolerance 10): 0.02954849652655458 ± 0.9467073400396949\n",
      "Runtime NeuroKit (ms): 7.651910617857208 ± 10.84002107739411\n",
      "Runtime Swift (ms): 0.706397566681304 ± 0.9658193758948508\n",
      "Runtime Difference (ms): 6.9455130511759045 ± 10.635410487301353\n",
      "Runtime Difference without Christov (ms): 3.2228611784496173 ± 4.214039112904842\n"
     ]
    }
   ],
   "source": [
    "print_performance_metrics(result_table_os)"
   ]
  },
  {
   "cell_type": "code",
   "execution_count": 52,
   "id": "79228c1d",
   "metadata": {},
   "outputs": [
    {
     "data": {
      "text/plain": [
       "0       0.0\n",
       "1       0.0\n",
       "2       0.0\n",
       "3       0.0\n",
       "4       0.0\n",
       "       ... \n",
       "4064    0.0\n",
       "4065    0.0\n",
       "4066    0.0\n",
       "4067    0.0\n",
       "4068    0.0\n",
       "Name: mean_difference_mapped_t0, Length: 4069, dtype: float64"
      ]
     },
     "execution_count": 52,
     "metadata": {},
     "output_type": "execute_result"
    }
   ],
   "source": [
    "result_table.mean_difference_mapped_t0"
   ]
  },
  {
   "cell_type": "code",
   "execution_count": 53,
   "id": "1fe3b319",
   "metadata": {},
   "outputs": [],
   "source": [
    "def get_detail_information(result_table):\n",
    "    evaluation_overview = result_table.groupby('algorithm')[\n",
    "        [\n",
    "            'mean_difference_mapped_t0', 'mean_difference_t0', 'mean_difference_mapped_t0',\n",
    "            'runtime_neurokit', 'runtime_swift', 'runtime_difference',\n",
    "        ]\n",
    "    ].agg(mean_std)\n",
    "    evaluation_overview['peak_diff'] = result_table.groupby('algorithm')[['peak_diff']].agg(np.sum)['peak_diff']\n",
    "    return evaluation_overview"
   ]
  },
  {
   "cell_type": "code",
   "execution_count": 54,
   "id": "de739ad7",
   "metadata": {},
   "outputs": [],
   "source": [
    "evaluation_overview = get_detail_information(result_table)\n",
    "evaluation_overview_os = get_detail_information(result_table_os)"
   ]
  },
  {
   "cell_type": "code",
   "execution_count": 57,
   "id": "e84e2ddf",
   "metadata": {},
   "outputs": [
    {
     "data": {
      "text/html": [
       "<div>\n",
       "<style scoped>\n",
       "    .dataframe tbody tr th:only-of-type {\n",
       "        vertical-align: middle;\n",
       "    }\n",
       "\n",
       "    .dataframe tbody tr th {\n",
       "        vertical-align: top;\n",
       "    }\n",
       "\n",
       "    .dataframe thead th {\n",
       "        text-align: right;\n",
       "    }\n",
       "</style>\n",
       "<table border=\"1\" class=\"dataframe\">\n",
       "  <thead>\n",
       "    <tr style=\"text-align: right;\">\n",
       "      <th></th>\n",
       "      <th>mean_difference_mapped_t0</th>\n",
       "      <th>mean_difference_t0</th>\n",
       "      <th>mean_difference_mapped_t0</th>\n",
       "      <th>runtime_neurokit</th>\n",
       "      <th>runtime_swift</th>\n",
       "      <th>runtime_difference</th>\n",
       "      <th>peak_diff</th>\n",
       "    </tr>\n",
       "    <tr>\n",
       "      <th>algorithm</th>\n",
       "      <th></th>\n",
       "      <th></th>\n",
       "      <th></th>\n",
       "      <th></th>\n",
       "      <th></th>\n",
       "      <th></th>\n",
       "      <th></th>\n",
       "    </tr>\n",
       "  </thead>\n",
       "  <tbody>\n",
       "    <tr>\n",
       "      <th>christov</th>\n",
       "      <td>0.00035$\\pm$0.03032</td>\n",
       "      <td>5e-05$\\pm$0.00295</td>\n",
       "      <td>0.00035$\\pm$0.03032</td>\n",
       "      <td>34.17485$\\pm$2.53796</td>\n",
       "      <td>1.23461$\\pm$0.08944</td>\n",
       "      <td>32.94024$\\pm$2.54136</td>\n",
       "      <td>1</td>\n",
       "    </tr>\n",
       "    <tr>\n",
       "      <th>elgendi</th>\n",
       "      <td>0.13745$\\pm$1.65316</td>\n",
       "      <td>0.1282$\\pm$1.64578</td>\n",
       "      <td>0.13745$\\pm$1.65316</td>\n",
       "      <td>2.39908$\\pm$0.26879</td>\n",
       "      <td>0.16035$\\pm$0.01316</td>\n",
       "      <td>2.23873$\\pm$0.26895</td>\n",
       "      <td>252</td>\n",
       "    </tr>\n",
       "    <tr>\n",
       "      <th>engzee</th>\n",
       "      <td>0.00319$\\pm$0.15446</td>\n",
       "      <td>0.00328$\\pm$0.15672</td>\n",
       "      <td>0.00319$\\pm$0.15446</td>\n",
       "      <td>13.66579$\\pm$1.08216</td>\n",
       "      <td>0.38904$\\pm$0.02926</td>\n",
       "      <td>13.27675$\\pm$1.085</td>\n",
       "      <td>133</td>\n",
       "    </tr>\n",
       "    <tr>\n",
       "      <th>hamilton</th>\n",
       "      <td>0.04117$\\pm$1.22674</td>\n",
       "      <td>0.01869$\\pm$0.78267</td>\n",
       "      <td>0.04117$\\pm$1.22674</td>\n",
       "      <td>3.42745$\\pm$0.59563</td>\n",
       "      <td>0.11524$\\pm$0.01131</td>\n",
       "      <td>3.31221$\\pm$0.59041</td>\n",
       "      <td>37</td>\n",
       "    </tr>\n",
       "    <tr>\n",
       "      <th>kalidas</th>\n",
       "      <td>0.0$\\pm$0.0</td>\n",
       "      <td>0.0$\\pm$0.0</td>\n",
       "      <td>0.0$\\pm$0.0</td>\n",
       "      <td>0.75261$\\pm$0.12868</td>\n",
       "      <td>0.30112$\\pm$0.04149</td>\n",
       "      <td>0.45149$\\pm$0.13489</td>\n",
       "      <td>0</td>\n",
       "    </tr>\n",
       "    <tr>\n",
       "      <th>nabian</th>\n",
       "      <td>0.0$\\pm$0.0</td>\n",
       "      <td>0.0$\\pm$0.0</td>\n",
       "      <td>0.0$\\pm$0.0</td>\n",
       "      <td>5.07603$\\pm$0.52734</td>\n",
       "      <td>3.08186$\\pm$0.2217</td>\n",
       "      <td>1.99417$\\pm$0.57121</td>\n",
       "      <td>0</td>\n",
       "    </tr>\n",
       "    <tr>\n",
       "      <th>neurokit</th>\n",
       "      <td>0.03783$\\pm$1.34656</td>\n",
       "      <td>0.10232$\\pm$4.68665</td>\n",
       "      <td>0.03783$\\pm$1.34656</td>\n",
       "      <td>1.11518$\\pm$0.22244</td>\n",
       "      <td>0.21892$\\pm$0.01778</td>\n",
       "      <td>0.89626$\\pm$0.22185</td>\n",
       "      <td>246</td>\n",
       "    </tr>\n",
       "    <tr>\n",
       "      <th>pantompkins</th>\n",
       "      <td>0.02804$\\pm$1.05936</td>\n",
       "      <td>0.02172$\\pm$0.96909</td>\n",
       "      <td>0.02804$\\pm$1.05936</td>\n",
       "      <td>0.70625$\\pm$0.11356</td>\n",
       "      <td>0.14459$\\pm$0.01361</td>\n",
       "      <td>0.56166$\\pm$0.11131</td>\n",
       "      <td>18</td>\n",
       "    </tr>\n",
       "  </tbody>\n",
       "</table>\n",
       "</div>"
      ],
      "text/plain": [
       "            mean_difference_mapped_t0   mean_difference_t0  \\\n",
       "algorithm                                                    \n",
       "christov          0.00035$\\pm$0.03032    5e-05$\\pm$0.00295   \n",
       "elgendi           0.13745$\\pm$1.65316   0.1282$\\pm$1.64578   \n",
       "engzee            0.00319$\\pm$0.15446  0.00328$\\pm$0.15672   \n",
       "hamilton          0.04117$\\pm$1.22674  0.01869$\\pm$0.78267   \n",
       "kalidas                   0.0$\\pm$0.0          0.0$\\pm$0.0   \n",
       "nabian                    0.0$\\pm$0.0          0.0$\\pm$0.0   \n",
       "neurokit          0.03783$\\pm$1.34656  0.10232$\\pm$4.68665   \n",
       "pantompkins       0.02804$\\pm$1.05936  0.02172$\\pm$0.96909   \n",
       "\n",
       "            mean_difference_mapped_t0      runtime_neurokit  \\\n",
       "algorithm                                                     \n",
       "christov          0.00035$\\pm$0.03032  34.17485$\\pm$2.53796   \n",
       "elgendi           0.13745$\\pm$1.65316   2.39908$\\pm$0.26879   \n",
       "engzee            0.00319$\\pm$0.15446  13.66579$\\pm$1.08216   \n",
       "hamilton          0.04117$\\pm$1.22674   3.42745$\\pm$0.59563   \n",
       "kalidas                   0.0$\\pm$0.0   0.75261$\\pm$0.12868   \n",
       "nabian                    0.0$\\pm$0.0   5.07603$\\pm$0.52734   \n",
       "neurokit          0.03783$\\pm$1.34656   1.11518$\\pm$0.22244   \n",
       "pantompkins       0.02804$\\pm$1.05936   0.70625$\\pm$0.11356   \n",
       "\n",
       "                   runtime_swift    runtime_difference  peak_diff  \n",
       "algorithm                                                          \n",
       "christov     1.23461$\\pm$0.08944  32.94024$\\pm$2.54136          1  \n",
       "elgendi      0.16035$\\pm$0.01316   2.23873$\\pm$0.26895        252  \n",
       "engzee       0.38904$\\pm$0.02926    13.27675$\\pm$1.085        133  \n",
       "hamilton     0.11524$\\pm$0.01131   3.31221$\\pm$0.59041         37  \n",
       "kalidas      0.30112$\\pm$0.04149   0.45149$\\pm$0.13489          0  \n",
       "nabian        3.08186$\\pm$0.2217   1.99417$\\pm$0.57121          0  \n",
       "neurokit     0.21892$\\pm$0.01778   0.89626$\\pm$0.22185        246  \n",
       "pantompkins  0.14459$\\pm$0.01361   0.56166$\\pm$0.11131         18  "
      ]
     },
     "execution_count": 57,
     "metadata": {},
     "output_type": "execute_result"
    }
   ],
   "source": [
    "evaluation_overview_os"
   ]
  },
  {
   "cell_type": "code",
   "execution_count": 28,
   "id": "fe77d4f0",
   "metadata": {},
   "outputs": [
    {
     "data": {
      "text/html": [
       "<div>\n",
       "<style scoped>\n",
       "    .dataframe tbody tr th:only-of-type {\n",
       "        vertical-align: middle;\n",
       "    }\n",
       "\n",
       "    .dataframe tbody tr th {\n",
       "        vertical-align: top;\n",
       "    }\n",
       "\n",
       "    .dataframe thead th {\n",
       "        text-align: right;\n",
       "    }\n",
       "</style>\n",
       "<table border=\"1\" class=\"dataframe\">\n",
       "  <thead>\n",
       "    <tr style=\"text-align: right;\">\n",
       "      <th></th>\n",
       "      <th>mean_difference_t0</th>\n",
       "      <th>mean_difference_mapped_t0</th>\n",
       "      <th>runtime_neurokit</th>\n",
       "      <th>runtime_swift</th>\n",
       "      <th>runtime_difference</th>\n",
       "      <th>peak_diff</th>\n",
       "    </tr>\n",
       "    <tr>\n",
       "      <th>algorithm</th>\n",
       "      <th></th>\n",
       "      <th></th>\n",
       "      <th></th>\n",
       "      <th></th>\n",
       "      <th></th>\n",
       "      <th></th>\n",
       "    </tr>\n",
       "  </thead>\n",
       "  <tbody>\n",
       "    <tr>\n",
       "      <th>christov</th>\n",
       "      <td>0.0$\\pm$0.0</td>\n",
       "      <td>0.0$\\pm$0.0</td>\n",
       "      <td>109.45303$\\pm$6.00442</td>\n",
       "      <td>5.31194$\\pm$2.17693</td>\n",
       "      <td>104.14108$\\pm$6.54414</td>\n",
       "      <td>0</td>\n",
       "    </tr>\n",
       "    <tr>\n",
       "      <th>elgendi</th>\n",
       "      <td>0.01926$\\pm$0.20385</td>\n",
       "      <td>0.01922$\\pm$0.20365</td>\n",
       "      <td>6.08655$\\pm$0.10209</td>\n",
       "      <td>0.76832$\\pm$0.71699</td>\n",
       "      <td>5.31823$\\pm$0.72545</td>\n",
       "      <td>1</td>\n",
       "    </tr>\n",
       "    <tr>\n",
       "      <th>engzee</th>\n",
       "      <td>0.0$\\pm$0.0</td>\n",
       "      <td>0.0$\\pm$0.0</td>\n",
       "      <td>45.46707$\\pm$1.21512</td>\n",
       "      <td>1.18383$\\pm$0.66178</td>\n",
       "      <td>44.28324$\\pm$1.37672</td>\n",
       "      <td>2</td>\n",
       "    </tr>\n",
       "    <tr>\n",
       "      <th>hamilton</th>\n",
       "      <td>0.0$\\pm$0.0</td>\n",
       "      <td>0.00249$\\pm$0.05616</td>\n",
       "      <td>5.86612$\\pm$0.15934</td>\n",
       "      <td>0.51205$\\pm$0.32989</td>\n",
       "      <td>5.35407$\\pm$0.36538</td>\n",
       "      <td>1</td>\n",
       "    </tr>\n",
       "    <tr>\n",
       "      <th>kalidas</th>\n",
       "      <td>0.0$\\pm$0.0</td>\n",
       "      <td>0.0$\\pm$0.0</td>\n",
       "      <td>1.11296$\\pm$0.56765</td>\n",
       "      <td>1.59855$\\pm$0.90346</td>\n",
       "      <td>-0.48559$\\pm$1.07185</td>\n",
       "      <td>0</td>\n",
       "    </tr>\n",
       "    <tr>\n",
       "      <th>nabian</th>\n",
       "      <td>0.0$\\pm$0.0</td>\n",
       "      <td>0.0$\\pm$0.0</td>\n",
       "      <td>15.80138$\\pm$0.23621</td>\n",
       "      <td>13.90655$\\pm$4.38812</td>\n",
       "      <td>1.89483$\\pm$4.38844</td>\n",
       "      <td>0</td>\n",
       "    </tr>\n",
       "    <tr>\n",
       "      <th>neurokit</th>\n",
       "      <td>0.00616$\\pm$0.10139</td>\n",
       "      <td>0.00603$\\pm$0.1003</td>\n",
       "      <td>1.67546$\\pm$0.07767</td>\n",
       "      <td>1.11451$\\pm$0.75424</td>\n",
       "      <td>0.56095$\\pm$0.75798</td>\n",
       "      <td>12</td>\n",
       "    </tr>\n",
       "    <tr>\n",
       "      <th>pantompkins</th>\n",
       "      <td>0.0$\\pm$0.0</td>\n",
       "      <td>0.0$\\pm$0.0</td>\n",
       "      <td>0.80559$\\pm$0.03663</td>\n",
       "      <td>0.66228$\\pm$0.41512</td>\n",
       "      <td>0.14331$\\pm$0.41509</td>\n",
       "      <td>0</td>\n",
       "    </tr>\n",
       "  </tbody>\n",
       "</table>\n",
       "</div>"
      ],
      "text/plain": [
       "              mean_difference_t0 mean_difference_mapped_t0  \\\n",
       "algorithm                                                    \n",
       "christov             0.0$\\pm$0.0               0.0$\\pm$0.0   \n",
       "elgendi      0.01926$\\pm$0.20385       0.01922$\\pm$0.20365   \n",
       "engzee               0.0$\\pm$0.0               0.0$\\pm$0.0   \n",
       "hamilton             0.0$\\pm$0.0       0.00249$\\pm$0.05616   \n",
       "kalidas              0.0$\\pm$0.0               0.0$\\pm$0.0   \n",
       "nabian               0.0$\\pm$0.0               0.0$\\pm$0.0   \n",
       "neurokit     0.00616$\\pm$0.10139        0.00603$\\pm$0.1003   \n",
       "pantompkins          0.0$\\pm$0.0               0.0$\\pm$0.0   \n",
       "\n",
       "                  runtime_neurokit         runtime_swift  \\\n",
       "algorithm                                                  \n",
       "christov     109.45303$\\pm$6.00442   5.31194$\\pm$2.17693   \n",
       "elgendi        6.08655$\\pm$0.10209   0.76832$\\pm$0.71699   \n",
       "engzee        45.46707$\\pm$1.21512   1.18383$\\pm$0.66178   \n",
       "hamilton       5.86612$\\pm$0.15934   0.51205$\\pm$0.32989   \n",
       "kalidas        1.11296$\\pm$0.56765   1.59855$\\pm$0.90346   \n",
       "nabian        15.80138$\\pm$0.23621  13.90655$\\pm$4.38812   \n",
       "neurokit       1.67546$\\pm$0.07767   1.11451$\\pm$0.75424   \n",
       "pantompkins    0.80559$\\pm$0.03663   0.66228$\\pm$0.41512   \n",
       "\n",
       "                runtime_difference  peak_diff  \n",
       "algorithm                                      \n",
       "christov     104.14108$\\pm$6.54414          0  \n",
       "elgendi        5.31823$\\pm$0.72545          1  \n",
       "engzee        44.28324$\\pm$1.37672          2  \n",
       "hamilton       5.35407$\\pm$0.36538          1  \n",
       "kalidas       -0.48559$\\pm$1.07185          0  \n",
       "nabian         1.89483$\\pm$4.38844          0  \n",
       "neurokit       0.56095$\\pm$0.75798         12  \n",
       "pantompkins    0.14331$\\pm$0.41509          0  "
      ]
     },
     "execution_count": 28,
     "metadata": {},
     "output_type": "execute_result"
    }
   ],
   "source": [
    "evaluation_overview"
   ]
  },
  {
   "cell_type": "code",
   "execution_count": 29,
   "id": "75568509",
   "metadata": {},
   "outputs": [
    {
     "data": {
      "text/html": [
       "<div>\n",
       "<style scoped>\n",
       "    .dataframe tbody tr th:only-of-type {\n",
       "        vertical-align: middle;\n",
       "    }\n",
       "\n",
       "    .dataframe tbody tr th {\n",
       "        vertical-align: top;\n",
       "    }\n",
       "\n",
       "    .dataframe thead th {\n",
       "        text-align: right;\n",
       "    }\n",
       "</style>\n",
       "<table border=\"1\" class=\"dataframe\">\n",
       "  <thead>\n",
       "    <tr style=\"text-align: right;\">\n",
       "      <th></th>\n",
       "      <th>mean_difference_t0</th>\n",
       "      <th>mean_difference_mapped_t0</th>\n",
       "      <th>runtime_neurokit</th>\n",
       "      <th>runtime_swift</th>\n",
       "      <th>runtime_difference</th>\n",
       "      <th>peak_diff</th>\n",
       "    </tr>\n",
       "    <tr>\n",
       "      <th>algorithm</th>\n",
       "      <th></th>\n",
       "      <th></th>\n",
       "      <th></th>\n",
       "      <th></th>\n",
       "      <th></th>\n",
       "      <th></th>\n",
       "    </tr>\n",
       "  </thead>\n",
       "  <tbody>\n",
       "    <tr>\n",
       "      <th>christov</th>\n",
       "      <td>5e-05$\\pm$0.00295</td>\n",
       "      <td>0.00035$\\pm$0.03032</td>\n",
       "      <td>33.78999$\\pm$1.09764</td>\n",
       "      <td>1.23461$\\pm$0.08944</td>\n",
       "      <td>32.55538$\\pm$1.1074</td>\n",
       "      <td>1</td>\n",
       "    </tr>\n",
       "    <tr>\n",
       "      <th>elgendi</th>\n",
       "      <td>0.1282$\\pm$1.64578</td>\n",
       "      <td>0.13745$\\pm$1.65316</td>\n",
       "      <td>2.35242$\\pm$0.04557</td>\n",
       "      <td>0.16035$\\pm$0.01316</td>\n",
       "      <td>2.19207$\\pm$0.04693</td>\n",
       "      <td>252</td>\n",
       "    </tr>\n",
       "    <tr>\n",
       "      <th>engzee</th>\n",
       "      <td>0.00328$\\pm$0.15672</td>\n",
       "      <td>0.00319$\\pm$0.15446</td>\n",
       "      <td>13.47243$\\pm$0.46551</td>\n",
       "      <td>0.38904$\\pm$0.02926</td>\n",
       "      <td>13.08339$\\pm$0.47259</td>\n",
       "      <td>133</td>\n",
       "    </tr>\n",
       "    <tr>\n",
       "      <th>hamilton</th>\n",
       "      <td>0.01869$\\pm$0.78267</td>\n",
       "      <td>0.04117$\\pm$1.22674</td>\n",
       "      <td>3.36047$\\pm$0.47976</td>\n",
       "      <td>0.11524$\\pm$0.01131</td>\n",
       "      <td>3.24523$\\pm$0.47343</td>\n",
       "      <td>37</td>\n",
       "    </tr>\n",
       "    <tr>\n",
       "      <th>kalidas</th>\n",
       "      <td>0.0$\\pm$0.0</td>\n",
       "      <td>0.0$\\pm$0.0</td>\n",
       "      <td>0.72179$\\pm$0.03478</td>\n",
       "      <td>0.30112$\\pm$0.04149</td>\n",
       "      <td>0.42067$\\pm$0.0532</td>\n",
       "      <td>0</td>\n",
       "    </tr>\n",
       "    <tr>\n",
       "      <th>nabian</th>\n",
       "      <td>0.0$\\pm$0.0</td>\n",
       "      <td>0.0$\\pm$0.0</td>\n",
       "      <td>5.02051$\\pm$0.07877</td>\n",
       "      <td>3.08186$\\pm$0.2217</td>\n",
       "      <td>1.93865$\\pm$0.23021</td>\n",
       "      <td>0</td>\n",
       "    </tr>\n",
       "    <tr>\n",
       "      <th>neurokit</th>\n",
       "      <td>0.10232$\\pm$4.68665</td>\n",
       "      <td>0.03783$\\pm$1.34656</td>\n",
       "      <td>1.07155$\\pm$0.05783</td>\n",
       "      <td>0.21892$\\pm$0.01778</td>\n",
       "      <td>0.85263$\\pm$0.05658</td>\n",
       "      <td>246</td>\n",
       "    </tr>\n",
       "    <tr>\n",
       "      <th>pantompkins</th>\n",
       "      <td>0.02172$\\pm$0.96909</td>\n",
       "      <td>0.02804$\\pm$1.05936</td>\n",
       "      <td>0.6775$\\pm$0.05662</td>\n",
       "      <td>0.14459$\\pm$0.01361</td>\n",
       "      <td>0.53291$\\pm$0.05303</td>\n",
       "      <td>18</td>\n",
       "    </tr>\n",
       "  </tbody>\n",
       "</table>\n",
       "</div>"
      ],
      "text/plain": [
       "              mean_difference_t0 mean_difference_mapped_t0  \\\n",
       "algorithm                                                    \n",
       "christov       5e-05$\\pm$0.00295       0.00035$\\pm$0.03032   \n",
       "elgendi       0.1282$\\pm$1.64578       0.13745$\\pm$1.65316   \n",
       "engzee       0.00328$\\pm$0.15672       0.00319$\\pm$0.15446   \n",
       "hamilton     0.01869$\\pm$0.78267       0.04117$\\pm$1.22674   \n",
       "kalidas              0.0$\\pm$0.0               0.0$\\pm$0.0   \n",
       "nabian               0.0$\\pm$0.0               0.0$\\pm$0.0   \n",
       "neurokit     0.10232$\\pm$4.68665       0.03783$\\pm$1.34656   \n",
       "pantompkins  0.02172$\\pm$0.96909       0.02804$\\pm$1.05936   \n",
       "\n",
       "                 runtime_neurokit        runtime_swift    runtime_difference  \\\n",
       "algorithm                                                                      \n",
       "christov     33.78999$\\pm$1.09764  1.23461$\\pm$0.08944   32.55538$\\pm$1.1074   \n",
       "elgendi       2.35242$\\pm$0.04557  0.16035$\\pm$0.01316   2.19207$\\pm$0.04693   \n",
       "engzee       13.47243$\\pm$0.46551  0.38904$\\pm$0.02926  13.08339$\\pm$0.47259   \n",
       "hamilton      3.36047$\\pm$0.47976  0.11524$\\pm$0.01131   3.24523$\\pm$0.47343   \n",
       "kalidas       0.72179$\\pm$0.03478  0.30112$\\pm$0.04149    0.42067$\\pm$0.0532   \n",
       "nabian        5.02051$\\pm$0.07877   3.08186$\\pm$0.2217   1.93865$\\pm$0.23021   \n",
       "neurokit      1.07155$\\pm$0.05783  0.21892$\\pm$0.01778   0.85263$\\pm$0.05658   \n",
       "pantompkins    0.6775$\\pm$0.05662  0.14459$\\pm$0.01361   0.53291$\\pm$0.05303   \n",
       "\n",
       "             peak_diff  \n",
       "algorithm               \n",
       "christov             1  \n",
       "elgendi            252  \n",
       "engzee             133  \n",
       "hamilton            37  \n",
       "kalidas              0  \n",
       "nabian               0  \n",
       "neurokit           246  \n",
       "pantompkins         18  "
      ]
     },
     "execution_count": 29,
     "metadata": {},
     "output_type": "execute_result"
    }
   ],
   "source": [
    "evaluation_overview_os"
   ]
  },
  {
   "cell_type": "markdown",
   "id": "8827b19e",
   "metadata": {},
   "source": [
    "### Beats per Minute Accuracy\n",
    "Assessed in a comparison towards FDA approved Apple's BPM rating."
   ]
  },
  {
   "cell_type": "code",
   "execution_count": 29,
   "id": "931ec012",
   "metadata": {},
   "outputs": [
    {
     "name": "stdout",
     "output_type": "stream",
     "text": [
      "Difference to Apple BPM (simple): 9.029245514868519 ± 32.11564229722207\n",
      "Difference to Apple BPM (RR): 8.58593310479604 ± 33.26413299569645\n",
      "BPM Difference without Christov (simple): 3.398876404494382 ± 10.922577322534577\n",
      "BPM Difference without Christov (rr): 2.688436028318112 ± 11.128866454892181\n"
     ]
    }
   ],
   "source": [
    "print(\n",
    "    'Difference to Apple BPM (simple):',\n",
    "    np.mean(result_table.bpm_difference_simple),\n",
    "    '±',\n",
    "    np.std(result_table.bpm_difference_simple),\n",
    ")\n",
    "\n",
    "print(\n",
    "    'Difference to Apple BPM (RR):',\n",
    "    np.mean(result_table.bpm_difference_rr),\n",
    "    '±',\n",
    "    np.std(result_table.bpm_difference_rr),\n",
    ")\n",
    "\n",
    "print(\n",
    "    'BPM Difference without Christov (simple):',\n",
    "    np.mean(result_table[result_table.algorithm != 'christov'].bpm_difference_simple),\n",
    "    '±',\n",
    "    np.std(result_table[result_table.algorithm != 'christov'].bpm_difference_simple),\n",
    ")\n",
    "\n",
    "print(\n",
    "    'BPM Difference without Christov (rr):',\n",
    "    np.mean(result_table[result_table.algorithm != 'christov'].bpm_difference_rr),\n",
    "    '±',\n",
    "    np.std(result_table[result_table.algorithm != 'christov'].bpm_difference_rr),\n",
    ")"
   ]
  },
  {
   "cell_type": "code",
   "execution_count": 30,
   "id": "430c6ba7",
   "metadata": {},
   "outputs": [
    {
     "data": {
      "image/png": "[encoded data removed]",
      "text/plain": [
       "<Figure size 1000x300 with 1 Axes>"
      ]
     },
     "metadata": {},
     "output_type": "display_data"
    }
   ],
   "source": [
    "fig = plt.figure(figsize=(10,3))\n",
    "ax = sns.barplot(data=result_table, x=\"algorithm\", y=\"bpm_difference_rr\")\n",
    "ax.set(xlabel='Algorithm', ylabel='Absolute error')\n",
    "ax.set_title('Alignment: BPM detected by PeakSwift vs. Apple')\n",
    "plt.show()\n",
    "fig.savefig('./results/comparisonBPM.png', bbox_inches='tight', dpi=300)\n",
    "plt.close()"
   ]
  },
  {
   "cell_type": "code",
   "execution_count": 31,
   "id": "5919e759",
   "metadata": {},
   "outputs": [
    {
     "data": {
      "image/png": "[encoded data removed]",
      "text/plain": [
       "<Figure size 1500x500 with 2 Axes>"
      ]
     },
     "metadata": {},
     "output_type": "display_data"
    }
   ],
   "source": [
    "fig = plt.figure(figsize=(15,5))\n",
    "ax = sns.histplot(\n",
    "    result_table, x=\"algorithm\", y=\"bpm_difference_rr\",\n",
    "    bins=30, discrete=(True, False), log_scale=(False, True),\n",
    "    cbar=True,\n",
    ")\n",
    "ax.set(xlabel='Algorithm', ylabel='Difference BPM (log)')\n",
    "ax.set_title(\"Bivariate histogram highlighting the BPM difference between iOS and the PeakSwift algorithms\")\n",
    "#Comparison of iOS and PeakSwift's algorithms for calculating the BPM.\n",
    "plt.show()\n",
    "fig.savefig('./results/histogramBPM.png', dpi=300, bbox_inches='tight')\n",
    "plt.close()"
   ]
  },
  {
   "cell_type": "markdown",
   "id": "59b1be7b",
   "metadata": {},
   "source": [
    "### Computational Runtime"
   ]
  },
  {
   "cell_type": "code",
   "execution_count": 32,
   "id": "5dd330d2",
   "metadata": {},
   "outputs": [
    {
     "data": {
      "image/png": "[encoded data removed]",
      "text/plain": [
       "<Figure size 1000x300 with 1 Axes>"
      ]
     },
     "metadata": {},
     "output_type": "display_data"
    }
   ],
   "source": [
    "fig = plt.figure(figsize=(10,3))\n",
    "ax = sns.barplot(data=result_table, x=\"algorithm\", y=\"runtime_difference\")\n",
    "ax.set(xlabel='Algorithm', ylabel='Seconds')\n",
    "ax.set_title('How much less runtime does the iPhone 13 Pro have compared to the M1?')\n",
    "plt.show()\n",
    "fig.savefig('./results/comparisonRuntime.png', bbox_inches='tight', dpi=300)\n",
    "plt.close()"
   ]
  },
  {
   "cell_type": "code",
   "execution_count": 59,
   "id": "b120549b",
   "metadata": {},
   "outputs": [
    {
     "name": "stdout",
     "output_type": "stream",
     "text": [
      "Self Recorded: How much faster on average is PeakSwift in Comparison to NeuroKit: 13.05\n",
      "Open Source: How much faster on average is PeakSwift in Comparison to NeuroKit: 14.96\n",
      "Combined: How much faster on average is PeakSwift in Comparison to NeuroKit: 14.88\n"
     ]
    }
   ],
   "source": [
    "print('Self Recorded: How much faster on average is PeakSwift in Comparison to NeuroKit:', np.round(np.mean(result_table.swift_faster),2))\n",
    "print('Open Source: How much faster on average is PeakSwift in Comparison to NeuroKit:', np.round(np.mean(result_table_os.swift_faster),2))\n",
    "print('Combined: How much faster on average is PeakSwift in Comparison to NeuroKit:', np.round(np.mean(pd.concat([result_table.swift_faster, result_table_os.swift_faster])),2))"
   ]
  },
  {
   "cell_type": "code",
   "execution_count": 35,
   "id": "35ba46fa",
   "metadata": {},
   "outputs": [
    {
     "data": {
      "text/html": [
       "<div>\n",
       "<style scoped>\n",
       "    .dataframe tbody tr th:only-of-type {\n",
       "        vertical-align: middle;\n",
       "    }\n",
       "\n",
       "    .dataframe tbody tr th {\n",
       "        vertical-align: top;\n",
       "    }\n",
       "\n",
       "    .dataframe thead th {\n",
       "        text-align: right;\n",
       "    }\n",
       "</style>\n",
       "<table border=\"1\" class=\"dataframe\">\n",
       "  <thead>\n",
       "    <tr style=\"text-align: right;\">\n",
       "      <th></th>\n",
       "      <th>swift_faster</th>\n",
       "    </tr>\n",
       "    <tr>\n",
       "      <th>algorithm</th>\n",
       "      <th></th>\n",
       "    </tr>\n",
       "  </thead>\n",
       "  <tbody>\n",
       "    <tr>\n",
       "      <th>christov</th>\n",
       "      <td>23.709361</td>\n",
       "    </tr>\n",
       "    <tr>\n",
       "      <th>elgendi</th>\n",
       "      <td>10.096247</td>\n",
       "    </tr>\n",
       "    <tr>\n",
       "      <th>engzee</th>\n",
       "      <td>49.373384</td>\n",
       "    </tr>\n",
       "    <tr>\n",
       "      <th>hamilton</th>\n",
       "      <td>15.741985</td>\n",
       "    </tr>\n",
       "    <tr>\n",
       "      <th>kalidas</th>\n",
       "      <td>0.896178</td>\n",
       "    </tr>\n",
       "    <tr>\n",
       "      <th>nabian</th>\n",
       "      <td>1.222869</td>\n",
       "    </tr>\n",
       "    <tr>\n",
       "      <th>neurokit</th>\n",
       "      <td>1.985063</td>\n",
       "    </tr>\n",
       "    <tr>\n",
       "      <th>pantompkins</th>\n",
       "      <td>1.569326</td>\n",
       "    </tr>\n",
       "  </tbody>\n",
       "</table>\n",
       "</div>"
      ],
      "text/plain": [
       "             swift_faster\n",
       "algorithm                \n",
       "christov        23.709361\n",
       "elgendi         10.096247\n",
       "engzee          49.373384\n",
       "hamilton        15.741985\n",
       "kalidas          0.896178\n",
       "nabian           1.222869\n",
       "neurokit         1.985063\n",
       "pantompkins      1.569326"
      ]
     },
     "execution_count": 35,
     "metadata": {},
     "output_type": "execute_result"
    }
   ],
   "source": [
    "result_table.groupby('algorithm')[['swift_faster']].agg(np.mean)"
   ]
  },
  {
   "cell_type": "code",
   "execution_count": 36,
   "id": "52017fd8",
   "metadata": {},
   "outputs": [
    {
     "data": {
      "text/html": [
       "<div>\n",
       "<style scoped>\n",
       "    .dataframe tbody tr th:only-of-type {\n",
       "        vertical-align: middle;\n",
       "    }\n",
       "\n",
       "    .dataframe tbody tr th {\n",
       "        vertical-align: top;\n",
       "    }\n",
       "\n",
       "    .dataframe thead th {\n",
       "        text-align: right;\n",
       "    }\n",
       "</style>\n",
       "<table border=\"1\" class=\"dataframe\">\n",
       "  <thead>\n",
       "    <tr style=\"text-align: right;\">\n",
       "      <th></th>\n",
       "      <th>swift_faster</th>\n",
       "    </tr>\n",
       "    <tr>\n",
       "      <th>algorithm</th>\n",
       "      <th></th>\n",
       "    </tr>\n",
       "  </thead>\n",
       "  <tbody>\n",
       "    <tr>\n",
       "      <th>christov</th>\n",
       "      <td>27.525108</td>\n",
       "    </tr>\n",
       "    <tr>\n",
       "      <th>elgendi</th>\n",
       "      <td>14.769704</td>\n",
       "    </tr>\n",
       "    <tr>\n",
       "      <th>engzee</th>\n",
       "      <td>34.850876</td>\n",
       "    </tr>\n",
       "    <tr>\n",
       "      <th>hamilton</th>\n",
       "      <td>29.209571</td>\n",
       "    </tr>\n",
       "    <tr>\n",
       "      <th>kalidas</th>\n",
       "      <td>2.419273</td>\n",
       "    </tr>\n",
       "    <tr>\n",
       "      <th>nabian</th>\n",
       "      <td>1.637756</td>\n",
       "    </tr>\n",
       "    <tr>\n",
       "      <th>neurokit</th>\n",
       "      <td>4.923015</td>\n",
       "    </tr>\n",
       "    <tr>\n",
       "      <th>pantompkins</th>\n",
       "      <td>4.713927</td>\n",
       "    </tr>\n",
       "  </tbody>\n",
       "</table>\n",
       "</div>"
      ],
      "text/plain": [
       "             swift_faster\n",
       "algorithm                \n",
       "christov        27.525108\n",
       "elgendi         14.769704\n",
       "engzee          34.850876\n",
       "hamilton        29.209571\n",
       "kalidas          2.419273\n",
       "nabian           1.637756\n",
       "neurokit         4.923015\n",
       "pantompkins      4.713927"
      ]
     },
     "execution_count": 36,
     "metadata": {},
     "output_type": "execute_result"
    }
   ],
   "source": [
    "result_table_os.groupby('algorithm')[['swift_faster']].agg(np.mean)"
   ]
  },
  {
   "cell_type": "markdown",
   "id": "1275a960",
   "metadata": {},
   "source": [
    "### Real-Time Capabilities"
   ]
  },
  {
   "cell_type": "code",
   "execution_count": 37,
   "id": "0d1beb30",
   "metadata": {},
   "outputs": [
    {
     "data": {
      "text/plain": [
       "algorithm    real_time_capabilities_bool\n",
       "christov     True                           509\n",
       "elgendi      True                           509\n",
       "engzee       True                           506\n",
       "hamilton     True                           509\n",
       "kalidas      True                           509\n",
       "nabian       True                           509\n",
       "neurokit     True                           509\n",
       "pantompkins  True                           509\n",
       "Name: id, dtype: int64"
      ]
     },
     "execution_count": 37,
     "metadata": {},
     "output_type": "execute_result"
    }
   ],
   "source": [
    "result_table.groupby(['algorithm', 'real_time_capabilities_bool'])['id'].count()"
   ]
  },
  {
   "cell_type": "code",
   "execution_count": 38,
   "id": "37c38d00",
   "metadata": {
    "scrolled": true
   },
   "outputs": [
    {
     "data": {
      "text/plain": [
       "algorithm    real_time_capabilities_bool\n",
       "christov     True                           10555\n",
       "elgendi      True                           10555\n",
       "engzee       True                           10375\n",
       "hamilton     True                           10555\n",
       "kalidas      True                           10555\n",
       "nabian       True                           10555\n",
       "neurokit     True                           10554\n",
       "pantompkins  True                           10555\n",
       "Name: id, dtype: int64"
      ]
     },
     "execution_count": 38,
     "metadata": {},
     "output_type": "execute_result"
    }
   ],
   "source": [
    "result_table_os.groupby(['algorithm', 'real_time_capabilities_bool'])['id'].count()"
   ]
  },
  {
   "cell_type": "markdown",
   "id": "10f5530e",
   "metadata": {},
   "source": [
    "## F1 scores, Recall, Precision"
   ]
  },
  {
   "cell_type": "code",
   "execution_count": 42,
   "id": "3371b681",
   "metadata": {},
   "outputs": [
    {
     "data": {
      "text/plain": [
       "<pandas.core.groupby.generic.DataFrameGroupBy object at 0x2bcc46220>"
      ]
     },
     "execution_count": 42,
     "metadata": {},
     "output_type": "execute_result"
    }
   ],
   "source": [
    "result_table.groupby(['algorithm'])"
   ]
  },
  {
   "cell_type": "code",
   "execution_count": 33,
   "id": "5f116f53",
   "metadata": {},
   "outputs": [],
   "source": [
    "def calculcate_precision(result_table):\n",
    "    return result_table['tp'] / (result_table['tp'] + result_table['fp'])\n",
    "\n",
    "def calculcate_recall(result_table):\n",
    "    return result_table['tp'] / (result_table['tp'] + result_table['fn'])\n",
    "\n",
    "def calculcate_f1(result_table):\n",
    "    return 2 * result_table['precision'] * result_table['recall']  / (result_table['precision'] + result_table['recall'])"
   ]
  },
  {
   "cell_type": "code",
   "execution_count": 34,
   "id": "836f50e1",
   "metadata": {},
   "outputs": [],
   "source": [
    "def calculate_precision_recall_per_algorihtm(results):\n",
    "    return calculate_precision_recall(results.groupby(['algorithm']))"
   ]
  },
  {
   "cell_type": "code",
   "execution_count": 35,
   "id": "7355da88",
   "metadata": {},
   "outputs": [],
   "source": [
    "def calculate_precision_recall(results):\n",
    "    result_with_scores = results[['tp', 'fp', 'fn']].sum()#.agg({'tp':'sum','fp':'sum', 'fn': 'sum'})\n",
    "    result_with_scores['precision'] = calculcate_precision(result_with_scores)\n",
    "    result_with_scores['recall'] = calculcate_recall(result_with_scores)\n",
    "    result_with_scores['f1'] = calculcate_f1(result_with_scores)\n",
    "    return result_with_scores"
   ]
  },
  {
   "cell_type": "code",
   "execution_count": 41,
   "id": "6e381aec",
   "metadata": {},
   "outputs": [
    {
     "name": "stdout",
     "output_type": "stream",
     "text": [
      "Self recorded - F1 (Total): 0.9996 Precision (Total): 0.9997 Recall (Total): 0.9996\n",
      "Open source - F1 (Total): 0.9982 Precision (Total): 0.9983 Recall (Total): 0.9982\n"
     ]
    }
   ],
   "source": [
    "res = calculate_precision_recall(result_table)\n",
    "res_os = calculate_precision_recall(result_table_os)\n",
    "print('Self recorded -', 'F1 (Total):', np.round(res['f1'], 4), 'Precision (Total):', np.round(res['precision'], 4), 'Recall (Total):', np.round(res['recall'], 4))\n",
    "print('Open source -', 'F1 (Total):', np.round(res_os['f1'], 4), 'Precision (Total):', np.round(res_os['precision'], 4), 'Recall (Total):', np.round(res_os['recall'], 4))"
   ]
  },
  {
   "cell_type": "code",
   "execution_count": 49,
   "id": "8497a6a3",
   "metadata": {},
   "outputs": [
    {
     "data": {
      "text/html": [
       "<div>\n",
       "<style scoped>\n",
       "    .dataframe tbody tr th:only-of-type {\n",
       "        vertical-align: middle;\n",
       "    }\n",
       "\n",
       "    .dataframe tbody tr th {\n",
       "        vertical-align: top;\n",
       "    }\n",
       "\n",
       "    .dataframe thead th {\n",
       "        text-align: right;\n",
       "    }\n",
       "</style>\n",
       "<table border=\"1\" class=\"dataframe\">\n",
       "  <thead>\n",
       "    <tr style=\"text-align: right;\">\n",
       "      <th></th>\n",
       "      <th>tp</th>\n",
       "      <th>fp</th>\n",
       "      <th>fn</th>\n",
       "      <th>precision</th>\n",
       "      <th>recall</th>\n",
       "      <th>f1</th>\n",
       "    </tr>\n",
       "    <tr>\n",
       "      <th>algorithm</th>\n",
       "      <th></th>\n",
       "      <th></th>\n",
       "      <th></th>\n",
       "      <th></th>\n",
       "      <th></th>\n",
       "      <th></th>\n",
       "    </tr>\n",
       "  </thead>\n",
       "  <tbody>\n",
       "    <tr>\n",
       "      <th>christov</th>\n",
       "      <td>30694</td>\n",
       "      <td>0</td>\n",
       "      <td>0</td>\n",
       "      <td>1.0000</td>\n",
       "      <td>1.0000</td>\n",
       "      <td>1.0000</td>\n",
       "    </tr>\n",
       "    <tr>\n",
       "      <th>elgendi</th>\n",
       "      <td>19132</td>\n",
       "      <td>18</td>\n",
       "      <td>17</td>\n",
       "      <td>0.9991</td>\n",
       "      <td>0.9991</td>\n",
       "      <td>0.9991</td>\n",
       "    </tr>\n",
       "    <tr>\n",
       "      <th>engzee</th>\n",
       "      <td>17980</td>\n",
       "      <td>1</td>\n",
       "      <td>1</td>\n",
       "      <td>0.9999</td>\n",
       "      <td>0.9999</td>\n",
       "      <td>0.9999</td>\n",
       "    </tr>\n",
       "    <tr>\n",
       "      <th>hamilton</th>\n",
       "      <td>19143</td>\n",
       "      <td>1</td>\n",
       "      <td>2</td>\n",
       "      <td>0.9999</td>\n",
       "      <td>0.9999</td>\n",
       "      <td>0.9999</td>\n",
       "    </tr>\n",
       "    <tr>\n",
       "      <th>kalidas</th>\n",
       "      <td>18973</td>\n",
       "      <td>0</td>\n",
       "      <td>0</td>\n",
       "      <td>1.0000</td>\n",
       "      <td>1.0000</td>\n",
       "      <td>1.0000</td>\n",
       "    </tr>\n",
       "    <tr>\n",
       "      <th>nabian</th>\n",
       "      <td>18306</td>\n",
       "      <td>0</td>\n",
       "      <td>0</td>\n",
       "      <td>1.0000</td>\n",
       "      <td>1.0000</td>\n",
       "      <td>1.0000</td>\n",
       "    </tr>\n",
       "    <tr>\n",
       "      <th>neurokit</th>\n",
       "      <td>18844</td>\n",
       "      <td>34</td>\n",
       "      <td>40</td>\n",
       "      <td>0.9982</td>\n",
       "      <td>0.9979</td>\n",
       "      <td>0.9980</td>\n",
       "    </tr>\n",
       "    <tr>\n",
       "      <th>pantompkins</th>\n",
       "      <td>19199</td>\n",
       "      <td>0</td>\n",
       "      <td>0</td>\n",
       "      <td>1.0000</td>\n",
       "      <td>1.0000</td>\n",
       "      <td>1.0000</td>\n",
       "    </tr>\n",
       "  </tbody>\n",
       "</table>\n",
       "</div>"
      ],
      "text/plain": [
       "                tp  fp  fn  precision  recall      f1\n",
       "algorithm                                            \n",
       "christov     30694   0   0     1.0000  1.0000  1.0000\n",
       "elgendi      19132  18  17     0.9991  0.9991  0.9991\n",
       "engzee       17980   1   1     0.9999  0.9999  0.9999\n",
       "hamilton     19143   1   2     0.9999  0.9999  0.9999\n",
       "kalidas      18973   0   0     1.0000  1.0000  1.0000\n",
       "nabian       18306   0   0     1.0000  1.0000  1.0000\n",
       "neurokit     18844  34  40     0.9982  0.9979  0.9980\n",
       "pantompkins  19199   0   0     1.0000  1.0000  1.0000"
      ]
     },
     "execution_count": 49,
     "metadata": {},
     "output_type": "execute_result"
    }
   ],
   "source": [
    "np.round(calculate_precision_recall_per_algorihtm(result_table),4)"
   ]
  },
  {
   "cell_type": "code",
   "execution_count": 51,
   "id": "f9060fa9",
   "metadata": {},
   "outputs": [
    {
     "data": {
      "text/html": [
       "<div>\n",
       "<style scoped>\n",
       "    .dataframe tbody tr th:only-of-type {\n",
       "        vertical-align: middle;\n",
       "    }\n",
       "\n",
       "    .dataframe tbody tr th {\n",
       "        vertical-align: top;\n",
       "    }\n",
       "\n",
       "    .dataframe thead th {\n",
       "        text-align: right;\n",
       "    }\n",
       "</style>\n",
       "<table border=\"1\" class=\"dataframe\">\n",
       "  <thead>\n",
       "    <tr style=\"text-align: right;\">\n",
       "      <th></th>\n",
       "      <th>tp</th>\n",
       "      <th>fp</th>\n",
       "      <th>fn</th>\n",
       "      <th>precision</th>\n",
       "      <th>recall</th>\n",
       "      <th>f1</th>\n",
       "    </tr>\n",
       "    <tr>\n",
       "      <th>algorithm</th>\n",
       "      <th></th>\n",
       "      <th></th>\n",
       "      <th></th>\n",
       "      <th></th>\n",
       "      <th></th>\n",
       "      <th></th>\n",
       "    </tr>\n",
       "  </thead>\n",
       "  <tbody>\n",
       "    <tr>\n",
       "      <th>christov</th>\n",
       "      <td>166902</td>\n",
       "      <td>7</td>\n",
       "      <td>8</td>\n",
       "      <td>1.0000</td>\n",
       "      <td>1.0000</td>\n",
       "      <td>1.0000</td>\n",
       "    </tr>\n",
       "    <tr>\n",
       "      <th>elgendi</th>\n",
       "      <td>146260</td>\n",
       "      <td>498</td>\n",
       "      <td>508</td>\n",
       "      <td>0.9966</td>\n",
       "      <td>0.9965</td>\n",
       "      <td>0.9966</td>\n",
       "    </tr>\n",
       "    <tr>\n",
       "      <th>engzee</th>\n",
       "      <td>106029</td>\n",
       "      <td>78</td>\n",
       "      <td>67</td>\n",
       "      <td>0.9993</td>\n",
       "      <td>0.9994</td>\n",
       "      <td>0.9993</td>\n",
       "    </tr>\n",
       "    <tr>\n",
       "      <th>hamilton</th>\n",
       "      <td>169295</td>\n",
       "      <td>215</td>\n",
       "      <td>192</td>\n",
       "      <td>0.9987</td>\n",
       "      <td>0.9989</td>\n",
       "      <td>0.9988</td>\n",
       "    </tr>\n",
       "    <tr>\n",
       "      <th>kalidas</th>\n",
       "      <td>151700</td>\n",
       "      <td>0</td>\n",
       "      <td>0</td>\n",
       "      <td>1.0000</td>\n",
       "      <td>1.0000</td>\n",
       "      <td>1.0000</td>\n",
       "    </tr>\n",
       "    <tr>\n",
       "      <th>nabian</th>\n",
       "      <td>120967</td>\n",
       "      <td>0</td>\n",
       "      <td>0</td>\n",
       "      <td>1.0000</td>\n",
       "      <td>1.0000</td>\n",
       "      <td>1.0000</td>\n",
       "    </tr>\n",
       "    <tr>\n",
       "      <th>neurokit</th>\n",
       "      <td>139936</td>\n",
       "      <td>1084</td>\n",
       "      <td>1236</td>\n",
       "      <td>0.9923</td>\n",
       "      <td>0.9912</td>\n",
       "      <td>0.9918</td>\n",
       "    </tr>\n",
       "    <tr>\n",
       "      <th>pantompkins</th>\n",
       "      <td>158034</td>\n",
       "      <td>114</td>\n",
       "      <td>122</td>\n",
       "      <td>0.9993</td>\n",
       "      <td>0.9992</td>\n",
       "      <td>0.9993</td>\n",
       "    </tr>\n",
       "  </tbody>\n",
       "</table>\n",
       "</div>"
      ],
      "text/plain": [
       "                 tp    fp    fn  precision  recall      f1\n",
       "algorithm                                                 \n",
       "christov     166902     7     8     1.0000  1.0000  1.0000\n",
       "elgendi      146260   498   508     0.9966  0.9965  0.9966\n",
       "engzee       106029    78    67     0.9993  0.9994  0.9993\n",
       "hamilton     169295   215   192     0.9987  0.9989  0.9988\n",
       "kalidas      151700     0     0     1.0000  1.0000  1.0000\n",
       "nabian       120967     0     0     1.0000  1.0000  1.0000\n",
       "neurokit     139936  1084  1236     0.9923  0.9912  0.9918\n",
       "pantompkins  158034   114   122     0.9993  0.9992  0.9993"
      ]
     },
     "execution_count": 51,
     "metadata": {},
     "output_type": "execute_result"
    }
   ],
   "source": [
    "np.round(calculate_precision_recall_per_algorihtm(result_table_os), 4)"
   ]
  },
  {
   "cell_type": "code",
   "execution_count": null,
   "id": "900debcf",
   "metadata": {},
   "outputs": [],
   "source": []
  }
 ],
 "metadata": {
  "kernelspec": {
   "display_name": "Python 3 (ipykernel)",
   "language": "python",
   "name": "python3"
  },
  "language_info": {
   "codemirror_mode": {
    "name": "ipython",
    "version": 3
   },
   "file_extension": ".py",
   "mimetype": "text/x-python",
   "name": "python",
   "nbconvert_exporter": "python",
   "pygments_lexer": "ipython3",
   "version": "3.9.18"
  }
 },
 "nbformat": 4,
 "nbformat_minor": 5
}
