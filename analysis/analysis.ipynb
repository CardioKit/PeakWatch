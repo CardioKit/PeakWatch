{
 "cells": [
  {
   "cell_type": "markdown",
   "id": "853061b5",
   "metadata": {},
   "source": [
    "# PeakSwift: Analysis of Accuracy through Comparison towards Neurokit"
   ]
  },
  {
   "cell_type": "markdown",
   "id": "1371336e",
   "metadata": {},
   "source": [
    "This notebook presents an analysis of the PeakSwift package's capabilities in detecting R-peaks and assessment of signal quality within single-lead electrocardiogram signals. The evaluation is conducted against the established gold standard, NeuroKit. The analysis encompasses the thorough assessment and validation of the following key aspects:\n",
    "\n",
    "- Accuracy of R-peak detection\n",
    "- Performance in signal quality assessment\n",
    "- Computational runtime efficiency\n",
    "\n",
    "Through this analysis, we aim to provide a deeper understanding of the PeakSwift package's utility and effectiveness in comparison to a recognized standard. Additionally, the computational runtime is scrutinized to gauge the efficiency of the package in real-world applications."
   ]
  },
  {
   "cell_type": "code",
   "execution_count": 1,
   "id": "5b0210d7",
   "metadata": {},
   "outputs": [],
   "source": [
    "import glob\n",
    "import json\n",
    "import time\n",
    "from tqdm import tqdm\n",
    "%matplotlib inline\n",
    "from matplotlib import pyplot as plt\n",
    "import seaborn as sns\n",
    "import numpy as np\n",
    "import pandas as pd\n",
    "import neurokit2 as nk\n",
    "from sklearn.metrics import confusion_matrix, ConfusionMatrixDisplay"
   ]
  },
  {
   "cell_type": "code",
   "execution_count": 2,
   "id": "11409080",
   "metadata": {},
   "outputs": [
    {
     "ename": "ModuleNotFoundError",
     "evalue": "No module named 'session_info'",
     "output_type": "error",
     "traceback": [
      "\u001b[0;31m---------------------------------------------------------------------------\u001b[0m",
      "\u001b[0;31mModuleNotFoundError\u001b[0m                       Traceback (most recent call last)",
      "Cell \u001b[0;32mIn[2], line 1\u001b[0m\n\u001b[0;32m----> 1\u001b[0m \u001b[38;5;28;01mimport\u001b[39;00m \u001b[38;5;21;01msession_info\u001b[39;00m\n\u001b[1;32m      2\u001b[0m session_info\u001b[38;5;241m.\u001b[39mshow()\n",
      "\u001b[0;31mModuleNotFoundError\u001b[0m: No module named 'session_info'"
     ]
    }
   ],
   "source": [
    "import session_info\n",
    "session_info.show()"
   ]
  },
  {
   "cell_type": "markdown",
   "id": "256106a0",
   "metadata": {},
   "source": [
    "### Data Loading"
   ]
  },
  {
   "cell_type": "markdown",
   "id": "e55a94de",
   "metadata": {},
   "source": [
    "The JSON-formatted exported data from the PeakWatch demo application must be located within the './data' directory."
   ]
  },
  {
   "cell_type": "code",
   "execution_count": 111,
   "id": "249922a7",
   "metadata": {},
   "outputs": [],
   "source": [
    "def load_data(path=\"./data/*.json\"):\n",
    "    files = glob.glob(path)\n",
    "    df = pd.DataFrame()\n",
    "    events = pd.DataFrame()\n",
    "    for k in files:\n",
    "        f = json.load(open(k))\n",
    "        df = pd.concat([df, pd.json_normalize(f['ecgs'])])\n",
    "    df = df.reset_index()\n",
    "    return df"
   ]
  },
  {
   "cell_type": "markdown",
   "id": "a35b128d",
   "metadata": {},
   "source": [
    "Every row within the dataset corresponds to a 30-second electrocardiogram (ECG) recording, indicated in the 'ecg.ecg' column. Accompanying this primary data are essential metadata, including bpm, sampling rate, and date of recording. Additionally, PeakSwift's computed properties are included:\n",
    "\n",
    "- R-peaks, computed through eight distinct detection algorithms\n",
    "- Signal quality assessment, performed by two distinct algorithms"
   ]
  },
  {
   "cell_type": "code",
   "execution_count": 116,
   "id": "c2c37e35",
   "metadata": {},
   "outputs": [],
   "source": [
    "df = load_data()\n",
    "df_os = load_data(\"./data/open-source/*.json\")"
   ]
  },
  {
   "cell_type": "code",
   "execution_count": 5,
   "id": "57387a27",
   "metadata": {},
   "outputs": [
    {
     "data": {
      "text/html": [
       "<div>\n",
       "<style scoped>\n",
       "    .dataframe tbody tr th:only-of-type {\n",
       "        vertical-align: middle;\n",
       "    }\n",
       "\n",
       "    .dataframe tbody tr th {\n",
       "        vertical-align: top;\n",
       "    }\n",
       "\n",
       "    .dataframe thead th {\n",
       "        text-align: right;\n",
       "    }\n",
       "</style>\n",
       "<table border=\"1\" class=\"dataframe\">\n",
       "  <thead>\n",
       "    <tr style=\"text-align: right;\">\n",
       "      <th></th>\n",
       "      <th>index</th>\n",
       "    </tr>\n",
       "  </thead>\n",
       "  <tbody>\n",
       "  </tbody>\n",
       "</table>\n",
       "</div>"
      ],
      "text/plain": [
       "Empty DataFrame\n",
       "Columns: [index]\n",
       "Index: []"
      ]
     },
     "execution_count": 5,
     "metadata": {},
     "output_type": "execute_result"
    }
   ],
   "source": [
    "df.head(1)"
   ]
  },
  {
   "cell_type": "code",
   "execution_count": 6,
   "id": "9f5c3c7e",
   "metadata": {},
   "outputs": [
    {
     "ename": "KeyError",
     "evalue": "'ecg.ecg'",
     "output_type": "error",
     "traceback": [
      "\u001b[0;31m---------------------------------------------------------------------------\u001b[0m",
      "\u001b[0;31mKeyError\u001b[0m                                  Traceback (most recent call last)",
      "File \u001b[0;32m~/Desktop/venvs/env/lib/python3.9/site-packages/pandas/core/indexes/base.py:3653\u001b[0m, in \u001b[0;36mIndex.get_loc\u001b[0;34m(self, key)\u001b[0m\n\u001b[1;32m   3652\u001b[0m \u001b[38;5;28;01mtry\u001b[39;00m:\n\u001b[0;32m-> 3653\u001b[0m     \u001b[38;5;28;01mreturn\u001b[39;00m \u001b[38;5;28;43mself\u001b[39;49m\u001b[38;5;241;43m.\u001b[39;49m\u001b[43m_engine\u001b[49m\u001b[38;5;241;43m.\u001b[39;49m\u001b[43mget_loc\u001b[49m\u001b[43m(\u001b[49m\u001b[43mcasted_key\u001b[49m\u001b[43m)\u001b[49m\n\u001b[1;32m   3654\u001b[0m \u001b[38;5;28;01mexcept\u001b[39;00m \u001b[38;5;167;01mKeyError\u001b[39;00m \u001b[38;5;28;01mas\u001b[39;00m err:\n",
      "File \u001b[0;32m~/Desktop/venvs/env/lib/python3.9/site-packages/pandas/_libs/index.pyx:147\u001b[0m, in \u001b[0;36mpandas._libs.index.IndexEngine.get_loc\u001b[0;34m()\u001b[0m\n",
      "File \u001b[0;32m~/Desktop/venvs/env/lib/python3.9/site-packages/pandas/_libs/index.pyx:176\u001b[0m, in \u001b[0;36mpandas._libs.index.IndexEngine.get_loc\u001b[0;34m()\u001b[0m\n",
      "File \u001b[0;32mpandas/_libs/hashtable_class_helper.pxi:7080\u001b[0m, in \u001b[0;36mpandas._libs.hashtable.PyObjectHashTable.get_item\u001b[0;34m()\u001b[0m\n",
      "File \u001b[0;32mpandas/_libs/hashtable_class_helper.pxi:7088\u001b[0m, in \u001b[0;36mpandas._libs.hashtable.PyObjectHashTable.get_item\u001b[0;34m()\u001b[0m\n",
      "\u001b[0;31mKeyError\u001b[0m: 'ecg.ecg'",
      "\nThe above exception was the direct cause of the following exception:\n",
      "\u001b[0;31mKeyError\u001b[0m                                  Traceback (most recent call last)",
      "Cell \u001b[0;32mIn[6], line 2\u001b[0m\n\u001b[1;32m      1\u001b[0m plt\u001b[38;5;241m.\u001b[39mfigure(figsize\u001b[38;5;241m=\u001b[39m(\u001b[38;5;241m15\u001b[39m, \u001b[38;5;241m5\u001b[39m))\n\u001b[0;32m----> 2\u001b[0m plt\u001b[38;5;241m.\u001b[39mplot(\u001b[43mdf\u001b[49m\u001b[43m[\u001b[49m\u001b[38;5;124;43m'\u001b[39;49m\u001b[38;5;124;43mecg.ecg\u001b[39;49m\u001b[38;5;124;43m'\u001b[39;49m\u001b[43m]\u001b[49m[\u001b[38;5;241m43\u001b[39m][\u001b[38;5;241m2000\u001b[39m:\u001b[38;5;241m3536\u001b[39m], c\u001b[38;5;241m=\u001b[39m\u001b[38;5;124m'\u001b[39m\u001b[38;5;124mroyalblue\u001b[39m\u001b[38;5;124m'\u001b[39m)\n\u001b[1;32m      3\u001b[0m plt\u001b[38;5;241m.\u001b[39maxis(\u001b[38;5;124m'\u001b[39m\u001b[38;5;124moff\u001b[39m\u001b[38;5;124m'\u001b[39m)\n\u001b[1;32m      4\u001b[0m plt\u001b[38;5;241m.\u001b[39msavefig(\u001b[38;5;124m'\u001b[39m\u001b[38;5;124m./results/sample_ecg.png\u001b[39m\u001b[38;5;124m'\u001b[39m, bbox_inches\u001b[38;5;241m=\u001b[39m\u001b[38;5;124m'\u001b[39m\u001b[38;5;124mtight\u001b[39m\u001b[38;5;124m'\u001b[39m, dpi\u001b[38;5;241m=\u001b[39m\u001b[38;5;241m300\u001b[39m)\n",
      "File \u001b[0;32m~/Desktop/venvs/env/lib/python3.9/site-packages/pandas/core/frame.py:3761\u001b[0m, in \u001b[0;36mDataFrame.__getitem__\u001b[0;34m(self, key)\u001b[0m\n\u001b[1;32m   3759\u001b[0m \u001b[38;5;28;01mif\u001b[39;00m \u001b[38;5;28mself\u001b[39m\u001b[38;5;241m.\u001b[39mcolumns\u001b[38;5;241m.\u001b[39mnlevels \u001b[38;5;241m>\u001b[39m \u001b[38;5;241m1\u001b[39m:\n\u001b[1;32m   3760\u001b[0m     \u001b[38;5;28;01mreturn\u001b[39;00m \u001b[38;5;28mself\u001b[39m\u001b[38;5;241m.\u001b[39m_getitem_multilevel(key)\n\u001b[0;32m-> 3761\u001b[0m indexer \u001b[38;5;241m=\u001b[39m \u001b[38;5;28;43mself\u001b[39;49m\u001b[38;5;241;43m.\u001b[39;49m\u001b[43mcolumns\u001b[49m\u001b[38;5;241;43m.\u001b[39;49m\u001b[43mget_loc\u001b[49m\u001b[43m(\u001b[49m\u001b[43mkey\u001b[49m\u001b[43m)\u001b[49m\n\u001b[1;32m   3762\u001b[0m \u001b[38;5;28;01mif\u001b[39;00m is_integer(indexer):\n\u001b[1;32m   3763\u001b[0m     indexer \u001b[38;5;241m=\u001b[39m [indexer]\n",
      "File \u001b[0;32m~/Desktop/venvs/env/lib/python3.9/site-packages/pandas/core/indexes/base.py:3655\u001b[0m, in \u001b[0;36mIndex.get_loc\u001b[0;34m(self, key)\u001b[0m\n\u001b[1;32m   3653\u001b[0m     \u001b[38;5;28;01mreturn\u001b[39;00m \u001b[38;5;28mself\u001b[39m\u001b[38;5;241m.\u001b[39m_engine\u001b[38;5;241m.\u001b[39mget_loc(casted_key)\n\u001b[1;32m   3654\u001b[0m \u001b[38;5;28;01mexcept\u001b[39;00m \u001b[38;5;167;01mKeyError\u001b[39;00m \u001b[38;5;28;01mas\u001b[39;00m err:\n\u001b[0;32m-> 3655\u001b[0m     \u001b[38;5;28;01mraise\u001b[39;00m \u001b[38;5;167;01mKeyError\u001b[39;00m(key) \u001b[38;5;28;01mfrom\u001b[39;00m \u001b[38;5;21;01merr\u001b[39;00m\n\u001b[1;32m   3656\u001b[0m \u001b[38;5;28;01mexcept\u001b[39;00m \u001b[38;5;167;01mTypeError\u001b[39;00m:\n\u001b[1;32m   3657\u001b[0m     \u001b[38;5;66;03m# If we have a listlike key, _check_indexing_error will raise\u001b[39;00m\n\u001b[1;32m   3658\u001b[0m     \u001b[38;5;66;03m#  InvalidIndexError. Otherwise we fall through and re-raise\u001b[39;00m\n\u001b[1;32m   3659\u001b[0m     \u001b[38;5;66;03m#  the TypeError.\u001b[39;00m\n\u001b[1;32m   3660\u001b[0m     \u001b[38;5;28mself\u001b[39m\u001b[38;5;241m.\u001b[39m_check_indexing_error(key)\n",
      "\u001b[0;31mKeyError\u001b[0m: 'ecg.ecg'"
     ]
    },
    {
     "data": {
      "text/plain": [
       "<Figure size 1500x500 with 0 Axes>"
      ]
     },
     "metadata": {},
     "output_type": "display_data"
    }
   ],
   "source": [
    "plt.figure(figsize=(15, 5))\n",
    "plt.plot(df['ecg.ecg'][43][2000:3536], c='royalblue')\n",
    "plt.axis('off')\n",
    "plt.savefig('./results/sample_ecg.png', bbox_inches='tight', dpi=300)\n",
    "#plt.close()"
   ]
  },
  {
   "cell_type": "code",
   "execution_count": 7,
   "id": "f986605b",
   "metadata": {},
   "outputs": [
    {
     "ename": "KeyError",
     "evalue": "'apple_meta_data.hardware_version'",
     "output_type": "error",
     "traceback": [
      "\u001b[0;31m---------------------------------------------------------------------------\u001b[0m",
      "\u001b[0;31mKeyError\u001b[0m                                  Traceback (most recent call last)",
      "File \u001b[0;32m~/Desktop/venvs/env/lib/python3.9/site-packages/pandas/core/indexes/base.py:3653\u001b[0m, in \u001b[0;36mIndex.get_loc\u001b[0;34m(self, key)\u001b[0m\n\u001b[1;32m   3652\u001b[0m \u001b[38;5;28;01mtry\u001b[39;00m:\n\u001b[0;32m-> 3653\u001b[0m     \u001b[38;5;28;01mreturn\u001b[39;00m \u001b[38;5;28;43mself\u001b[39;49m\u001b[38;5;241;43m.\u001b[39;49m\u001b[43m_engine\u001b[49m\u001b[38;5;241;43m.\u001b[39;49m\u001b[43mget_loc\u001b[49m\u001b[43m(\u001b[49m\u001b[43mcasted_key\u001b[49m\u001b[43m)\u001b[49m\n\u001b[1;32m   3654\u001b[0m \u001b[38;5;28;01mexcept\u001b[39;00m \u001b[38;5;167;01mKeyError\u001b[39;00m \u001b[38;5;28;01mas\u001b[39;00m err:\n",
      "File \u001b[0;32m~/Desktop/venvs/env/lib/python3.9/site-packages/pandas/_libs/index.pyx:147\u001b[0m, in \u001b[0;36mpandas._libs.index.IndexEngine.get_loc\u001b[0;34m()\u001b[0m\n",
      "File \u001b[0;32m~/Desktop/venvs/env/lib/python3.9/site-packages/pandas/_libs/index.pyx:176\u001b[0m, in \u001b[0;36mpandas._libs.index.IndexEngine.get_loc\u001b[0;34m()\u001b[0m\n",
      "File \u001b[0;32mpandas/_libs/hashtable_class_helper.pxi:7080\u001b[0m, in \u001b[0;36mpandas._libs.hashtable.PyObjectHashTable.get_item\u001b[0;34m()\u001b[0m\n",
      "File \u001b[0;32mpandas/_libs/hashtable_class_helper.pxi:7088\u001b[0m, in \u001b[0;36mpandas._libs.hashtable.PyObjectHashTable.get_item\u001b[0;34m()\u001b[0m\n",
      "\u001b[0;31mKeyError\u001b[0m: 'apple_meta_data.hardware_version'",
      "\nThe above exception was the direct cause of the following exception:\n",
      "\u001b[0;31mKeyError\u001b[0m                                  Traceback (most recent call last)",
      "Cell \u001b[0;32mIn[7], line 5\u001b[0m\n\u001b[1;32m      1\u001b[0m \u001b[38;5;66;03m# Watch6,2 : Apple Watch Series 6 44mm case (GPS)\u001b[39;00m\n\u001b[1;32m      2\u001b[0m \u001b[38;5;66;03m# Watch6,1 : Apple Watch Series 6 40mm case (GPS)\u001b[39;00m\n\u001b[1;32m      3\u001b[0m \u001b[38;5;66;03m# Watch5,2 : Apple Watch Series 5 44mm case (GPS)\u001b[39;00m\n\u001b[0;32m----> 5\u001b[0m \u001b[38;5;28mprint\u001b[39m(\u001b[38;5;124m'\u001b[39m\u001b[38;5;124mWatch Model:\u001b[39m\u001b[38;5;124m'\u001b[39m, \u001b[43mdf\u001b[49m\u001b[43m[\u001b[49m\u001b[38;5;124;43m'\u001b[39;49m\u001b[38;5;124;43mapple_meta_data.hardware_version\u001b[39;49m\u001b[38;5;124;43m'\u001b[39;49m\u001b[43m]\u001b[49m\u001b[38;5;241m.\u001b[39munique())\n\u001b[1;32m      7\u001b[0m df[\u001b[38;5;124m'\u001b[39m\u001b[38;5;124mtimestamp_recording\u001b[39m\u001b[38;5;124m'\u001b[39m] \u001b[38;5;241m=\u001b[39m pd\u001b[38;5;241m.\u001b[39mto_datetime(df[\u001b[38;5;124m'\u001b[39m\u001b[38;5;124mapple_meta_data.recording_start_time\u001b[39m\u001b[38;5;124m'\u001b[39m] \u001b[38;5;241m+\u001b[39m \u001b[38;5;241m978307200\u001b[39m, unit\u001b[38;5;241m=\u001b[39m\u001b[38;5;124m'\u001b[39m\u001b[38;5;124ms\u001b[39m\u001b[38;5;124m'\u001b[39m)\n\u001b[1;32m      8\u001b[0m df[\u001b[38;5;124m'\u001b[39m\u001b[38;5;124msubject\u001b[39m\u001b[38;5;124m'\u001b[39m] \u001b[38;5;241m=\u001b[39m pd\u001b[38;5;241m.\u001b[39mfactorize(df[\u001b[38;5;124m'\u001b[39m\u001b[38;5;124mdevice_id\u001b[39m\u001b[38;5;124m'\u001b[39m])[\u001b[38;5;241m0\u001b[39m]\n",
      "File \u001b[0;32m~/Desktop/venvs/env/lib/python3.9/site-packages/pandas/core/frame.py:3761\u001b[0m, in \u001b[0;36mDataFrame.__getitem__\u001b[0;34m(self, key)\u001b[0m\n\u001b[1;32m   3759\u001b[0m \u001b[38;5;28;01mif\u001b[39;00m \u001b[38;5;28mself\u001b[39m\u001b[38;5;241m.\u001b[39mcolumns\u001b[38;5;241m.\u001b[39mnlevels \u001b[38;5;241m>\u001b[39m \u001b[38;5;241m1\u001b[39m:\n\u001b[1;32m   3760\u001b[0m     \u001b[38;5;28;01mreturn\u001b[39;00m \u001b[38;5;28mself\u001b[39m\u001b[38;5;241m.\u001b[39m_getitem_multilevel(key)\n\u001b[0;32m-> 3761\u001b[0m indexer \u001b[38;5;241m=\u001b[39m \u001b[38;5;28;43mself\u001b[39;49m\u001b[38;5;241;43m.\u001b[39;49m\u001b[43mcolumns\u001b[49m\u001b[38;5;241;43m.\u001b[39;49m\u001b[43mget_loc\u001b[49m\u001b[43m(\u001b[49m\u001b[43mkey\u001b[49m\u001b[43m)\u001b[49m\n\u001b[1;32m   3762\u001b[0m \u001b[38;5;28;01mif\u001b[39;00m is_integer(indexer):\n\u001b[1;32m   3763\u001b[0m     indexer \u001b[38;5;241m=\u001b[39m [indexer]\n",
      "File \u001b[0;32m~/Desktop/venvs/env/lib/python3.9/site-packages/pandas/core/indexes/base.py:3655\u001b[0m, in \u001b[0;36mIndex.get_loc\u001b[0;34m(self, key)\u001b[0m\n\u001b[1;32m   3653\u001b[0m     \u001b[38;5;28;01mreturn\u001b[39;00m \u001b[38;5;28mself\u001b[39m\u001b[38;5;241m.\u001b[39m_engine\u001b[38;5;241m.\u001b[39mget_loc(casted_key)\n\u001b[1;32m   3654\u001b[0m \u001b[38;5;28;01mexcept\u001b[39;00m \u001b[38;5;167;01mKeyError\u001b[39;00m \u001b[38;5;28;01mas\u001b[39;00m err:\n\u001b[0;32m-> 3655\u001b[0m     \u001b[38;5;28;01mraise\u001b[39;00m \u001b[38;5;167;01mKeyError\u001b[39;00m(key) \u001b[38;5;28;01mfrom\u001b[39;00m \u001b[38;5;21;01merr\u001b[39;00m\n\u001b[1;32m   3656\u001b[0m \u001b[38;5;28;01mexcept\u001b[39;00m \u001b[38;5;167;01mTypeError\u001b[39;00m:\n\u001b[1;32m   3657\u001b[0m     \u001b[38;5;66;03m# If we have a listlike key, _check_indexing_error will raise\u001b[39;00m\n\u001b[1;32m   3658\u001b[0m     \u001b[38;5;66;03m#  InvalidIndexError. Otherwise we fall through and re-raise\u001b[39;00m\n\u001b[1;32m   3659\u001b[0m     \u001b[38;5;66;03m#  the TypeError.\u001b[39;00m\n\u001b[1;32m   3660\u001b[0m     \u001b[38;5;28mself\u001b[39m\u001b[38;5;241m.\u001b[39m_check_indexing_error(key)\n",
      "\u001b[0;31mKeyError\u001b[0m: 'apple_meta_data.hardware_version'"
     ]
    }
   ],
   "source": [
    "# Watch6,2 : Apple Watch Series 6 44mm case (GPS)\n",
    "# Watch6,1 : Apple Watch Series 6 40mm case (GPS)\n",
    "# Watch5,2 : Apple Watch Series 5 44mm case (GPS)\n",
    "\n",
    "print('Watch Model:', df['apple_meta_data.hardware_version'].unique())\n",
    "\n",
    "df['timestamp_recording'] = pd.to_datetime(df['apple_meta_data.recording_start_time'] + 978307200, unit='s')\n",
    "df['subject'] = pd.factorize(df['device_id'])[0]"
   ]
  },
  {
   "cell_type": "code",
   "execution_count": 113,
   "id": "459e4ae4",
   "metadata": {
    "scrolled": true
   },
   "outputs": [
    {
     "name": "stdout",
     "output_type": "stream",
     "text": [
      "Total amount of self-recorded ECG: 0\n",
      "Total amount of open-source ECG: 10646\n"
     ]
    }
   ],
   "source": [
    "print('Total amount of self-recorded ECG:', len(df))\n",
    "print('Total amount of open-source ECG:', len(df_os))"
   ]
  },
  {
   "cell_type": "code",
   "execution_count": 9,
   "id": "c9f1158a",
   "metadata": {},
   "outputs": [
    {
     "ename": "KeyError",
     "evalue": "'subject'",
     "output_type": "error",
     "traceback": [
      "\u001b[0;31m---------------------------------------------------------------------------\u001b[0m",
      "\u001b[0;31mKeyError\u001b[0m                                  Traceback (most recent call last)",
      "Cell \u001b[0;32mIn[9], line 1\u001b[0m\n\u001b[0;32m----> 1\u001b[0m \u001b[43mdf\u001b[49m\u001b[38;5;241;43m.\u001b[39;49m\u001b[43mgroupby\u001b[49m\u001b[43m(\u001b[49m\u001b[38;5;124;43m'\u001b[39;49m\u001b[38;5;124;43msubject\u001b[39;49m\u001b[38;5;124;43m'\u001b[39;49m\u001b[43m)\u001b[49m[\u001b[38;5;124m'\u001b[39m\u001b[38;5;124msubject\u001b[39m\u001b[38;5;124m'\u001b[39m]\u001b[38;5;241m.\u001b[39mcount()\n",
      "File \u001b[0;32m~/Desktop/venvs/env/lib/python3.9/site-packages/pandas/core/frame.py:8252\u001b[0m, in \u001b[0;36mDataFrame.groupby\u001b[0;34m(self, by, axis, level, as_index, sort, group_keys, observed, dropna)\u001b[0m\n\u001b[1;32m   8249\u001b[0m     \u001b[38;5;28;01mraise\u001b[39;00m \u001b[38;5;167;01mTypeError\u001b[39;00m(\u001b[38;5;124m\"\u001b[39m\u001b[38;5;124mYou have to supply one of \u001b[39m\u001b[38;5;124m'\u001b[39m\u001b[38;5;124mby\u001b[39m\u001b[38;5;124m'\u001b[39m\u001b[38;5;124m and \u001b[39m\u001b[38;5;124m'\u001b[39m\u001b[38;5;124mlevel\u001b[39m\u001b[38;5;124m'\u001b[39m\u001b[38;5;124m\"\u001b[39m)\n\u001b[1;32m   8250\u001b[0m axis \u001b[38;5;241m=\u001b[39m \u001b[38;5;28mself\u001b[39m\u001b[38;5;241m.\u001b[39m_get_axis_number(axis)\n\u001b[0;32m-> 8252\u001b[0m \u001b[38;5;28;01mreturn\u001b[39;00m \u001b[43mDataFrameGroupBy\u001b[49m\u001b[43m(\u001b[49m\n\u001b[1;32m   8253\u001b[0m \u001b[43m    \u001b[49m\u001b[43mobj\u001b[49m\u001b[38;5;241;43m=\u001b[39;49m\u001b[38;5;28;43mself\u001b[39;49m\u001b[43m,\u001b[49m\n\u001b[1;32m   8254\u001b[0m \u001b[43m    \u001b[49m\u001b[43mkeys\u001b[49m\u001b[38;5;241;43m=\u001b[39;49m\u001b[43mby\u001b[49m\u001b[43m,\u001b[49m\n\u001b[1;32m   8255\u001b[0m \u001b[43m    \u001b[49m\u001b[43maxis\u001b[49m\u001b[38;5;241;43m=\u001b[39;49m\u001b[43maxis\u001b[49m\u001b[43m,\u001b[49m\n\u001b[1;32m   8256\u001b[0m \u001b[43m    \u001b[49m\u001b[43mlevel\u001b[49m\u001b[38;5;241;43m=\u001b[39;49m\u001b[43mlevel\u001b[49m\u001b[43m,\u001b[49m\n\u001b[1;32m   8257\u001b[0m \u001b[43m    \u001b[49m\u001b[43mas_index\u001b[49m\u001b[38;5;241;43m=\u001b[39;49m\u001b[43mas_index\u001b[49m\u001b[43m,\u001b[49m\n\u001b[1;32m   8258\u001b[0m \u001b[43m    \u001b[49m\u001b[43msort\u001b[49m\u001b[38;5;241;43m=\u001b[39;49m\u001b[43msort\u001b[49m\u001b[43m,\u001b[49m\n\u001b[1;32m   8259\u001b[0m \u001b[43m    \u001b[49m\u001b[43mgroup_keys\u001b[49m\u001b[38;5;241;43m=\u001b[39;49m\u001b[43mgroup_keys\u001b[49m\u001b[43m,\u001b[49m\n\u001b[1;32m   8260\u001b[0m \u001b[43m    \u001b[49m\u001b[43mobserved\u001b[49m\u001b[38;5;241;43m=\u001b[39;49m\u001b[43mobserved\u001b[49m\u001b[43m,\u001b[49m\n\u001b[1;32m   8261\u001b[0m \u001b[43m    \u001b[49m\u001b[43mdropna\u001b[49m\u001b[38;5;241;43m=\u001b[39;49m\u001b[43mdropna\u001b[49m\u001b[43m,\u001b[49m\n\u001b[1;32m   8262\u001b[0m \u001b[43m\u001b[49m\u001b[43m)\u001b[49m\n",
      "File \u001b[0;32m~/Desktop/venvs/env/lib/python3.9/site-packages/pandas/core/groupby/groupby.py:931\u001b[0m, in \u001b[0;36mGroupBy.__init__\u001b[0;34m(self, obj, keys, axis, level, grouper, exclusions, selection, as_index, sort, group_keys, observed, dropna)\u001b[0m\n\u001b[1;32m    928\u001b[0m \u001b[38;5;28mself\u001b[39m\u001b[38;5;241m.\u001b[39mdropna \u001b[38;5;241m=\u001b[39m dropna\n\u001b[1;32m    930\u001b[0m \u001b[38;5;28;01mif\u001b[39;00m grouper \u001b[38;5;129;01mis\u001b[39;00m \u001b[38;5;28;01mNone\u001b[39;00m:\n\u001b[0;32m--> 931\u001b[0m     grouper, exclusions, obj \u001b[38;5;241m=\u001b[39m \u001b[43mget_grouper\u001b[49m\u001b[43m(\u001b[49m\n\u001b[1;32m    932\u001b[0m \u001b[43m        \u001b[49m\u001b[43mobj\u001b[49m\u001b[43m,\u001b[49m\n\u001b[1;32m    933\u001b[0m \u001b[43m        \u001b[49m\u001b[43mkeys\u001b[49m\u001b[43m,\u001b[49m\n\u001b[1;32m    934\u001b[0m \u001b[43m        \u001b[49m\u001b[43maxis\u001b[49m\u001b[38;5;241;43m=\u001b[39;49m\u001b[43maxis\u001b[49m\u001b[43m,\u001b[49m\n\u001b[1;32m    935\u001b[0m \u001b[43m        \u001b[49m\u001b[43mlevel\u001b[49m\u001b[38;5;241;43m=\u001b[39;49m\u001b[43mlevel\u001b[49m\u001b[43m,\u001b[49m\n\u001b[1;32m    936\u001b[0m \u001b[43m        \u001b[49m\u001b[43msort\u001b[49m\u001b[38;5;241;43m=\u001b[39;49m\u001b[43msort\u001b[49m\u001b[43m,\u001b[49m\n\u001b[1;32m    937\u001b[0m \u001b[43m        \u001b[49m\u001b[43mobserved\u001b[49m\u001b[38;5;241;43m=\u001b[39;49m\u001b[43mobserved\u001b[49m\u001b[43m,\u001b[49m\n\u001b[1;32m    938\u001b[0m \u001b[43m        \u001b[49m\u001b[43mdropna\u001b[49m\u001b[38;5;241;43m=\u001b[39;49m\u001b[38;5;28;43mself\u001b[39;49m\u001b[38;5;241;43m.\u001b[39;49m\u001b[43mdropna\u001b[49m\u001b[43m,\u001b[49m\n\u001b[1;32m    939\u001b[0m \u001b[43m    \u001b[49m\u001b[43m)\u001b[49m\n\u001b[1;32m    941\u001b[0m \u001b[38;5;28mself\u001b[39m\u001b[38;5;241m.\u001b[39mobj \u001b[38;5;241m=\u001b[39m obj\n\u001b[1;32m    942\u001b[0m \u001b[38;5;28mself\u001b[39m\u001b[38;5;241m.\u001b[39maxis \u001b[38;5;241m=\u001b[39m obj\u001b[38;5;241m.\u001b[39m_get_axis_number(axis)\n",
      "File \u001b[0;32m~/Desktop/venvs/env/lib/python3.9/site-packages/pandas/core/groupby/grouper.py:985\u001b[0m, in \u001b[0;36mget_grouper\u001b[0;34m(obj, key, axis, level, sort, observed, validate, dropna)\u001b[0m\n\u001b[1;32m    983\u001b[0m         in_axis, level, gpr \u001b[38;5;241m=\u001b[39m \u001b[38;5;28;01mFalse\u001b[39;00m, gpr, \u001b[38;5;28;01mNone\u001b[39;00m\n\u001b[1;32m    984\u001b[0m     \u001b[38;5;28;01melse\u001b[39;00m:\n\u001b[0;32m--> 985\u001b[0m         \u001b[38;5;28;01mraise\u001b[39;00m \u001b[38;5;167;01mKeyError\u001b[39;00m(gpr)\n\u001b[1;32m    986\u001b[0m \u001b[38;5;28;01melif\u001b[39;00m \u001b[38;5;28misinstance\u001b[39m(gpr, Grouper) \u001b[38;5;129;01mand\u001b[39;00m gpr\u001b[38;5;241m.\u001b[39mkey \u001b[38;5;129;01mis\u001b[39;00m \u001b[38;5;129;01mnot\u001b[39;00m \u001b[38;5;28;01mNone\u001b[39;00m:\n\u001b[1;32m    987\u001b[0m     \u001b[38;5;66;03m# Add key to exclusions\u001b[39;00m\n\u001b[1;32m    988\u001b[0m     exclusions\u001b[38;5;241m.\u001b[39madd(gpr\u001b[38;5;241m.\u001b[39mkey)\n",
      "\u001b[0;31mKeyError\u001b[0m: 'subject'"
     ]
    }
   ],
   "source": [
    "df.groupby('subject')['subject'].count()"
   ]
  },
  {
   "cell_type": "code",
   "execution_count": 10,
   "id": "e2bc357d",
   "metadata": {},
   "outputs": [
    {
     "ename": "ValueError",
     "evalue": "Could not interpret value `timestamp_recording` for parameter `x`",
     "output_type": "error",
     "traceback": [
      "\u001b[0;31m---------------------------------------------------------------------------\u001b[0m",
      "\u001b[0;31mValueError\u001b[0m                                Traceback (most recent call last)",
      "Cell \u001b[0;32mIn[10], line 4\u001b[0m\n\u001b[1;32m      2\u001b[0m fig \u001b[38;5;241m=\u001b[39m plt\u001b[38;5;241m.\u001b[39mfigure(figsize\u001b[38;5;241m=\u001b[39m(\u001b[38;5;241m15\u001b[39m,\u001b[38;5;241m5\u001b[39m))\n\u001b[1;32m      3\u001b[0m plt\u001b[38;5;241m.\u001b[39mset_cmap(\u001b[38;5;124m'\u001b[39m\u001b[38;5;124mtab10\u001b[39m\u001b[38;5;124m'\u001b[39m)\n\u001b[0;32m----> 4\u001b[0m ax \u001b[38;5;241m=\u001b[39m \u001b[43msns\u001b[49m\u001b[38;5;241;43m.\u001b[39;49m\u001b[43mhistplot\u001b[49m\u001b[43m(\u001b[49m\u001b[43mdata\u001b[49m\u001b[38;5;241;43m=\u001b[39;49m\u001b[43mdf\u001b[49m\u001b[43m,\u001b[49m\u001b[43m \u001b[49m\u001b[43mx\u001b[49m\u001b[38;5;241;43m=\u001b[39;49m\u001b[38;5;124;43m\"\u001b[39;49m\u001b[38;5;124;43mtimestamp_recording\u001b[39;49m\u001b[38;5;124;43m\"\u001b[39;49m\u001b[43m,\u001b[49m\u001b[43m \u001b[49m\u001b[43mhue\u001b[49m\u001b[38;5;241;43m=\u001b[39;49m\u001b[38;5;124;43m\"\u001b[39;49m\u001b[38;5;124;43msubject\u001b[39;49m\u001b[38;5;124;43m\"\u001b[39;49m\u001b[43m,\u001b[49m\u001b[43m \u001b[49m\u001b[43mbins\u001b[49m\u001b[38;5;241;43m=\u001b[39;49m\u001b[38;5;241;43m100\u001b[39;49m\u001b[43m,\u001b[49m\u001b[43m \u001b[49m\u001b[43mpalette\u001b[49m\u001b[38;5;241;43m=\u001b[39;49m\u001b[43mpalette\u001b[49m\u001b[43m)\u001b[49m\n\u001b[1;32m      5\u001b[0m ax\u001b[38;5;241m.\u001b[39mset(xlabel\u001b[38;5;241m=\u001b[39m\u001b[38;5;124m'\u001b[39m\u001b[38;5;124mTimestamp\u001b[39m\u001b[38;5;124m'\u001b[39m, ylabel\u001b[38;5;241m=\u001b[39m\u001b[38;5;124m'\u001b[39m\u001b[38;5;124mNumber of ECGs\u001b[39m\u001b[38;5;124m'\u001b[39m)\n\u001b[1;32m      6\u001b[0m ax\u001b[38;5;241m.\u001b[39mset_title(\u001b[38;5;124m'\u001b[39m\u001b[38;5;124mECG recordings over time\u001b[39m\u001b[38;5;124m'\u001b[39m)\n",
      "File \u001b[0;32m~/Desktop/venvs/env/lib/python3.9/site-packages/seaborn/distributions.py:1395\u001b[0m, in \u001b[0;36mhistplot\u001b[0;34m(data, x, y, hue, weights, stat, bins, binwidth, binrange, discrete, cumulative, common_bins, common_norm, multiple, element, fill, shrink, kde, kde_kws, line_kws, thresh, pthresh, pmax, cbar, cbar_ax, cbar_kws, palette, hue_order, hue_norm, color, log_scale, legend, ax, **kwargs)\u001b[0m\n\u001b[1;32m   1374\u001b[0m \u001b[38;5;28;01mdef\u001b[39;00m \u001b[38;5;21mhistplot\u001b[39m(\n\u001b[1;32m   1375\u001b[0m     data\u001b[38;5;241m=\u001b[39m\u001b[38;5;28;01mNone\u001b[39;00m, \u001b[38;5;241m*\u001b[39m,\n\u001b[1;32m   1376\u001b[0m     \u001b[38;5;66;03m# Vector variables\u001b[39;00m\n\u001b[0;32m   (...)\u001b[0m\n\u001b[1;32m   1392\u001b[0m     \u001b[38;5;241m*\u001b[39m\u001b[38;5;241m*\u001b[39mkwargs,\n\u001b[1;32m   1393\u001b[0m ):\n\u001b[0;32m-> 1395\u001b[0m     p \u001b[38;5;241m=\u001b[39m \u001b[43m_DistributionPlotter\u001b[49m\u001b[43m(\u001b[49m\n\u001b[1;32m   1396\u001b[0m \u001b[43m        \u001b[49m\u001b[43mdata\u001b[49m\u001b[38;5;241;43m=\u001b[39;49m\u001b[43mdata\u001b[49m\u001b[43m,\u001b[49m\n\u001b[1;32m   1397\u001b[0m \u001b[43m        \u001b[49m\u001b[43mvariables\u001b[49m\u001b[38;5;241;43m=\u001b[39;49m\u001b[43m_DistributionPlotter\u001b[49m\u001b[38;5;241;43m.\u001b[39;49m\u001b[43mget_semantics\u001b[49m\u001b[43m(\u001b[49m\u001b[38;5;28;43mlocals\u001b[39;49m\u001b[43m(\u001b[49m\u001b[43m)\u001b[49m\u001b[43m)\u001b[49m\n\u001b[1;32m   1398\u001b[0m \u001b[43m    \u001b[49m\u001b[43m)\u001b[49m\n\u001b[1;32m   1400\u001b[0m     p\u001b[38;5;241m.\u001b[39mmap_hue(palette\u001b[38;5;241m=\u001b[39mpalette, order\u001b[38;5;241m=\u001b[39mhue_order, norm\u001b[38;5;241m=\u001b[39mhue_norm)\n\u001b[1;32m   1402\u001b[0m     \u001b[38;5;28;01mif\u001b[39;00m ax \u001b[38;5;129;01mis\u001b[39;00m \u001b[38;5;28;01mNone\u001b[39;00m:\n",
      "File \u001b[0;32m~/Desktop/venvs/env/lib/python3.9/site-packages/seaborn/distributions.py:113\u001b[0m, in \u001b[0;36m_DistributionPlotter.__init__\u001b[0;34m(self, data, variables)\u001b[0m\n\u001b[1;32m    107\u001b[0m \u001b[38;5;28;01mdef\u001b[39;00m \u001b[38;5;21m__init__\u001b[39m(\n\u001b[1;32m    108\u001b[0m     \u001b[38;5;28mself\u001b[39m,\n\u001b[1;32m    109\u001b[0m     data\u001b[38;5;241m=\u001b[39m\u001b[38;5;28;01mNone\u001b[39;00m,\n\u001b[1;32m    110\u001b[0m     variables\u001b[38;5;241m=\u001b[39m{},\n\u001b[1;32m    111\u001b[0m ):\n\u001b[0;32m--> 113\u001b[0m     \u001b[38;5;28;43msuper\u001b[39;49m\u001b[43m(\u001b[49m\u001b[43m)\u001b[49m\u001b[38;5;241;43m.\u001b[39;49m\u001b[38;5;21;43m__init__\u001b[39;49m\u001b[43m(\u001b[49m\u001b[43mdata\u001b[49m\u001b[38;5;241;43m=\u001b[39;49m\u001b[43mdata\u001b[49m\u001b[43m,\u001b[49m\u001b[43m \u001b[49m\u001b[43mvariables\u001b[49m\u001b[38;5;241;43m=\u001b[39;49m\u001b[43mvariables\u001b[49m\u001b[43m)\u001b[49m\n",
      "File \u001b[0;32m~/Desktop/venvs/env/lib/python3.9/site-packages/seaborn/_oldcore.py:640\u001b[0m, in \u001b[0;36mVectorPlotter.__init__\u001b[0;34m(self, data, variables)\u001b[0m\n\u001b[1;32m    635\u001b[0m \u001b[38;5;66;03m# var_ordered is relevant only for categorical axis variables, and may\u001b[39;00m\n\u001b[1;32m    636\u001b[0m \u001b[38;5;66;03m# be better handled by an internal axis information object that tracks\u001b[39;00m\n\u001b[1;32m    637\u001b[0m \u001b[38;5;66;03m# such information and is set up by the scale_* methods. The analogous\u001b[39;00m\n\u001b[1;32m    638\u001b[0m \u001b[38;5;66;03m# information for numeric axes would be information about log scales.\u001b[39;00m\n\u001b[1;32m    639\u001b[0m \u001b[38;5;28mself\u001b[39m\u001b[38;5;241m.\u001b[39m_var_ordered \u001b[38;5;241m=\u001b[39m {\u001b[38;5;124m\"\u001b[39m\u001b[38;5;124mx\u001b[39m\u001b[38;5;124m\"\u001b[39m: \u001b[38;5;28;01mFalse\u001b[39;00m, \u001b[38;5;124m\"\u001b[39m\u001b[38;5;124my\u001b[39m\u001b[38;5;124m\"\u001b[39m: \u001b[38;5;28;01mFalse\u001b[39;00m}  \u001b[38;5;66;03m# alt., used DefaultDict\u001b[39;00m\n\u001b[0;32m--> 640\u001b[0m \u001b[38;5;28;43mself\u001b[39;49m\u001b[38;5;241;43m.\u001b[39;49m\u001b[43massign_variables\u001b[49m\u001b[43m(\u001b[49m\u001b[43mdata\u001b[49m\u001b[43m,\u001b[49m\u001b[43m \u001b[49m\u001b[43mvariables\u001b[49m\u001b[43m)\u001b[49m\n\u001b[1;32m    642\u001b[0m \u001b[38;5;28;01mfor\u001b[39;00m var, \u001b[38;5;28mcls\u001b[39m \u001b[38;5;129;01min\u001b[39;00m \u001b[38;5;28mself\u001b[39m\u001b[38;5;241m.\u001b[39m_semantic_mappings\u001b[38;5;241m.\u001b[39mitems():\n\u001b[1;32m    643\u001b[0m \n\u001b[1;32m    644\u001b[0m     \u001b[38;5;66;03m# Create the mapping function\u001b[39;00m\n\u001b[1;32m    645\u001b[0m     map_func \u001b[38;5;241m=\u001b[39m partial(\u001b[38;5;28mcls\u001b[39m\u001b[38;5;241m.\u001b[39mmap, plotter\u001b[38;5;241m=\u001b[39m\u001b[38;5;28mself\u001b[39m)\n",
      "File \u001b[0;32m~/Desktop/venvs/env/lib/python3.9/site-packages/seaborn/_oldcore.py:701\u001b[0m, in \u001b[0;36mVectorPlotter.assign_variables\u001b[0;34m(self, data, variables)\u001b[0m\n\u001b[1;32m    699\u001b[0m \u001b[38;5;28;01melse\u001b[39;00m:\n\u001b[1;32m    700\u001b[0m     \u001b[38;5;28mself\u001b[39m\u001b[38;5;241m.\u001b[39minput_format \u001b[38;5;241m=\u001b[39m \u001b[38;5;124m\"\u001b[39m\u001b[38;5;124mlong\u001b[39m\u001b[38;5;124m\"\u001b[39m\n\u001b[0;32m--> 701\u001b[0m     plot_data, variables \u001b[38;5;241m=\u001b[39m \u001b[38;5;28;43mself\u001b[39;49m\u001b[38;5;241;43m.\u001b[39;49m\u001b[43m_assign_variables_longform\u001b[49m\u001b[43m(\u001b[49m\n\u001b[1;32m    702\u001b[0m \u001b[43m        \u001b[49m\u001b[43mdata\u001b[49m\u001b[43m,\u001b[49m\u001b[43m \u001b[49m\u001b[38;5;241;43m*\u001b[39;49m\u001b[38;5;241;43m*\u001b[39;49m\u001b[43mvariables\u001b[49m\u001b[43m,\u001b[49m\n\u001b[1;32m    703\u001b[0m \u001b[43m    \u001b[49m\u001b[43m)\u001b[49m\n\u001b[1;32m    705\u001b[0m \u001b[38;5;28mself\u001b[39m\u001b[38;5;241m.\u001b[39mplot_data \u001b[38;5;241m=\u001b[39m plot_data\n\u001b[1;32m    706\u001b[0m \u001b[38;5;28mself\u001b[39m\u001b[38;5;241m.\u001b[39mvariables \u001b[38;5;241m=\u001b[39m variables\n",
      "File \u001b[0;32m~/Desktop/venvs/env/lib/python3.9/site-packages/seaborn/_oldcore.py:938\u001b[0m, in \u001b[0;36mVectorPlotter._assign_variables_longform\u001b[0;34m(self, data, **kwargs)\u001b[0m\n\u001b[1;32m    933\u001b[0m \u001b[38;5;28;01melif\u001b[39;00m \u001b[38;5;28misinstance\u001b[39m(val, (\u001b[38;5;28mstr\u001b[39m, \u001b[38;5;28mbytes\u001b[39m)):\n\u001b[1;32m    934\u001b[0m \n\u001b[1;32m    935\u001b[0m     \u001b[38;5;66;03m# This looks like a column name but we don't know what it means!\u001b[39;00m\n\u001b[1;32m    937\u001b[0m     err \u001b[38;5;241m=\u001b[39m \u001b[38;5;124mf\u001b[39m\u001b[38;5;124m\"\u001b[39m\u001b[38;5;124mCould not interpret value `\u001b[39m\u001b[38;5;132;01m{\u001b[39;00mval\u001b[38;5;132;01m}\u001b[39;00m\u001b[38;5;124m` for parameter `\u001b[39m\u001b[38;5;132;01m{\u001b[39;00mkey\u001b[38;5;132;01m}\u001b[39;00m\u001b[38;5;124m`\u001b[39m\u001b[38;5;124m\"\u001b[39m\n\u001b[0;32m--> 938\u001b[0m     \u001b[38;5;28;01mraise\u001b[39;00m \u001b[38;5;167;01mValueError\u001b[39;00m(err)\n\u001b[1;32m    940\u001b[0m \u001b[38;5;28;01melse\u001b[39;00m:\n\u001b[1;32m    941\u001b[0m \n\u001b[1;32m    942\u001b[0m     \u001b[38;5;66;03m# Otherwise, assume the value is itself data\u001b[39;00m\n\u001b[1;32m    943\u001b[0m \n\u001b[1;32m    944\u001b[0m     \u001b[38;5;66;03m# Raise when data object is present and a vector can't matched\u001b[39;00m\n\u001b[1;32m    945\u001b[0m     \u001b[38;5;28;01mif\u001b[39;00m \u001b[38;5;28misinstance\u001b[39m(data, pd\u001b[38;5;241m.\u001b[39mDataFrame) \u001b[38;5;129;01mand\u001b[39;00m \u001b[38;5;129;01mnot\u001b[39;00m \u001b[38;5;28misinstance\u001b[39m(val, pd\u001b[38;5;241m.\u001b[39mSeries):\n",
      "\u001b[0;31mValueError\u001b[0m: Could not interpret value `timestamp_recording` for parameter `x`"
     ]
    },
    {
     "data": {
      "text/plain": [
       "<Figure size 1500x500 with 0 Axes>"
      ]
     },
     "metadata": {},
     "output_type": "display_data"
    }
   ],
   "source": [
    "palette = sns.color_palette('tab10')\n",
    "fig = plt.figure(figsize=(15,5))\n",
    "plt.set_cmap('tab10')\n",
    "ax = sns.histplot(data=df, x=\"timestamp_recording\", hue=\"subject\", bins=100, palette=palette)\n",
    "ax.set(xlabel='Timestamp', ylabel='Number of ECGs')\n",
    "ax.set_title('ECG recordings over time')\n",
    "plt.show()\n",
    "fig.savefig('./results/recordings.png', bbox_inches='tight', dpi=300)\n",
    "plt.close()"
   ]
  },
  {
   "cell_type": "markdown",
   "id": "d236eed0",
   "metadata": {},
   "source": [
    "### Functions and Tools for Evaluation"
   ]
  },
  {
   "cell_type": "markdown",
   "id": "6bcde117",
   "metadata": {},
   "source": [
    "Mapping from PeakSwift's to NeuroKit's Algorithm Naming Convention"
   ]
  },
  {
   "cell_type": "code",
   "execution_count": 11,
   "id": "285ef54c",
   "metadata": {},
   "outputs": [],
   "source": [
    "algorithm_conversion_peak = {\n",
    "    'Christov': 'christov',\n",
    "    'Two Average': 'elgendi',\n",
    "    'NeuroKit': 'neurokit',\n",
    "    'Hamilton': 'hamilton',\n",
    "    'Pan Tompkins': 'pantompkins',\n",
    "    'Kalidas': 'kalidas',\n",
    "    'Engzee': 'engzee',\n",
    "    'Nabian': 'nabian',\n",
    "    'Basic': None,\n",
    "    'Aristotle': None,\n",
    "    'WQRS': None,\n",
    "    'UNSW': None,\n",
    "}\n",
    "\n",
    "algorithm_conversion_clean = {\n",
    "    'christov': 'christov',\n",
    "    'elgendi': 'elgendi2010',\n",
    "    'neurokit': 'neurokit',\n",
    "    'hamilton': 'hamilton2002',\n",
    "    'pantompkins': 'pantompkins1985',\n",
    "    'engzee': 'engzeemod2012',\n",
    "    'kalidas': 'kalidas',\n",
    "    'nabian': 'nabian',\n",
    "    'Basic': None,\n",
    "    'Aristotle': None,\n",
    "    'UNSW': None,\n",
    "    'WQRS': None,\n",
    "}"
   ]
  },
  {
   "cell_type": "code",
   "execution_count": 12,
   "id": "289e671d",
   "metadata": {},
   "outputs": [],
   "source": [
    "def mean_std(series):\n",
    "    return str(np.round(np.mean(series),5)) + '$\\pm$' + str(np.round(np.std(series),5))\n",
    "\n",
    "def closest_value(arr, value):\n",
    "    \"\"\"\n",
    "    Find the value in an array 'arr' that is closest to the given 'value'.\n",
    "    \"\"\"\n",
    "    return arr[np.argmin(np.abs(arr - value))]\n",
    "\n",
    "def mapped_mae(arr1, arr2, threshold_low=0, threshold_up=1000000000):\n",
    "    \"\"\"\n",
    "    Calculate the mapped Mean Absolute Error (MAE) between two arrays 'arr1' and 'arr2',\n",
    "    with optional lower and upper thresholds for error calculation.\n",
    "    \"\"\"\n",
    "    total_mae = 0\n",
    "    \n",
    "    shorter_arr = arr1 if len(arr1) < len(arr2) else arr2\n",
    "    longer_arr = arr2 if len(arr1) < len(arr2) else arr1\n",
    "    \n",
    "    for val1 in shorter_arr:\n",
    "        closest_val2 = closest_value(longer_arr, val1)\n",
    "        abs_diff = np.abs(val1 - closest_val2)\n",
    "        if threshold_low <= abs_diff <= threshold_up:\n",
    "            total_mae += abs_diff\n",
    "    \n",
    "    if len(shorter_arr) == 0:\n",
    "        return 0\n",
    "    \n",
    "    return total_mae / len(shorter_arr)\n",
    "\n",
    "def mae(arr1, arr2, threshold_low=0, threshold_up=100000000000):\n",
    "    \"\"\"\n",
    "    Calculate the Mean Absolute Error (MAE) between two arrays 'arr1' and 'arr2',\n",
    "    with optional lower and upper thresholds for error calculation.\n",
    "    \"\"\"\n",
    "    abs_diffs = np.abs(arr1 - arr2)\n",
    "    abs_diffs[(abs_diffs <= threshold_low) | (abs_diffs >= threshold_up)] = 0\n",
    "    return np.mean(abs_diffs)\n",
    "\n",
    "                "
   ]
  },
  {
   "cell_type": "code",
   "execution_count": 129,
   "id": "b457adda",
   "metadata": {},
   "outputs": [],
   "source": [
    "def evaluate_rPeaks(rPeaksDetected, rPeaksComparision):\n",
    "    true_positive = []\n",
    "    false_positive = []\n",
    "    false_negative = []\n",
    "    \n",
    "    for rPeakDetected in rPeaksDetected:\n",
    "        if rPeakDetected in rPeaksComparision:\n",
    "            true_positive.append(rPeakDetected)\n",
    "        else:\n",
    "            false_positive.append(rPeakDetected)\n",
    "            \n",
    "    for rPeak in rPeaksComparision:\n",
    "        if not rPeak in true_positive:\n",
    "            false_negative.append(rPeak)\n",
    "            \n",
    "    return {\n",
    "        'tp': true_positive,\n",
    "        'fp': false_positive,\n",
    "        'fn': false_negative\n",
    "    }\n",
    "\n",
    "    "
   ]
  },
  {
   "cell_type": "code",
   "execution_count": 70,
   "id": "d8f2554e",
   "metadata": {},
   "outputs": [],
   "source": [
    "def compare_algorithm(signal, method, result_swift, sampling_rate=512, index=None, plot=False):\n",
    "    \n",
    "    \"\"\"\n",
    "    Compare R-peak detection algorithms and visualize the results.\n",
    "\n",
    "    Parameters:\n",
    "    signal (array-like): ECG signal.\n",
    "    method (str, optional): R-peak detection method (default: 'neurokit').\n",
    "    result_swift (array-like): Detected R-peaks from Swift algorithm.\n",
    "    sampling_rate (int, optional): Sampling rate of the signal (default: 512).\n",
    "    index (int): Index of the signal.\n",
    "    plot (bool): Whether to plot the comparison.\n",
    "\n",
    "    Returns:\n",
    "    dict: Dictionary containing comparison results.\n",
    "    \"\"\"\n",
    "\n",
    "    start = time.time()\n",
    "    if method != 'nabian':\n",
    "        cleaned_signal = nk.ecg_clean(signal, sampling_rate, method=algorithm_conversion_clean[method])\n",
    "    else:\n",
    "        cleaned_signal = signal\n",
    "    end = time.time()\n",
    "    time_cleaning = (end - start)\n",
    "\n",
    "    start = time.time()\n",
    "    \n",
    "    result_nk = nk.ecg_peaks(cleaned_signal, sampling_rate, method)\n",
    "    end = time.time()\n",
    "    time_rPeak_detection = (end - start)\n",
    "    result_nk = np.where(result_nk[0]['ECG_R_Peaks'] > 0)[0]\n",
    "    \n",
    "    number_r_peaks_swift = len(result_swift)\n",
    "    number_r_peaks_neurokit = len(result_nk)\n",
    "    \n",
    "    # Plot dedicated sample for the publication\n",
    "    if (index == 118) & (method=='engzee'):\n",
    "        n_peaks = 512*4\n",
    "        signal = 10000*signal\n",
    "        plt.figure(figsize=(15, 5))\n",
    "        plt.plot(signal[0:n_peaks], c='red', label='Original Signal')\n",
    "        a = np.array(result_swift)\n",
    "        b = np.array(result_nk)\n",
    "        a = a[a <= n_peaks]\n",
    "        b = b[b <= n_peaks]\n",
    "        plt.vlines(\n",
    "            x=a, colors='blue',\n",
    "            ymin=0.0, ymax=np.max(signal),\n",
    "            label='Swift: Detected ' + str(len(a)) +  ' R-peaks with ' + method,\n",
    "        )\n",
    "        plt.vlines(\n",
    "            x=b, colors='green',\n",
    "            ymin=np.min(signal), ymax=0.0,\n",
    "            label='Python: Detected ' + str(len(b)) + ' R-peaks with ' + method,\n",
    "        )\n",
    "        plt.xlabel('Timestamp')\n",
    "        plt.ylabel('Amplitude')\n",
    "        plt.title('Comparison of R-peak Detection')\n",
    "        plt.legend()\n",
    "        plot_filename = f'./results/publication_sample_{index}_{method}.png'\n",
    "        plt.savefig(plot_filename, bbox_inches='tight', dpi=300)\n",
    "        plt.close()\n",
    "    \n",
    "    if plot & (number_r_peaks_swift !=number_r_peaks_neurokit):\n",
    "        plt.figure(figsize=(60, 5))\n",
    "        plt.plot(signal, c='red', label='Original Signal')\n",
    "        plt.vlines(\n",
    "            x=result_swift, colors='blue',\n",
    "            ymin=np.min(signal), ymax=np.max(signal),\n",
    "            label='Swift: Detected ' + str(len(result_swift)) +  ' R-peaks with ' + method,\n",
    "        )\n",
    "        plt.vlines(\n",
    "            x=result_nk, colors='green',\n",
    "            ymin=np.min(signal), ymax=np.max(signal),\n",
    "            label='Python: Detected ' + str(len(result_nk)) + ' R-peaks with ' + method,\n",
    "        )\n",
    "        plt.xlabel('Sample')\n",
    "        plt.ylabel('Amplitude')\n",
    "        plt.title('Comparison of R-peak Detection')\n",
    "        plt.legend()\n",
    "        plot_filename = f'./results/{index}_{method}.png'\n",
    "        plt.savefig(plot_filename, bbox_inches='tight', dpi=300)\n",
    "        plt.close()\n",
    "    \n",
    "    if (number_r_peaks_swift == number_r_peaks_neurokit):\n",
    "        mean_difference_t0 = mae(result_nk, result_swift)\n",
    "        mean_difference_t1 = mae(result_nk, result_swift, 1)\n",
    "        mean_difference_t5 = mae(result_nk, result_swift, 5)\n",
    "        mean_difference_t10 = mae(result_nk, result_swift, 200)\n",
    "    else:\n",
    "        mean_difference_t0 = np.nan\n",
    "        mean_difference_t1 = np.nan\n",
    "        mean_difference_t5 = np.nan\n",
    "        mean_difference_t10 = np.nan\n",
    "\n",
    "    mean_difference_mapped_t0 = mapped_mae(result_nk, result_swift)\n",
    "    mean_difference_mapped_t1 = mapped_mae(result_nk, result_swift, 1)\n",
    "    mean_difference_mapped_t5 = mapped_mae(result_nk, result_swift, 5)\n",
    "    mean_difference_mapped_t10 = mapped_mae(result_nk, result_swift, 10)\n",
    "    \n",
    "    scores = evaluate_rPeaks(result_swift, result_nk)\n",
    "    \n",
    "    result = {\n",
    "        'mean_difference_t0': mean_difference_t0,\n",
    "        'mean_difference_t1': mean_difference_t1,\n",
    "        'mean_difference_t5': mean_difference_t5,\n",
    "        'mean_difference_t10': mean_difference_t10,\n",
    "        'mean_difference_mapped_t0': mean_difference_mapped_t0,\n",
    "        'mean_difference_mapped_t1': mean_difference_mapped_t1,\n",
    "        'mean_difference_mapped_t5': mean_difference_mapped_t5,\n",
    "        'mean_difference_mapped_t10': mean_difference_mapped_t10,\n",
    "        'bpm_swift_simple': number_r_peaks_swift * 2,\n",
    "        'bpm_swift_rr': (60*sampling_rate) / np.mean(np.diff(result_swift)),\n",
    "        'number_r_peaks_swift': number_r_peaks_swift,\n",
    "        'number_r_peaks_neurokit': number_r_peaks_neurokit,\n",
    "        'runtime_m1_cleaning': time_cleaning,\n",
    "        'runtime_m1_rPeak_detection': time_rPeak_detection,\n",
    "        'tp': len(scores['tp']),\n",
    "        'fp': len(scores['fp']),\n",
    "        'fn': len(scores['fn'])\n",
    "    }\n",
    "    \n",
    "    return result"
   ]
  },
  {
   "cell_type": "code",
   "execution_count": 71,
   "id": "73864515",
   "metadata": {},
   "outputs": [],
   "source": [
    "def process_row(row, algorithm_conversion_peak, index, plot=False, non_apple_source=False):\n",
    "    signal = np.array(row['ecg.ecg'])\n",
    "    sampling_rate = row['ecg.sampling_rate']\n",
    "    \n",
    "    quality_neurokit_simple = np.nan\n",
    "    quality_peakswift_simple = np.nan\n",
    "    quality_neurokit_fuzzy = np.nan\n",
    "    quality_peakswift_fuzzy = np.nan\n",
    "    \n",
    "    for quality in row.signal_quality:\n",
    "        if quality['method'] == 'Zhao2018Simple':\n",
    "            quality_neurokit_simple = nk.ecg_quality(signal, method='zhao2018', approach='simple', sampling_rate=sampling_rate)\n",
    "            quality_peakswift_simple = quality['score']\n",
    "        elif quality['method'] == 'Zhao2018Fuzzy':\n",
    "            quality_neurokit_fuzzy = nk.ecg_quality(signal, method='zhao2018', approach='fuzzy', sampling_rate=sampling_rate)\n",
    "            quality_peakswift_fuzzy = quality['score']\n",
    "        else:\n",
    "            print('sth went wrong')\n",
    "    \n",
    "    result_rows = []\n",
    "    \n",
    "    identifier = row['device_id']\n",
    "    \n",
    "    if non_apple_source:\n",
    "        bpm_apple = None\n",
    "        device = None\n",
    "        subject = None\n",
    "        quality_apple = None\n",
    "    else:\n",
    "        bpm_apple = row['apple_meta_data.beats_per_minute']\n",
    "        device = row['apple_meta_data.hardware_version']\n",
    "        subject = row['subject']\n",
    "        quality_apple = row['apple_meta_data.apple_rating']\n",
    "        \n",
    "    for algo_info in row.algorithms:\n",
    "        algo_name = algo_info['algorithm']\n",
    "        algorithm = algorithm_conversion_peak.get(algo_name)\n",
    "        \n",
    "        if algorithm is None:\n",
    "            continue\n",
    "        \n",
    "        try:\n",
    "            comparison = compare_algorithm(signal, algorithm, algo_info['r_peaks'], sampling_rate, index, plot)\n",
    "        except Exception as error:\n",
    "            print('Exception', identifier, algorithm, error)\n",
    "            continue\n",
    "\n",
    "        metadata = {\n",
    "            'id': index,\n",
    "            'subject': subject,\n",
    "            'device': device,\n",
    "            'sampling_rate': sampling_rate,\n",
    "            'signal_quality_neurokit_simple': quality_neurokit_simple,\n",
    "            'signal_quality_neurokit_fuzzy': quality_neurokit_fuzzy,\n",
    "            'signal_quality_swift_simple': quality_peakswift_simple,\n",
    "            'signal_quality_swift_fuzzy': quality_peakswift_fuzzy,\n",
    "            'signal_rating_apple': quality_apple,\n",
    "            'algorithm': algorithm,\n",
    "            'bpm_apple': bpm_apple,\n",
    "            'runtime_swift': algo_info['runtime']['seconds'] + algo_info['runtime']['attoseconds'] / 1e+18,\n",
    "        }\n",
    "\n",
    "        result_rows.append({**metadata, **comparison})\n",
    "\n",
    "    return result_rows"
   ]
  },
  {
   "cell_type": "markdown",
   "id": "3d47499b",
   "metadata": {},
   "source": [
    "Loop through the dataframe and construct a result table by gathering benchmarking metrics."
   ]
  },
  {
   "cell_type": "code",
   "execution_count": 72,
   "id": "3a53ae38",
   "metadata": {},
   "outputs": [],
   "source": [
    "def get_results_table(df, signal_length, algorithm_conversion_peak, non_apple_source=False, plot=False, real_time_thres=0.01):\n",
    "    result_rows = []\n",
    "    for index, row in tqdm(df.iterrows(), total=df.shape[0]):\n",
    "        try:\n",
    "            result_rows.extend(process_row(row, algorithm_conversion_peak, index, plot, non_apple_source))\n",
    "        except Exception as e:\n",
    "            print('Failed for index', index, 'with error:', e)\n",
    "        \n",
    "    result_table = pd.DataFrame(result_rows)\n",
    "    result_table.index = range(len(result_table))\n",
    "    \n",
    "    result_table['bpm_difference_simple'] = np.abs(result_table['bpm_apple'] - result_table['bpm_swift_simple'])\n",
    "    result_table['bpm_difference_rr'] = np.abs(result_table['bpm_apple'] - result_table['bpm_swift_rr'])\n",
    "    result_table['peak_diff'] = np.abs(result_table['number_r_peaks_neurokit'] - result_table['number_r_peaks_swift'])\n",
    "\n",
    "    runtime_m1_total = result_table['runtime_m1_cleaning'] + result_table['runtime_m1_rPeak_detection']\n",
    "    result_table['runtime_swift'] = result_table['runtime_swift'] * 1000 # ms instead of s\n",
    "    result_table['runtime_neurokit'] = runtime_m1_total * 1000 # ms instead of s\n",
    "    result_table['runtime_difference'] = result_table['runtime_neurokit'] - result_table['runtime_swift']\n",
    "    result_table['swift_faster'] = result_table['runtime_neurokit'] / result_table['runtime_swift']\n",
    "\n",
    "    result_table['real_time_capabilities'] = result_table.runtime_swift / signal_length\n",
    "    result_table['real_time_capabilities_bool'] = result_table.real_time_capabilities < real_time_thres\n",
    "    \n",
    "    return result_table"
   ]
  },
  {
   "cell_type": "code",
   "execution_count": 73,
   "id": "41679a40",
   "metadata": {
    "scrolled": true
   },
   "outputs": [
    {
     "name": "stderr",
     "output_type": "stream",
     "text": [
      "0it [00:00, ?it/s]\n"
     ]
    },
    {
     "ename": "KeyError",
     "evalue": "'bpm_apple'",
     "output_type": "error",
     "traceback": [
      "\u001b[0;31m---------------------------------------------------------------------------\u001b[0m",
      "\u001b[0;31mKeyError\u001b[0m                                  Traceback (most recent call last)",
      "Cell \u001b[0;32mIn[73], line 1\u001b[0m\n\u001b[0;32m----> 1\u001b[0m result_table \u001b[38;5;241m=\u001b[39m \u001b[43mget_results_table\u001b[49m\u001b[43m(\u001b[49m\u001b[43mdf\u001b[49m\u001b[43m,\u001b[49m\u001b[43m \u001b[49m\u001b[38;5;241;43m30000.0\u001b[39;49m\u001b[43m,\u001b[49m\u001b[43m \u001b[49m\u001b[43malgorithm_conversion_peak\u001b[49m\u001b[43m)\u001b[49m\n",
      "Cell \u001b[0;32mIn[72], line 12\u001b[0m, in \u001b[0;36mget_results_table\u001b[0;34m(df, signal_length, algorithm_conversion_peak, non_apple_source, plot, real_time_thres)\u001b[0m\n\u001b[1;32m      9\u001b[0m result_table \u001b[38;5;241m=\u001b[39m pd\u001b[38;5;241m.\u001b[39mDataFrame(result_rows)\n\u001b[1;32m     10\u001b[0m result_table\u001b[38;5;241m.\u001b[39mindex \u001b[38;5;241m=\u001b[39m \u001b[38;5;28mrange\u001b[39m(\u001b[38;5;28mlen\u001b[39m(result_table))\n\u001b[0;32m---> 12\u001b[0m result_table[\u001b[38;5;124m'\u001b[39m\u001b[38;5;124mbpm_difference_simple\u001b[39m\u001b[38;5;124m'\u001b[39m] \u001b[38;5;241m=\u001b[39m np\u001b[38;5;241m.\u001b[39mabs(\u001b[43mresult_table\u001b[49m\u001b[43m[\u001b[49m\u001b[38;5;124;43m'\u001b[39;49m\u001b[38;5;124;43mbpm_apple\u001b[39;49m\u001b[38;5;124;43m'\u001b[39;49m\u001b[43m]\u001b[49m \u001b[38;5;241m-\u001b[39m result_table[\u001b[38;5;124m'\u001b[39m\u001b[38;5;124mbpm_swift_simple\u001b[39m\u001b[38;5;124m'\u001b[39m])\n\u001b[1;32m     13\u001b[0m result_table[\u001b[38;5;124m'\u001b[39m\u001b[38;5;124mbpm_difference_rr\u001b[39m\u001b[38;5;124m'\u001b[39m] \u001b[38;5;241m=\u001b[39m np\u001b[38;5;241m.\u001b[39mabs(result_table[\u001b[38;5;124m'\u001b[39m\u001b[38;5;124mbpm_apple\u001b[39m\u001b[38;5;124m'\u001b[39m] \u001b[38;5;241m-\u001b[39m result_table[\u001b[38;5;124m'\u001b[39m\u001b[38;5;124mbpm_swift_rr\u001b[39m\u001b[38;5;124m'\u001b[39m])\n\u001b[1;32m     14\u001b[0m result_table[\u001b[38;5;124m'\u001b[39m\u001b[38;5;124mpeak_diff\u001b[39m\u001b[38;5;124m'\u001b[39m] \u001b[38;5;241m=\u001b[39m np\u001b[38;5;241m.\u001b[39mabs(result_table[\u001b[38;5;124m'\u001b[39m\u001b[38;5;124mnumber_r_peaks_neurokit\u001b[39m\u001b[38;5;124m'\u001b[39m] \u001b[38;5;241m-\u001b[39m result_table[\u001b[38;5;124m'\u001b[39m\u001b[38;5;124mnumber_r_peaks_swift\u001b[39m\u001b[38;5;124m'\u001b[39m])\n",
      "File \u001b[0;32m~/Desktop/venvs/env/lib/python3.9/site-packages/pandas/core/frame.py:3761\u001b[0m, in \u001b[0;36mDataFrame.__getitem__\u001b[0;34m(self, key)\u001b[0m\n\u001b[1;32m   3759\u001b[0m \u001b[38;5;28;01mif\u001b[39;00m \u001b[38;5;28mself\u001b[39m\u001b[38;5;241m.\u001b[39mcolumns\u001b[38;5;241m.\u001b[39mnlevels \u001b[38;5;241m>\u001b[39m \u001b[38;5;241m1\u001b[39m:\n\u001b[1;32m   3760\u001b[0m     \u001b[38;5;28;01mreturn\u001b[39;00m \u001b[38;5;28mself\u001b[39m\u001b[38;5;241m.\u001b[39m_getitem_multilevel(key)\n\u001b[0;32m-> 3761\u001b[0m indexer \u001b[38;5;241m=\u001b[39m \u001b[38;5;28;43mself\u001b[39;49m\u001b[38;5;241;43m.\u001b[39;49m\u001b[43mcolumns\u001b[49m\u001b[38;5;241;43m.\u001b[39;49m\u001b[43mget_loc\u001b[49m\u001b[43m(\u001b[49m\u001b[43mkey\u001b[49m\u001b[43m)\u001b[49m\n\u001b[1;32m   3762\u001b[0m \u001b[38;5;28;01mif\u001b[39;00m is_integer(indexer):\n\u001b[1;32m   3763\u001b[0m     indexer \u001b[38;5;241m=\u001b[39m [indexer]\n",
      "File \u001b[0;32m~/Desktop/venvs/env/lib/python3.9/site-packages/pandas/core/indexes/range.py:349\u001b[0m, in \u001b[0;36mRangeIndex.get_loc\u001b[0;34m(self, key)\u001b[0m\n\u001b[1;32m    347\u001b[0m         \u001b[38;5;28;01mraise\u001b[39;00m \u001b[38;5;167;01mKeyError\u001b[39;00m(key) \u001b[38;5;28;01mfrom\u001b[39;00m \u001b[38;5;21;01merr\u001b[39;00m\n\u001b[1;32m    348\u001b[0m \u001b[38;5;28;01mif\u001b[39;00m \u001b[38;5;28misinstance\u001b[39m(key, Hashable):\n\u001b[0;32m--> 349\u001b[0m     \u001b[38;5;28;01mraise\u001b[39;00m \u001b[38;5;167;01mKeyError\u001b[39;00m(key)\n\u001b[1;32m    350\u001b[0m \u001b[38;5;28mself\u001b[39m\u001b[38;5;241m.\u001b[39m_check_indexing_error(key)\n\u001b[1;32m    351\u001b[0m \u001b[38;5;28;01mraise\u001b[39;00m \u001b[38;5;167;01mKeyError\u001b[39;00m(key)\n",
      "\u001b[0;31mKeyError\u001b[0m: 'bpm_apple'"
     ]
    }
   ],
   "source": [
    "result_table = get_results_table(df, 30000.0, algorithm_conversion_peak)"
   ]
  },
  {
   "cell_type": "code",
   "execution_count": null,
   "id": "f5302162",
   "metadata": {
    "scrolled": true
   },
   "outputs": [
    {
     "name": "stderr",
     "output_type": "stream",
     "text": [
      "  0%|                                         | 1/10646 [00:00<28:16,  6.28it/s]/Users/nikita/Desktop/venvs/env/lib/python3.9/site-packages/numpy/core/fromnumeric.py:3504: RuntimeWarning: Mean of empty slice.\n",
      "  return _methods._mean(a, axis=axis, dtype=dtype,\n",
      "/Users/nikita/Desktop/venvs/env/lib/python3.9/site-packages/numpy/core/_methods.py:129: RuntimeWarning: invalid value encountered in scalar divide\n",
      "  ret = ret.dtype.type(ret / rcount)\n",
      "  0%|                                        | 15/10646 [00:01<11:39, 15.19it/s]/Users/nikita/Desktop/venvs/env/lib/python3.9/site-packages/numpy/core/fromnumeric.py:3504: RuntimeWarning: Mean of empty slice.\n",
      "  return _methods._mean(a, axis=axis, dtype=dtype,\n",
      "/Users/nikita/Desktop/venvs/env/lib/python3.9/site-packages/numpy/core/_methods.py:129: RuntimeWarning: invalid value encountered in scalar divide\n",
      "  ret = ret.dtype.type(ret / rcount)\n",
      "  0%|                                        | 26/10646 [00:01<10:22, 17.05it/s]"
     ]
    },
    {
     "name": "stdout",
     "output_type": "stream",
     "text": [
      "Failed for index 22 with error: index 0 is out of bounds for axis 0 with size 0\n"
     ]
    },
    {
     "name": "stderr",
     "output_type": "stream",
     "text": [
      "/Users/nikita/Desktop/venvs/env/lib/python3.9/site-packages/numpy/core/fromnumeric.py:3504: RuntimeWarning: Mean of empty slice.\n",
      "  return _methods._mean(a, axis=axis, dtype=dtype,\n",
      "/Users/nikita/Desktop/venvs/env/lib/python3.9/site-packages/numpy/core/_methods.py:129: RuntimeWarning: invalid value encountered in scalar divide\n",
      "  ret = ret.dtype.type(ret / rcount)\n",
      "  0%|▏                                       | 36/10646 [00:02<11:13, 15.75it/s]/Users/nikita/Desktop/venvs/env/lib/python3.9/site-packages/numpy/core/fromnumeric.py:3504: RuntimeWarning: Mean of empty slice.\n",
      "  return _methods._mean(a, axis=axis, dtype=dtype,\n",
      "/Users/nikita/Desktop/venvs/env/lib/python3.9/site-packages/numpy/core/_methods.py:129: RuntimeWarning: invalid value encountered in scalar divide\n",
      "  ret = ret.dtype.type(ret / rcount)\n",
      "  1%|▏                                       | 58/10646 [00:03<11:20, 15.57it/s]/Users/nikita/Desktop/venvs/env/lib/python3.9/site-packages/numpy/core/fromnumeric.py:3504: RuntimeWarning: Mean of empty slice.\n",
      "  return _methods._mean(a, axis=axis, dtype=dtype,\n",
      "/Users/nikita/Desktop/venvs/env/lib/python3.9/site-packages/numpy/core/_methods.py:129: RuntimeWarning: invalid value encountered in scalar divide\n",
      "  ret = ret.dtype.type(ret / rcount)\n",
      "  1%|▎                                       | 68/10646 [00:04<11:28, 15.37it/s]/Users/nikita/Desktop/venvs/env/lib/python3.9/site-packages/numpy/core/fromnumeric.py:3504: RuntimeWarning: Mean of empty slice.\n",
      "  return _methods._mean(a, axis=axis, dtype=dtype,\n",
      "/Users/nikita/Desktop/venvs/env/lib/python3.9/site-packages/numpy/core/_methods.py:129: RuntimeWarning: invalid value encountered in scalar divide\n",
      "  ret = ret.dtype.type(ret / rcount)\n",
      "  1%|▎                                       | 76/10646 [00:04<11:19, 15.56it/s]/Users/nikita/Desktop/venvs/env/lib/python3.9/site-packages/numpy/core/fromnumeric.py:3504: RuntimeWarning: Mean of empty slice.\n",
      "  return _methods._mean(a, axis=axis, dtype=dtype,\n",
      "/Users/nikita/Desktop/venvs/env/lib/python3.9/site-packages/numpy/core/_methods.py:129: RuntimeWarning: invalid value encountered in scalar divide\n",
      "  ret = ret.dtype.type(ret / rcount)\n",
      "  1%|▎                                       | 93/10646 [00:05<09:53, 17.78it/s]"
     ]
    },
    {
     "name": "stdout",
     "output_type": "stream",
     "text": [
      "Failed for index 90 with error: index 0 is out of bounds for axis 0 with size 0\n"
     ]
    },
    {
     "name": "stderr",
     "output_type": "stream",
     "text": [
      "  1%|▌                                      | 155/10646 [00:10<11:26, 15.27it/s]/Users/nikita/Desktop/venvs/env/lib/python3.9/site-packages/numpy/core/fromnumeric.py:3504: RuntimeWarning: Mean of empty slice.\n",
      "  return _methods._mean(a, axis=axis, dtype=dtype,\n",
      "/Users/nikita/Desktop/venvs/env/lib/python3.9/site-packages/numpy/core/_methods.py:129: RuntimeWarning: invalid value encountered in scalar divide\n",
      "  ret = ret.dtype.type(ret / rcount)\n",
      "  2%|▋                                      | 179/10646 [00:12<11:19, 15.40it/s]/Users/nikita/Desktop/venvs/env/lib/python3.9/site-packages/numpy/core/fromnumeric.py:3504: RuntimeWarning: Mean of empty slice.\n",
      "  return _methods._mean(a, axis=axis, dtype=dtype,\n",
      "/Users/nikita/Desktop/venvs/env/lib/python3.9/site-packages/numpy/core/_methods.py:129: RuntimeWarning: invalid value encountered in scalar divide\n",
      "  ret = ret.dtype.type(ret / rcount)\n",
      "  2%|▉                                      | 242/10646 [00:16<10:08, 17.09it/s]"
     ]
    },
    {
     "name": "stdout",
     "output_type": "stream",
     "text": [
      "Failed for index 238 with error: index 0 is out of bounds for axis 0 with size 0\n"
     ]
    },
    {
     "name": "stderr",
     "output_type": "stream",
     "text": [
      "  2%|▉                                      | 252/10646 [00:16<11:02, 15.70it/s]/Users/nikita/Desktop/venvs/env/lib/python3.9/site-packages/numpy/core/fromnumeric.py:3504: RuntimeWarning: Mean of empty slice.\n",
      "  return _methods._mean(a, axis=axis, dtype=dtype,\n",
      "/Users/nikita/Desktop/venvs/env/lib/python3.9/site-packages/numpy/core/_methods.py:129: RuntimeWarning: invalid value encountered in scalar divide\n",
      "  ret = ret.dtype.type(ret / rcount)\n",
      "  2%|▉                                      | 260/10646 [00:17<11:06, 15.59it/s]"
     ]
    },
    {
     "name": "stdout",
     "output_type": "stream",
     "text": [
      "Exception FF6DFD06-685C-4F56-95E6-46ED96109F6F engzee pop from empty list\n"
     ]
    },
    {
     "name": "stderr",
     "output_type": "stream",
     "text": [
      "  3%|█                                      | 280/10646 [00:18<11:14, 15.36it/s]"
     ]
    },
    {
     "name": "stdout",
     "output_type": "stream",
     "text": [
      "Exception FF6DFD06-685C-4F56-95E6-46ED96109F6F engzee pop from empty list\n"
     ]
    },
    {
     "name": "stderr",
     "output_type": "stream",
     "text": [
      "  3%|█                                      | 286/10646 [00:18<11:11, 15.42it/s]"
     ]
    },
    {
     "name": "stdout",
     "output_type": "stream",
     "text": [
      "Exception FF6DFD06-685C-4F56-95E6-46ED96109F6F engzee pop from empty list\n"
     ]
    },
    {
     "name": "stderr",
     "output_type": "stream",
     "text": [
      "  3%|█                                      | 298/10646 [00:19<11:07, 15.50it/s]/Users/nikita/Desktop/venvs/env/lib/python3.9/site-packages/numpy/core/fromnumeric.py:3504: RuntimeWarning: Mean of empty slice.\n",
      "  return _methods._mean(a, axis=axis, dtype=dtype,\n",
      "/Users/nikita/Desktop/venvs/env/lib/python3.9/site-packages/numpy/core/_methods.py:129: RuntimeWarning: invalid value encountered in scalar divide\n",
      "  ret = ret.dtype.type(ret / rcount)\n",
      "  3%|█▏                                     | 320/10646 [00:21<11:04, 15.55it/s]"
     ]
    },
    {
     "name": "stdout",
     "output_type": "stream",
     "text": [
      "Exception FF6DFD06-685C-4F56-95E6-46ED96109F6F engzee pop from empty list\n"
     ]
    },
    {
     "name": "stderr",
     "output_type": "stream",
     "text": [
      "  3%|█▎                                     | 345/10646 [00:22<10:05, 17.00it/s]"
     ]
    },
    {
     "name": "stdout",
     "output_type": "stream",
     "text": [
      "Failed for index 341 with error: index 0 is out of bounds for axis 0 with size 0\n"
     ]
    },
    {
     "name": "stderr",
     "output_type": "stream",
     "text": [
      "  4%|█▎                                     | 373/10646 [00:24<11:06, 15.41it/s]/Users/nikita/Desktop/venvs/env/lib/python3.9/site-packages/numpy/core/fromnumeric.py:3504: RuntimeWarning: Mean of empty slice.\n",
      "  return _methods._mean(a, axis=axis, dtype=dtype,\n",
      "/Users/nikita/Desktop/venvs/env/lib/python3.9/site-packages/numpy/core/_methods.py:129: RuntimeWarning: invalid value encountered in scalar divide\n",
      "  ret = ret.dtype.type(ret / rcount)\n",
      "  4%|█▎                                     | 375/10646 [00:24<11:03, 15.49it/s]/Users/nikita/Desktop/venvs/env/lib/python3.9/site-packages/numpy/core/fromnumeric.py:3504: RuntimeWarning: Mean of empty slice.\n",
      "  return _methods._mean(a, axis=axis, dtype=dtype,\n",
      "/Users/nikita/Desktop/venvs/env/lib/python3.9/site-packages/numpy/core/_methods.py:129: RuntimeWarning: invalid value encountered in scalar divide\n",
      "  ret = ret.dtype.type(ret / rcount)\n",
      "  4%|█▍                                     | 389/10646 [00:25<11:04, 15.43it/s]/Users/nikita/Desktop/venvs/env/lib/python3.9/site-packages/numpy/core/fromnumeric.py:3504: RuntimeWarning: Mean of empty slice.\n",
      "  return _methods._mean(a, axis=axis, dtype=dtype,\n",
      "/Users/nikita/Desktop/venvs/env/lib/python3.9/site-packages/numpy/core/_methods.py:129: RuntimeWarning: invalid value encountered in scalar divide\n",
      "  ret = ret.dtype.type(ret / rcount)\n",
      "  4%|█▍                                     | 395/10646 [00:25<11:06, 15.37it/s]/Users/nikita/Desktop/venvs/env/lib/python3.9/site-packages/numpy/core/fromnumeric.py:3504: RuntimeWarning: Mean of empty slice.\n",
      "  return _methods._mean(a, axis=axis, dtype=dtype,\n",
      "/Users/nikita/Desktop/venvs/env/lib/python3.9/site-packages/numpy/core/_methods.py:129: RuntimeWarning: invalid value encountered in scalar divide\n",
      "  ret = ret.dtype.type(ret / rcount)\n",
      "  4%|█▋                                     | 444/10646 [00:29<09:57, 17.09it/s]"
     ]
    },
    {
     "name": "stdout",
     "output_type": "stream",
     "text": [
      "Failed for index 440 with error: index 0 is out of bounds for axis 0 with size 0\n"
     ]
    },
    {
     "name": "stderr",
     "output_type": "stream",
     "text": [
      "  4%|█▋                                     | 448/10646 [00:29<10:32, 16.12it/s]/Users/nikita/Desktop/venvs/env/lib/python3.9/site-packages/numpy/core/fromnumeric.py:3504: RuntimeWarning: Mean of empty slice.\n",
      "  return _methods._mean(a, axis=axis, dtype=dtype,\n",
      "/Users/nikita/Desktop/venvs/env/lib/python3.9/site-packages/numpy/core/_methods.py:129: RuntimeWarning: invalid value encountered in scalar divide\n",
      "  ret = ret.dtype.type(ret / rcount)\n",
      "  4%|█▋                                     | 460/10646 [00:30<10:55, 15.55it/s]/Users/nikita/Desktop/venvs/env/lib/python3.9/site-packages/numpy/core/fromnumeric.py:3504: RuntimeWarning: Mean of empty slice.\n",
      "  return _methods._mean(a, axis=axis, dtype=dtype,\n",
      "/Users/nikita/Desktop/venvs/env/lib/python3.9/site-packages/numpy/core/_methods.py:129: RuntimeWarning: invalid value encountered in scalar divide\n",
      "  ret = ret.dtype.type(ret / rcount)\n",
      "  4%|█▋                                     | 462/10646 [00:30<11:01, 15.41it/s]"
     ]
    },
    {
     "name": "stdout",
     "output_type": "stream",
     "text": [
      "Exception FF6DFD06-685C-4F56-95E6-46ED96109F6F engzee pop from empty list\n"
     ]
    },
    {
     "name": "stderr",
     "output_type": "stream",
     "text": [
      "  4%|█▋                                     | 470/10646 [00:30<10:57, 15.48it/s]/Users/nikita/Desktop/venvs/env/lib/python3.9/site-packages/numpy/core/fromnumeric.py:3504: RuntimeWarning: Mean of empty slice.\n",
      "  return _methods._mean(a, axis=axis, dtype=dtype,\n",
      "/Users/nikita/Desktop/venvs/env/lib/python3.9/site-packages/numpy/core/_methods.py:129: RuntimeWarning: invalid value encountered in scalar divide\n",
      "  ret = ret.dtype.type(ret / rcount)\n",
      "  5%|█▊                                     | 484/10646 [00:31<10:53, 15.56it/s]/Users/nikita/Desktop/venvs/env/lib/python3.9/site-packages/numpy/core/fromnumeric.py:3504: RuntimeWarning: Mean of empty slice.\n",
      "  return _methods._mean(a, axis=axis, dtype=dtype,\n",
      "/Users/nikita/Desktop/venvs/env/lib/python3.9/site-packages/numpy/core/_methods.py:129: RuntimeWarning: invalid value encountered in scalar divide\n",
      "  ret = ret.dtype.type(ret / rcount)\n",
      "  5%|█▊                                     | 502/10646 [00:32<10:57, 15.43it/s]/Users/nikita/Desktop/venvs/env/lib/python3.9/site-packages/numpy/core/fromnumeric.py:3504: RuntimeWarning: Mean of empty slice.\n",
      "  return _methods._mean(a, axis=axis, dtype=dtype,\n",
      "/Users/nikita/Desktop/venvs/env/lib/python3.9/site-packages/numpy/core/_methods.py:129: RuntimeWarning: invalid value encountered in scalar divide\n",
      "  ret = ret.dtype.type(ret / rcount)\n",
      "  5%|█▊                                     | 506/10646 [00:33<10:59, 15.38it/s]/Users/nikita/Desktop/venvs/env/lib/python3.9/site-packages/numpy/core/fromnumeric.py:3504: RuntimeWarning: Mean of empty slice.\n",
      "  return _methods._mean(a, axis=axis, dtype=dtype,\n",
      "/Users/nikita/Desktop/venvs/env/lib/python3.9/site-packages/numpy/core/_methods.py:129: RuntimeWarning: invalid value encountered in scalar divide\n",
      "  ret = ret.dtype.type(ret / rcount)\n",
      "  5%|█▉                                     | 544/10646 [00:35<10:52, 15.48it/s]/Users/nikita/Desktop/venvs/env/lib/python3.9/site-packages/numpy/core/fromnumeric.py:3504: RuntimeWarning: Mean of empty slice.\n",
      "  return _methods._mean(a, axis=axis, dtype=dtype,\n",
      "/Users/nikita/Desktop/venvs/env/lib/python3.9/site-packages/numpy/core/_methods.py:129: RuntimeWarning: invalid value encountered in scalar divide\n",
      "  ret = ret.dtype.type(ret / rcount)\n",
      "  5%|██                                     | 556/10646 [00:36<11:08, 15.10it/s]"
     ]
    },
    {
     "name": "stdout",
     "output_type": "stream",
     "text": [
      "Exception FF6DFD06-685C-4F56-95E6-46ED96109F6F engzee pop from empty list\n"
     ]
    },
    {
     "name": "stderr",
     "output_type": "stream",
     "text": [
      "  5%|██                                     | 565/10646 [00:36<09:55, 16.93it/s]"
     ]
    },
    {
     "name": "stdout",
     "output_type": "stream",
     "text": [
      "Failed for index 561 with error: index 0 is out of bounds for axis 0 with size 0\n"
     ]
    },
    {
     "name": "stderr",
     "output_type": "stream",
     "text": [
      "/Users/nikita/Desktop/venvs/env/lib/python3.9/site-packages/numpy/core/fromnumeric.py:3504: RuntimeWarning: Mean of empty slice.\n",
      "  return _methods._mean(a, axis=axis, dtype=dtype,\n",
      "/Users/nikita/Desktop/venvs/env/lib/python3.9/site-packages/numpy/core/_methods.py:129: RuntimeWarning: invalid value encountered in scalar divide\n",
      "  ret = ret.dtype.type(ret / rcount)\n",
      "  6%|██▏                                    | 609/10646 [00:39<10:48, 15.47it/s]/Users/nikita/Desktop/venvs/env/lib/python3.9/site-packages/numpy/core/fromnumeric.py:3504: RuntimeWarning: Mean of empty slice.\n",
      "  return _methods._mean(a, axis=axis, dtype=dtype,\n",
      "/Users/nikita/Desktop/venvs/env/lib/python3.9/site-packages/numpy/core/_methods.py:129: RuntimeWarning: invalid value encountered in scalar divide\n",
      "  ret = ret.dtype.type(ret / rcount)\n",
      "  6%|██▏                                    | 611/10646 [00:39<10:50, 15.42it/s]/Users/nikita/Desktop/venvs/env/lib/python3.9/site-packages/numpy/core/fromnumeric.py:3504: RuntimeWarning: Mean of empty slice.\n",
      "  return _methods._mean(a, axis=axis, dtype=dtype,\n",
      "/Users/nikita/Desktop/venvs/env/lib/python3.9/site-packages/numpy/core/_methods.py:129: RuntimeWarning: invalid value encountered in scalar divide\n",
      "  ret = ret.dtype.type(ret / rcount)\n",
      "  6%|██▎                                    | 619/10646 [00:40<10:45, 15.53it/s]/Users/nikita/Desktop/venvs/env/lib/python3.9/site-packages/numpy/core/fromnumeric.py:3504: RuntimeWarning: Mean of empty slice.\n",
      "  return _methods._mean(a, axis=axis, dtype=dtype,\n",
      "/Users/nikita/Desktop/venvs/env/lib/python3.9/site-packages/numpy/core/_methods.py:129: RuntimeWarning: invalid value encountered in scalar divide\n",
      "  ret = ret.dtype.type(ret / rcount)\n",
      "  6%|██▎                                    | 629/10646 [00:41<10:52, 15.35it/s]/Users/nikita/Desktop/venvs/env/lib/python3.9/site-packages/numpy/core/fromnumeric.py:3504: RuntimeWarning: Mean of empty slice.\n",
      "  return _methods._mean(a, axis=axis, dtype=dtype,\n",
      "/Users/nikita/Desktop/venvs/env/lib/python3.9/site-packages/numpy/core/_methods.py:129: RuntimeWarning: invalid value encountered in scalar divide\n",
      "  ret = ret.dtype.type(ret / rcount)\n",
      "  7%|██▌                                    | 694/10646 [00:45<10:04, 16.47it/s]"
     ]
    },
    {
     "name": "stdout",
     "output_type": "stream",
     "text": [
      "Failed for index 691 with error: index 0 is out of bounds for axis 0 with size 0\n"
     ]
    },
    {
     "name": "stderr",
     "output_type": "stream",
     "text": [
      "  7%|██▊                                    | 752/10646 [00:49<11:17, 14.61it/s]"
     ]
    },
    {
     "name": "stdout",
     "output_type": "stream",
     "text": [
      "Exception FF6DFD06-685C-4F56-95E6-46ED96109F6F engzee pop from empty list\n"
     ]
    },
    {
     "name": "stderr",
     "output_type": "stream",
     "text": [
      "  7%|██▉                                    | 796/10646 [00:52<10:50, 15.14it/s]/Users/nikita/Desktop/venvs/env/lib/python3.9/site-packages/numpy/core/fromnumeric.py:3504: RuntimeWarning: Mean of empty slice.\n",
      "  return _methods._mean(a, axis=axis, dtype=dtype,\n",
      "/Users/nikita/Desktop/venvs/env/lib/python3.9/site-packages/numpy/core/_methods.py:129: RuntimeWarning: invalid value encountered in scalar divide\n",
      "  ret = ret.dtype.type(ret / rcount)\n",
      "  8%|███                                    | 822/10646 [00:53<10:43, 15.27it/s]/Users/nikita/Desktop/venvs/env/lib/python3.9/site-packages/numpy/core/fromnumeric.py:3504: RuntimeWarning: Mean of empty slice.\n",
      "  return _methods._mean(a, axis=axis, dtype=dtype,\n",
      "/Users/nikita/Desktop/venvs/env/lib/python3.9/site-packages/numpy/core/_methods.py:129: RuntimeWarning: invalid value encountered in scalar divide\n",
      "  ret = ret.dtype.type(ret / rcount)\n",
      "  8%|███▏                                   | 862/10646 [00:56<10:51, 15.02it/s]/Users/nikita/Desktop/venvs/env/lib/python3.9/site-packages/numpy/core/fromnumeric.py:3504: RuntimeWarning: Mean of empty slice.\n",
      "  return _methods._mean(a, axis=axis, dtype=dtype,\n",
      "/Users/nikita/Desktop/venvs/env/lib/python3.9/site-packages/numpy/core/_methods.py:129: RuntimeWarning: invalid value encountered in scalar divide\n",
      "  ret = ret.dtype.type(ret / rcount)\n",
      "  8%|███▏                                   | 880/10646 [00:57<10:42, 15.21it/s]"
     ]
    },
    {
     "name": "stdout",
     "output_type": "stream",
     "text": [
      "Exception FF6DFD06-685C-4F56-95E6-46ED96109F6F engzee pop from empty list\n"
     ]
    },
    {
     "name": "stderr",
     "output_type": "stream",
     "text": [
      "  8%|███▏                                   | 886/10646 [00:58<10:40, 15.25it/s]/Users/nikita/Desktop/venvs/env/lib/python3.9/site-packages/numpy/core/fromnumeric.py:3504: RuntimeWarning: Mean of empty slice.\n",
      "  return _methods._mean(a, axis=axis, dtype=dtype,\n",
      "/Users/nikita/Desktop/venvs/env/lib/python3.9/site-packages/numpy/core/_methods.py:129: RuntimeWarning: invalid value encountered in scalar divide\n",
      "  ret = ret.dtype.type(ret / rcount)\n",
      "  8%|███▎                                   | 894/10646 [00:58<10:35, 15.34it/s]"
     ]
    },
    {
     "name": "stdout",
     "output_type": "stream",
     "text": [
      "Exception FF6DFD06-685C-4F56-95E6-46ED96109F6F engzee pop from empty list\n"
     ]
    },
    {
     "name": "stderr",
     "output_type": "stream",
     "text": [
      "  8%|███▎                                   | 900/10646 [00:59<10:38, 15.26it/s]/Users/nikita/Desktop/venvs/env/lib/python3.9/site-packages/numpy/core/fromnumeric.py:3504: RuntimeWarning: Mean of empty slice.\n",
      "  return _methods._mean(a, axis=axis, dtype=dtype,\n",
      "/Users/nikita/Desktop/venvs/env/lib/python3.9/site-packages/numpy/core/_methods.py:129: RuntimeWarning: invalid value encountered in scalar divide\n",
      "  ret = ret.dtype.type(ret / rcount)\n",
      "  9%|███▍                                   | 939/10646 [01:01<09:13, 17.55it/s]"
     ]
    },
    {
     "name": "stdout",
     "output_type": "stream",
     "text": [
      "Failed for index 937 with error: index 0 is out of bounds for axis 0 with size 0\n"
     ]
    },
    {
     "name": "stderr",
     "output_type": "stream",
     "text": [
      "  9%|███▍                                   | 954/10646 [01:02<09:06, 17.73it/s]"
     ]
    },
    {
     "name": "stdout",
     "output_type": "stream",
     "text": [
      "Failed for index 951 with error: index 0 is out of bounds for axis 0 with size 0\n"
     ]
    },
    {
     "name": "stderr",
     "output_type": "stream",
     "text": [
      "  9%|███▌                                   | 968/10646 [01:03<11:32, 13.97it/s]/Users/nikita/Desktop/venvs/env/lib/python3.9/site-packages/numpy/core/fromnumeric.py:3504: RuntimeWarning: Mean of empty slice.\n",
      "  return _methods._mean(a, axis=axis, dtype=dtype,\n",
      "/Users/nikita/Desktop/venvs/env/lib/python3.9/site-packages/numpy/core/_methods.py:129: RuntimeWarning: invalid value encountered in scalar divide\n",
      "  ret = ret.dtype.type(ret / rcount)\n"
     ]
    },
    {
     "name": "stdout",
     "output_type": "stream",
     "text": [
      "Exception FF6DFD06-685C-4F56-95E6-46ED96109F6F engzee pop from empty list\n",
      "Exception FF6DFD06-685C-4F56-95E6-46ED96109F6F engzee pop from empty list\n"
     ]
    },
    {
     "name": "stderr",
     "output_type": "stream",
     "text": [
      "  9%|███▌                                   | 970/10646 [01:03<11:16, 14.29it/s]/Users/nikita/Desktop/venvs/env/lib/python3.9/site-packages/numpy/core/fromnumeric.py:3504: RuntimeWarning: Mean of empty slice.\n",
      "  return _methods._mean(a, axis=axis, dtype=dtype,\n",
      "/Users/nikita/Desktop/venvs/env/lib/python3.9/site-packages/numpy/core/_methods.py:129: RuntimeWarning: invalid value encountered in scalar divide\n",
      "  ret = ret.dtype.type(ret / rcount)\n",
      "  9%|███▌                                   | 972/10646 [01:03<12:33, 12.84it/s]/Users/nikita/Desktop/venvs/env/lib/python3.9/site-packages/numpy/core/fromnumeric.py:3504: RuntimeWarning: Mean of empty slice.\n",
      "  return _methods._mean(a, axis=axis, dtype=dtype,\n",
      "/Users/nikita/Desktop/venvs/env/lib/python3.9/site-packages/numpy/core/_methods.py:129: RuntimeWarning: invalid value encountered in scalar divide\n",
      "  ret = ret.dtype.type(ret / rcount)\n",
      "  9%|███▌                                   | 974/10646 [01:03<12:15, 13.15it/s]/Users/nikita/Desktop/venvs/env/lib/python3.9/site-packages/numpy/core/fromnumeric.py:3504: RuntimeWarning: Mean of empty slice.\n",
      "  return _methods._mean(a, axis=axis, dtype=dtype,\n",
      "/Users/nikita/Desktop/venvs/env/lib/python3.9/site-packages/numpy/core/_methods.py:129: RuntimeWarning: invalid value encountered in scalar divide\n",
      "  ret = ret.dtype.type(ret / rcount)\n",
      " 10%|███▋                                  | 1016/10646 [01:06<10:27, 15.34it/s]/Users/nikita/Desktop/venvs/env/lib/python3.9/site-packages/numpy/core/fromnumeric.py:3504: RuntimeWarning: Mean of empty slice.\n",
      "  return _methods._mean(a, axis=axis, dtype=dtype,\n",
      "/Users/nikita/Desktop/venvs/env/lib/python3.9/site-packages/numpy/core/_methods.py:129: RuntimeWarning: invalid value encountered in scalar divide\n",
      "  ret = ret.dtype.type(ret / rcount)\n",
      "/Users/nikita/Desktop/venvs/env/lib/python3.9/site-packages/numpy/core/fromnumeric.py:3504: RuntimeWarning: Mean of empty slice.\n",
      "  return _methods._mean(a, axis=axis, dtype=dtype,\n",
      "/Users/nikita/Desktop/venvs/env/lib/python3.9/site-packages/numpy/core/_methods.py:129: RuntimeWarning: invalid value encountered in scalar divide\n",
      "  ret = ret.dtype.type(ret / rcount)\n",
      " 10%|███▋                                  | 1020/10646 [01:06<10:25, 15.40it/s]"
     ]
    },
    {
     "name": "stdout",
     "output_type": "stream",
     "text": [
      "Exception FF6DFD06-685C-4F56-95E6-46ED96109F6F engzee pop from empty list\n"
     ]
    },
    {
     "name": "stderr",
     "output_type": "stream",
     "text": [
      " 10%|███▋                                  | 1031/10646 [01:07<09:00, 17.78it/s]/Users/nikita/Desktop/venvs/env/lib/python3.9/site-packages/numpy/core/fromnumeric.py:3504: RuntimeWarning: Mean of empty slice.\n",
      "  return _methods._mean(a, axis=axis, dtype=dtype,\n",
      "/Users/nikita/Desktop/venvs/env/lib/python3.9/site-packages/numpy/core/_methods.py:129: RuntimeWarning: invalid value encountered in scalar divide\n",
      "  ret = ret.dtype.type(ret / rcount)\n"
     ]
    },
    {
     "name": "stdout",
     "output_type": "stream",
     "text": [
      "Failed for index 1028 with error: index 0 is out of bounds for axis 0 with size 0\n"
     ]
    },
    {
     "name": "stderr",
     "output_type": "stream",
     "text": [
      " 10%|███▋                                  | 1041/10646 [01:08<10:11, 15.71it/s]"
     ]
    },
    {
     "name": "stdout",
     "output_type": "stream",
     "text": [
      "Exception FF6DFD06-685C-4F56-95E6-46ED96109F6F engzee pop from empty list\n"
     ]
    },
    {
     "name": "stderr",
     "output_type": "stream",
     "text": [
      " 10%|███▊                                  | 1057/10646 [01:09<10:26, 15.32it/s]/Users/nikita/Desktop/venvs/env/lib/python3.9/site-packages/numpy/core/fromnumeric.py:3504: RuntimeWarning: Mean of empty slice.\n",
      "  return _methods._mean(a, axis=axis, dtype=dtype,\n",
      "/Users/nikita/Desktop/venvs/env/lib/python3.9/site-packages/numpy/core/_methods.py:129: RuntimeWarning: invalid value encountered in scalar divide\n",
      "  ret = ret.dtype.type(ret / rcount)\n",
      " 10%|███▊                                  | 1059/10646 [01:09<10:26, 15.30it/s]/Users/nikita/Desktop/venvs/env/lib/python3.9/site-packages/numpy/core/fromnumeric.py:3504: RuntimeWarning: Mean of empty slice.\n",
      "  return _methods._mean(a, axis=axis, dtype=dtype,\n",
      "/Users/nikita/Desktop/venvs/env/lib/python3.9/site-packages/numpy/core/_methods.py:129: RuntimeWarning: invalid value encountered in scalar divide\n",
      "  ret = ret.dtype.type(ret / rcount)\n",
      " 10%|███▊                                  | 1077/10646 [01:10<10:19, 15.45it/s]/Users/nikita/Desktop/venvs/env/lib/python3.9/site-packages/numpy/core/fromnumeric.py:3504: RuntimeWarning: Mean of empty slice.\n",
      "  return _methods._mean(a, axis=axis, dtype=dtype,\n",
      "/Users/nikita/Desktop/venvs/env/lib/python3.9/site-packages/numpy/core/_methods.py:129: RuntimeWarning: invalid value encountered in scalar divide\n",
      "  ret = ret.dtype.type(ret / rcount)\n",
      " 10%|███▊                                  | 1085/10646 [01:11<10:28, 15.22it/s]/Users/nikita/Desktop/venvs/env/lib/python3.9/site-packages/numpy/core/fromnumeric.py:3504: RuntimeWarning: Mean of empty slice.\n",
      "  return _methods._mean(a, axis=axis, dtype=dtype,\n",
      "/Users/nikita/Desktop/venvs/env/lib/python3.9/site-packages/numpy/core/_methods.py:129: RuntimeWarning: invalid value encountered in scalar divide\n",
      "  ret = ret.dtype.type(ret / rcount)\n",
      " 10%|███▉                                  | 1102/10646 [01:12<09:01, 17.64it/s]"
     ]
    },
    {
     "name": "stdout",
     "output_type": "stream",
     "text": [
      "Exception FF6DFD06-685C-4F56-95E6-46ED96109F6F engzee pop from empty list\n",
      "Failed for index 1099 with error: index 0 is out of bounds for axis 0 with size 0\n"
     ]
    },
    {
     "name": "stderr",
     "output_type": "stream",
     "text": [
      "/Users/nikita/Desktop/venvs/env/lib/python3.9/site-packages/numpy/core/fromnumeric.py:3504: RuntimeWarning: Mean of empty slice.\n",
      "  return _methods._mean(a, axis=axis, dtype=dtype,\n",
      "/Users/nikita/Desktop/venvs/env/lib/python3.9/site-packages/numpy/core/_methods.py:129: RuntimeWarning: invalid value encountered in scalar divide\n",
      "  ret = ret.dtype.type(ret / rcount)\n",
      " 11%|████                                  | 1124/10646 [01:13<10:20, 15.34it/s]/Users/nikita/Desktop/venvs/env/lib/python3.9/site-packages/numpy/core/fromnumeric.py:3504: RuntimeWarning: Mean of empty slice.\n",
      "  return _methods._mean(a, axis=axis, dtype=dtype,\n",
      "/Users/nikita/Desktop/venvs/env/lib/python3.9/site-packages/numpy/core/_methods.py:129: RuntimeWarning: invalid value encountered in scalar divide\n",
      "  ret = ret.dtype.type(ret / rcount)\n",
      " 11%|████                                  | 1142/10646 [01:14<10:17, 15.39it/s]"
     ]
    },
    {
     "name": "stdout",
     "output_type": "stream",
     "text": [
      "Exception FF6DFD06-685C-4F56-95E6-46ED96109F6F engzee pop from empty list\n"
     ]
    },
    {
     "name": "stderr",
     "output_type": "stream",
     "text": [
      " 11%|████▏                                 | 1168/10646 [01:16<10:18, 15.34it/s]"
     ]
    },
    {
     "name": "stdout",
     "output_type": "stream",
     "text": [
      "Exception FF6DFD06-685C-4F56-95E6-46ED96109F6F engzee pop from empty list\n"
     ]
    },
    {
     "name": "stderr",
     "output_type": "stream",
     "text": [
      " 11%|████▏                                 | 1179/10646 [01:17<09:17, 16.97it/s]"
     ]
    },
    {
     "name": "stdout",
     "output_type": "stream",
     "text": [
      "Failed for index 1175 with error: index 0 is out of bounds for axis 0 with size 0\n"
     ]
    },
    {
     "name": "stderr",
     "output_type": "stream",
     "text": [
      " 11%|████▏                                 | 1181/10646 [01:17<09:32, 16.54it/s]/Users/nikita/Desktop/venvs/env/lib/python3.9/site-packages/numpy/core/fromnumeric.py:3504: RuntimeWarning: Mean of empty slice.\n",
      "  return _methods._mean(a, axis=axis, dtype=dtype,\n",
      "/Users/nikita/Desktop/venvs/env/lib/python3.9/site-packages/numpy/core/_methods.py:129: RuntimeWarning: invalid value encountered in scalar divide\n",
      "  ret = ret.dtype.type(ret / rcount)\n",
      " 11%|████▏                                 | 1189/10646 [01:17<10:04, 15.65it/s]/Users/nikita/Desktop/venvs/env/lib/python3.9/site-packages/numpy/core/fromnumeric.py:3504: RuntimeWarning: Mean of empty slice.\n",
      "  return _methods._mean(a, axis=axis, dtype=dtype,\n",
      "/Users/nikita/Desktop/venvs/env/lib/python3.9/site-packages/numpy/core/_methods.py:129: RuntimeWarning: invalid value encountered in scalar divide\n",
      "  ret = ret.dtype.type(ret / rcount)\n",
      " 11%|████▎                                 | 1199/10646 [01:18<10:14, 15.38it/s]/Users/nikita/Desktop/venvs/env/lib/python3.9/site-packages/numpy/core/fromnumeric.py:3504: RuntimeWarning: Mean of empty slice.\n",
      "  return _methods._mean(a, axis=axis, dtype=dtype,\n",
      "/Users/nikita/Desktop/venvs/env/lib/python3.9/site-packages/numpy/core/_methods.py:129: RuntimeWarning: invalid value encountered in scalar divide\n",
      "  ret = ret.dtype.type(ret / rcount)\n",
      " 11%|████▎                                 | 1216/10646 [01:19<08:55, 17.62it/s]"
     ]
    },
    {
     "name": "stdout",
     "output_type": "stream",
     "text": [
      "Failed for index 1213 with error: index 0 is out of bounds for axis 0 with size 0\n"
     ]
    },
    {
     "name": "stderr",
     "output_type": "stream",
     "text": [
      " 12%|████▍                                 | 1250/10646 [01:21<10:10, 15.39it/s]"
     ]
    },
    {
     "name": "stdout",
     "output_type": "stream",
     "text": [
      "Exception FF6DFD06-685C-4F56-95E6-46ED96109F6F engzee pop from empty list\n"
     ]
    },
    {
     "name": "stderr",
     "output_type": "stream",
     "text": [
      " 12%|████▍                                 | 1258/10646 [01:22<10:22, 15.08it/s]/Users/nikita/Desktop/venvs/env/lib/python3.9/site-packages/numpy/core/fromnumeric.py:3504: RuntimeWarning: Mean of empty slice.\n",
      "  return _methods._mean(a, axis=axis, dtype=dtype,\n",
      "/Users/nikita/Desktop/venvs/env/lib/python3.9/site-packages/numpy/core/_methods.py:129: RuntimeWarning: invalid value encountered in scalar divide\n",
      "  ret = ret.dtype.type(ret / rcount)\n"
     ]
    },
    {
     "name": "stdout",
     "output_type": "stream",
     "text": [
      "Exception FF6DFD06-685C-4F56-95E6-46ED96109F6F engzee pop from empty list\n"
     ]
    },
    {
     "name": "stderr",
     "output_type": "stream",
     "text": [
      "/Users/nikita/Desktop/venvs/env/lib/python3.9/site-packages/numpy/core/fromnumeric.py:3504: RuntimeWarning: Mean of empty slice.\n",
      "  return _methods._mean(a, axis=axis, dtype=dtype,\n",
      "/Users/nikita/Desktop/venvs/env/lib/python3.9/site-packages/numpy/core/_methods.py:129: RuntimeWarning: invalid value encountered in scalar divide\n",
      "  ret = ret.dtype.type(ret / rcount)\n",
      " 12%|████▍                                 | 1260/10646 [01:22<10:25, 15.00it/s]/Users/nikita/Desktop/venvs/env/lib/python3.9/site-packages/numpy/core/fromnumeric.py:3504: RuntimeWarning: Mean of empty slice.\n",
      "  return _methods._mean(a, axis=axis, dtype=dtype,\n",
      "/Users/nikita/Desktop/venvs/env/lib/python3.9/site-packages/numpy/core/_methods.py:129: RuntimeWarning: invalid value encountered in scalar divide\n",
      "  ret = ret.dtype.type(ret / rcount)\n",
      " 12%|████▌                                 | 1276/10646 [01:23<10:10, 15.34it/s]"
     ]
    },
    {
     "name": "stdout",
     "output_type": "stream",
     "text": [
      "Exception FF6DFD06-685C-4F56-95E6-46ED96109F6F engzee pop from empty list\n"
     ]
    },
    {
     "name": "stderr",
     "output_type": "stream",
     "text": [
      " 12%|████▌                                 | 1292/10646 [01:24<10:07, 15.40it/s]"
     ]
    },
    {
     "name": "stdout",
     "output_type": "stream",
     "text": [
      "Exception FF6DFD06-685C-4F56-95E6-46ED96109F6F engzee pop from empty list\n"
     ]
    },
    {
     "name": "stderr",
     "output_type": "stream",
     "text": [
      " 12%|████▋                                 | 1310/10646 [01:25<10:00, 15.56it/s]/Users/nikita/Desktop/venvs/env/lib/python3.9/site-packages/numpy/core/fromnumeric.py:3504: RuntimeWarning: Mean of empty slice.\n",
      "  return _methods._mean(a, axis=axis, dtype=dtype,\n",
      "/Users/nikita/Desktop/venvs/env/lib/python3.9/site-packages/numpy/core/_methods.py:129: RuntimeWarning: invalid value encountered in scalar divide\n",
      "  ret = ret.dtype.type(ret / rcount)\n",
      " 13%|████▊                                 | 1346/10646 [01:27<10:02, 15.44it/s]"
     ]
    },
    {
     "name": "stdout",
     "output_type": "stream",
     "text": [
      "Exception FF6DFD06-685C-4F56-95E6-46ED96109F6F engzee pop from empty list\n"
     ]
    },
    {
     "name": "stderr",
     "output_type": "stream",
     "text": [
      " 13%|█████                                 | 1418/10646 [01:32<10:01, 15.35it/s]/Users/nikita/Desktop/venvs/env/lib/python3.9/site-packages/numpy/core/fromnumeric.py:3504: RuntimeWarning: Mean of empty slice.\n",
      "  return _methods._mean(a, axis=axis, dtype=dtype,\n",
      "/Users/nikita/Desktop/venvs/env/lib/python3.9/site-packages/numpy/core/_methods.py:129: RuntimeWarning: invalid value encountered in scalar divide\n",
      "  ret = ret.dtype.type(ret / rcount)\n",
      " 13%|█████                                 | 1420/10646 [01:32<10:01, 15.35it/s]/Users/nikita/Desktop/venvs/env/lib/python3.9/site-packages/numpy/core/fromnumeric.py:3504: RuntimeWarning: Mean of empty slice.\n",
      "  return _methods._mean(a, axis=axis, dtype=dtype,\n",
      "/Users/nikita/Desktop/venvs/env/lib/python3.9/site-packages/numpy/core/_methods.py:129: RuntimeWarning: invalid value encountered in scalar divide\n",
      "  ret = ret.dtype.type(ret / rcount)\n",
      " 13%|█████                                 | 1430/10646 [01:33<10:04, 15.26it/s]/Users/nikita/Desktop/venvs/env/lib/python3.9/site-packages/numpy/core/fromnumeric.py:3504: RuntimeWarning: Mean of empty slice.\n",
      "  return _methods._mean(a, axis=axis, dtype=dtype,\n",
      "/Users/nikita/Desktop/venvs/env/lib/python3.9/site-packages/numpy/core/_methods.py:129: RuntimeWarning: invalid value encountered in scalar divide\n",
      "  ret = ret.dtype.type(ret / rcount)\n",
      " 14%|█████▏                                | 1446/10646 [01:34<09:58, 15.36it/s]/Users/nikita/Desktop/venvs/env/lib/python3.9/site-packages/numpy/core/fromnumeric.py:3504: RuntimeWarning: Mean of empty slice.\n",
      "  return _methods._mean(a, axis=axis, dtype=dtype,\n",
      "/Users/nikita/Desktop/venvs/env/lib/python3.9/site-packages/numpy/core/_methods.py:129: RuntimeWarning: invalid value encountered in scalar divide\n",
      "  ret = ret.dtype.type(ret / rcount)\n",
      " 14%|█████▏                                | 1460/10646 [01:35<09:56, 15.39it/s]"
     ]
    },
    {
     "name": "stdout",
     "output_type": "stream",
     "text": [
      "Exception FF6DFD06-685C-4F56-95E6-46ED96109F6F engzee pop from empty list\n"
     ]
    },
    {
     "name": "stderr",
     "output_type": "stream",
     "text": [
      "/Users/nikita/Desktop/venvs/env/lib/python3.9/site-packages/numpy/core/fromnumeric.py:3504: RuntimeWarning: Mean of empty slice.\n",
      "  return _methods._mean(a, axis=axis, dtype=dtype,\n",
      "/Users/nikita/Desktop/venvs/env/lib/python3.9/site-packages/numpy/core/_methods.py:129: RuntimeWarning: invalid value encountered in scalar divide\n",
      "  ret = ret.dtype.type(ret / rcount)\n",
      " 14%|█████▎                                | 1478/10646 [01:36<09:57, 15.34it/s]"
     ]
    },
    {
     "name": "stdout",
     "output_type": "stream",
     "text": [
      "Exception FF6DFD06-685C-4F56-95E6-46ED96109F6F engzee pop from empty list\n"
     ]
    },
    {
     "name": "stderr",
     "output_type": "stream",
     "text": [
      " 14%|█████▎                                | 1484/10646 [01:36<09:57, 15.34it/s]/Users/nikita/Desktop/venvs/env/lib/python3.9/site-packages/numpy/core/fromnumeric.py:3504: RuntimeWarning: Mean of empty slice.\n",
      "  return _methods._mean(a, axis=axis, dtype=dtype,\n",
      "/Users/nikita/Desktop/venvs/env/lib/python3.9/site-packages/numpy/core/_methods.py:129: RuntimeWarning: invalid value encountered in scalar divide\n",
      "  ret = ret.dtype.type(ret / rcount)\n",
      " 14%|█████▎                                | 1501/10646 [01:37<08:36, 17.71it/s]"
     ]
    },
    {
     "name": "stdout",
     "output_type": "stream",
     "text": [
      "Failed for index 1498 with error: index 0 is out of bounds for axis 0 with size 0\n"
     ]
    },
    {
     "name": "stderr",
     "output_type": "stream",
     "text": [
      " 14%|█████▎                                | 1503/10646 [01:38<09:02, 16.84it/s]/Users/nikita/Desktop/venvs/env/lib/python3.9/site-packages/numpy/core/fromnumeric.py:3504: RuntimeWarning: Mean of empty slice.\n",
      "  return _methods._mean(a, axis=axis, dtype=dtype,\n",
      "/Users/nikita/Desktop/venvs/env/lib/python3.9/site-packages/numpy/core/_methods.py:129: RuntimeWarning: invalid value encountered in scalar divide\n",
      "  ret = ret.dtype.type(ret / rcount)\n",
      " 15%|█████▌                                | 1563/10646 [01:41<09:50, 15.37it/s]/Users/nikita/Desktop/venvs/env/lib/python3.9/site-packages/numpy/core/fromnumeric.py:3504: RuntimeWarning: Mean of empty slice.\n",
      "  return _methods._mean(a, axis=axis, dtype=dtype,\n",
      "/Users/nikita/Desktop/venvs/env/lib/python3.9/site-packages/numpy/core/_methods.py:129: RuntimeWarning: invalid value encountered in scalar divide\n",
      "  ret = ret.dtype.type(ret / rcount)\n",
      " 15%|█████▋                                | 1581/10646 [01:43<09:51, 15.32it/s]/Users/nikita/Desktop/venvs/env/lib/python3.9/site-packages/numpy/core/fromnumeric.py:3504: RuntimeWarning: Mean of empty slice.\n",
      "  return _methods._mean(a, axis=axis, dtype=dtype,\n",
      "/Users/nikita/Desktop/venvs/env/lib/python3.9/site-packages/numpy/core/_methods.py:129: RuntimeWarning: invalid value encountered in scalar divide\n",
      "  ret = ret.dtype.type(ret / rcount)\n",
      " 15%|█████▋                                | 1589/10646 [01:43<09:55, 15.20it/s]/Users/nikita/Desktop/venvs/env/lib/python3.9/site-packages/numpy/core/fromnumeric.py:3504: RuntimeWarning: Mean of empty slice.\n",
      "  return _methods._mean(a, axis=axis, dtype=dtype,\n",
      "/Users/nikita/Desktop/venvs/env/lib/python3.9/site-packages/numpy/core/_methods.py:129: RuntimeWarning: invalid value encountered in scalar divide\n",
      "  ret = ret.dtype.type(ret / rcount)\n",
      " 15%|█████▋                                | 1607/10646 [01:44<09:49, 15.34it/s]"
     ]
    },
    {
     "name": "stdout",
     "output_type": "stream",
     "text": [
      "Exception FF6DFD06-685C-4F56-95E6-46ED96109F6F engzee pop from empty list\n"
     ]
    },
    {
     "name": "stderr",
     "output_type": "stream",
     "text": [
      " 15%|█████▊                                | 1616/10646 [01:45<08:51, 16.98it/s]"
     ]
    },
    {
     "name": "stdout",
     "output_type": "stream",
     "text": [
      "Failed for index 1612 with error: index 0 is out of bounds for axis 0 with size 0\n"
     ]
    },
    {
     "name": "stderr",
     "output_type": "stream",
     "text": [
      " 15%|█████▊                                | 1618/10646 [01:45<09:09, 16.44it/s]/Users/nikita/Desktop/venvs/env/lib/python3.9/site-packages/numpy/core/fromnumeric.py:3504: RuntimeWarning: Mean of empty slice.\n",
      "  return _methods._mean(a, axis=axis, dtype=dtype,\n",
      "/Users/nikita/Desktop/venvs/env/lib/python3.9/site-packages/numpy/core/_methods.py:129: RuntimeWarning: invalid value encountered in scalar divide\n",
      "  ret = ret.dtype.type(ret / rcount)\n",
      " 15%|█████▊                                | 1634/10646 [01:46<09:41, 15.50it/s]/Users/nikita/Desktop/venvs/env/lib/python3.9/site-packages/numpy/core/fromnumeric.py:3504: RuntimeWarning: Mean of empty slice.\n",
      "  return _methods._mean(a, axis=axis, dtype=dtype,\n",
      "/Users/nikita/Desktop/venvs/env/lib/python3.9/site-packages/numpy/core/_methods.py:129: RuntimeWarning: invalid value encountered in scalar divide\n",
      "  ret = ret.dtype.type(ret / rcount)\n",
      " 16%|█████▉                                | 1656/10646 [01:47<09:47, 15.30it/s]"
     ]
    },
    {
     "name": "stdout",
     "output_type": "stream",
     "text": [
      "Exception FF6DFD06-685C-4F56-95E6-46ED96109F6F engzee pop from empty list\n"
     ]
    },
    {
     "name": "stderr",
     "output_type": "stream",
     "text": [
      " 16%|█████▉                                | 1669/10646 [01:48<08:32, 17.51it/s]"
     ]
    },
    {
     "name": "stdout",
     "output_type": "stream",
     "text": [
      "Failed for index 1666 with error: index 0 is out of bounds for axis 0 with size 0\n"
     ]
    },
    {
     "name": "stderr",
     "output_type": "stream",
     "text": [
      " 16%|█████▉                                | 1677/10646 [01:49<09:21, 15.96it/s]/Users/nikita/Desktop/venvs/env/lib/python3.9/site-packages/numpy/core/fromnumeric.py:3504: RuntimeWarning: Mean of empty slice.\n",
      "  return _methods._mean(a, axis=axis, dtype=dtype,\n",
      "/Users/nikita/Desktop/venvs/env/lib/python3.9/site-packages/numpy/core/_methods.py:129: RuntimeWarning: invalid value encountered in scalar divide\n",
      "  ret = ret.dtype.type(ret / rcount)\n",
      " 16%|█████▉                                | 1679/10646 [01:49<09:27, 15.81it/s]/Users/nikita/Desktop/venvs/env/lib/python3.9/site-packages/numpy/core/fromnumeric.py:3504: RuntimeWarning: Mean of empty slice.\n",
      "  return _methods._mean(a, axis=axis, dtype=dtype,\n",
      "/Users/nikita/Desktop/venvs/env/lib/python3.9/site-packages/numpy/core/_methods.py:129: RuntimeWarning: invalid value encountered in scalar divide\n",
      "  ret = ret.dtype.type(ret / rcount)\n",
      " 16%|██████                                | 1683/10646 [01:49<09:33, 15.62it/s]"
     ]
    },
    {
     "name": "stdout",
     "output_type": "stream",
     "text": [
      "Exception FF6DFD06-685C-4F56-95E6-46ED96109F6F engzee pop from empty list\n"
     ]
    },
    {
     "name": "stderr",
     "output_type": "stream",
     "text": [
      " 16%|██████                                | 1687/10646 [01:49<09:39, 15.45it/s]/Users/nikita/Desktop/venvs/env/lib/python3.9/site-packages/numpy/core/fromnumeric.py:3504: RuntimeWarning: Mean of empty slice.\n",
      "  return _methods._mean(a, axis=axis, dtype=dtype,\n",
      "/Users/nikita/Desktop/venvs/env/lib/python3.9/site-packages/numpy/core/_methods.py:129: RuntimeWarning: invalid value encountered in scalar divide\n",
      "  ret = ret.dtype.type(ret / rcount)\n",
      " 16%|██████                                | 1689/10646 [01:50<09:40, 15.44it/s]/Users/nikita/Desktop/venvs/env/lib/python3.9/site-packages/numpy/core/fromnumeric.py:3504: RuntimeWarning: Mean of empty slice.\n",
      "  return _methods._mean(a, axis=axis, dtype=dtype,\n",
      "/Users/nikita/Desktop/venvs/env/lib/python3.9/site-packages/numpy/core/_methods.py:129: RuntimeWarning: invalid value encountered in scalar divide\n",
      "  ret = ret.dtype.type(ret / rcount)\n",
      " 16%|██████                                | 1693/10646 [01:50<09:42, 15.37it/s]"
     ]
    },
    {
     "name": "stdout",
     "output_type": "stream",
     "text": [
      "Exception FF6DFD06-685C-4F56-95E6-46ED96109F6F engzee pop from empty list\n"
     ]
    },
    {
     "name": "stderr",
     "output_type": "stream",
     "text": [
      " 16%|██████                                | 1709/10646 [01:51<09:44, 15.29it/s]/Users/nikita/Desktop/venvs/env/lib/python3.9/site-packages/numpy/core/fromnumeric.py:3504: RuntimeWarning: Mean of empty slice.\n",
      "  return _methods._mean(a, axis=axis, dtype=dtype,\n",
      "/Users/nikita/Desktop/venvs/env/lib/python3.9/site-packages/numpy/core/_methods.py:129: RuntimeWarning: invalid value encountered in scalar divide\n",
      "  ret = ret.dtype.type(ret / rcount)\n",
      " 16%|██████▏                               | 1717/10646 [01:51<09:40, 15.39it/s]/Users/nikita/Desktop/venvs/env/lib/python3.9/site-packages/numpy/core/fromnumeric.py:3504: RuntimeWarning: Mean of empty slice.\n",
      "  return _methods._mean(a, axis=axis, dtype=dtype,\n",
      "/Users/nikita/Desktop/venvs/env/lib/python3.9/site-packages/numpy/core/_methods.py:129: RuntimeWarning: invalid value encountered in scalar divide\n",
      "  ret = ret.dtype.type(ret / rcount)\n",
      " 17%|██████▎                               | 1758/10646 [01:54<08:52, 16.70it/s]"
     ]
    },
    {
     "name": "stdout",
     "output_type": "stream",
     "text": [
      "Failed for index 1754 with error: index 0 is out of bounds for axis 0 with size 0\n"
     ]
    },
    {
     "name": "stderr",
     "output_type": "stream",
     "text": [
      " 17%|██████▎                               | 1766/10646 [01:55<09:27, 15.65it/s]/Users/nikita/Desktop/venvs/env/lib/python3.9/site-packages/numpy/core/fromnumeric.py:3504: RuntimeWarning: Mean of empty slice.\n",
      "  return _methods._mean(a, axis=axis, dtype=dtype,\n",
      "/Users/nikita/Desktop/venvs/env/lib/python3.9/site-packages/numpy/core/_methods.py:129: RuntimeWarning: invalid value encountered in scalar divide\n",
      "  ret = ret.dtype.type(ret / rcount)\n",
      " 17%|██████▎                               | 1784/10646 [01:56<09:41, 15.24it/s]/Users/nikita/Desktop/venvs/env/lib/python3.9/site-packages/numpy/core/fromnumeric.py:3504: RuntimeWarning: Mean of empty slice.\n",
      "  return _methods._mean(a, axis=axis, dtype=dtype,\n",
      "/Users/nikita/Desktop/venvs/env/lib/python3.9/site-packages/numpy/core/_methods.py:129: RuntimeWarning: invalid value encountered in scalar divide\n",
      "  ret = ret.dtype.type(ret / rcount)\n",
      " 17%|██████▍                               | 1795/10646 [01:56<08:31, 17.31it/s]"
     ]
    },
    {
     "name": "stdout",
     "output_type": "stream",
     "text": [
      "Failed for index 1792 with error: index 0 is out of bounds for axis 0 with size 0\n"
     ]
    },
    {
     "name": "stderr",
     "output_type": "stream",
     "text": [
      " 17%|██████▍                               | 1817/10646 [01:58<09:38, 15.25it/s]/Users/nikita/Desktop/venvs/env/lib/python3.9/site-packages/numpy/core/fromnumeric.py:3504: RuntimeWarning: Mean of empty slice.\n",
      "  return _methods._mean(a, axis=axis, dtype=dtype,\n",
      "/Users/nikita/Desktop/venvs/env/lib/python3.9/site-packages/numpy/core/_methods.py:129: RuntimeWarning: invalid value encountered in scalar divide\n",
      "  ret = ret.dtype.type(ret / rcount)\n",
      " 17%|██████▌                               | 1823/10646 [01:58<09:36, 15.29it/s]/Users/nikita/Desktop/venvs/env/lib/python3.9/site-packages/numpy/core/fromnumeric.py:3504: RuntimeWarning: Mean of empty slice.\n",
      "  return _methods._mean(a, axis=axis, dtype=dtype,\n",
      "/Users/nikita/Desktop/venvs/env/lib/python3.9/site-packages/numpy/core/_methods.py:129: RuntimeWarning: invalid value encountered in scalar divide\n",
      "  ret = ret.dtype.type(ret / rcount)\n",
      "/Users/nikita/Desktop/venvs/env/lib/python3.9/site-packages/numpy/core/fromnumeric.py:3504: RuntimeWarning: Mean of empty slice.\n",
      "  return _methods._mean(a, axis=axis, dtype=dtype,\n",
      "/Users/nikita/Desktop/venvs/env/lib/python3.9/site-packages/numpy/core/_methods.py:129: RuntimeWarning: invalid value encountered in scalar divide\n",
      "  ret = ret.dtype.type(ret / rcount)\n",
      " 17%|██████▌                               | 1828/10646 [01:59<08:41, 16.91it/s]"
     ]
    },
    {
     "name": "stdout",
     "output_type": "stream",
     "text": [
      "Failed for index 1824 with error: index 0 is out of bounds for axis 0 with size 0\n"
     ]
    },
    {
     "name": "stderr",
     "output_type": "stream",
     "text": [
      " 17%|██████▌                               | 1838/10646 [01:59<09:25, 15.58it/s]/Users/nikita/Desktop/venvs/env/lib/python3.9/site-packages/numpy/core/fromnumeric.py:3504: RuntimeWarning: Mean of empty slice.\n",
      "  return _methods._mean(a, axis=axis, dtype=dtype,\n",
      "/Users/nikita/Desktop/venvs/env/lib/python3.9/site-packages/numpy/core/_methods.py:129: RuntimeWarning: invalid value encountered in scalar divide\n",
      "  ret = ret.dtype.type(ret / rcount)\n",
      " 17%|██████▌                               | 1850/10646 [02:00<09:32, 15.36it/s]/Users/nikita/Desktop/venvs/env/lib/python3.9/site-packages/numpy/core/fromnumeric.py:3504: RuntimeWarning: Mean of empty slice.\n",
      "  return _methods._mean(a, axis=axis, dtype=dtype,\n",
      "/Users/nikita/Desktop/venvs/env/lib/python3.9/site-packages/numpy/core/_methods.py:129: RuntimeWarning: invalid value encountered in scalar divide\n",
      "  ret = ret.dtype.type(ret / rcount)\n",
      " 17%|██████▌                               | 1852/10646 [02:00<09:34, 15.31it/s]"
     ]
    },
    {
     "name": "stdout",
     "output_type": "stream",
     "text": [
      "Exception FF6DFD06-685C-4F56-95E6-46ED96109F6F engzee pop from empty list\n"
     ]
    },
    {
     "name": "stderr",
     "output_type": "stream",
     "text": [
      " 18%|██████▋                               | 1868/10646 [02:01<09:42, 15.07it/s]"
     ]
    },
    {
     "name": "stdout",
     "output_type": "stream",
     "text": [
      "Exception FF6DFD06-685C-4F56-95E6-46ED96109F6F engzee pop from empty list\n"
     ]
    },
    {
     "name": "stderr",
     "output_type": "stream",
     "text": [
      " 18%|██████▋                               | 1874/10646 [02:02<09:44, 15.01it/s]/Users/nikita/Desktop/venvs/env/lib/python3.9/site-packages/numpy/core/fromnumeric.py:3504: RuntimeWarning: Mean of empty slice.\n",
      "  return _methods._mean(a, axis=axis, dtype=dtype,\n",
      "/Users/nikita/Desktop/venvs/env/lib/python3.9/site-packages/numpy/core/_methods.py:129: RuntimeWarning: invalid value encountered in scalar divide\n",
      "  ret = ret.dtype.type(ret / rcount)\n",
      "/Users/nikita/Desktop/venvs/env/lib/python3.9/site-packages/numpy/core/fromnumeric.py:3504: RuntimeWarning: Mean of empty slice.\n",
      "  return _methods._mean(a, axis=axis, dtype=dtype,\n",
      "/Users/nikita/Desktop/venvs/env/lib/python3.9/site-packages/numpy/core/_methods.py:129: RuntimeWarning: invalid value encountered in scalar divide\n",
      "  ret = ret.dtype.type(ret / rcount)\n",
      " 18%|██████▋                               | 1880/10646 [02:02<09:38, 15.16it/s]"
     ]
    },
    {
     "name": "stdout",
     "output_type": "stream",
     "text": [
      "Exception FF6DFD06-685C-4F56-95E6-46ED96109F6F engzee pop from empty list\n"
     ]
    },
    {
     "name": "stderr",
     "output_type": "stream",
     "text": [
      " 18%|██████▊                               | 1908/10646 [02:04<09:27, 15.40it/s]/Users/nikita/Desktop/venvs/env/lib/python3.9/site-packages/numpy/core/fromnumeric.py:3504: RuntimeWarning: Mean of empty slice.\n",
      "  return _methods._mean(a, axis=axis, dtype=dtype,\n",
      "/Users/nikita/Desktop/venvs/env/lib/python3.9/site-packages/numpy/core/_methods.py:129: RuntimeWarning: invalid value encountered in scalar divide\n",
      "  ret = ret.dtype.type(ret / rcount)\n",
      " 18%|██████▉                               | 1940/10646 [02:06<09:29, 15.29it/s]/Users/nikita/Desktop/venvs/env/lib/python3.9/site-packages/numpy/core/fromnumeric.py:3504: RuntimeWarning: Mean of empty slice.\n",
      "  return _methods._mean(a, axis=axis, dtype=dtype,\n",
      "/Users/nikita/Desktop/venvs/env/lib/python3.9/site-packages/numpy/core/_methods.py:129: RuntimeWarning: invalid value encountered in scalar divide\n",
      "  ret = ret.dtype.type(ret / rcount)\n",
      " 19%|███████                               | 1973/10646 [02:08<08:15, 17.50it/s]"
     ]
    },
    {
     "name": "stdout",
     "output_type": "stream",
     "text": [
      "Failed for index 1970 with error: index 0 is out of bounds for axis 0 with size 0\n"
     ]
    },
    {
     "name": "stderr",
     "output_type": "stream",
     "text": [
      " 19%|███████▏                              | 2003/10646 [02:10<09:29, 15.17it/s]/Users/nikita/Desktop/venvs/env/lib/python3.9/site-packages/numpy/core/fromnumeric.py:3504: RuntimeWarning: Mean of empty slice.\n",
      "  return _methods._mean(a, axis=axis, dtype=dtype,\n",
      "/Users/nikita/Desktop/venvs/env/lib/python3.9/site-packages/numpy/core/_methods.py:129: RuntimeWarning: invalid value encountered in scalar divide\n",
      "  ret = ret.dtype.type(ret / rcount)\n",
      " 19%|███████▏                              | 2011/10646 [02:10<09:27, 15.21it/s]/Users/nikita/Desktop/venvs/env/lib/python3.9/site-packages/numpy/core/fromnumeric.py:3504: RuntimeWarning: Mean of empty slice.\n",
      "  return _methods._mean(a, axis=axis, dtype=dtype,\n",
      "/Users/nikita/Desktop/venvs/env/lib/python3.9/site-packages/numpy/core/_methods.py:129: RuntimeWarning: invalid value encountered in scalar divide\n",
      "  ret = ret.dtype.type(ret / rcount)\n",
      " 19%|███████▏                              | 2017/10646 [02:11<09:24, 15.29it/s]"
     ]
    },
    {
     "name": "stdout",
     "output_type": "stream",
     "text": [
      "Exception FF6DFD06-685C-4F56-95E6-46ED96109F6F engzee pop from empty list\n"
     ]
    },
    {
     "name": "stderr",
     "output_type": "stream",
     "text": [
      " 19%|███████▎                              | 2046/10646 [02:13<08:03, 17.78it/s]"
     ]
    },
    {
     "name": "stdout",
     "output_type": "stream",
     "text": [
      "Failed for index 2043 with error: index 0 is out of bounds for axis 0 with size 0\n"
     ]
    },
    {
     "name": "stderr",
     "output_type": "stream",
     "text": [
      " 19%|███████▎                              | 2050/10646 [02:13<08:36, 16.63it/s]/Users/nikita/Desktop/venvs/env/lib/python3.9/site-packages/numpy/core/fromnumeric.py:3504: RuntimeWarning: Mean of empty slice.\n",
      "  return _methods._mean(a, axis=axis, dtype=dtype,\n",
      "/Users/nikita/Desktop/venvs/env/lib/python3.9/site-packages/numpy/core/_methods.py:129: RuntimeWarning: invalid value encountered in scalar divide\n",
      "  ret = ret.dtype.type(ret / rcount)\n",
      "/Users/nikita/Desktop/venvs/env/lib/python3.9/site-packages/numpy/core/fromnumeric.py:3504: RuntimeWarning: Mean of empty slice.\n",
      "  return _methods._mean(a, axis=axis, dtype=dtype,\n",
      "/Users/nikita/Desktop/venvs/env/lib/python3.9/site-packages/numpy/core/_methods.py:129: RuntimeWarning: invalid value encountered in scalar divide\n",
      "  ret = ret.dtype.type(ret / rcount)\n",
      " 19%|███████▍                              | 2071/10646 [02:14<08:24, 17.00it/s]"
     ]
    },
    {
     "name": "stdout",
     "output_type": "stream",
     "text": [
      "Failed for index 2067 with error: index 0 is out of bounds for axis 0 with size 0\n",
      "Exception FF6DFD06-685C-4F56-95E6-46ED96109F6F engzee pop from empty list\n"
     ]
    },
    {
     "name": "stderr",
     "output_type": "stream",
     "text": [
      " 20%|███████▍                              | 2081/10646 [02:15<09:08, 15.62it/s]/Users/nikita/Desktop/venvs/env/lib/python3.9/site-packages/numpy/core/fromnumeric.py:3504: RuntimeWarning: Mean of empty slice.\n",
      "  return _methods._mean(a, axis=axis, dtype=dtype,\n",
      "/Users/nikita/Desktop/venvs/env/lib/python3.9/site-packages/numpy/core/_methods.py:129: RuntimeWarning: invalid value encountered in scalar divide\n",
      "  ret = ret.dtype.type(ret / rcount)\n",
      " 20%|███████▍                              | 2099/10646 [02:16<09:28, 15.04it/s]/Users/nikita/Desktop/venvs/env/lib/python3.9/site-packages/numpy/core/fromnumeric.py:3504: RuntimeWarning: Mean of empty slice.\n",
      "  return _methods._mean(a, axis=axis, dtype=dtype,\n",
      "/Users/nikita/Desktop/venvs/env/lib/python3.9/site-packages/numpy/core/_methods.py:129: RuntimeWarning: invalid value encountered in scalar divide\n",
      "  ret = ret.dtype.type(ret / rcount)\n",
      " 20%|███████▌                              | 2108/10646 [02:17<08:18, 17.13it/s]"
     ]
    },
    {
     "name": "stdout",
     "output_type": "stream",
     "text": [
      "Failed for index 2104 with error: index 0 is out of bounds for axis 0 with size 0\n",
      "Exception FF6DFD06-685C-4F56-95E6-46ED96109F6F engzee pop from empty list\n"
     ]
    },
    {
     "name": "stderr",
     "output_type": "stream",
     "text": [
      " 20%|███████▌                              | 2116/10646 [02:17<09:06, 15.61it/s]/Users/nikita/Desktop/venvs/env/lib/python3.9/site-packages/numpy/core/fromnumeric.py:3504: RuntimeWarning: Mean of empty slice.\n",
      "  return _methods._mean(a, axis=axis, dtype=dtype,\n",
      "/Users/nikita/Desktop/venvs/env/lib/python3.9/site-packages/numpy/core/_methods.py:129: RuntimeWarning: invalid value encountered in scalar divide\n",
      "  ret = ret.dtype.type(ret / rcount)\n",
      " 20%|███████▌                              | 2124/10646 [02:18<09:23, 15.11it/s]/Users/nikita/Desktop/venvs/env/lib/python3.9/site-packages/numpy/core/fromnumeric.py:3504: RuntimeWarning: Mean of empty slice.\n",
      "  return _methods._mean(a, axis=axis, dtype=dtype,\n",
      "/Users/nikita/Desktop/venvs/env/lib/python3.9/site-packages/numpy/core/_methods.py:129: RuntimeWarning: invalid value encountered in scalar divide\n",
      "  ret = ret.dtype.type(ret / rcount)\n",
      " 20%|███████▊                              | 2175/10646 [02:21<08:21, 16.88it/s]"
     ]
    },
    {
     "name": "stdout",
     "output_type": "stream",
     "text": [
      "Failed for index 2171 with error: index 0 is out of bounds for axis 0 with size 0\n"
     ]
    },
    {
     "name": "stderr",
     "output_type": "stream",
     "text": [
      " 21%|███████▊                              | 2201/10646 [02:23<09:25, 14.93it/s]"
     ]
    },
    {
     "name": "stdout",
     "output_type": "stream",
     "text": [
      "Exception FF6DFD06-685C-4F56-95E6-46ED96109F6F engzee pop from empty list\n"
     ]
    },
    {
     "name": "stderr",
     "output_type": "stream",
     "text": [
      " 21%|███████▊                              | 2205/10646 [02:23<09:15, 15.20it/s]/Users/nikita/Desktop/venvs/env/lib/python3.9/site-packages/numpy/core/fromnumeric.py:3504: RuntimeWarning: Mean of empty slice.\n",
      "  return _methods._mean(a, axis=axis, dtype=dtype,\n",
      "/Users/nikita/Desktop/venvs/env/lib/python3.9/site-packages/numpy/core/_methods.py:129: RuntimeWarning: invalid value encountered in scalar divide\n",
      "  ret = ret.dtype.type(ret / rcount)\n",
      " 21%|███████▉                              | 2207/10646 [02:23<09:14, 15.21it/s]"
     ]
    },
    {
     "name": "stdout",
     "output_type": "stream",
     "text": [
      "Exception FF6DFD06-685C-4F56-95E6-46ED96109F6F engzee pop from empty list\n"
     ]
    },
    {
     "name": "stderr",
     "output_type": "stream",
     "text": [
      "/Users/nikita/Desktop/venvs/env/lib/python3.9/site-packages/numpy/core/fromnumeric.py:3504: RuntimeWarning: Mean of empty slice.\n",
      "  return _methods._mean(a, axis=axis, dtype=dtype,\n",
      "/Users/nikita/Desktop/venvs/env/lib/python3.9/site-packages/numpy/core/_methods.py:129: RuntimeWarning: invalid value encountered in scalar divide\n",
      "  ret = ret.dtype.type(ret / rcount)\n",
      " 21%|███████▉                              | 2222/10646 [02:24<08:04, 17.40it/s]"
     ]
    },
    {
     "name": "stdout",
     "output_type": "stream",
     "text": [
      "Failed for index 2219 with error: index 0 is out of bounds for axis 0 with size 0\n"
     ]
    },
    {
     "name": "stderr",
     "output_type": "stream",
     "text": [
      " 21%|████████                              | 2267/10646 [02:27<08:21, 16.72it/s]"
     ]
    },
    {
     "name": "stdout",
     "output_type": "stream",
     "text": [
      "Failed for index 2263 with error: index 0 is out of bounds for axis 0 with size 0\n"
     ]
    },
    {
     "name": "stderr",
     "output_type": "stream",
     "text": [
      " 22%|████████▏                             | 2299/10646 [02:29<09:11, 15.14it/s]/Users/nikita/Desktop/venvs/env/lib/python3.9/site-packages/numpy/core/fromnumeric.py:3504: RuntimeWarning: Mean of empty slice.\n",
      "  return _methods._mean(a, axis=axis, dtype=dtype,\n",
      "/Users/nikita/Desktop/venvs/env/lib/python3.9/site-packages/numpy/core/_methods.py:129: RuntimeWarning: invalid value encountered in scalar divide\n",
      "  ret = ret.dtype.type(ret / rcount)\n",
      " 22%|████████▏                             | 2301/10646 [02:29<09:13, 15.08it/s]/Users/nikita/Desktop/venvs/env/lib/python3.9/site-packages/numpy/core/fromnumeric.py:3504: RuntimeWarning: Mean of empty slice.\n",
      "  return _methods._mean(a, axis=axis, dtype=dtype,\n",
      "/Users/nikita/Desktop/venvs/env/lib/python3.9/site-packages/numpy/core/_methods.py:129: RuntimeWarning: invalid value encountered in scalar divide\n",
      "  ret = ret.dtype.type(ret / rcount)\n",
      " 22%|████████▎                             | 2315/10646 [02:30<09:03, 15.32it/s]"
     ]
    },
    {
     "name": "stdout",
     "output_type": "stream",
     "text": [
      "Exception FF6DFD06-685C-4F56-95E6-46ED96109F6F engzee pop from empty list\n"
     ]
    },
    {
     "name": "stderr",
     "output_type": "stream",
     "text": [
      " 22%|████████▎                             | 2333/10646 [02:31<09:05, 15.25it/s]"
     ]
    },
    {
     "name": "stdout",
     "output_type": "stream",
     "text": [
      "Exception FF6DFD06-685C-4F56-95E6-46ED96109F6F engzee pop from empty list\n"
     ]
    },
    {
     "name": "stderr",
     "output_type": "stream",
     "text": [
      " 22%|████████▍                             | 2347/10646 [02:32<09:04, 15.24it/s]/Users/nikita/Desktop/venvs/env/lib/python3.9/site-packages/numpy/core/fromnumeric.py:3504: RuntimeWarning: Mean of empty slice.\n",
      "  return _methods._mean(a, axis=axis, dtype=dtype,\n",
      "/Users/nikita/Desktop/venvs/env/lib/python3.9/site-packages/numpy/core/_methods.py:129: RuntimeWarning: invalid value encountered in scalar divide\n",
      "  ret = ret.dtype.type(ret / rcount)\n",
      " 22%|████████▌                             | 2393/10646 [02:35<09:06, 15.11it/s]"
     ]
    },
    {
     "name": "stdout",
     "output_type": "stream",
     "text": [
      "Exception FF6DFD06-685C-4F56-95E6-46ED96109F6F engzee pop from empty list\n"
     ]
    },
    {
     "name": "stderr",
     "output_type": "stream",
     "text": [
      "/Users/nikita/Desktop/venvs/env/lib/python3.9/site-packages/numpy/core/fromnumeric.py:3504: RuntimeWarning: Mean of empty slice.\n",
      "  return _methods._mean(a, axis=axis, dtype=dtype,\n",
      "/Users/nikita/Desktop/venvs/env/lib/python3.9/site-packages/numpy/core/_methods.py:129: RuntimeWarning: invalid value encountered in scalar divide\n",
      "  ret = ret.dtype.type(ret / rcount)\n",
      "/Users/nikita/Desktop/venvs/env/lib/python3.9/site-packages/numpy/core/fromnumeric.py:3504: RuntimeWarning: Mean of empty slice.\n",
      "  return _methods._mean(a, axis=axis, dtype=dtype,\n",
      "/Users/nikita/Desktop/venvs/env/lib/python3.9/site-packages/numpy/core/_methods.py:129: RuntimeWarning: invalid value encountered in scalar divide\n",
      "  ret = ret.dtype.type(ret / rcount)\n",
      " 23%|████████▌                             | 2404/10646 [02:36<08:03, 17.03it/s]"
     ]
    },
    {
     "name": "stdout",
     "output_type": "stream",
     "text": [
      "Failed for index 2400 with error: index 0 is out of bounds for axis 0 with size 0\n"
     ]
    },
    {
     "name": "stderr",
     "output_type": "stream",
     "text": [
      " 23%|████████▋                             | 2424/10646 [02:37<08:48, 15.57it/s]/Users/nikita/Desktop/venvs/env/lib/python3.9/site-packages/numpy/core/fromnumeric.py:3504: RuntimeWarning: Mean of empty slice.\n",
      "  return _methods._mean(a, axis=axis, dtype=dtype,\n",
      "/Users/nikita/Desktop/venvs/env/lib/python3.9/site-packages/numpy/core/_methods.py:129: RuntimeWarning: invalid value encountered in scalar divide\n",
      "  ret = ret.dtype.type(ret / rcount)\n",
      " 23%|████████▋                             | 2438/10646 [02:38<08:58, 15.25it/s]"
     ]
    },
    {
     "name": "stdout",
     "output_type": "stream",
     "text": [
      "Exception FF6DFD06-685C-4F56-95E6-46ED96109F6F engzee pop from empty list\n"
     ]
    },
    {
     "name": "stderr",
     "output_type": "stream",
     "text": [
      " 23%|████████▋                             | 2446/10646 [02:39<08:51, 15.44it/s]/Users/nikita/Desktop/venvs/env/lib/python3.9/site-packages/numpy/core/fromnumeric.py:3504: RuntimeWarning: Mean of empty slice.\n",
      "  return _methods._mean(a, axis=axis, dtype=dtype,\n",
      "/Users/nikita/Desktop/venvs/env/lib/python3.9/site-packages/numpy/core/_methods.py:129: RuntimeWarning: invalid value encountered in scalar divide\n",
      "  ret = ret.dtype.type(ret / rcount)\n",
      " 23%|████████▊                             | 2485/10646 [02:41<07:45, 17.54it/s]"
     ]
    },
    {
     "name": "stdout",
     "output_type": "stream",
     "text": [
      "Failed for index 2482 with error: index 0 is out of bounds for axis 0 with size 0\n"
     ]
    },
    {
     "name": "stderr",
     "output_type": "stream",
     "text": [
      " 23%|████████▉                             | 2489/10646 [02:41<08:24, 16.17it/s]"
     ]
    },
    {
     "name": "stdout",
     "output_type": "stream",
     "text": [
      "Exception FF6DFD06-685C-4F56-95E6-46ED96109F6F engzee pop from empty list\n"
     ]
    },
    {
     "name": "stderr",
     "output_type": "stream",
     "text": [
      " 24%|████████▉                             | 2511/10646 [02:43<08:51, 15.30it/s]/Users/nikita/Desktop/venvs/env/lib/python3.9/site-packages/numpy/core/fromnumeric.py:3504: RuntimeWarning: Mean of empty slice.\n",
      "  return _methods._mean(a, axis=axis, dtype=dtype,\n",
      "/Users/nikita/Desktop/venvs/env/lib/python3.9/site-packages/numpy/core/_methods.py:129: RuntimeWarning: invalid value encountered in scalar divide\n",
      "  ret = ret.dtype.type(ret / rcount)\n",
      " 24%|█████████                             | 2555/10646 [02:46<08:46, 15.36it/s]"
     ]
    },
    {
     "name": "stdout",
     "output_type": "stream",
     "text": [
      "Exception FF6DFD06-685C-4F56-95E6-46ED96109F6F engzee pop from empty list\n"
     ]
    },
    {
     "name": "stderr",
     "output_type": "stream",
     "text": [
      " 24%|█████████▏                            | 2567/10646 [02:46<08:48, 15.28it/s]"
     ]
    },
    {
     "name": "stdout",
     "output_type": "stream",
     "text": [
      "Exception FF6DFD06-685C-4F56-95E6-46ED96109F6F engzee pop from empty list\n"
     ]
    },
    {
     "name": "stderr",
     "output_type": "stream",
     "text": [
      " 24%|█████████▏                            | 2569/10646 [02:47<08:42, 15.46it/s]/Users/nikita/Desktop/venvs/env/lib/python3.9/site-packages/numpy/core/fromnumeric.py:3504: RuntimeWarning: Mean of empty slice.\n",
      "  return _methods._mean(a, axis=axis, dtype=dtype,\n",
      "/Users/nikita/Desktop/venvs/env/lib/python3.9/site-packages/numpy/core/_methods.py:129: RuntimeWarning: invalid value encountered in scalar divide\n",
      "  ret = ret.dtype.type(ret / rcount)\n",
      " 24%|█████████▏                            | 2573/10646 [02:47<08:41, 15.49it/s]"
     ]
    },
    {
     "name": "stdout",
     "output_type": "stream",
     "text": [
      "Exception FF6DFD06-685C-4F56-95E6-46ED96109F6F engzee pop from empty list\n"
     ]
    },
    {
     "name": "stderr",
     "output_type": "stream",
     "text": [
      " 24%|█████████▎                            | 2593/10646 [02:48<08:45, 15.31it/s]/Users/nikita/Desktop/venvs/env/lib/python3.9/site-packages/numpy/core/fromnumeric.py:3504: RuntimeWarning: Mean of empty slice.\n",
      "  return _methods._mean(a, axis=axis, dtype=dtype,\n",
      "/Users/nikita/Desktop/venvs/env/lib/python3.9/site-packages/numpy/core/_methods.py:129: RuntimeWarning: invalid value encountered in scalar divide\n",
      "  ret = ret.dtype.type(ret / rcount)\n",
      " 24%|█████████▎                            | 2607/10646 [02:49<08:49, 15.17it/s]/Users/nikita/Desktop/venvs/env/lib/python3.9/site-packages/numpy/core/fromnumeric.py:3504: RuntimeWarning: Mean of empty slice.\n",
      "  return _methods._mean(a, axis=axis, dtype=dtype,\n",
      "/Users/nikita/Desktop/venvs/env/lib/python3.9/site-packages/numpy/core/_methods.py:129: RuntimeWarning: invalid value encountered in scalar divide\n",
      "  ret = ret.dtype.type(ret / rcount)\n",
      " 25%|█████████▌                            | 2691/10646 [02:55<08:49, 15.03it/s]/Users/nikita/Desktop/venvs/env/lib/python3.9/site-packages/numpy/core/fromnumeric.py:3504: RuntimeWarning: Mean of empty slice.\n",
      "  return _methods._mean(a, axis=axis, dtype=dtype,\n",
      "/Users/nikita/Desktop/venvs/env/lib/python3.9/site-packages/numpy/core/_methods.py:129: RuntimeWarning: invalid value encountered in scalar divide\n",
      "  ret = ret.dtype.type(ret / rcount)\n",
      " 26%|█████████▋                            | 2723/10646 [02:57<08:41, 15.19it/s]"
     ]
    },
    {
     "name": "stdout",
     "output_type": "stream",
     "text": [
      "Exception FF6DFD06-685C-4F56-95E6-46ED96109F6F engzee pop from empty list\n"
     ]
    },
    {
     "name": "stderr",
     "output_type": "stream",
     "text": [
      " 26%|█████████▉                            | 2787/10646 [03:01<08:30, 15.41it/s]"
     ]
    },
    {
     "name": "stdout",
     "output_type": "stream",
     "text": [
      "Exception FF6DFD06-685C-4F56-95E6-46ED96109F6F engzee pop from empty list\n"
     ]
    },
    {
     "name": "stderr",
     "output_type": "stream",
     "text": [
      " 26%|██████████                            | 2805/10646 [03:02<08:27, 15.45it/s]/Users/nikita/Desktop/venvs/env/lib/python3.9/site-packages/numpy/core/fromnumeric.py:3504: RuntimeWarning: Mean of empty slice.\n",
      "  return _methods._mean(a, axis=axis, dtype=dtype,\n",
      "/Users/nikita/Desktop/venvs/env/lib/python3.9/site-packages/numpy/core/_methods.py:129: RuntimeWarning: invalid value encountered in scalar divide\n",
      "  ret = ret.dtype.type(ret / rcount)\n",
      " 27%|██████████▏                           | 2859/10646 [03:06<08:33, 15.17it/s]/Users/nikita/Desktop/venvs/env/lib/python3.9/site-packages/numpy/core/fromnumeric.py:3504: RuntimeWarning: Mean of empty slice.\n",
      "  return _methods._mean(a, axis=axis, dtype=dtype,\n",
      "/Users/nikita/Desktop/venvs/env/lib/python3.9/site-packages/numpy/core/_methods.py:129: RuntimeWarning: invalid value encountered in scalar divide\n",
      "  ret = ret.dtype.type(ret / rcount)\n",
      " 27%|██████████▏                           | 2863/10646 [03:06<08:30, 15.26it/s]/Users/nikita/Desktop/venvs/env/lib/python3.9/site-packages/numpy/core/fromnumeric.py:3504: RuntimeWarning: Mean of empty slice.\n",
      "  return _methods._mean(a, axis=axis, dtype=dtype,\n",
      "/Users/nikita/Desktop/venvs/env/lib/python3.9/site-packages/numpy/core/_methods.py:129: RuntimeWarning: invalid value encountered in scalar divide\n",
      "  ret = ret.dtype.type(ret / rcount)\n",
      " 27%|██████████▏                           | 2867/10646 [03:06<08:31, 15.21it/s]/Users/nikita/Desktop/venvs/env/lib/python3.9/site-packages/numpy/core/fromnumeric.py:3504: RuntimeWarning: Mean of empty slice.\n",
      "  return _methods._mean(a, axis=axis, dtype=dtype,\n",
      "/Users/nikita/Desktop/venvs/env/lib/python3.9/site-packages/numpy/core/_methods.py:129: RuntimeWarning: invalid value encountered in scalar divide\n",
      "  ret = ret.dtype.type(ret / rcount)\n",
      " 27%|██████████▎                           | 2883/10646 [03:07<08:29, 15.24it/s]/Users/nikita/Desktop/venvs/env/lib/python3.9/site-packages/numpy/core/fromnumeric.py:3504: RuntimeWarning: Mean of empty slice.\n",
      "  return _methods._mean(a, axis=axis, dtype=dtype,\n",
      "/Users/nikita/Desktop/venvs/env/lib/python3.9/site-packages/numpy/core/_methods.py:129: RuntimeWarning: invalid value encountered in scalar divide\n",
      "  ret = ret.dtype.type(ret / rcount)\n",
      " 27%|██████████▎                           | 2899/10646 [03:08<08:44, 14.77it/s]"
     ]
    },
    {
     "name": "stdout",
     "output_type": "stream",
     "text": [
      "Exception FF6DFD06-685C-4F56-95E6-46ED96109F6F engzee pop from empty list\n"
     ]
    },
    {
     "name": "stderr",
     "output_type": "stream",
     "text": [
      " 27%|██████████▍                           | 2917/10646 [03:09<08:34, 15.02it/s]"
     ]
    },
    {
     "name": "stdout",
     "output_type": "stream",
     "text": [
      "Exception FF6DFD06-685C-4F56-95E6-46ED96109F6F engzee pop from empty list\n"
     ]
    },
    {
     "name": "stderr",
     "output_type": "stream",
     "text": [
      " 28%|██████████▌                           | 2971/10646 [03:13<08:21, 15.29it/s]"
     ]
    },
    {
     "name": "stdout",
     "output_type": "stream",
     "text": [
      "Exception FF6DFD06-685C-4F56-95E6-46ED96109F6F engzee pop from empty list\n"
     ]
    },
    {
     "name": "stderr",
     "output_type": "stream",
     "text": [
      " 28%|██████████▋                           | 2985/10646 [03:14<08:18, 15.36it/s]/Users/nikita/Desktop/venvs/env/lib/python3.9/site-packages/numpy/core/fromnumeric.py:3504: RuntimeWarning: Mean of empty slice.\n",
      "  return _methods._mean(a, axis=axis, dtype=dtype,\n",
      "/Users/nikita/Desktop/venvs/env/lib/python3.9/site-packages/numpy/core/_methods.py:129: RuntimeWarning: invalid value encountered in scalar divide\n",
      "  ret = ret.dtype.type(ret / rcount)\n",
      " 28%|██████████▋                           | 2997/10646 [03:15<08:17, 15.38it/s]/Users/nikita/Desktop/venvs/env/lib/python3.9/site-packages/numpy/core/fromnumeric.py:3504: RuntimeWarning: Mean of empty slice.\n",
      "  return _methods._mean(a, axis=axis, dtype=dtype,\n",
      "/Users/nikita/Desktop/venvs/env/lib/python3.9/site-packages/numpy/core/_methods.py:129: RuntimeWarning: invalid value encountered in scalar divide\n",
      "  ret = ret.dtype.type(ret / rcount)\n",
      " 28%|██████████▋                           | 3006/10646 [03:15<07:29, 17.01it/s]"
     ]
    },
    {
     "name": "stdout",
     "output_type": "stream",
     "text": [
      "Failed for index 3002 with error: index 0 is out of bounds for axis 0 with size 0\n"
     ]
    },
    {
     "name": "stderr",
     "output_type": "stream",
     "text": [
      " 29%|██████████▊                           | 3036/10646 [03:17<08:15, 15.36it/s]/Users/nikita/Desktop/venvs/env/lib/python3.9/site-packages/numpy/core/fromnumeric.py:3504: RuntimeWarning: Mean of empty slice.\n",
      "  return _methods._mean(a, axis=axis, dtype=dtype,\n",
      "/Users/nikita/Desktop/venvs/env/lib/python3.9/site-packages/numpy/core/_methods.py:129: RuntimeWarning: invalid value encountered in scalar divide\n",
      "  ret = ret.dtype.type(ret / rcount)\n",
      " 29%|██████████▉                           | 3060/10646 [03:19<08:19, 15.17it/s]/Users/nikita/Desktop/venvs/env/lib/python3.9/site-packages/numpy/core/fromnumeric.py:3504: RuntimeWarning: Mean of empty slice.\n",
      "  return _methods._mean(a, axis=axis, dtype=dtype,\n",
      "/Users/nikita/Desktop/venvs/env/lib/python3.9/site-packages/numpy/core/_methods.py:129: RuntimeWarning: invalid value encountered in scalar divide\n",
      "  ret = ret.dtype.type(ret / rcount)\n",
      " 29%|██████████▉                           | 3072/10646 [03:20<08:14, 15.31it/s]/Users/nikita/Desktop/venvs/env/lib/python3.9/site-packages/numpy/core/fromnumeric.py:3504: RuntimeWarning: Mean of empty slice.\n",
      "  return _methods._mean(a, axis=axis, dtype=dtype,\n",
      "/Users/nikita/Desktop/venvs/env/lib/python3.9/site-packages/numpy/core/_methods.py:129: RuntimeWarning: invalid value encountered in scalar divide\n",
      "  ret = ret.dtype.type(ret / rcount)\n",
      " 29%|███████████                           | 3102/10646 [03:22<08:11, 15.34it/s]"
     ]
    },
    {
     "name": "stdout",
     "output_type": "stream",
     "text": [
      "Exception FF6DFD06-685C-4F56-95E6-46ED96109F6F engzee pop from empty list\n"
     ]
    },
    {
     "name": "stderr",
     "output_type": "stream",
     "text": [
      " 29%|███████████▏                          | 3126/10646 [03:23<08:12, 15.26it/s]"
     ]
    },
    {
     "name": "stdout",
     "output_type": "stream",
     "text": [
      "Exception FF6DFD06-685C-4F56-95E6-46ED96109F6F engzee pop from empty list\n"
     ]
    },
    {
     "name": "stderr",
     "output_type": "stream",
     "text": [
      " 29%|███████████▏                          | 3140/10646 [03:24<08:16, 15.13it/s]"
     ]
    },
    {
     "name": "stdout",
     "output_type": "stream",
     "text": [
      "Exception FF6DFD06-685C-4F56-95E6-46ED96109F6F engzee pop from empty list\n"
     ]
    },
    {
     "name": "stderr",
     "output_type": "stream",
     "text": [
      " 30%|███████████▎                          | 3156/10646 [03:25<08:14, 15.15it/s]/Users/nikita/Desktop/venvs/env/lib/python3.9/site-packages/numpy/core/fromnumeric.py:3504: RuntimeWarning: Mean of empty slice.\n",
      "  return _methods._mean(a, axis=axis, dtype=dtype,\n",
      "/Users/nikita/Desktop/venvs/env/lib/python3.9/site-packages/numpy/core/_methods.py:129: RuntimeWarning: invalid value encountered in scalar divide\n",
      "  ret = ret.dtype.type(ret / rcount)\n",
      " 30%|███████████▎                          | 3176/10646 [03:26<08:18, 15.00it/s]/Users/nikita/Desktop/venvs/env/lib/python3.9/site-packages/numpy/core/fromnumeric.py:3504: RuntimeWarning: Mean of empty slice.\n",
      "  return _methods._mean(a, axis=axis, dtype=dtype,\n",
      "/Users/nikita/Desktop/venvs/env/lib/python3.9/site-packages/numpy/core/_methods.py:129: RuntimeWarning: invalid value encountered in scalar divide\n",
      "  ret = ret.dtype.type(ret / rcount)\n",
      " 30%|███████████▍                          | 3214/10646 [03:29<08:09, 15.19it/s]/Users/nikita/Desktop/venvs/env/lib/python3.9/site-packages/numpy/core/fromnumeric.py:3504: RuntimeWarning: Mean of empty slice.\n",
      "  return _methods._mean(a, axis=axis, dtype=dtype,\n",
      "/Users/nikita/Desktop/venvs/env/lib/python3.9/site-packages/numpy/core/_methods.py:129: RuntimeWarning: invalid value encountered in scalar divide\n",
      "  ret = ret.dtype.type(ret / rcount)\n",
      "/Users/nikita/Desktop/venvs/env/lib/python3.9/site-packages/numpy/core/fromnumeric.py:3504: RuntimeWarning: Mean of empty slice.\n",
      "  return _methods._mean(a, axis=axis, dtype=dtype,\n",
      "/Users/nikita/Desktop/venvs/env/lib/python3.9/site-packages/numpy/core/_methods.py:129: RuntimeWarning: invalid value encountered in scalar divide\n",
      "  ret = ret.dtype.type(ret / rcount)\n",
      " 31%|███████████▋                          | 3264/10646 [03:32<08:06, 15.17it/s]"
     ]
    },
    {
     "name": "stdout",
     "output_type": "stream",
     "text": [
      "Exception FF6DFD06-685C-4F56-95E6-46ED96109F6F engzee pop from empty list\n"
     ]
    },
    {
     "name": "stderr",
     "output_type": "stream",
     "text": [
      " 31%|███████████▊                          | 3294/10646 [03:34<08:04, 15.19it/s]/Users/nikita/Desktop/venvs/env/lib/python3.9/site-packages/numpy/core/fromnumeric.py:3504: RuntimeWarning: Mean of empty slice.\n",
      "  return _methods._mean(a, axis=axis, dtype=dtype,\n",
      "/Users/nikita/Desktop/venvs/env/lib/python3.9/site-packages/numpy/core/_methods.py:129: RuntimeWarning: invalid value encountered in scalar divide\n",
      "  ret = ret.dtype.type(ret / rcount)\n",
      " 31%|███████████▊                          | 3321/10646 [03:36<06:57, 17.52it/s]"
     ]
    },
    {
     "name": "stdout",
     "output_type": "stream",
     "text": [
      "Failed for index 3318 with error: index 0 is out of bounds for axis 0 with size 0\n"
     ]
    },
    {
     "name": "stderr",
     "output_type": "stream",
     "text": [
      " 32%|███████████▉                          | 3361/10646 [03:39<07:52, 15.41it/s]/Users/nikita/Desktop/venvs/env/lib/python3.9/site-packages/numpy/core/fromnumeric.py:3504: RuntimeWarning: Mean of empty slice.\n",
      "  return _methods._mean(a, axis=axis, dtype=dtype,\n",
      "/Users/nikita/Desktop/venvs/env/lib/python3.9/site-packages/numpy/core/_methods.py:129: RuntimeWarning: invalid value encountered in scalar divide\n",
      "  ret = ret.dtype.type(ret / rcount)\n",
      " 32%|████████████                          | 3373/10646 [03:39<07:53, 15.36it/s]/Users/nikita/Desktop/venvs/env/lib/python3.9/site-packages/numpy/core/fromnumeric.py:3504: RuntimeWarning: Mean of empty slice.\n",
      "  return _methods._mean(a, axis=axis, dtype=dtype,\n",
      "/Users/nikita/Desktop/venvs/env/lib/python3.9/site-packages/numpy/core/_methods.py:129: RuntimeWarning: invalid value encountered in scalar divide\n",
      "  ret = ret.dtype.type(ret / rcount)\n",
      " 32%|████████████                          | 3381/10646 [03:40<07:56, 15.24it/s]/Users/nikita/Desktop/venvs/env/lib/python3.9/site-packages/numpy/core/fromnumeric.py:3504: RuntimeWarning: Mean of empty slice.\n",
      "  return _methods._mean(a, axis=axis, dtype=dtype,\n",
      "/Users/nikita/Desktop/venvs/env/lib/python3.9/site-packages/numpy/core/_methods.py:129: RuntimeWarning: invalid value encountered in scalar divide\n",
      "  ret = ret.dtype.type(ret / rcount)\n",
      " 32%|████████████▎                         | 3441/10646 [03:44<07:55, 15.16it/s]"
     ]
    },
    {
     "name": "stdout",
     "output_type": "stream",
     "text": [
      "Exception FF6DFD06-685C-4F56-95E6-46ED96109F6F engzee pop from empty list\n"
     ]
    },
    {
     "name": "stderr",
     "output_type": "stream",
     "text": [
      " 32%|████████████▎                         | 3447/10646 [03:44<07:53, 15.21it/s]/Users/nikita/Desktop/venvs/env/lib/python3.9/site-packages/numpy/core/fromnumeric.py:3504: RuntimeWarning: Mean of empty slice.\n",
      "  return _methods._mean(a, axis=axis, dtype=dtype,\n",
      "/Users/nikita/Desktop/venvs/env/lib/python3.9/site-packages/numpy/core/_methods.py:129: RuntimeWarning: invalid value encountered in scalar divide\n",
      "  ret = ret.dtype.type(ret / rcount)\n",
      " 32%|████████████▎                         | 3449/10646 [03:44<07:52, 15.23it/s]/Users/nikita/Desktop/venvs/env/lib/python3.9/site-packages/numpy/core/fromnumeric.py:3504: RuntimeWarning: Mean of empty slice.\n",
      "  return _methods._mean(a, axis=axis, dtype=dtype,\n",
      "/Users/nikita/Desktop/venvs/env/lib/python3.9/site-packages/numpy/core/_methods.py:129: RuntimeWarning: invalid value encountered in scalar divide\n",
      "  ret = ret.dtype.type(ret / rcount)\n",
      " 33%|████████████▎                         | 3460/10646 [03:45<07:10, 16.69it/s]"
     ]
    },
    {
     "name": "stdout",
     "output_type": "stream",
     "text": [
      "Failed for index 3456 with error: index 0 is out of bounds for axis 0 with size 0\n"
     ]
    },
    {
     "name": "stderr",
     "output_type": "stream",
     "text": [
      " 33%|████████████▎                         | 3464/10646 [03:45<07:30, 15.93it/s]/Users/nikita/Desktop/venvs/env/lib/python3.9/site-packages/numpy/core/fromnumeric.py:3504: RuntimeWarning: Mean of empty slice.\n",
      "  return _methods._mean(a, axis=axis, dtype=dtype,\n",
      "/Users/nikita/Desktop/venvs/env/lib/python3.9/site-packages/numpy/core/_methods.py:129: RuntimeWarning: invalid value encountered in scalar divide\n",
      "  ret = ret.dtype.type(ret / rcount)\n",
      " 33%|████████████▍                         | 3476/10646 [03:46<07:45, 15.41it/s]/Users/nikita/Desktop/venvs/env/lib/python3.9/site-packages/numpy/core/fromnumeric.py:3504: RuntimeWarning: Mean of empty slice.\n",
      "  return _methods._mean(a, axis=axis, dtype=dtype,\n",
      "/Users/nikita/Desktop/venvs/env/lib/python3.9/site-packages/numpy/core/_methods.py:129: RuntimeWarning: invalid value encountered in scalar divide\n",
      "  ret = ret.dtype.type(ret / rcount)\n",
      " 33%|████████████▍                         | 3492/10646 [03:47<07:49, 15.24it/s]/Users/nikita/Desktop/venvs/env/lib/python3.9/site-packages/numpy/core/fromnumeric.py:3504: RuntimeWarning: Mean of empty slice.\n",
      "  return _methods._mean(a, axis=axis, dtype=dtype,\n",
      "/Users/nikita/Desktop/venvs/env/lib/python3.9/site-packages/numpy/core/_methods.py:129: RuntimeWarning: invalid value encountered in scalar divide\n",
      "  ret = ret.dtype.type(ret / rcount)\n",
      " 33%|████████████▌                         | 3522/10646 [03:49<07:52, 15.07it/s]"
     ]
    },
    {
     "name": "stdout",
     "output_type": "stream",
     "text": [
      "Exception FF6DFD06-685C-4F56-95E6-46ED96109F6F engzee pop from empty list\n"
     ]
    },
    {
     "name": "stderr",
     "output_type": "stream",
     "text": [
      " 33%|████████████▌                         | 3526/10646 [03:49<07:47, 15.23it/s]/Users/nikita/Desktop/venvs/env/lib/python3.9/site-packages/numpy/core/fromnumeric.py:3504: RuntimeWarning: Mean of empty slice.\n",
      "  return _methods._mean(a, axis=axis, dtype=dtype,\n",
      "/Users/nikita/Desktop/venvs/env/lib/python3.9/site-packages/numpy/core/_methods.py:129: RuntimeWarning: invalid value encountered in scalar divide\n",
      "  ret = ret.dtype.type(ret / rcount)\n",
      " 33%|████████████▋                         | 3560/10646 [03:52<08:28, 13.93it/s]"
     ]
    },
    {
     "name": "stdout",
     "output_type": "stream",
     "text": [
      "Exception FF6DFD06-685C-4F56-95E6-46ED96109F6F engzee pop from empty list\n"
     ]
    },
    {
     "name": "stderr",
     "output_type": "stream",
     "text": [
      "\r",
      " 33%|████████████▋                         | 3562/10646 [03:52<08:19, 14.17it/s]"
     ]
    },
    {
     "name": "stdout",
     "output_type": "stream",
     "text": [
      "Exception FF6DFD06-685C-4F56-95E6-46ED96109F6F engzee pop from empty list\n"
     ]
    },
    {
     "name": "stderr",
     "output_type": "stream",
     "text": [
      " 34%|████████████▋                         | 3572/10646 [03:53<08:34, 13.75it/s]"
     ]
    },
    {
     "name": "stdout",
     "output_type": "stream",
     "text": [
      "Exception FF6DFD06-685C-4F56-95E6-46ED96109F6F engzee pop from empty list\n"
     ]
    },
    {
     "name": "stderr",
     "output_type": "stream",
     "text": [
      " 34%|█████████████                         | 3652/10646 [03:58<07:50, 14.86it/s]"
     ]
    },
    {
     "name": "stdout",
     "output_type": "stream",
     "text": [
      "Exception FF6DFD06-685C-4F56-95E6-46ED96109F6F engzee pop from empty list\n"
     ]
    },
    {
     "name": "stderr",
     "output_type": "stream",
     "text": [
      " 35%|█████████████▏                        | 3692/10646 [04:00<07:31, 15.39it/s]/Users/nikita/Desktop/venvs/env/lib/python3.9/site-packages/numpy/core/fromnumeric.py:3504: RuntimeWarning: Mean of empty slice.\n",
      "  return _methods._mean(a, axis=axis, dtype=dtype,\n",
      "/Users/nikita/Desktop/venvs/env/lib/python3.9/site-packages/numpy/core/_methods.py:129: RuntimeWarning: invalid value encountered in scalar divide\n",
      "  ret = ret.dtype.type(ret / rcount)\n",
      " 35%|█████████████▏                        | 3694/10646 [04:00<07:33, 15.32it/s]/Users/nikita/Desktop/venvs/env/lib/python3.9/site-packages/numpy/core/fromnumeric.py:3504: RuntimeWarning: Mean of empty slice.\n",
      "  return _methods._mean(a, axis=axis, dtype=dtype,\n",
      "/Users/nikita/Desktop/venvs/env/lib/python3.9/site-packages/numpy/core/_methods.py:129: RuntimeWarning: invalid value encountered in scalar divide\n",
      "  ret = ret.dtype.type(ret / rcount)\n",
      " 35%|█████████████▏                        | 3700/10646 [04:01<07:26, 15.57it/s]/Users/nikita/Desktop/venvs/env/lib/python3.9/site-packages/numpy/core/fromnumeric.py:3504: RuntimeWarning: Mean of empty slice.\n",
      "  return _methods._mean(a, axis=axis, dtype=dtype,\n",
      "/Users/nikita/Desktop/venvs/env/lib/python3.9/site-packages/numpy/core/_methods.py:129: RuntimeWarning: invalid value encountered in scalar divide\n",
      "  ret = ret.dtype.type(ret / rcount)\n",
      " 35%|█████████████▏                        | 3708/10646 [04:01<07:32, 15.35it/s]/Users/nikita/Desktop/venvs/env/lib/python3.9/site-packages/numpy/core/fromnumeric.py:3504: RuntimeWarning: Mean of empty slice.\n",
      "  return _methods._mean(a, axis=axis, dtype=dtype,\n",
      "/Users/nikita/Desktop/venvs/env/lib/python3.9/site-packages/numpy/core/_methods.py:129: RuntimeWarning: invalid value encountered in scalar divide\n",
      "  ret = ret.dtype.type(ret / rcount)\n",
      " 35%|█████████████▏                        | 3710/10646 [04:02<07:32, 15.32it/s]"
     ]
    },
    {
     "name": "stdout",
     "output_type": "stream",
     "text": [
      "Exception FF6DFD06-685C-4F56-95E6-46ED96109F6F engzee pop from empty list\n"
     ]
    },
    {
     "name": "stderr",
     "output_type": "stream",
     "text": [
      " 35%|█████████████▎                        | 3738/10646 [04:03<07:31, 15.30it/s]/Users/nikita/Desktop/venvs/env/lib/python3.9/site-packages/numpy/core/fromnumeric.py:3504: RuntimeWarning: Mean of empty slice.\n",
      "  return _methods._mean(a, axis=axis, dtype=dtype,\n",
      "/Users/nikita/Desktop/venvs/env/lib/python3.9/site-packages/numpy/core/_methods.py:129: RuntimeWarning: invalid value encountered in scalar divide\n",
      "  ret = ret.dtype.type(ret / rcount)\n",
      " 35%|█████████████▍                        | 3762/10646 [04:05<07:26, 15.41it/s]/Users/nikita/Desktop/venvs/env/lib/python3.9/site-packages/numpy/core/fromnumeric.py:3504: RuntimeWarning: Mean of empty slice.\n",
      "  return _methods._mean(a, axis=axis, dtype=dtype,\n",
      "/Users/nikita/Desktop/venvs/env/lib/python3.9/site-packages/numpy/core/_methods.py:129: RuntimeWarning: invalid value encountered in scalar divide\n",
      "  ret = ret.dtype.type(ret / rcount)\n",
      " 35%|█████████████▍                        | 3776/10646 [04:06<07:28, 15.30it/s]/Users/nikita/Desktop/venvs/env/lib/python3.9/site-packages/numpy/core/fromnumeric.py:3504: RuntimeWarning: Mean of empty slice.\n",
      "  return _methods._mean(a, axis=axis, dtype=dtype,\n",
      "/Users/nikita/Desktop/venvs/env/lib/python3.9/site-packages/numpy/core/_methods.py:129: RuntimeWarning: invalid value encountered in scalar divide\n",
      "  ret = ret.dtype.type(ret / rcount)\n",
      " 36%|█████████████▌                        | 3812/10646 [04:08<07:25, 15.32it/s]/Users/nikita/Desktop/venvs/env/lib/python3.9/site-packages/numpy/core/fromnumeric.py:3504: RuntimeWarning: Mean of empty slice.\n",
      "  return _methods._mean(a, axis=axis, dtype=dtype,\n",
      "/Users/nikita/Desktop/venvs/env/lib/python3.9/site-packages/numpy/core/_methods.py:129: RuntimeWarning: invalid value encountered in scalar divide\n",
      "  ret = ret.dtype.type(ret / rcount)\n",
      " 36%|█████████████▌                        | 3814/10646 [04:08<07:25, 15.32it/s]"
     ]
    },
    {
     "name": "stdout",
     "output_type": "stream",
     "text": [
      "Exception FF6DFD06-685C-4F56-95E6-46ED96109F6F engzee pop from empty list\n"
     ]
    },
    {
     "name": "stderr",
     "output_type": "stream",
     "text": [
      " 36%|█████████████▋                        | 3836/10646 [04:10<07:24, 15.34it/s]/Users/nikita/Desktop/venvs/env/lib/python3.9/site-packages/numpy/core/fromnumeric.py:3504: RuntimeWarning: Mean of empty slice.\n",
      "  return _methods._mean(a, axis=axis, dtype=dtype,\n",
      "/Users/nikita/Desktop/venvs/env/lib/python3.9/site-packages/numpy/core/_methods.py:129: RuntimeWarning: invalid value encountered in scalar divide\n",
      "  ret = ret.dtype.type(ret / rcount)\n",
      " 36%|█████████████▊                        | 3872/10646 [04:12<07:19, 15.41it/s]/Users/nikita/Desktop/venvs/env/lib/python3.9/site-packages/numpy/core/fromnumeric.py:3504: RuntimeWarning: Mean of empty slice.\n",
      "  return _methods._mean(a, axis=axis, dtype=dtype,\n",
      "/Users/nikita/Desktop/venvs/env/lib/python3.9/site-packages/numpy/core/_methods.py:129: RuntimeWarning: invalid value encountered in scalar divide\n",
      "  ret = ret.dtype.type(ret / rcount)\n",
      " 36%|█████████████▊                        | 3874/10646 [04:12<07:16, 15.50it/s]/Users/nikita/Desktop/venvs/env/lib/python3.9/site-packages/numpy/core/fromnumeric.py:3504: RuntimeWarning: Mean of empty slice.\n",
      "  return _methods._mean(a, axis=axis, dtype=dtype,\n",
      "/Users/nikita/Desktop/venvs/env/lib/python3.9/site-packages/numpy/core/_methods.py:129: RuntimeWarning: invalid value encountered in scalar divide\n",
      "  ret = ret.dtype.type(ret / rcount)\n",
      " 37%|██████████████                        | 3924/10646 [04:15<07:27, 15.03it/s]"
     ]
    },
    {
     "name": "stdout",
     "output_type": "stream",
     "text": [
      "Exception FF6DFD06-685C-4F56-95E6-46ED96109F6F engzee pop from empty list\n"
     ]
    },
    {
     "name": "stderr",
     "output_type": "stream",
     "text": [
      " 37%|██████████████                        | 3928/10646 [04:16<08:14, 13.58it/s]/Users/nikita/Desktop/venvs/env/lib/python3.9/site-packages/numpy/core/fromnumeric.py:3504: RuntimeWarning: Mean of empty slice.\n",
      "  return _methods._mean(a, axis=axis, dtype=dtype,\n",
      "/Users/nikita/Desktop/venvs/env/lib/python3.9/site-packages/numpy/core/_methods.py:129: RuntimeWarning: invalid value encountered in scalar divide\n",
      "  ret = ret.dtype.type(ret / rcount)\n",
      " 37%|██████████████                        | 3931/10646 [04:16<07:08, 15.66it/s]"
     ]
    },
    {
     "name": "stdout",
     "output_type": "stream",
     "text": [
      "Failed for index 3929 with error: index 0 is out of bounds for axis 0 with size 0\n"
     ]
    },
    {
     "name": "stderr",
     "output_type": "stream",
     "text": [
      " 37%|██████████████                        | 3949/10646 [04:17<07:18, 15.27it/s]/Users/nikita/Desktop/venvs/env/lib/python3.9/site-packages/numpy/core/fromnumeric.py:3504: RuntimeWarning: Mean of empty slice.\n",
      "  return _methods._mean(a, axis=axis, dtype=dtype,\n",
      "/Users/nikita/Desktop/venvs/env/lib/python3.9/site-packages/numpy/core/_methods.py:129: RuntimeWarning: invalid value encountered in scalar divide\n",
      "  ret = ret.dtype.type(ret / rcount)\n",
      " 37%|██████████████▏                       | 3991/10646 [04:20<07:19, 15.13it/s]"
     ]
    },
    {
     "name": "stdout",
     "output_type": "stream",
     "text": [
      "Exception FF6DFD06-685C-4F56-95E6-46ED96109F6F engzee pop from empty list\n"
     ]
    },
    {
     "name": "stderr",
     "output_type": "stream",
     "text": [
      " 38%|██████████████▎                       | 4017/10646 [04:22<07:18, 15.13it/s]"
     ]
    },
    {
     "name": "stdout",
     "output_type": "stream",
     "text": [
      "Exception FF6DFD06-685C-4F56-95E6-46ED96109F6F engzee pop from empty list\n"
     ]
    },
    {
     "name": "stderr",
     "output_type": "stream",
     "text": [
      " 38%|██████████████▍                       | 4057/10646 [04:24<07:38, 14.36it/s]/Users/nikita/Desktop/venvs/env/lib/python3.9/site-packages/numpy/core/fromnumeric.py:3504: RuntimeWarning: Mean of empty slice.\n",
      "  return _methods._mean(a, axis=axis, dtype=dtype,\n",
      "/Users/nikita/Desktop/venvs/env/lib/python3.9/site-packages/numpy/core/_methods.py:129: RuntimeWarning: invalid value encountered in scalar divide\n",
      "  ret = ret.dtype.type(ret / rcount)\n",
      " 38%|██████████████▌                       | 4063/10646 [04:25<07:22, 14.87it/s]/Users/nikita/Desktop/venvs/env/lib/python3.9/site-packages/numpy/core/fromnumeric.py:3504: RuntimeWarning: Mean of empty slice.\n",
      "  return _methods._mean(a, axis=axis, dtype=dtype,\n",
      "/Users/nikita/Desktop/venvs/env/lib/python3.9/site-packages/numpy/core/_methods.py:129: RuntimeWarning: invalid value encountered in scalar divide\n",
      "  ret = ret.dtype.type(ret / rcount)\n",
      " 39%|██████████████▋                       | 4125/10646 [04:29<07:04, 15.38it/s]"
     ]
    },
    {
     "name": "stdout",
     "output_type": "stream",
     "text": [
      "Exception FF6DFD06-685C-4F56-95E6-46ED96109F6F engzee pop from empty list\n"
     ]
    },
    {
     "name": "stderr",
     "output_type": "stream",
     "text": [
      " 39%|██████████████▋                       | 4127/10646 [04:29<07:09, 15.18it/s]/Users/nikita/Desktop/venvs/env/lib/python3.9/site-packages/numpy/core/fromnumeric.py:3504: RuntimeWarning: Mean of empty slice.\n",
      "  return _methods._mean(a, axis=axis, dtype=dtype,\n",
      "/Users/nikita/Desktop/venvs/env/lib/python3.9/site-packages/numpy/core/_methods.py:129: RuntimeWarning: invalid value encountered in scalar divide\n",
      "  ret = ret.dtype.type(ret / rcount)\n",
      " 39%|██████████████▋                       | 4132/10646 [04:29<06:27, 16.82it/s]"
     ]
    },
    {
     "name": "stdout",
     "output_type": "stream",
     "text": [
      "Failed for index 4128 with error: index 0 is out of bounds for axis 0 with size 0\n"
     ]
    },
    {
     "name": "stderr",
     "output_type": "stream",
     "text": [
      " 39%|██████████████▊                       | 4138/10646 [04:30<06:49, 15.89it/s]"
     ]
    },
    {
     "name": "stdout",
     "output_type": "stream",
     "text": [
      "Exception FF6DFD06-685C-4F56-95E6-46ED96109F6F engzee pop from empty list\n"
     ]
    },
    {
     "name": "stderr",
     "output_type": "stream",
     "text": [
      " 39%|██████████████▉                       | 4178/10646 [04:32<07:02, 15.30it/s]/Users/nikita/Desktop/venvs/env/lib/python3.9/site-packages/numpy/core/fromnumeric.py:3504: RuntimeWarning: Mean of empty slice.\n",
      "  return _methods._mean(a, axis=axis, dtype=dtype,\n",
      "/Users/nikita/Desktop/venvs/env/lib/python3.9/site-packages/numpy/core/_methods.py:129: RuntimeWarning: invalid value encountered in scalar divide\n",
      "  ret = ret.dtype.type(ret / rcount)\n",
      " 39%|██████████████▉                       | 4180/10646 [04:32<07:06, 15.17it/s]"
     ]
    },
    {
     "name": "stdout",
     "output_type": "stream",
     "text": [
      "Exception FF6DFD06-685C-4F56-95E6-46ED96109F6F engzee pop from empty list\n"
     ]
    },
    {
     "name": "stderr",
     "output_type": "stream",
     "text": [
      " 40%|███████████████                       | 4211/10646 [04:34<06:11, 17.31it/s]"
     ]
    },
    {
     "name": "stdout",
     "output_type": "stream",
     "text": [
      "Failed for index 4208 with error: index 0 is out of bounds for axis 0 with size 0\n"
     ]
    },
    {
     "name": "stderr",
     "output_type": "stream",
     "text": [
      " 40%|███████████████                       | 4219/10646 [04:35<06:48, 15.72it/s]"
     ]
    },
    {
     "name": "stdout",
     "output_type": "stream",
     "text": [
      "Exception FF6DFD06-685C-4F56-95E6-46ED96109F6F engzee pop from empty list\n"
     ]
    },
    {
     "name": "stderr",
     "output_type": "stream",
     "text": [
      " 40%|███████████████                       | 4233/10646 [04:36<07:08, 14.96it/s]/Users/nikita/Desktop/venvs/env/lib/python3.9/site-packages/numpy/core/fromnumeric.py:3504: RuntimeWarning: Mean of empty slice.\n",
      "  return _methods._mean(a, axis=axis, dtype=dtype,\n",
      "/Users/nikita/Desktop/venvs/env/lib/python3.9/site-packages/numpy/core/_methods.py:129: RuntimeWarning: invalid value encountered in scalar divide\n",
      "  ret = ret.dtype.type(ret / rcount)\n",
      " 40%|███████████████▏                      | 4241/10646 [04:36<07:02, 15.16it/s]/Users/nikita/Desktop/venvs/env/lib/python3.9/site-packages/numpy/core/fromnumeric.py:3504: RuntimeWarning: Mean of empty slice.\n",
      "  return _methods._mean(a, axis=axis, dtype=dtype,\n",
      "/Users/nikita/Desktop/venvs/env/lib/python3.9/site-packages/numpy/core/_methods.py:129: RuntimeWarning: invalid value encountered in scalar divide\n",
      "  ret = ret.dtype.type(ret / rcount)\n",
      " 40%|███████████████▎                      | 4295/10646 [04:40<06:53, 15.38it/s]"
     ]
    },
    {
     "name": "stdout",
     "output_type": "stream",
     "text": [
      "Exception FF6DFD06-685C-4F56-95E6-46ED96109F6F engzee pop from empty list\n"
     ]
    },
    {
     "name": "stderr",
     "output_type": "stream",
     "text": [
      " 40%|███████████████▎                      | 4297/10646 [04:40<06:56, 15.24it/s]/Users/nikita/Desktop/venvs/env/lib/python3.9/site-packages/numpy/core/fromnumeric.py:3504: RuntimeWarning: Mean of empty slice.\n",
      "  return _methods._mean(a, axis=axis, dtype=dtype,\n",
      "/Users/nikita/Desktop/venvs/env/lib/python3.9/site-packages/numpy/core/_methods.py:129: RuntimeWarning: invalid value encountered in scalar divide\n",
      "  ret = ret.dtype.type(ret / rcount)\n",
      " 41%|███████████████▍                      | 4326/10646 [04:42<06:02, 17.45it/s]"
     ]
    },
    {
     "name": "stdout",
     "output_type": "stream",
     "text": [
      "Failed for index 4323 with error: index 0 is out of bounds for axis 0 with size 0\n"
     ]
    },
    {
     "name": "stderr",
     "output_type": "stream",
     "text": [
      " 41%|███████████████▌                      | 4354/10646 [04:44<07:00, 14.95it/s]"
     ]
    },
    {
     "name": "stdout",
     "output_type": "stream",
     "text": [
      "Exception FF6DFD06-685C-4F56-95E6-46ED96109F6F engzee pop from empty list\n"
     ]
    },
    {
     "name": "stderr",
     "output_type": "stream",
     "text": [
      " 41%|███████████████▌                      | 4368/10646 [04:45<06:50, 15.28it/s]/Users/nikita/Desktop/venvs/env/lib/python3.9/site-packages/numpy/core/fromnumeric.py:3504: RuntimeWarning: Mean of empty slice.\n",
      "  return _methods._mean(a, axis=axis, dtype=dtype,\n",
      "/Users/nikita/Desktop/venvs/env/lib/python3.9/site-packages/numpy/core/_methods.py:129: RuntimeWarning: invalid value encountered in scalar divide\n",
      "  ret = ret.dtype.type(ret / rcount)\n",
      " 41%|███████████████▌                      | 4374/10646 [04:45<06:52, 15.19it/s]"
     ]
    },
    {
     "name": "stdout",
     "output_type": "stream",
     "text": [
      "Exception FF6DFD06-685C-4F56-95E6-46ED96109F6F engzee pop from empty list\n"
     ]
    },
    {
     "name": "stderr",
     "output_type": "stream",
     "text": [
      " 41%|███████████████▋                      | 4380/10646 [04:45<06:50, 15.26it/s]"
     ]
    },
    {
     "name": "stdout",
     "output_type": "stream",
     "text": [
      "Exception FF6DFD06-685C-4F56-95E6-46ED96109F6F engzee pop from empty list\n"
     ]
    },
    {
     "name": "stderr",
     "output_type": "stream",
     "text": [
      " 41%|███████████████▋                      | 4396/10646 [04:47<06:48, 15.30it/s]/Users/nikita/Desktop/venvs/env/lib/python3.9/site-packages/numpy/core/fromnumeric.py:3504: RuntimeWarning: Mean of empty slice.\n",
      "  return _methods._mean(a, axis=axis, dtype=dtype,\n",
      "/Users/nikita/Desktop/venvs/env/lib/python3.9/site-packages/numpy/core/_methods.py:129: RuntimeWarning: invalid value encountered in scalar divide\n",
      "  ret = ret.dtype.type(ret / rcount)\n",
      " 41%|███████████████▋                      | 4404/10646 [04:47<06:49, 15.23it/s]"
     ]
    },
    {
     "name": "stdout",
     "output_type": "stream",
     "text": [
      "Exception FF6DFD06-685C-4F56-95E6-46ED96109F6F engzee pop from empty list\n"
     ]
    },
    {
     "name": "stderr",
     "output_type": "stream",
     "text": [
      " 42%|███████████████▊                      | 4420/10646 [04:48<06:54, 15.00it/s]/Users/nikita/Desktop/venvs/env/lib/python3.9/site-packages/numpy/core/fromnumeric.py:3504: RuntimeWarning: Mean of empty slice.\n",
      "  return _methods._mean(a, axis=axis, dtype=dtype,\n",
      "/Users/nikita/Desktop/venvs/env/lib/python3.9/site-packages/numpy/core/_methods.py:129: RuntimeWarning: invalid value encountered in scalar divide\n",
      "  ret = ret.dtype.type(ret / rcount)\n",
      " 42%|███████████████▊                      | 4446/10646 [04:50<06:47, 15.23it/s]"
     ]
    },
    {
     "name": "stdout",
     "output_type": "stream",
     "text": [
      "Exception FF6DFD06-685C-4F56-95E6-46ED96109F6F engzee pop from empty list\n"
     ]
    },
    {
     "name": "stderr",
     "output_type": "stream",
     "text": [
      " 42%|███████████████▉                      | 4450/10646 [04:50<06:47, 15.21it/s]/Users/nikita/Desktop/venvs/env/lib/python3.9/site-packages/numpy/core/fromnumeric.py:3504: RuntimeWarning: Mean of empty slice.\n",
      "  return _methods._mean(a, axis=axis, dtype=dtype,\n",
      "/Users/nikita/Desktop/venvs/env/lib/python3.9/site-packages/numpy/core/_methods.py:129: RuntimeWarning: invalid value encountered in scalar divide\n",
      "  ret = ret.dtype.type(ret / rcount)\n",
      " 42%|███████████████▉                      | 4476/10646 [04:52<06:49, 15.06it/s]"
     ]
    },
    {
     "name": "stdout",
     "output_type": "stream",
     "text": [
      "Exception FF6DFD06-685C-4F56-95E6-46ED96109F6F engzee pop from empty list\n"
     ]
    },
    {
     "name": "stderr",
     "output_type": "stream",
     "text": [
      " 43%|████████████████▎                     | 4556/10646 [04:57<06:36, 15.37it/s]/Users/nikita/Desktop/venvs/env/lib/python3.9/site-packages/numpy/core/fromnumeric.py:3504: RuntimeWarning: Mean of empty slice.\n",
      "  return _methods._mean(a, axis=axis, dtype=dtype,\n",
      "/Users/nikita/Desktop/venvs/env/lib/python3.9/site-packages/numpy/core/_methods.py:129: RuntimeWarning: invalid value encountered in scalar divide\n",
      "  ret = ret.dtype.type(ret / rcount)\n",
      " 43%|████████████████▍                     | 4620/10646 [05:01<06:43, 14.95it/s]"
     ]
    },
    {
     "name": "stdout",
     "output_type": "stream",
     "text": [
      "Exception FF6DFD06-685C-4F56-95E6-46ED96109F6F engzee pop from empty list\n"
     ]
    },
    {
     "name": "stderr",
     "output_type": "stream",
     "text": [
      "/Users/nikita/Desktop/venvs/env/lib/python3.9/site-packages/numpy/core/fromnumeric.py:3504: RuntimeWarning: Mean of empty slice.\n",
      "  return _methods._mean(a, axis=axis, dtype=dtype,\n",
      "/Users/nikita/Desktop/venvs/env/lib/python3.9/site-packages/numpy/core/_methods.py:129: RuntimeWarning: invalid value encountered in scalar divide\n",
      "  ret = ret.dtype.type(ret / rcount)\n",
      " 43%|████████████████▍                     | 4622/10646 [05:01<06:45, 14.86it/s]/Users/nikita/Desktop/venvs/env/lib/python3.9/site-packages/numpy/core/fromnumeric.py:3504: RuntimeWarning: Mean of empty slice.\n",
      "  return _methods._mean(a, axis=axis, dtype=dtype,\n",
      "/Users/nikita/Desktop/venvs/env/lib/python3.9/site-packages/numpy/core/_methods.py:129: RuntimeWarning: invalid value encountered in scalar divide\n",
      "  ret = ret.dtype.type(ret / rcount)\n",
      " 43%|████████████████▌                     | 4626/10646 [05:02<06:42, 14.96it/s]"
     ]
    },
    {
     "name": "stdout",
     "output_type": "stream",
     "text": [
      "Exception FF6DFD06-685C-4F56-95E6-46ED96109F6F engzee pop from empty list\n"
     ]
    },
    {
     "name": "stderr",
     "output_type": "stream",
     "text": [
      " 44%|████████████████▌                     | 4636/10646 [05:02<07:00, 14.28it/s]/Users/nikita/Desktop/venvs/env/lib/python3.9/site-packages/numpy/core/fromnumeric.py:3504: RuntimeWarning: Mean of empty slice.\n",
      "  return _methods._mean(a, axis=axis, dtype=dtype,\n",
      "/Users/nikita/Desktop/venvs/env/lib/python3.9/site-packages/numpy/core/_methods.py:129: RuntimeWarning: invalid value encountered in scalar divide\n",
      "  ret = ret.dtype.type(ret / rcount)\n",
      " 44%|████████████████▌                     | 4648/10646 [05:03<06:44, 14.82it/s]"
     ]
    },
    {
     "name": "stdout",
     "output_type": "stream",
     "text": [
      "Exception FF6DFD06-685C-4F56-95E6-46ED96109F6F engzee pop from empty list\n"
     ]
    },
    {
     "name": "stderr",
     "output_type": "stream",
     "text": [
      " 44%|████████████████▊                     | 4694/10646 [05:06<06:34, 15.09it/s]/Users/nikita/Desktop/venvs/env/lib/python3.9/site-packages/numpy/core/fromnumeric.py:3504: RuntimeWarning: Mean of empty slice.\n",
      "  return _methods._mean(a, axis=axis, dtype=dtype,\n",
      "/Users/nikita/Desktop/venvs/env/lib/python3.9/site-packages/numpy/core/_methods.py:129: RuntimeWarning: invalid value encountered in scalar divide\n",
      "  ret = ret.dtype.type(ret / rcount)\n",
      " 44%|████████████████▊                     | 4710/10646 [05:07<06:31, 15.16it/s]/Users/nikita/Desktop/venvs/env/lib/python3.9/site-packages/numpy/core/fromnumeric.py:3504: RuntimeWarning: Mean of empty slice.\n",
      "  return _methods._mean(a, axis=axis, dtype=dtype,\n",
      "/Users/nikita/Desktop/venvs/env/lib/python3.9/site-packages/numpy/core/_methods.py:129: RuntimeWarning: invalid value encountered in scalar divide\n",
      "  ret = ret.dtype.type(ret / rcount)\n",
      " 44%|████████████████▊                     | 4722/10646 [05:08<06:30, 15.18it/s]"
     ]
    },
    {
     "name": "stdout",
     "output_type": "stream",
     "text": [
      "Exception FF6DFD06-685C-4F56-95E6-46ED96109F6F engzee pop from empty list\n"
     ]
    },
    {
     "name": "stderr",
     "output_type": "stream",
     "text": [
      " 45%|████████████████▉                     | 4742/10646 [05:09<06:27, 15.23it/s]/Users/nikita/Desktop/venvs/env/lib/python3.9/site-packages/numpy/core/fromnumeric.py:3504: RuntimeWarning: Mean of empty slice.\n",
      "  return _methods._mean(a, axis=axis, dtype=dtype,\n",
      "/Users/nikita/Desktop/venvs/env/lib/python3.9/site-packages/numpy/core/_methods.py:129: RuntimeWarning: invalid value encountered in scalar divide\n",
      "  ret = ret.dtype.type(ret / rcount)\n",
      " 45%|████████████████▉                     | 4750/10646 [05:10<06:22, 15.43it/s]/Users/nikita/Desktop/venvs/env/lib/python3.9/site-packages/numpy/core/fromnumeric.py:3504: RuntimeWarning: Mean of empty slice.\n",
      "  return _methods._mean(a, axis=axis, dtype=dtype,\n",
      "/Users/nikita/Desktop/venvs/env/lib/python3.9/site-packages/numpy/core/_methods.py:129: RuntimeWarning: invalid value encountered in scalar divide\n",
      "  ret = ret.dtype.type(ret / rcount)\n",
      " 45%|█████████████████                     | 4768/10646 [05:11<06:20, 15.46it/s]/Users/nikita/Desktop/venvs/env/lib/python3.9/site-packages/numpy/core/fromnumeric.py:3504: RuntimeWarning: Mean of empty slice.\n",
      "  return _methods._mean(a, axis=axis, dtype=dtype,\n",
      "/Users/nikita/Desktop/venvs/env/lib/python3.9/site-packages/numpy/core/_methods.py:129: RuntimeWarning: invalid value encountered in scalar divide\n",
      "  ret = ret.dtype.type(ret / rcount)\n",
      " 45%|█████████████████                     | 4790/10646 [05:13<06:24, 15.23it/s]/Users/nikita/Desktop/venvs/env/lib/python3.9/site-packages/numpy/core/fromnumeric.py:3504: RuntimeWarning: Mean of empty slice.\n",
      "  return _methods._mean(a, axis=axis, dtype=dtype,\n",
      "/Users/nikita/Desktop/venvs/env/lib/python3.9/site-packages/numpy/core/_methods.py:129: RuntimeWarning: invalid value encountered in scalar divide\n",
      "  ret = ret.dtype.type(ret / rcount)\n",
      " 45%|█████████████████▏                    | 4822/10646 [05:15<06:18, 15.39it/s]"
     ]
    },
    {
     "name": "stdout",
     "output_type": "stream",
     "text": [
      "Exception FF6DFD06-685C-4F56-95E6-46ED96109F6F engzee pop from empty list\n"
     ]
    },
    {
     "name": "stderr",
     "output_type": "stream",
     "text": [
      " 46%|█████████████████▎                    | 4844/10646 [05:16<06:18, 15.34it/s]/Users/nikita/Desktop/venvs/env/lib/python3.9/site-packages/numpy/core/fromnumeric.py:3504: RuntimeWarning: Mean of empty slice.\n",
      "  return _methods._mean(a, axis=axis, dtype=dtype,\n",
      "/Users/nikita/Desktop/venvs/env/lib/python3.9/site-packages/numpy/core/_methods.py:129: RuntimeWarning: invalid value encountered in scalar divide\n",
      "  ret = ret.dtype.type(ret / rcount)\n",
      " 46%|█████████████████▎                    | 4856/10646 [05:17<06:18, 15.28it/s]/Users/nikita/Desktop/venvs/env/lib/python3.9/site-packages/numpy/core/fromnumeric.py:3504: RuntimeWarning: Mean of empty slice.\n",
      "  return _methods._mean(a, axis=axis, dtype=dtype,\n",
      "/Users/nikita/Desktop/venvs/env/lib/python3.9/site-packages/numpy/core/_methods.py:129: RuntimeWarning: invalid value encountered in scalar divide\n",
      "  ret = ret.dtype.type(ret / rcount)\n",
      " 46%|█████████████████▍                    | 4870/10646 [05:18<06:22, 15.09it/s]/Users/nikita/Desktop/venvs/env/lib/python3.9/site-packages/numpy/core/fromnumeric.py:3504: RuntimeWarning: Mean of empty slice.\n",
      "  return _methods._mean(a, axis=axis, dtype=dtype,\n",
      "/Users/nikita/Desktop/venvs/env/lib/python3.9/site-packages/numpy/core/_methods.py:129: RuntimeWarning: invalid value encountered in scalar divide\n",
      "  ret = ret.dtype.type(ret / rcount)\n",
      " 46%|█████████████████▍                    | 4888/10646 [05:19<06:16, 15.29it/s]/Users/nikita/Desktop/venvs/env/lib/python3.9/site-packages/numpy/core/fromnumeric.py:3504: RuntimeWarning: Mean of empty slice.\n",
      "  return _methods._mean(a, axis=axis, dtype=dtype,\n",
      "/Users/nikita/Desktop/venvs/env/lib/python3.9/site-packages/numpy/core/_methods.py:129: RuntimeWarning: invalid value encountered in scalar divide\n",
      "  ret = ret.dtype.type(ret / rcount)\n",
      " 46%|█████████████████▌                    | 4918/10646 [05:21<06:09, 15.50it/s]/Users/nikita/Desktop/venvs/env/lib/python3.9/site-packages/numpy/core/fromnumeric.py:3504: RuntimeWarning: Mean of empty slice.\n",
      "  return _methods._mean(a, axis=axis, dtype=dtype,\n",
      "/Users/nikita/Desktop/venvs/env/lib/python3.9/site-packages/numpy/core/_methods.py:129: RuntimeWarning: invalid value encountered in scalar divide\n",
      "  ret = ret.dtype.type(ret / rcount)\n",
      " 46%|█████████████████▌                    | 4924/10646 [05:21<06:12, 15.37it/s]/Users/nikita/Desktop/venvs/env/lib/python3.9/site-packages/numpy/core/fromnumeric.py:3504: RuntimeWarning: Mean of empty slice.\n",
      "  return _methods._mean(a, axis=axis, dtype=dtype,\n",
      "/Users/nikita/Desktop/venvs/env/lib/python3.9/site-packages/numpy/core/_methods.py:129: RuntimeWarning: invalid value encountered in scalar divide\n",
      "  ret = ret.dtype.type(ret / rcount)\n",
      " 46%|█████████████████▋                    | 4948/10646 [05:23<06:12, 15.31it/s]/Users/nikita/Desktop/venvs/env/lib/python3.9/site-packages/numpy/core/fromnumeric.py:3504: RuntimeWarning: Mean of empty slice.\n",
      "  return _methods._mean(a, axis=axis, dtype=dtype,\n",
      "/Users/nikita/Desktop/venvs/env/lib/python3.9/site-packages/numpy/core/_methods.py:129: RuntimeWarning: invalid value encountered in scalar divide\n",
      "  ret = ret.dtype.type(ret / rcount)\n",
      " 47%|█████████████████▋                    | 4959/10646 [05:23<05:20, 17.74it/s]"
     ]
    },
    {
     "name": "stdout",
     "output_type": "stream",
     "text": [
      "Failed for index 4956 with error: index 0 is out of bounds for axis 0 with size 0\n"
     ]
    },
    {
     "name": "stderr",
     "output_type": "stream",
     "text": [
      " 47%|█████████████████▋                    | 4963/10646 [05:24<05:41, 16.63it/s]"
     ]
    },
    {
     "name": "stdout",
     "output_type": "stream",
     "text": [
      "Exception FF6DFD06-685C-4F56-95E6-46ED96109F6F engzee pop from empty list\n"
     ]
    },
    {
     "name": "stderr",
     "output_type": "stream",
     "text": [
      " 47%|█████████████████▉                    | 5009/10646 [05:27<06:04, 15.46it/s]"
     ]
    },
    {
     "name": "stdout",
     "output_type": "stream",
     "text": [
      "Exception FF6DFD06-685C-4F56-95E6-46ED96109F6F engzee pop from empty list\n"
     ]
    },
    {
     "name": "stderr",
     "output_type": "stream",
     "text": [
      "/Users/nikita/Desktop/venvs/env/lib/python3.9/site-packages/numpy/core/fromnumeric.py:3504: RuntimeWarning: Mean of empty slice.\n",
      "  return _methods._mean(a, axis=axis, dtype=dtype,\n",
      "/Users/nikita/Desktop/venvs/env/lib/python3.9/site-packages/numpy/core/_methods.py:129: RuntimeWarning: invalid value encountered in scalar divide\n",
      "  ret = ret.dtype.type(ret / rcount)\n",
      " 47%|█████████████████▉                    | 5021/10646 [05:28<06:09, 15.21it/s]"
     ]
    },
    {
     "name": "stdout",
     "output_type": "stream",
     "text": [
      "Exception FF6DFD06-685C-4F56-95E6-46ED96109F6F engzee pop from empty list\n"
     ]
    },
    {
     "name": "stderr",
     "output_type": "stream",
     "text": [
      " 47%|█████████████████▉                    | 5031/10646 [05:28<06:07, 15.29it/s]"
     ]
    },
    {
     "name": "stdout",
     "output_type": "stream",
     "text": [
      "Exception FF6DFD06-685C-4F56-95E6-46ED96109F6F engzee pop from empty list\n"
     ]
    },
    {
     "name": "stderr",
     "output_type": "stream",
     "text": [
      " 47%|█████████████████▉                    | 5035/10646 [05:28<06:05, 15.36it/s]"
     ]
    }
   ],
   "source": [
    "result_table_os = get_results_table(df_os, 10000.0, algorithm_conversion_peak, non_apple_source=True)"
   ]
  },
  {
   "cell_type": "markdown",
   "id": "eeeebdd7",
   "metadata": {},
   "source": [
    "### Signal Quality"
   ]
  },
  {
   "cell_type": "code",
   "execution_count": 17,
   "id": "8c57563d",
   "metadata": {},
   "outputs": [],
   "source": [
    "def plot_confusion_matrix(\n",
    "    groundtruth, prediction, labels,\n",
    "    title, xlabel='PeakSwift', ylabel='NeuroKit', x_rotation=0, y_rotation=0,\n",
    "    save=False\n",
    "):\n",
    "    cm = confusion_matrix(groundtruth, prediction, labels=labels)\n",
    "    disp = ConfusionMatrixDisplay(confusion_matrix=cm, display_labels=labels)\n",
    "    disp.plot(cmap=plt.cm.Blues)\n",
    "    disp.ax_.set(title=title, xlabel = xlabel, ylabel = ylabel)\n",
    "    plt.xticks(rotation=x_rotation)\n",
    "    plt.yticks(rotation=y_rotation)\n",
    "    if save:\n",
    "        plt.savefig('./results/' + title + '.png', bbox_inches='tight', dpi=300)\n",
    "    plt.show()\n",
    "    plt.close()"
   ]
  },
  {
   "cell_type": "code",
   "execution_count": 18,
   "id": "671fddcd",
   "metadata": {},
   "outputs": [],
   "source": [
    "def get_signal_quality(result_table):\n",
    "    sq = result_table[\n",
    "        [\n",
    "            'id', 'signal_quality_neurokit_simple',\n",
    "            'signal_quality_neurokit_fuzzy', 'signal_quality_swift_simple',\n",
    "            'signal_quality_swift_fuzzy', 'signal_rating_apple',\n",
    "        ]\n",
    "    ].drop_duplicates('id')\n",
    "\n",
    "    labels = ['Excellent', 'Barely acceptable', 'Unacceptable']\n",
    "    labels_apple = list(sq.signal_rating_apple.unique())\n",
    "\n",
    "    # Neurokit returns a small spelling mistake: Unnacceptable\n",
    "    sq.signal_quality_neurokit_fuzzy = sq.signal_quality_neurokit_fuzzy.replace('Unnacceptable', 'Unacceptable')\n",
    "    sq.signal_quality_swift_simple = sq.signal_quality_swift_simple.replace('barelyAcceptable', 'Barely acceptable').replace('unacceptable', 'Unacceptable').replace('excellent', 'Excellent')\n",
    "    sq.signal_quality_swift_fuzzy = sq.signal_quality_swift_fuzzy.replace('barelyAcceptable', 'Barely acceptable').replace('unacceptable', 'Unacceptable').replace('excellent', 'Excellent')\n",
    "    return sq"
   ]
  },
  {
   "cell_type": "code",
   "execution_count": 19,
   "id": "a0498b7e",
   "metadata": {},
   "outputs": [],
   "source": [
    "def plot_signal_quality(sq, context, iOS_source=True):\n",
    "    labels = ['Excellent', 'Barely acceptable', 'Unacceptable']\n",
    "    labels_apple = list(sq.signal_rating_apple.unique())\n",
    "    plot_confusion_matrix(\n",
    "        sq.signal_quality_neurokit_simple, sq.signal_quality_swift_simple, labels,\n",
    "        title=\"Zhao2018 Simple - \" + context, y_rotation=0, save=True,\n",
    "    )\n",
    "    plot_confusion_matrix(\n",
    "        sq.signal_quality_neurokit_fuzzy, sq.signal_quality_swift_fuzzy, labels,\n",
    "        title=\"Zhao2018 Fuzzy - \" + context, y_rotation=0, save=True,\n",
    "    )\n",
    "    if iOS_source:\n",
    "        plot_confusion_matrix(\n",
    "            sq.signal_quality_swift_simple, sq.signal_rating_apple, labels + labels_apple,\n",
    "            title=\"Signal Rating\", xlabel='Apple', x_rotation=90, save=True,\n",
    "        )"
   ]
  },
  {
   "cell_type": "code",
   "execution_count": 20,
   "id": "b49650ef",
   "metadata": {},
   "outputs": [
    {
     "ename": "NameError",
     "evalue": "name 'result_table' is not defined",
     "output_type": "error",
     "traceback": [
      "\u001b[0;31m---------------------------------------------------------------------------\u001b[0m",
      "\u001b[0;31mNameError\u001b[0m                                 Traceback (most recent call last)",
      "Cell \u001b[0;32mIn[20], line 1\u001b[0m\n\u001b[0;32m----> 1\u001b[0m sq \u001b[38;5;241m=\u001b[39m get_signal_quality(\u001b[43mresult_table\u001b[49m)\n\u001b[1;32m      2\u001b[0m sq_os \u001b[38;5;241m=\u001b[39m get_signal_quality(result_table_os)\n",
      "\u001b[0;31mNameError\u001b[0m: name 'result_table' is not defined"
     ]
    }
   ],
   "source": [
    "sq = get_signal_quality(result_table)\n",
    "sq_os = get_signal_quality(result_table_os)"
   ]
  },
  {
   "cell_type": "code",
   "execution_count": 21,
   "id": "53cf3dd8",
   "metadata": {
    "scrolled": false
   },
   "outputs": [
    {
     "ename": "NameError",
     "evalue": "name 'sq' is not defined",
     "output_type": "error",
     "traceback": [
      "\u001b[0;31m---------------------------------------------------------------------------\u001b[0m",
      "\u001b[0;31mNameError\u001b[0m                                 Traceback (most recent call last)",
      "Cell \u001b[0;32mIn[21], line 1\u001b[0m\n\u001b[0;32m----> 1\u001b[0m plot_signal_quality(\u001b[43msq\u001b[49m, \u001b[38;5;124m\"\u001b[39m\u001b[38;5;124mSelf Recorded\u001b[39m\u001b[38;5;124m\"\u001b[39m)\n\u001b[1;32m      2\u001b[0m plot_signal_quality(sq_os, \u001b[38;5;124m\"\u001b[39m\u001b[38;5;124mOpen Source\u001b[39m\u001b[38;5;124m\"\u001b[39m, \u001b[38;5;28;01mFalse\u001b[39;00m)\n",
      "\u001b[0;31mNameError\u001b[0m: name 'sq' is not defined"
     ]
    }
   ],
   "source": [
    "plot_signal_quality(sq, \"Self Recorded\")\n",
    "plot_signal_quality(sq_os, \"Open Source\", False)"
   ]
  },
  {
   "cell_type": "markdown",
   "id": "736466e9",
   "metadata": {},
   "source": [
    "### R-peak Detection Accuracy"
   ]
  },
  {
   "cell_type": "code",
   "execution_count": 23,
   "id": "0dce929d",
   "metadata": {},
   "outputs": [],
   "source": [
    "def print_performance_metrics(result_table):\n",
    "    print(\n",
    "    'Mean Absolute Error:',\n",
    "    np.mean(result_table.mean_difference_t0),\n",
    "    '±',\n",
    "    np.std(result_table.mean_difference_t0),\n",
    "    )\n",
    "    print(\n",
    "        'Max Error:',\n",
    "        np.max(result_table.mean_difference_t0),\n",
    "    )\n",
    "    print(\n",
    "        'Cases with Error:',\n",
    "        len(result_table.mean_difference_t0[result_table.mean_difference_t0 > 0.0]),\n",
    "    )\n",
    "    print(\n",
    "        'Ratio of cases with error:',\n",
    "        (len(result_table.mean_difference_t0[result_table.mean_difference_t0 > 0.0]) / len(result_table))*100,\n",
    "        '%',\n",
    "    )\n",
    "    \n",
    "    print(\n",
    "        'Mean Absolute Error (error tolerance 10):',\n",
    "        np.mean(result_table.mean_difference_t10),\n",
    "        '±',\n",
    "        np.std(result_table.mean_difference_t10),\n",
    "    )\n",
    "    \n",
    "    print(\n",
    "        'Number of deviating R-peak count:',\n",
    "        len(result_table[result_table.peak_diff != 0]),\n",
    "    )\n",
    "    print(\n",
    "        'Mean Absolute Error:',\n",
    "        np.mean(result_table.mean_difference_mapped_t0),\n",
    "        '±',\n",
    "        np.std(result_table.mean_difference_mapped_t0),\n",
    "    )\n",
    "    print(\n",
    "        'Max Error:',\n",
    "        np.max(result_table.mean_difference_mapped_t0),\n",
    "    )\n",
    "    print(\n",
    "        'ECGs with Error:',\n",
    "        len(result_table.mean_difference_mapped_t0[result_table.mean_difference_mapped_t0 > 0.0]),\n",
    "    )\n",
    "    print(\n",
    "        'Mean Absolute Error (error tolerance 10):',\n",
    "        np.mean(result_table.mean_difference_mapped_t10),\n",
    "        '±',\n",
    "        np.std(result_table.mean_difference_mapped_t10),\n",
    "    )\n",
    "    \n",
    "    print(\n",
    "        'Runtime NeuroKit (ms):',\n",
    "        np.mean(result_table.runtime_neurokit),\n",
    "        '±',\n",
    "        np.std(result_table.runtime_neurokit),\n",
    "    )\n",
    "    print(\n",
    "        'Runtime Swift (ms):',\n",
    "        np.mean(result_table.runtime_swift),\n",
    "        '±',\n",
    "        np.std(result_table.runtime_swift),\n",
    "    )\n",
    "    print(\n",
    "        'Runtime Difference (ms):',\n",
    "        np.mean(result_table.runtime_difference),\n",
    "        '±',\n",
    "        np.std(result_table.runtime_difference),\n",
    "    )\n",
    "    print(\n",
    "        'Runtime Difference without Christov (ms):',\n",
    "        np.mean(result_table[result_table.algorithm != 'christov'].runtime_difference),\n",
    "        '±',\n",
    "        np.std(result_table[result_table.algorithm != 'christov'].runtime_difference),\n",
    "    )"
   ]
  },
  {
   "cell_type": "code",
   "execution_count": 24,
   "id": "4b8a66d7",
   "metadata": {},
   "outputs": [
    {
     "name": "stdout",
     "output_type": "stream",
     "text": [
      "Mean Absolute Error: 0.003171951840883707 ± 0.08071190684109533\n",
      "Max Error: 3.4358974358974357\n",
      "Cases with Error: 48\n",
      "Ratio of cases with error: 1.179651019906611 %\n",
      "Mean Absolute Error (error tolerance 10): 0.0 ± 0.0\n",
      "Number of deviating R-peak count: 15\n",
      "Mean Absolute Error: 0.003470396053621924 ± 0.0829487372539662\n",
      "Max Error: 3.4358974358974357\n",
      "ECGs with Error: 49\n",
      "Mean Absolute Error (error tolerance 10): 0.0031881682528231226 ± 0.08291181533469877\n",
      "Runtime NeuroKit (ms): 23.267165540506284 ± 35.4939108949337\n",
      "Runtime Swift (ms): 3.133691522241337 ± 4.694793242635367\n",
      "Runtime Difference (ms): 20.133474018264945 ± 34.801438239814985\n",
      "Runtime Difference without Christov (ms): 8.122273842368514 ± 14.996054935248333\n"
     ]
    }
   ],
   "source": [
    "print_performance_metrics(result_table)"
   ]
  },
  {
   "cell_type": "code",
   "execution_count": 25,
   "id": "ee9de549",
   "metadata": {},
   "outputs": [
    {
     "name": "stdout",
     "output_type": "stream",
     "text": [
      "Mean Absolute Error: 0.033973883372039396 ± 1.8020603181181225\n",
      "Max Error: 356.3333333333333\n",
      "Cases with Error: 1345\n",
      "Ratio of cases with error: 1.5962686478595758 %\n",
      "Mean Absolute Error (error tolerance 10): 0.013031413729869995 ± 1.6699590784231455\n",
      "Number of deviating R-peak count: 647\n",
      "Mean Absolute Error: 0.03106208009142161 ± 0.950532173226377\n",
      "Max Error: 134.61111111111111\n",
      "ECGs with Error: 1428\n",
      "Mean Absolute Error (error tolerance 10): 0.02954849652655458 ± 0.9467073400396949\n",
      "Runtime NeuroKit (ms): 7.545774806611007 ± 10.685406538794307\n",
      "Runtime Swift (ms): 0.706397566681304 ± 0.9658193758948508\n",
      "Runtime Difference (ms): 6.839377239929703 ± 10.479710417059618\n",
      "Runtime Difference without Christov (ms): 3.1566405895491907 ± 4.1362555490354795\n"
     ]
    }
   ],
   "source": [
    "print_performance_metrics(result_table_os)"
   ]
  },
  {
   "cell_type": "code",
   "execution_count": 26,
   "id": "1fe3b319",
   "metadata": {},
   "outputs": [],
   "source": [
    "def det_detail_information(result_table):\n",
    "    evaluation_overview = result_table.groupby('algorithm')[\n",
    "        [\n",
    "            'mean_difference_t0', 'mean_difference_mapped_t0',\n",
    "            'runtime_neurokit', 'runtime_swift', 'runtime_difference',\n",
    "        ]\n",
    "    ].agg(mean_std)\n",
    "    evaluation_overview['peak_diff'] = result_table.groupby('algorithm')[['peak_diff']].agg(np.sum)['peak_diff']\n",
    "    return evaluation_overview"
   ]
  },
  {
   "cell_type": "code",
   "execution_count": 27,
   "id": "de739ad7",
   "metadata": {},
   "outputs": [],
   "source": [
    "evaluation_overview = det_detail_information(result_table)\n",
    "evaluation_overview_os = det_detail_information(result_table_os)"
   ]
  },
  {
   "cell_type": "code",
   "execution_count": 28,
   "id": "fe77d4f0",
   "metadata": {},
   "outputs": [
    {
     "data": {
      "text/html": [
       "<div>\n",
       "<style scoped>\n",
       "    .dataframe tbody tr th:only-of-type {\n",
       "        vertical-align: middle;\n",
       "    }\n",
       "\n",
       "    .dataframe tbody tr th {\n",
       "        vertical-align: top;\n",
       "    }\n",
       "\n",
       "    .dataframe thead th {\n",
       "        text-align: right;\n",
       "    }\n",
       "</style>\n",
       "<table border=\"1\" class=\"dataframe\">\n",
       "  <thead>\n",
       "    <tr style=\"text-align: right;\">\n",
       "      <th></th>\n",
       "      <th>mean_difference_t0</th>\n",
       "      <th>mean_difference_mapped_t0</th>\n",
       "      <th>runtime_neurokit</th>\n",
       "      <th>runtime_swift</th>\n",
       "      <th>runtime_difference</th>\n",
       "      <th>peak_diff</th>\n",
       "    </tr>\n",
       "    <tr>\n",
       "      <th>algorithm</th>\n",
       "      <th></th>\n",
       "      <th></th>\n",
       "      <th></th>\n",
       "      <th></th>\n",
       "      <th></th>\n",
       "      <th></th>\n",
       "    </tr>\n",
       "  </thead>\n",
       "  <tbody>\n",
       "    <tr>\n",
       "      <th>christov</th>\n",
       "      <td>0.0$\\pm$0.0</td>\n",
       "      <td>0.0$\\pm$0.0</td>\n",
       "      <td>109.45303$\\pm$6.00442</td>\n",
       "      <td>5.31194$\\pm$2.17693</td>\n",
       "      <td>104.14108$\\pm$6.54414</td>\n",
       "      <td>0</td>\n",
       "    </tr>\n",
       "    <tr>\n",
       "      <th>elgendi</th>\n",
       "      <td>0.01926$\\pm$0.20385</td>\n",
       "      <td>0.01922$\\pm$0.20365</td>\n",
       "      <td>6.08655$\\pm$0.10209</td>\n",
       "      <td>0.76832$\\pm$0.71699</td>\n",
       "      <td>5.31823$\\pm$0.72545</td>\n",
       "      <td>1</td>\n",
       "    </tr>\n",
       "    <tr>\n",
       "      <th>engzee</th>\n",
       "      <td>0.0$\\pm$0.0</td>\n",
       "      <td>0.0$\\pm$0.0</td>\n",
       "      <td>45.46707$\\pm$1.21512</td>\n",
       "      <td>1.18383$\\pm$0.66178</td>\n",
       "      <td>44.28324$\\pm$1.37672</td>\n",
       "      <td>2</td>\n",
       "    </tr>\n",
       "    <tr>\n",
       "      <th>hamilton</th>\n",
       "      <td>0.0$\\pm$0.0</td>\n",
       "      <td>0.00249$\\pm$0.05616</td>\n",
       "      <td>5.86612$\\pm$0.15934</td>\n",
       "      <td>0.51205$\\pm$0.32989</td>\n",
       "      <td>5.35407$\\pm$0.36538</td>\n",
       "      <td>1</td>\n",
       "    </tr>\n",
       "    <tr>\n",
       "      <th>kalidas</th>\n",
       "      <td>0.0$\\pm$0.0</td>\n",
       "      <td>0.0$\\pm$0.0</td>\n",
       "      <td>1.11296$\\pm$0.56765</td>\n",
       "      <td>1.59855$\\pm$0.90346</td>\n",
       "      <td>-0.48559$\\pm$1.07185</td>\n",
       "      <td>0</td>\n",
       "    </tr>\n",
       "    <tr>\n",
       "      <th>nabian</th>\n",
       "      <td>0.0$\\pm$0.0</td>\n",
       "      <td>0.0$\\pm$0.0</td>\n",
       "      <td>15.80138$\\pm$0.23621</td>\n",
       "      <td>13.90655$\\pm$4.38812</td>\n",
       "      <td>1.89483$\\pm$4.38844</td>\n",
       "      <td>0</td>\n",
       "    </tr>\n",
       "    <tr>\n",
       "      <th>neurokit</th>\n",
       "      <td>0.00616$\\pm$0.10139</td>\n",
       "      <td>0.00603$\\pm$0.1003</td>\n",
       "      <td>1.67546$\\pm$0.07767</td>\n",
       "      <td>1.11451$\\pm$0.75424</td>\n",
       "      <td>0.56095$\\pm$0.75798</td>\n",
       "      <td>12</td>\n",
       "    </tr>\n",
       "    <tr>\n",
       "      <th>pantompkins</th>\n",
       "      <td>0.0$\\pm$0.0</td>\n",
       "      <td>0.0$\\pm$0.0</td>\n",
       "      <td>0.80559$\\pm$0.03663</td>\n",
       "      <td>0.66228$\\pm$0.41512</td>\n",
       "      <td>0.14331$\\pm$0.41509</td>\n",
       "      <td>0</td>\n",
       "    </tr>\n",
       "  </tbody>\n",
       "</table>\n",
       "</div>"
      ],
      "text/plain": [
       "              mean_difference_t0 mean_difference_mapped_t0  \\\n",
       "algorithm                                                    \n",
       "christov             0.0$\\pm$0.0               0.0$\\pm$0.0   \n",
       "elgendi      0.01926$\\pm$0.20385       0.01922$\\pm$0.20365   \n",
       "engzee               0.0$\\pm$0.0               0.0$\\pm$0.0   \n",
       "hamilton             0.0$\\pm$0.0       0.00249$\\pm$0.05616   \n",
       "kalidas              0.0$\\pm$0.0               0.0$\\pm$0.0   \n",
       "nabian               0.0$\\pm$0.0               0.0$\\pm$0.0   \n",
       "neurokit     0.00616$\\pm$0.10139        0.00603$\\pm$0.1003   \n",
       "pantompkins          0.0$\\pm$0.0               0.0$\\pm$0.0   \n",
       "\n",
       "                  runtime_neurokit         runtime_swift  \\\n",
       "algorithm                                                  \n",
       "christov     109.45303$\\pm$6.00442   5.31194$\\pm$2.17693   \n",
       "elgendi        6.08655$\\pm$0.10209   0.76832$\\pm$0.71699   \n",
       "engzee        45.46707$\\pm$1.21512   1.18383$\\pm$0.66178   \n",
       "hamilton       5.86612$\\pm$0.15934   0.51205$\\pm$0.32989   \n",
       "kalidas        1.11296$\\pm$0.56765   1.59855$\\pm$0.90346   \n",
       "nabian        15.80138$\\pm$0.23621  13.90655$\\pm$4.38812   \n",
       "neurokit       1.67546$\\pm$0.07767   1.11451$\\pm$0.75424   \n",
       "pantompkins    0.80559$\\pm$0.03663   0.66228$\\pm$0.41512   \n",
       "\n",
       "                runtime_difference  peak_diff  \n",
       "algorithm                                      \n",
       "christov     104.14108$\\pm$6.54414          0  \n",
       "elgendi        5.31823$\\pm$0.72545          1  \n",
       "engzee        44.28324$\\pm$1.37672          2  \n",
       "hamilton       5.35407$\\pm$0.36538          1  \n",
       "kalidas       -0.48559$\\pm$1.07185          0  \n",
       "nabian         1.89483$\\pm$4.38844          0  \n",
       "neurokit       0.56095$\\pm$0.75798         12  \n",
       "pantompkins    0.14331$\\pm$0.41509          0  "
      ]
     },
     "execution_count": 28,
     "metadata": {},
     "output_type": "execute_result"
    }
   ],
   "source": [
    "evaluation_overview"
   ]
  },
  {
   "cell_type": "code",
   "execution_count": 29,
   "id": "75568509",
   "metadata": {},
   "outputs": [
    {
     "data": {
      "text/html": [
       "<div>\n",
       "<style scoped>\n",
       "    .dataframe tbody tr th:only-of-type {\n",
       "        vertical-align: middle;\n",
       "    }\n",
       "\n",
       "    .dataframe tbody tr th {\n",
       "        vertical-align: top;\n",
       "    }\n",
       "\n",
       "    .dataframe thead th {\n",
       "        text-align: right;\n",
       "    }\n",
       "</style>\n",
       "<table border=\"1\" class=\"dataframe\">\n",
       "  <thead>\n",
       "    <tr style=\"text-align: right;\">\n",
       "      <th></th>\n",
       "      <th>mean_difference_t0</th>\n",
       "      <th>mean_difference_mapped_t0</th>\n",
       "      <th>runtime_neurokit</th>\n",
       "      <th>runtime_swift</th>\n",
       "      <th>runtime_difference</th>\n",
       "      <th>peak_diff</th>\n",
       "    </tr>\n",
       "    <tr>\n",
       "      <th>algorithm</th>\n",
       "      <th></th>\n",
       "      <th></th>\n",
       "      <th></th>\n",
       "      <th></th>\n",
       "      <th></th>\n",
       "      <th></th>\n",
       "    </tr>\n",
       "  </thead>\n",
       "  <tbody>\n",
       "    <tr>\n",
       "      <th>christov</th>\n",
       "      <td>5e-05$\\pm$0.00295</td>\n",
       "      <td>0.00035$\\pm$0.03032</td>\n",
       "      <td>33.78999$\\pm$1.09764</td>\n",
       "      <td>1.23461$\\pm$0.08944</td>\n",
       "      <td>32.55538$\\pm$1.1074</td>\n",
       "      <td>1</td>\n",
       "    </tr>\n",
       "    <tr>\n",
       "      <th>elgendi</th>\n",
       "      <td>0.1282$\\pm$1.64578</td>\n",
       "      <td>0.13745$\\pm$1.65316</td>\n",
       "      <td>2.35242$\\pm$0.04557</td>\n",
       "      <td>0.16035$\\pm$0.01316</td>\n",
       "      <td>2.19207$\\pm$0.04693</td>\n",
       "      <td>252</td>\n",
       "    </tr>\n",
       "    <tr>\n",
       "      <th>engzee</th>\n",
       "      <td>0.00328$\\pm$0.15672</td>\n",
       "      <td>0.00319$\\pm$0.15446</td>\n",
       "      <td>13.47243$\\pm$0.46551</td>\n",
       "      <td>0.38904$\\pm$0.02926</td>\n",
       "      <td>13.08339$\\pm$0.47259</td>\n",
       "      <td>133</td>\n",
       "    </tr>\n",
       "    <tr>\n",
       "      <th>hamilton</th>\n",
       "      <td>0.01869$\\pm$0.78267</td>\n",
       "      <td>0.04117$\\pm$1.22674</td>\n",
       "      <td>3.36047$\\pm$0.47976</td>\n",
       "      <td>0.11524$\\pm$0.01131</td>\n",
       "      <td>3.24523$\\pm$0.47343</td>\n",
       "      <td>37</td>\n",
       "    </tr>\n",
       "    <tr>\n",
       "      <th>kalidas</th>\n",
       "      <td>0.0$\\pm$0.0</td>\n",
       "      <td>0.0$\\pm$0.0</td>\n",
       "      <td>0.72179$\\pm$0.03478</td>\n",
       "      <td>0.30112$\\pm$0.04149</td>\n",
       "      <td>0.42067$\\pm$0.0532</td>\n",
       "      <td>0</td>\n",
       "    </tr>\n",
       "    <tr>\n",
       "      <th>nabian</th>\n",
       "      <td>0.0$\\pm$0.0</td>\n",
       "      <td>0.0$\\pm$0.0</td>\n",
       "      <td>5.02051$\\pm$0.07877</td>\n",
       "      <td>3.08186$\\pm$0.2217</td>\n",
       "      <td>1.93865$\\pm$0.23021</td>\n",
       "      <td>0</td>\n",
       "    </tr>\n",
       "    <tr>\n",
       "      <th>neurokit</th>\n",
       "      <td>0.10232$\\pm$4.68665</td>\n",
       "      <td>0.03783$\\pm$1.34656</td>\n",
       "      <td>1.07155$\\pm$0.05783</td>\n",
       "      <td>0.21892$\\pm$0.01778</td>\n",
       "      <td>0.85263$\\pm$0.05658</td>\n",
       "      <td>246</td>\n",
       "    </tr>\n",
       "    <tr>\n",
       "      <th>pantompkins</th>\n",
       "      <td>0.02172$\\pm$0.96909</td>\n",
       "      <td>0.02804$\\pm$1.05936</td>\n",
       "      <td>0.6775$\\pm$0.05662</td>\n",
       "      <td>0.14459$\\pm$0.01361</td>\n",
       "      <td>0.53291$\\pm$0.05303</td>\n",
       "      <td>18</td>\n",
       "    </tr>\n",
       "  </tbody>\n",
       "</table>\n",
       "</div>"
      ],
      "text/plain": [
       "              mean_difference_t0 mean_difference_mapped_t0  \\\n",
       "algorithm                                                    \n",
       "christov       5e-05$\\pm$0.00295       0.00035$\\pm$0.03032   \n",
       "elgendi       0.1282$\\pm$1.64578       0.13745$\\pm$1.65316   \n",
       "engzee       0.00328$\\pm$0.15672       0.00319$\\pm$0.15446   \n",
       "hamilton     0.01869$\\pm$0.78267       0.04117$\\pm$1.22674   \n",
       "kalidas              0.0$\\pm$0.0               0.0$\\pm$0.0   \n",
       "nabian               0.0$\\pm$0.0               0.0$\\pm$0.0   \n",
       "neurokit     0.10232$\\pm$4.68665       0.03783$\\pm$1.34656   \n",
       "pantompkins  0.02172$\\pm$0.96909       0.02804$\\pm$1.05936   \n",
       "\n",
       "                 runtime_neurokit        runtime_swift    runtime_difference  \\\n",
       "algorithm                                                                      \n",
       "christov     33.78999$\\pm$1.09764  1.23461$\\pm$0.08944   32.55538$\\pm$1.1074   \n",
       "elgendi       2.35242$\\pm$0.04557  0.16035$\\pm$0.01316   2.19207$\\pm$0.04693   \n",
       "engzee       13.47243$\\pm$0.46551  0.38904$\\pm$0.02926  13.08339$\\pm$0.47259   \n",
       "hamilton      3.36047$\\pm$0.47976  0.11524$\\pm$0.01131   3.24523$\\pm$0.47343   \n",
       "kalidas       0.72179$\\pm$0.03478  0.30112$\\pm$0.04149    0.42067$\\pm$0.0532   \n",
       "nabian        5.02051$\\pm$0.07877   3.08186$\\pm$0.2217   1.93865$\\pm$0.23021   \n",
       "neurokit      1.07155$\\pm$0.05783  0.21892$\\pm$0.01778   0.85263$\\pm$0.05658   \n",
       "pantompkins    0.6775$\\pm$0.05662  0.14459$\\pm$0.01361   0.53291$\\pm$0.05303   \n",
       "\n",
       "             peak_diff  \n",
       "algorithm               \n",
       "christov             1  \n",
       "elgendi            252  \n",
       "engzee             133  \n",
       "hamilton            37  \n",
       "kalidas              0  \n",
       "nabian               0  \n",
       "neurokit           246  \n",
       "pantompkins         18  "
      ]
     },
     "execution_count": 29,
     "metadata": {},
     "output_type": "execute_result"
    }
   ],
   "source": [
    "evaluation_overview_os"
   ]
  },
  {
   "cell_type": "markdown",
   "id": "8827b19e",
   "metadata": {},
   "source": [
    "### Beats per Minute Accuracy\n",
    "Assessed in a comparison towards FDA approved Apple's BPM rating."
   ]
  },
  {
   "cell_type": "code",
   "execution_count": 30,
   "id": "931ec012",
   "metadata": {},
   "outputs": [
    {
     "name": "stdout",
     "output_type": "stream",
     "text": [
      "Difference to Apple BPM (simple): 9.029245514868519 ± 32.11564229722207\n",
      "Difference to Apple BPM (RR): 8.58593310479604 ± 33.26413299569645\n",
      "BPM Difference without Christov (simple): 3.398876404494382 ± 10.922577322534577\n",
      "BPM Difference without Christov (rr): 2.688436028318112 ± 11.128866454892181\n"
     ]
    }
   ],
   "source": [
    "print(\n",
    "    'Difference to Apple BPM (simple):',\n",
    "    np.mean(result_table.bpm_difference_simple),\n",
    "    '±',\n",
    "    np.std(result_table.bpm_difference_simple),\n",
    ")\n",
    "\n",
    "print(\n",
    "    'Difference to Apple BPM (RR):',\n",
    "    np.mean(result_table.bpm_difference_rr),\n",
    "    '±',\n",
    "    np.std(result_table.bpm_difference_rr),\n",
    ")\n",
    "\n",
    "print(\n",
    "    'BPM Difference without Christov (simple):',\n",
    "    np.mean(result_table[result_table.algorithm != 'christov'].bpm_difference_simple),\n",
    "    '±',\n",
    "    np.std(result_table[result_table.algorithm != 'christov'].bpm_difference_simple),\n",
    ")\n",
    "\n",
    "print(\n",
    "    'BPM Difference without Christov (rr):',\n",
    "    np.mean(result_table[result_table.algorithm != 'christov'].bpm_difference_rr),\n",
    "    '±',\n",
    "    np.std(result_table[result_table.algorithm != 'christov'].bpm_difference_rr),\n",
    ")"
   ]
  },
  {
   "cell_type": "code",
   "execution_count": 31,
   "id": "430c6ba7",
   "metadata": {},
   "outputs": [
    {
     "data": {
      "image/png": "[encoded data removed]",
      "text/plain": [
       "<Figure size 1000x300 with 1 Axes>"
      ]
     },
     "metadata": {},
     "output_type": "display_data"
    }
   ],
   "source": [
    "fig = plt.figure(figsize=(10,3))\n",
    "ax = sns.barplot(data=result_table, x=\"algorithm\", y=\"bpm_difference_rr\")\n",
    "ax.set(xlabel='Algorithm', ylabel='Absolute error')\n",
    "ax.set_title('Alignment: BPM detected by PeakSwift vs. Apple')\n",
    "plt.show()\n",
    "fig.savefig('./results/comparisonBPM.png', bbox_inches='tight', dpi=300)\n",
    "plt.close()"
   ]
  },
  {
   "cell_type": "code",
   "execution_count": 32,
   "id": "5919e759",
   "metadata": {},
   "outputs": [
    {
     "data": {
      "image/png": "[encoded data removed]",
      "text/plain": [
       "<Figure size 1500x500 with 2 Axes>"
      ]
     },
     "metadata": {},
     "output_type": "display_data"
    }
   ],
   "source": [
    "fig = plt.figure(figsize=(15,5))\n",
    "ax = sns.histplot(\n",
    "    result_table, x=\"algorithm\", y=\"bpm_difference_rr\",\n",
    "    bins=30, discrete=(True, False), log_scale=(False, True),\n",
    "    cbar=True,\n",
    ")\n",
    "ax.set(xlabel='Algorithm', ylabel='Difference BPM (log)')\n",
    "ax.set_title(\"Bivariate histogram highlighting the BPM difference between iOS and the PeakSwift algorithms\")\n",
    "#Comparison of iOS and PeakSwift's algorithms for calculating the BPM.\n",
    "plt.show()\n",
    "fig.savefig('./results/histogramBPM.png', dpi=300, bbox_inches='tight')\n",
    "plt.close()"
   ]
  },
  {
   "cell_type": "markdown",
   "id": "59b1be7b",
   "metadata": {},
   "source": [
    "### Computational Runtime"
   ]
  },
  {
   "cell_type": "code",
   "execution_count": 33,
   "id": "5dd330d2",
   "metadata": {},
   "outputs": [
    {
     "data": {
      "image/png": "[encoded data removed]",
      "text/plain": [
       "<Figure size 1000x300 with 1 Axes>"
      ]
     },
     "metadata": {},
     "output_type": "display_data"
    }
   ],
   "source": [
    "fig = plt.figure(figsize=(10,3))\n",
    "ax = sns.barplot(data=result_table, x=\"algorithm\", y=\"runtime_difference\")\n",
    "ax.set(xlabel='Algorithm', ylabel='Seconds')\n",
    "ax.set_title('How much less runtime does the iPhone 13 Pro have compared to the M1?')\n",
    "plt.show()\n",
    "fig.savefig('./results/comparisonRuntime.png', bbox_inches='tight', dpi=300)\n",
    "plt.close()"
   ]
  },
  {
   "cell_type": "code",
   "execution_count": 59,
   "id": "b120549b",
   "metadata": {},
   "outputs": [
    {
     "name": "stdout",
     "output_type": "stream",
     "text": [
      "Self Recorded: How much faster on average is PeakSwift in Comparison to NeuroKit: 13.05\n",
      "Open Source: How much faster on average is PeakSwift in Comparison to NeuroKit: 14.96\n",
      "Combined: How much faster on average is PeakSwift in Comparison to NeuroKit: 14.88\n"
     ]
    }
   ],
   "source": [
    "print('Self Recorded: How much faster on average is PeakSwift in Comparison to NeuroKit:', np.round(np.mean(result_table.swift_faster),2))\n",
    "print('Open Source: How much faster on average is PeakSwift in Comparison to NeuroKit:', np.round(np.mean(result_table_os.swift_faster),2))\n",
    "print('Combined: How much faster on average is PeakSwift in Comparison to NeuroKit:', np.round(np.mean(pd.concat([result_table.swift_faster, result_table_os.swift_faster])),2))"
   ]
  },
  {
   "cell_type": "code",
   "execution_count": 35,
   "id": "35ba46fa",
   "metadata": {},
   "outputs": [
    {
     "data": {
      "text/html": [
       "<div>\n",
       "<style scoped>\n",
       "    .dataframe tbody tr th:only-of-type {\n",
       "        vertical-align: middle;\n",
       "    }\n",
       "\n",
       "    .dataframe tbody tr th {\n",
       "        vertical-align: top;\n",
       "    }\n",
       "\n",
       "    .dataframe thead th {\n",
       "        text-align: right;\n",
       "    }\n",
       "</style>\n",
       "<table border=\"1\" class=\"dataframe\">\n",
       "  <thead>\n",
       "    <tr style=\"text-align: right;\">\n",
       "      <th></th>\n",
       "      <th>swift_faster</th>\n",
       "    </tr>\n",
       "    <tr>\n",
       "      <th>algorithm</th>\n",
       "      <th></th>\n",
       "    </tr>\n",
       "  </thead>\n",
       "  <tbody>\n",
       "    <tr>\n",
       "      <th>christov</th>\n",
       "      <td>23.709361</td>\n",
       "    </tr>\n",
       "    <tr>\n",
       "      <th>elgendi</th>\n",
       "      <td>10.096247</td>\n",
       "    </tr>\n",
       "    <tr>\n",
       "      <th>engzee</th>\n",
       "      <td>49.373384</td>\n",
       "    </tr>\n",
       "    <tr>\n",
       "      <th>hamilton</th>\n",
       "      <td>15.741985</td>\n",
       "    </tr>\n",
       "    <tr>\n",
       "      <th>kalidas</th>\n",
       "      <td>0.896178</td>\n",
       "    </tr>\n",
       "    <tr>\n",
       "      <th>nabian</th>\n",
       "      <td>1.222869</td>\n",
       "    </tr>\n",
       "    <tr>\n",
       "      <th>neurokit</th>\n",
       "      <td>1.985063</td>\n",
       "    </tr>\n",
       "    <tr>\n",
       "      <th>pantompkins</th>\n",
       "      <td>1.569326</td>\n",
       "    </tr>\n",
       "  </tbody>\n",
       "</table>\n",
       "</div>"
      ],
      "text/plain": [
       "             swift_faster\n",
       "algorithm                \n",
       "christov        23.709361\n",
       "elgendi         10.096247\n",
       "engzee          49.373384\n",
       "hamilton        15.741985\n",
       "kalidas          0.896178\n",
       "nabian           1.222869\n",
       "neurokit         1.985063\n",
       "pantompkins      1.569326"
      ]
     },
     "execution_count": 35,
     "metadata": {},
     "output_type": "execute_result"
    }
   ],
   "source": [
    "result_table.groupby('algorithm')[['swift_faster']].agg(np.mean)"
   ]
  },
  {
   "cell_type": "code",
   "execution_count": 36,
   "id": "52017fd8",
   "metadata": {},
   "outputs": [
    {
     "data": {
      "text/html": [
       "<div>\n",
       "<style scoped>\n",
       "    .dataframe tbody tr th:only-of-type {\n",
       "        vertical-align: middle;\n",
       "    }\n",
       "\n",
       "    .dataframe tbody tr th {\n",
       "        vertical-align: top;\n",
       "    }\n",
       "\n",
       "    .dataframe thead th {\n",
       "        text-align: right;\n",
       "    }\n",
       "</style>\n",
       "<table border=\"1\" class=\"dataframe\">\n",
       "  <thead>\n",
       "    <tr style=\"text-align: right;\">\n",
       "      <th></th>\n",
       "      <th>swift_faster</th>\n",
       "    </tr>\n",
       "    <tr>\n",
       "      <th>algorithm</th>\n",
       "      <th></th>\n",
       "    </tr>\n",
       "  </thead>\n",
       "  <tbody>\n",
       "    <tr>\n",
       "      <th>christov</th>\n",
       "      <td>27.525108</td>\n",
       "    </tr>\n",
       "    <tr>\n",
       "      <th>elgendi</th>\n",
       "      <td>14.769704</td>\n",
       "    </tr>\n",
       "    <tr>\n",
       "      <th>engzee</th>\n",
       "      <td>34.850876</td>\n",
       "    </tr>\n",
       "    <tr>\n",
       "      <th>hamilton</th>\n",
       "      <td>29.209571</td>\n",
       "    </tr>\n",
       "    <tr>\n",
       "      <th>kalidas</th>\n",
       "      <td>2.419273</td>\n",
       "    </tr>\n",
       "    <tr>\n",
       "      <th>nabian</th>\n",
       "      <td>1.637756</td>\n",
       "    </tr>\n",
       "    <tr>\n",
       "      <th>neurokit</th>\n",
       "      <td>4.923015</td>\n",
       "    </tr>\n",
       "    <tr>\n",
       "      <th>pantompkins</th>\n",
       "      <td>4.713927</td>\n",
       "    </tr>\n",
       "  </tbody>\n",
       "</table>\n",
       "</div>"
      ],
      "text/plain": [
       "             swift_faster\n",
       "algorithm                \n",
       "christov        27.525108\n",
       "elgendi         14.769704\n",
       "engzee          34.850876\n",
       "hamilton        29.209571\n",
       "kalidas          2.419273\n",
       "nabian           1.637756\n",
       "neurokit         4.923015\n",
       "pantompkins      4.713927"
      ]
     },
     "execution_count": 36,
     "metadata": {},
     "output_type": "execute_result"
    }
   ],
   "source": [
    "result_table_os.groupby('algorithm')[['swift_faster']].agg(np.mean)"
   ]
  },
  {
   "cell_type": "markdown",
   "id": "1275a960",
   "metadata": {},
   "source": [
    "### Real-Time Capabilities"
   ]
  },
  {
   "cell_type": "code",
   "execution_count": 37,
   "id": "0d1beb30",
   "metadata": {},
   "outputs": [
    {
     "data": {
      "text/plain": [
       "algorithm    real_time_capabilities_bool\n",
       "christov     True                           509\n",
       "elgendi      True                           509\n",
       "engzee       True                           506\n",
       "hamilton     True                           509\n",
       "kalidas      True                           509\n",
       "nabian       True                           509\n",
       "neurokit     True                           509\n",
       "pantompkins  True                           509\n",
       "Name: id, dtype: int64"
      ]
     },
     "execution_count": 37,
     "metadata": {},
     "output_type": "execute_result"
    }
   ],
   "source": [
    "result_table.groupby(['algorithm', 'real_time_capabilities_bool'])['id'].count()"
   ]
  },
  {
   "cell_type": "code",
   "execution_count": 38,
   "id": "37c38d00",
   "metadata": {
    "scrolled": true
   },
   "outputs": [
    {
     "data": {
      "text/plain": [
       "algorithm    real_time_capabilities_bool\n",
       "christov     True                           10555\n",
       "elgendi      True                           10555\n",
       "engzee       True                           10375\n",
       "hamilton     True                           10555\n",
       "kalidas      True                           10555\n",
       "nabian       True                           10555\n",
       "neurokit     True                           10554\n",
       "pantompkins  True                           10555\n",
       "Name: id, dtype: int64"
      ]
     },
     "execution_count": 38,
     "metadata": {},
     "output_type": "execute_result"
    }
   ],
   "source": [
    "result_table_os.groupby(['algorithm', 'real_time_capabilities_bool'])['id'].count()"
   ]
  },
  {
   "cell_type": "markdown",
   "id": "10f5530e",
   "metadata": {},
   "source": [
    "## F1 scores, Recall, Precision"
   ]
  },
  {
   "cell_type": "code",
   "execution_count": 119,
   "id": "5f116f53",
   "metadata": {},
   "outputs": [],
   "source": [
    "def calculcate_precision(result_table):\n",
    "    return result_table['tp'] / (result_table['tp'] + result_table['fp'])\n",
    "\n",
    "def calculcate_recall(result_table):\n",
    "    return result_table['tp'] / (result_table['tp'] + result_table['fn'])\n",
    "\n",
    "def calculcate_f1(result_table):\n",
    "    return 2 * result_table['precision'] * result_table['recall']  / (result_table['precision'] + result_table['recall'])"
   ]
  },
  {
   "cell_type": "code",
   "execution_count": 120,
   "id": "836f50e1",
   "metadata": {},
   "outputs": [],
   "source": [
    "def calculate_precision_recall_per_algorihtm(results):\n",
    "    return calculate_precision_recall(results.groupby(['algorithm']))"
   ]
  },
  {
   "cell_type": "code",
   "execution_count": 125,
   "id": "7355da88",
   "metadata": {},
   "outputs": [],
   "source": [
    "def calculate_precision_recall(results):\n",
    "    result_with_scores = results[['tp', 'fp', 'fn']].sum()#.agg({'tp':'sum','fp':'sum', 'fn': 'sum'})\n",
    "    result_with_scores['precision'] = calculcate_precision(result_with_scores)\n",
    "    result_with_scores['recall'] = calculcate_recall(result_with_scores)\n",
    "    result_with_scores['f1'] = calculcate_f1(result_with_scores)\n",
    "    return result_with_scores"
   ]
  },
  {
   "cell_type": "code",
   "execution_count": 128,
   "id": "6e381aec",
   "metadata": {},
   "outputs": [
    {
     "name": "stdout",
     "output_type": "stream",
     "text": [
      "F1 (Total) 0.9982534571300373 Precision (Total) 0.9982809686173424 Recall (Total) 0.9982259471590611\n"
     ]
    }
   ],
   "source": [
    "res = calculate_precision_recall(result_table_os)\n",
    "print(\n",
    "    'F1 (Total)',\n",
    "    res['f1'],\n",
    "    'Precision (Total)',\n",
    "    res['precision'],\n",
    "    'Recall (Total)',\n",
    "    res['recall'],\n",
    ")"
   ]
  },
  {
   "cell_type": "code",
   "execution_count": 127,
   "id": "5904106d",
   "metadata": {},
   "outputs": [
    {
     "data": {
      "text/html": [
       "<div>\n",
       "<style scoped>\n",
       "    .dataframe tbody tr th:only-of-type {\n",
       "        vertical-align: middle;\n",
       "    }\n",
       "\n",
       "    .dataframe tbody tr th {\n",
       "        vertical-align: top;\n",
       "    }\n",
       "\n",
       "    .dataframe thead th {\n",
       "        text-align: right;\n",
       "    }\n",
       "</style>\n",
       "<table border=\"1\" class=\"dataframe\">\n",
       "  <thead>\n",
       "    <tr style=\"text-align: right;\">\n",
       "      <th></th>\n",
       "      <th>tp</th>\n",
       "      <th>fp</th>\n",
       "      <th>fn</th>\n",
       "      <th>precision</th>\n",
       "      <th>recall</th>\n",
       "      <th>f1</th>\n",
       "    </tr>\n",
       "    <tr>\n",
       "      <th>algorithm</th>\n",
       "      <th></th>\n",
       "      <th></th>\n",
       "      <th></th>\n",
       "      <th></th>\n",
       "      <th></th>\n",
       "      <th></th>\n",
       "    </tr>\n",
       "  </thead>\n",
       "  <tbody>\n",
       "    <tr>\n",
       "      <th>christov</th>\n",
       "      <td>166902</td>\n",
       "      <td>7</td>\n",
       "      <td>8</td>\n",
       "      <td>0.999958</td>\n",
       "      <td>0.999952</td>\n",
       "      <td>0.999955</td>\n",
       "    </tr>\n",
       "    <tr>\n",
       "      <th>elgendi</th>\n",
       "      <td>146260</td>\n",
       "      <td>498</td>\n",
       "      <td>490</td>\n",
       "      <td>0.996607</td>\n",
       "      <td>0.996661</td>\n",
       "      <td>0.996634</td>\n",
       "    </tr>\n",
       "    <tr>\n",
       "      <th>engzee</th>\n",
       "      <td>106029</td>\n",
       "      <td>78</td>\n",
       "      <td>66</td>\n",
       "      <td>0.999265</td>\n",
       "      <td>0.999378</td>\n",
       "      <td>0.999321</td>\n",
       "    </tr>\n",
       "    <tr>\n",
       "      <th>hamilton</th>\n",
       "      <td>169295</td>\n",
       "      <td>215</td>\n",
       "      <td>169</td>\n",
       "      <td>0.998732</td>\n",
       "      <td>0.999003</td>\n",
       "      <td>0.998867</td>\n",
       "    </tr>\n",
       "    <tr>\n",
       "      <th>kalidas</th>\n",
       "      <td>151700</td>\n",
       "      <td>0</td>\n",
       "      <td>0</td>\n",
       "      <td>1.000000</td>\n",
       "      <td>1.000000</td>\n",
       "      <td>1.000000</td>\n",
       "    </tr>\n",
       "    <tr>\n",
       "      <th>nabian</th>\n",
       "      <td>120967</td>\n",
       "      <td>0</td>\n",
       "      <td>0</td>\n",
       "      <td>1.000000</td>\n",
       "      <td>1.000000</td>\n",
       "      <td>1.000000</td>\n",
       "    </tr>\n",
       "    <tr>\n",
       "      <th>neurokit</th>\n",
       "      <td>139936</td>\n",
       "      <td>1084</td>\n",
       "      <td>1235</td>\n",
       "      <td>0.992313</td>\n",
       "      <td>0.991252</td>\n",
       "      <td>0.991782</td>\n",
       "    </tr>\n",
       "    <tr>\n",
       "      <th>pantompkins</th>\n",
       "      <td>158034</td>\n",
       "      <td>114</td>\n",
       "      <td>92</td>\n",
       "      <td>0.999279</td>\n",
       "      <td>0.999418</td>\n",
       "      <td>0.999349</td>\n",
       "    </tr>\n",
       "  </tbody>\n",
       "</table>\n",
       "</div>"
      ],
      "text/plain": [
       "                 tp    fp    fn  precision    recall        f1\n",
       "algorithm                                                     \n",
       "christov     166902     7     8   0.999958  0.999952  0.999955\n",
       "elgendi      146260   498   490   0.996607  0.996661  0.996634\n",
       "engzee       106029    78    66   0.999265  0.999378  0.999321\n",
       "hamilton     169295   215   169   0.998732  0.999003  0.998867\n",
       "kalidas      151700     0     0   1.000000  1.000000  1.000000\n",
       "nabian       120967     0     0   1.000000  1.000000  1.000000\n",
       "neurokit     139936  1084  1235   0.992313  0.991252  0.991782\n",
       "pantompkins  158034   114    92   0.999279  0.999418  0.999349"
      ]
     },
     "execution_count": 127,
     "metadata": {},
     "output_type": "execute_result"
    }
   ],
   "source": [
    "calculate_precision_recall_per_algorihtm(result_table_os)"
   ]
  },
  {
   "cell_type": "code",
   "execution_count": null,
   "id": "f9060fa9",
   "metadata": {},
   "outputs": [],
   "source": []
  }
 ],
 "metadata": {
  "kernelspec": {
   "display_name": "Python 3 (ipykernel)",
   "language": "python",
   "name": "python3"
  },
  "language_info": {
   "codemirror_mode": {
    "name": "ipython",
    "version": 3
   },
   "file_extension": ".py",
   "mimetype": "text/x-python",
   "name": "python",
   "nbconvert_exporter": "python",
   "pygments_lexer": "ipython3",
   "version": "3.9.6"
  }
 },
 "nbformat": 4,
 "nbformat_minor": 5
}
