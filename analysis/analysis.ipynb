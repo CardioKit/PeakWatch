{
 "cells": [
  {
   "cell_type": "markdown",
   "id": "853061b5",
   "metadata": {},
   "source": [
    "# PeakSwift: Analysis of Accuracy through Comparison towards Neurokit"
   ]
  },
  {
   "cell_type": "markdown",
   "id": "1371336e",
   "metadata": {},
   "source": [
    "This notebook presents an analysis of the PeakSwift package's capabilities in detecting R-peaks and assessment of signal quality within single-lead electrocardiogram signals. The evaluation is conducted against the established gold standard, NeuroKit. The analysis encompasses the thorough assessment and validation of the following key aspects:\n",
    "\n",
    "- Accuracy of R-peak detection\n",
    "- Performance in signal quality assessment\n",
    "- Computational runtime efficiency\n",
    "\n",
    "Through this analysis, we aim to provide a deeper understanding of the PeakSwift package's utility and effectiveness in comparison to a recognized standard. Additionally, the computational runtime is scrutinized to gauge the efficiency of the package in real-world applications."
   ]
  },
  {
   "cell_type": "code",
   "execution_count": null,
   "id": "5b0210d7",
   "metadata": {},
   "outputs": [],
   "source": [
    "import glob\n",
    "import json\n",
    "import time\n",
    "from tqdm import tqdm\n",
    "%matplotlib inline\n",
    "from matplotlib import pyplot as plt\n",
    "import seaborn as sns\n",
    "import numpy as np\n",
    "import pandas as pd\n",
    "import neurokit2 as nk\n",
    "from sklearn.metrics import confusion_matrix, ConfusionMatrixDisplay"
   ]
  },
  {
   "cell_type": "code",
   "execution_count": null,
   "id": "11409080",
   "metadata": {},
   "outputs": [],
   "source": [
    "import session_info\n",
    "session_info.show()"
   ]
  },
  {
   "cell_type": "markdown",
   "id": "256106a0",
   "metadata": {},
   "source": [
    "### Data Loading"
   ]
  },
  {
   "cell_type": "markdown",
   "id": "e55a94de",
   "metadata": {},
   "source": [
    "The JSON-formatted exported data from the PeakWatch demo application must be located within the './data' directory."
   ]
  },
  {
   "cell_type": "code",
   "execution_count": null,
   "id": "249922a7",
   "metadata": {},
   "outputs": [],
   "source": [
    "files = glob.glob(\"./data/*.json\")\n",
    "df = pd.DataFrame()\n",
    "events = pd.DataFrame()\n",
    "for k in files:\n",
    "    f = json.load(open(k))\n",
    "    df = pd.concat([df, pd.json_normalize(f['ecgs'])])\n",
    "df = df.reset_index()"
   ]
  },
  {
   "cell_type": "markdown",
   "id": "a35b128d",
   "metadata": {},
   "source": [
    "Every row within the dataset corresponds to a 30-second electrocardiogram (ECG) recording, indicated in the 'ecg.ecg' column. Accompanying this primary data are essential metadata, including bpm, sampling rate, and date of recording. Additionally, PeakSwift's computed properties are included:\n",
    "\n",
    "- R-peaks, computed through eight distinct detection algorithms\n",
    "- Signal quality assessment, performed by two distinct algorithms"
   ]
  },
  {
   "cell_type": "code",
   "execution_count": null,
   "id": "57387a27",
   "metadata": {},
   "outputs": [],
   "source": [
    "df.head(3)"
   ]
  },
  {
   "cell_type": "code",
   "execution_count": null,
   "id": "9f5c3c7e",
   "metadata": {},
   "outputs": [],
   "source": [
    "plt.figure(figsize=(15, 5))\n",
    "plt.plot(df['ecg.ecg'][43][2000:3536], c='royalblue')\n",
    "plt.axis('off')\n",
    "plt.savefig('./results/sample_ecg.png', dpi=300)\n",
    "#plt.close()"
   ]
  },
  {
   "cell_type": "code",
   "execution_count": null,
   "id": "f986605b",
   "metadata": {},
   "outputs": [],
   "source": [
    "# Watch6,2 : Apple Watch Series 6 44mm case (GPS)\n",
    "# Watch6,1 : Apple Watch Series 6 40mm case (GPS)\n",
    "# Watch5,2 : Apple Watch Series 5 44mm case (GPS)\n",
    "\n",
    "print('Watch Model:', df['apple_meta_data.hardware_version'].unique())\n",
    "\n",
    "df['timestamp_recording'] = pd.to_datetime(df['apple_meta_data.recording_start_time'] + 978307200, unit='s')\n",
    "df['subject'] = pd.factorize(df['device_id'])[0]"
   ]
  },
  {
   "cell_type": "code",
   "execution_count": null,
   "id": "459e4ae4",
   "metadata": {},
   "outputs": [],
   "source": [
    "print('Total amount of ECG:', len(df))"
   ]
  },
  {
   "cell_type": "code",
   "execution_count": null,
   "id": "c9f1158a",
   "metadata": {},
   "outputs": [],
   "source": [
    "df.groupby('subject')['subject'].count()"
   ]
  },
  {
   "cell_type": "code",
   "execution_count": null,
   "id": "e2bc357d",
   "metadata": {},
   "outputs": [],
   "source": [
    "palette = sns.color_palette('tab10')\n",
    "fig = plt.figure(figsize=(15,5))\n",
    "plt.set_cmap('tab10')\n",
    "ax = sns.histplot(data=df, x=\"timestamp_recording\", hue=\"subject\", bins=100, palette=palette)\n",
    "ax.set(xlabel='Timestamp', ylabel='Number of ECGs')\n",
    "ax.set_title('ECG recordings over time')\n",
    "plt.show()\n",
    "fig.savefig('./results/recordings.png', dpi=300)\n",
    "plt.close()"
   ]
  },
  {
   "cell_type": "markdown",
   "id": "d236eed0",
   "metadata": {},
   "source": [
    "### Functions and Tools for Evaluation"
   ]
  },
  {
   "cell_type": "markdown",
   "id": "6bcde117",
   "metadata": {},
   "source": [
    "Mapping from PeakSwift's to NeuroKit's Algorithm Naming Convention"
   ]
  },
  {
   "cell_type": "code",
   "execution_count": null,
   "id": "285ef54c",
   "metadata": {},
   "outputs": [],
   "source": [
    "algorithm_conversion_peak = {\n",
    "    'Christov': 'christov',\n",
    "    'Two Average': 'elgendi',\n",
    "    'NeuroKit': 'neurokit',\n",
    "    'Hamilton': 'hamilton',\n",
    "    'Pan Tompkins': 'pantompkins',\n",
    "    'Kalidas': 'kalidas',\n",
    "    'Engzee': 'engzee',\n",
    "    'Nabian': 'nabian',\n",
    "    'Basic': None,\n",
    "    'Aristotle': None,\n",
    "    'WQRS': None,\n",
    "    'UNSW': None,\n",
    "}\n",
    "\n",
    "algorithm_conversion_clean = {\n",
    "    'christov': 'christov',\n",
    "    'elgendi': 'elgendi2010',\n",
    "    'neurokit': 'neurokit',\n",
    "    'hamilton': 'hamilton2002',\n",
    "    'pantompkins': 'pantompkins1985',\n",
    "    'engzee': 'engzeemod2012',\n",
    "    'kalidas': 'kalidas',\n",
    "    'nabian': 'nabian',\n",
    "    'Basic': None,\n",
    "    'Aristotle': None,\n",
    "    'UNSW': None,\n",
    "    'WQRS': None,\n",
    "}"
   ]
  },
  {
   "cell_type": "code",
   "execution_count": null,
   "id": "289e671d",
   "metadata": {},
   "outputs": [],
   "source": [
    "def closest_value(arr, value):\n",
    "    \"\"\"\n",
    "    Find the value in an array 'arr' that is closest to the given 'value'.\n",
    "    \"\"\"\n",
    "    return arr[np.argmin(np.abs(arr - value))]\n",
    "\n",
    "def mapped_mae(arr1, arr2, threshold_low=0, threshold_up=1000000000):\n",
    "    \"\"\"\n",
    "    Calculate the mapped Mean Absolute Error (MAE) between two arrays 'arr1' and 'arr2',\n",
    "    with optional lower and upper thresholds for error calculation.\n",
    "    \"\"\"\n",
    "    total_mae = 0\n",
    "    \n",
    "    shorter_arr = arr1 if len(arr1) < len(arr2) else arr2\n",
    "    longer_arr = arr2 if len(arr1) < len(arr2) else arr1\n",
    "    \n",
    "    for val1 in shorter_arr:\n",
    "        closest_val2 = closest_value(longer_arr, val1)\n",
    "        abs_diff = np.abs(val1 - closest_val2)\n",
    "        if threshold_low <= abs_diff <= threshold_up:\n",
    "            total_mae += abs_diff\n",
    "    \n",
    "    if len(shorter_arr) == 0:\n",
    "        return 0\n",
    "    \n",
    "    return total_mae / len(shorter_arr)\n",
    "\n",
    "def mae(arr1, arr2, threshold_low=0, threshold_up=100000000000):\n",
    "    \"\"\"\n",
    "    Calculate the Mean Absolute Error (MAE) between two arrays 'arr1' and 'arr2',\n",
    "    with optional lower and upper thresholds for error calculation.\n",
    "    \"\"\"\n",
    "    abs_diffs = np.abs(arr1 - arr2)\n",
    "    abs_diffs[(abs_diffs <= threshold_low) | (abs_diffs >= threshold_up)] = 0\n",
    "    return np.mean(abs_diffs)"
   ]
  },
  {
   "cell_type": "code",
   "execution_count": null,
   "id": "d8f2554e",
   "metadata": {},
   "outputs": [],
   "source": [
    "def compare_algorithm(signal, method, result_swift, sampling_rate=512, index=None, plot=False):\n",
    "    \n",
    "    \"\"\"\n",
    "    Compare R-peak detection algorithms and visualize the results.\n",
    "\n",
    "    Parameters:\n",
    "    signal (array-like): ECG signal.\n",
    "    method (str, optional): R-peak detection method (default: 'neurokit').\n",
    "    result_swift (array-like): Detected R-peaks from Swift algorithm.\n",
    "    sampling_rate (int, optional): Sampling rate of the signal (default: 512).\n",
    "    index (int): Index of the signal.\n",
    "    plot (bool): Whether to plot the comparison.\n",
    "\n",
    "    Returns:\n",
    "    dict: Dictionary containing comparison results.\n",
    "    \"\"\"\n",
    "\n",
    "    start = time.time()\n",
    "    if method != 'nabian':\n",
    "        cleaned_signal = nk.ecg_clean(signal, sampling_rate, method=algorithm_conversion_clean[method])\n",
    "    else:\n",
    "        cleaned_signal = signal\n",
    "    end = time.time()\n",
    "    time_cleaning = (end - start)\n",
    "\n",
    "    start = time.time()\n",
    "    \n",
    "    result_nk = nk.ecg_peaks(cleaned_signal, sampling_rate, method)\n",
    "    end = time.time()\n",
    "    time_rPeak_detection = (end - start)\n",
    "    result_nk = np.where(result_nk[0]['ECG_R_Peaks'] > 0)[0]\n",
    "    \n",
    "    number_r_peaks_swift = len(result_swift)\n",
    "    number_r_peaks_neurokit = len(result_nk)\n",
    "    \n",
    "    # Plot dedicated sample for the publication\n",
    "    if (index == 118) & (method=='engzee'):\n",
    "        n_peaks = 512*4\n",
    "        plt.figure(figsize=(15, 5))\n",
    "        plt.plot(signal[0:n_peaks], c='red', label='Original Signal')\n",
    "        a = np.array(result_swift)\n",
    "        b = np.array(result_nk)\n",
    "        a = a[a <= n_peaks]\n",
    "        b = b[b <= n_peaks]\n",
    "        plt.vlines(\n",
    "            x=a, colors='blue',\n",
    "            ymin=0.0, ymax=np.max(signal),\n",
    "            label='Swift: Detected ' + str(len(a)) +  ' R-peaks with ' + method,\n",
    "        )\n",
    "        plt.vlines(\n",
    "            x=b, colors='green',\n",
    "            ymin=np.min(signal), ymax=0.0,\n",
    "            label='Python: Detected ' + str(len(b)) + ' R-peaks with ' + method,\n",
    "        )\n",
    "        plt.xlabel('Timestamp')\n",
    "        plt.ylabel('Amplitude')\n",
    "        plt.title('Comparison of R-peak Detection')\n",
    "        plt.legend()\n",
    "        plot_filename = f'./results/publication_sample_{index}_{method}.png'\n",
    "        plt.savefig(plot_filename, dpi=300)\n",
    "        plt.close()\n",
    "    \n",
    "    if plot & (number_r_peaks_swift !=number_r_peaks_neurokit):\n",
    "        plt.figure(figsize=(60, 5))\n",
    "        plt.plot(signal, c='red', label='Original Signal')\n",
    "        plt.vlines(\n",
    "            x=result_swift, colors='blue',\n",
    "            ymin=np.min(signal), ymax=np.max(signal),\n",
    "            label='Swift: Detected ' + str(len(result_swift)) +  ' R-peaks with ' + method,\n",
    "        )\n",
    "        plt.vlines(\n",
    "            x=result_nk, colors='green',\n",
    "            ymin=np.min(signal), ymax=np.max(signal),\n",
    "            label='Python: Detected ' + str(len(result_nk)) + ' R-peaks with ' + method,\n",
    "        )\n",
    "        plt.xlabel('Sample')\n",
    "        plt.ylabel('Amplitude')\n",
    "        plt.title('Comparison of R-peak Detection')\n",
    "        plt.legend()\n",
    "        plot_filename = f'./results/{index}_{method}.png'\n",
    "        plt.savefig(plot_filename, dpi=300)\n",
    "        plt.close()\n",
    "    \n",
    "    if (number_r_peaks_swift == number_r_peaks_neurokit):\n",
    "        mean_difference_t0 = mae(result_nk, result_swift)\n",
    "        mean_difference_t1 = mae(result_nk, result_swift, 1)\n",
    "        mean_difference_t5 = mae(result_nk, result_swift, 5)\n",
    "        mean_difference_t10 = mae(result_nk, result_swift, 200)\n",
    "    else:\n",
    "        mean_difference_t0 = np.nan\n",
    "        mean_difference_t1 = np.nan\n",
    "        mean_difference_t5 = np.nan\n",
    "        mean_difference_t10 = np.nan\n",
    "\n",
    "    mean_difference_mapped_t0 = mapped_mae(result_nk, result_swift)\n",
    "    mean_difference_mapped_t1 = mapped_mae(result_nk, result_swift, 1)\n",
    "    mean_difference_mapped_t5 = mapped_mae(result_nk, result_swift, 5)\n",
    "    mean_difference_mapped_t10 = mapped_mae(result_nk, result_swift, 10)\n",
    "    \n",
    "    result = {\n",
    "        'mean_difference_t0': mean_difference_t0,\n",
    "        'mean_difference_t1': mean_difference_t1,\n",
    "        'mean_difference_t5': mean_difference_t5,\n",
    "        'mean_difference_t10': mean_difference_t10,\n",
    "        'mean_difference_mapped_t0': mean_difference_mapped_t0,\n",
    "        'mean_difference_mapped_t1': mean_difference_mapped_t1,\n",
    "        'mean_difference_mapped_t5': mean_difference_mapped_t5,\n",
    "        'mean_difference_mapped_t10': mean_difference_mapped_t10,\n",
    "        'bpm_swift_simple': number_r_peaks_swift * 2,\n",
    "        'bpm_swift_rr': (60*sampling_rate) / np.mean(np.diff(result_swift)),\n",
    "        'number_r_peaks_swift': number_r_peaks_swift,\n",
    "        'number_r_peaks_neurokit': number_r_peaks_neurokit,\n",
    "        'runtime_m1_cleaning': time_cleaning,\n",
    "        'runtime_m1_rPeak_detection': time_rPeak_detection,\n",
    "    }\n",
    "    \n",
    "    return result"
   ]
  },
  {
   "cell_type": "code",
   "execution_count": null,
   "id": "73864515",
   "metadata": {},
   "outputs": [],
   "source": [
    "def process_row(row, algorithm_conversion_peak, index, plot=False):\n",
    "    signal = np.array(row['ecg.ecg'])\n",
    "    sampling_rate = row['ecg.sampling_rate']\n",
    "    bpm_apple = row['apple_meta_data.beats_per_minute']\n",
    "    \n",
    "    quality_neurokit_simple = np.nan\n",
    "    quality_peakswift_simple = np.nan\n",
    "    quality_neurokit_fuzzy = np.nan\n",
    "    quality_peakswift_fuzzy = np.nan\n",
    "    \n",
    "    for quality in row.signal_quality:\n",
    "        if quality['method'] == 'Zhao2018Simple':\n",
    "            quality_neurokit_simple = nk.ecg_quality(signal, method='zhao2018', approach='simple', sampling_rate=sampling_rate)\n",
    "            quality_peakswift_simple = quality['score']\n",
    "        elif quality['method'] == 'Zhao2018Fuzzy':\n",
    "            quality_neurokit_fuzzy = nk.ecg_quality(signal, method='zhao2018', approach='fuzzy', sampling_rate=sampling_rate)\n",
    "            quality_peakswift_fuzzy = quality['score']\n",
    "        else:\n",
    "            print('sth went wrong')\n",
    "            \n",
    "    quality_apple = row['apple_meta_data.apple_rating']\n",
    "    \n",
    "    result_rows = []\n",
    "    \n",
    "    identifier = row['device_id']\n",
    "    device = row['apple_meta_data.hardware_version']\n",
    "    subject = row['subject']\n",
    "    \n",
    "    for algo_info in row.algorithms:\n",
    "        algo_name = algo_info['algorithm']\n",
    "        algorithm = algorithm_conversion_peak.get(algo_name)\n",
    "        \n",
    "        if algorithm is None:\n",
    "            continue\n",
    "        \n",
    "        try:\n",
    "            comparison = compare_algorithm(signal, algorithm, algo_info['r_peaks'], sampling_rate, index, plot)\n",
    "        except Exception as error:\n",
    "            print('Exception', identifier, algorithm, error)\n",
    "            continue\n",
    "\n",
    "        metadata = {\n",
    "            'id': index,\n",
    "            'subject': subject,\n",
    "            'device': device,\n",
    "            'sampling_rate': sampling_rate,\n",
    "            'signal_quality_neurokit_simple': quality_neurokit_simple,\n",
    "            'signal_quality_neurokit_fuzzy': quality_neurokit_fuzzy,\n",
    "            'signal_quality_swift_simple': quality_peakswift_simple,\n",
    "            'signal_quality_swift_fuzzy': quality_peakswift_fuzzy,\n",
    "            'signal_rating_apple': quality_apple,\n",
    "            'algorithm': algorithm,\n",
    "            'bpm_apple': bpm_apple,\n",
    "            'runtime_swift': algo_info['runtime']['attoseconds'] / 1e+18,\n",
    "        }\n",
    "\n",
    "        result_rows.append({**metadata, **comparison})\n",
    "\n",
    "    return result_rows"
   ]
  },
  {
   "cell_type": "markdown",
   "id": "3d47499b",
   "metadata": {},
   "source": [
    "Loop through the dataframe and construct a result table by gathering benchmarking metrics."
   ]
  },
  {
   "cell_type": "code",
   "execution_count": null,
   "id": "3a53ae38",
   "metadata": {},
   "outputs": [],
   "source": [
    "result_rows = []\n",
    "for index, row in tqdm(df.iterrows(), total=df.shape[0]):\n",
    "    result_rows.extend(process_row(row, algorithm_conversion_peak, index, False))\n",
    "result_table = pd.DataFrame(result_rows)\n",
    "result_table.index = range(len(result_table))"
   ]
  },
  {
   "cell_type": "code",
   "execution_count": null,
   "id": "732c6baa",
   "metadata": {},
   "outputs": [],
   "source": [
    "result_table['bpm_difference_simple'] = np.abs(result_table['bpm_apple'] - result_table['bpm_swift_simple'])\n",
    "result_table['bpm_difference_rr'] = np.abs(result_table['bpm_apple'] - result_table['bpm_swift_rr'])\n",
    "result_table['peak_diff'] = np.abs(result_table['number_r_peaks_neurokit'] - result_table['number_r_peaks_swift'])\n",
    "\n",
    "runtime_m1_total = result_table['runtime_m1_cleaning'] + result_table['runtime_m1_rPeak_detection']\n",
    "runtime_diff = runtime_m1_total - result_table['runtime_swift']\n",
    "result_table['runtime_difference'] = runtime_diff * 1000 # ms instead of s"
   ]
  },
  {
   "cell_type": "code",
   "execution_count": null,
   "id": "2c82cb7e",
   "metadata": {},
   "outputs": [],
   "source": [
    "result_table.head(5)"
   ]
  },
  {
   "cell_type": "markdown",
   "id": "eeeebdd7",
   "metadata": {},
   "source": [
    "### Signal Quality"
   ]
  },
  {
   "cell_type": "code",
   "execution_count": null,
   "id": "8c57563d",
   "metadata": {},
   "outputs": [],
   "source": [
    "def plot_confusion_matrix(\n",
    "    groundtruth, prediction, labels,\n",
    "    title, xlabel='PeakSwift', ylabel='NeuroKit', x_rotation=0, y_rotation=0,\n",
    "    save=False\n",
    "):\n",
    "    cm = confusion_matrix(groundtruth, prediction, labels=labels)\n",
    "    disp = ConfusionMatrixDisplay(confusion_matrix=cm, display_labels=labels)\n",
    "    disp.plot(cmap=plt.cm.Blues)\n",
    "    disp.ax_.set(title=title, xlabel = xlabel, ylabel = ylabel)\n",
    "    plt.xticks(rotation=x_rotation)\n",
    "    plt.yticks(rotation=y_rotation)\n",
    "    if save:\n",
    "        plt.savefig('./results/' + title + '.png', dpi=300)\n",
    "    plt.show()\n",
    "    plt.close()"
   ]
  },
  {
   "cell_type": "code",
   "execution_count": null,
   "id": "b49650ef",
   "metadata": {},
   "outputs": [],
   "source": [
    "sq = result_table[\n",
    "    [\n",
    "        'id', 'signal_quality_neurokit_simple',\n",
    "        'signal_quality_neurokit_fuzzy', 'signal_quality_swift_simple',\n",
    "        'signal_quality_swift_fuzzy', 'signal_rating_apple',\n",
    "    ]\n",
    "].drop_duplicates('id')"
   ]
  },
  {
   "cell_type": "code",
   "execution_count": null,
   "id": "81073ccd",
   "metadata": {},
   "outputs": [],
   "source": [
    "labels = ['Excellent', 'Barely acceptable', 'Unacceptable']\n",
    "labels_apple = list(sq.signal_rating_apple.unique())"
   ]
  },
  {
   "cell_type": "code",
   "execution_count": null,
   "id": "919e6004",
   "metadata": {},
   "outputs": [],
   "source": [
    "# Neurokit returns a small spelling mistake: Unnacceptable\n",
    "sq.signal_quality_neurokit_fuzzy = sq.signal_quality_neurokit_fuzzy.replace('Unnacceptable', 'Unacceptable')"
   ]
  },
  {
   "cell_type": "code",
   "execution_count": null,
   "id": "98900727",
   "metadata": {},
   "outputs": [],
   "source": [
    "sq.signal_quality_swift_simple = sq.signal_quality_swift_simple.replace('barelyAcceptable', 'Barely acceptable').replace('unacceptable', 'Unacceptable').replace('excellent', 'Excellent')\n",
    "sq.signal_quality_swift_fuzzy = sq.signal_quality_swift_fuzzy.replace('barelyAcceptable', 'Barely acceptable').replace('unacceptable', 'Unacceptable').replace('excellent', 'Excellent')"
   ]
  },
  {
   "cell_type": "code",
   "execution_count": null,
   "id": "53cf3dd8",
   "metadata": {},
   "outputs": [],
   "source": [
    "plot_confusion_matrix(\n",
    "    sq.signal_quality_neurokit_simple, sq.signal_quality_swift_simple, labels,\n",
    "    title=\"Zhao2018 Simple\", y_rotation=0, save=True,\n",
    ")\n",
    "plot_confusion_matrix(\n",
    "    sq.signal_quality_neurokit_fuzzy, sq.signal_quality_swift_fuzzy, labels,\n",
    "    title=\"Zhao2018 Fuzzy\", y_rotation=0, save=True,\n",
    ")\n",
    "plot_confusion_matrix(\n",
    "    sq.signal_quality_swift_simple, sq.signal_rating_apple, labels + labels_apple,\n",
    "    title=\"Signal Rating\", xlabel='Apple', x_rotation=90, save=True,\n",
    ")"
   ]
  },
  {
   "cell_type": "markdown",
   "id": "736466e9",
   "metadata": {},
   "source": [
    "### R-peak Detection Accuracy"
   ]
  },
  {
   "cell_type": "code",
   "execution_count": null,
   "id": "9244d3ad",
   "metadata": {},
   "outputs": [],
   "source": [
    "print(\n",
    "    'Mean Absolute Error:',\n",
    "    np.mean(result_table.mean_difference_t0),\n",
    "    '±',\n",
    "    np.std(result_table.mean_difference_t0),\n",
    ")"
   ]
  },
  {
   "cell_type": "code",
   "execution_count": null,
   "id": "c24b2c1a",
   "metadata": {},
   "outputs": [],
   "source": [
    "print(\n",
    "    'Mean Absolute Error (error tolerance 10):',\n",
    "    np.mean(result_table.mean_difference_t10),\n",
    "    '±',\n",
    "    np.std(result_table.mean_difference_t10),\n",
    ")"
   ]
  },
  {
   "cell_type": "code",
   "execution_count": null,
   "id": "9ff8be9b",
   "metadata": {},
   "outputs": [],
   "source": [
    "print(\n",
    "    'Number of deviating R-peak count:',\n",
    "    len(result_table[result_table.peak_diff != 0]),\n",
    ")\n",
    "print(\n",
    "    'Mean Absolute Error:',\n",
    "    np.mean(result_table.mean_difference_mapped_t0),\n",
    "    '±',\n",
    "    np.std(result_table.mean_difference_mapped_t0),\n",
    ")\n",
    "\n",
    "print(\n",
    "    'Mean Absolute Error (error tolerance 10):',\n",
    "    np.mean(result_table.mean_difference_mapped_t10),\n",
    "    '±',\n",
    "    np.std(result_table.mean_difference_mapped_t10),\n",
    ")"
   ]
  },
  {
   "cell_type": "code",
   "execution_count": null,
   "id": "e5b565e0",
   "metadata": {},
   "outputs": [],
   "source": [
    "print(\n",
    "    'Difference to Apple BPM (simple):',\n",
    "    np.mean(result_table.bpm_difference_simple),\n",
    "    '±',\n",
    "    np.std(result_table.bpm_difference_simple),\n",
    ")\n",
    "\n",
    "print(\n",
    "    'Difference to Apple BPM (RR):',\n",
    "    np.mean(result_table.bpm_difference_rr),\n",
    "    '±',\n",
    "    np.std(result_table.bpm_difference_rr),\n",
    ")\n",
    "\n",
    "print(\n",
    "    'BPM Difference without Christov (simple):',\n",
    "    np.mean(result_table[result_table.algorithm != 'christov'].bpm_difference_simple),\n",
    "    '±',\n",
    "    np.std(result_table[result_table.algorithm != 'christov'].bpm_difference_simple),\n",
    ")\n",
    "\n",
    "print(\n",
    "    'BPM Difference without Christov (rr):',\n",
    "    np.mean(result_table[result_table.algorithm != 'christov'].bpm_difference_rr),\n",
    "    '±',\n",
    "    np.std(result_table[result_table.algorithm != 'christov'].bpm_difference_rr),\n",
    ")"
   ]
  },
  {
   "cell_type": "code",
   "execution_count": null,
   "id": "df32a46c",
   "metadata": {},
   "outputs": [],
   "source": [
    "print(\n",
    "    'Runtime Difference (ms):',\n",
    "    np.mean(result_table.runtime_difference),\n",
    "    '±',\n",
    "    np.std(result_table.runtime_difference),\n",
    ")\n",
    "print(\n",
    "    'Runtime Difference without Christov (ms):',\n",
    "    np.mean(result_table[result_table.algorithm != 'christov'].runtime_difference),\n",
    "    '±',\n",
    "    np.std(result_table[result_table.algorithm != 'christov'].runtime_difference),\n",
    ")"
   ]
  },
  {
   "cell_type": "code",
   "execution_count": null,
   "id": "b31a81e6",
   "metadata": {},
   "outputs": [],
   "source": [
    "def mean_std(series):\n",
    "    return str(np.round(np.mean(series),2)) + '$\\pm$' + str(np.round(np.std(series),2))"
   ]
  },
  {
   "cell_type": "code",
   "execution_count": null,
   "id": "de739ad7",
   "metadata": {},
   "outputs": [],
   "source": [
    "evaluation_overview = result_table.groupby('algorithm')[\n",
    "    [\n",
    "        'mean_difference_t0', 'mean_difference_mapped_t0',\n",
    "        'peak_diff', 'bpm_difference_rr', 'runtime_difference',\n",
    "    ]\n",
    "].agg(mean_std)"
   ]
  },
  {
   "cell_type": "code",
   "execution_count": null,
   "id": "fe77d4f0",
   "metadata": {},
   "outputs": [],
   "source": [
    "evaluation_overview"
   ]
  },
  {
   "cell_type": "code",
   "execution_count": null,
   "id": "6362133d",
   "metadata": {},
   "outputs": [],
   "source": [
    "evaluation_overview.to_latex().replace('\\n', '')"
   ]
  },
  {
   "cell_type": "code",
   "execution_count": null,
   "id": "a3e246a6",
   "metadata": {},
   "outputs": [],
   "source": [
    "result_table.columns"
   ]
  },
  {
   "cell_type": "code",
   "execution_count": null,
   "id": "fcaae9ec",
   "metadata": {},
   "outputs": [],
   "source": [
    "rt_overview = result_table.groupby('subject')[\n",
    "    [\n",
    "        'mean_difference_t0', 'mean_difference_mapped_t0',\n",
    "        'peak_diff', 'bpm_difference_rr', 'runtime_difference',\n",
    "    ]\n",
    "].agg(mean_std)"
   ]
  },
  {
   "cell_type": "code",
   "execution_count": null,
   "id": "f36b9633",
   "metadata": {},
   "outputs": [],
   "source": [
    "rt_overview"
   ]
  },
  {
   "cell_type": "code",
   "execution_count": null,
   "id": "9869cffc",
   "metadata": {
    "scrolled": false
   },
   "outputs": [],
   "source": [
    "fig = plt.figure(figsize=(10,3))\n",
    "ax = sns.barplot(data=result_table, x=\"algorithm\", y=\"mean_difference_t0\")\n",
    "ax.set(xlabel='Algorithm', ylabel='Mean absolute error')\n",
    "ax.set_title('Alignment: R-peak detection of NeuroKit vs. PeakSwift')\n",
    "plt.show()\n",
    "fig.savefig('./results/comparisonRPeak.png', dpi=300)\n",
    "plt.close()"
   ]
  },
  {
   "cell_type": "code",
   "execution_count": null,
   "id": "dd6f71b7",
   "metadata": {},
   "outputs": [],
   "source": [
    "fig = plt.figure(figsize=(10,3))\n",
    "ax = sns.histplot(data=result_table, x=\"peak_diff\", hue=\"algorithm\", bins=50)\n",
    "ax.set(xlabel='Algorithm', ylabel='Absolute error')\n",
    "ax.set_title('Deviating Rpeaks')\n",
    "plt.show()\n",
    "fig.savefig('./results/deviations_number_rpeaks.png', dpi=300)\n",
    "plt.close()"
   ]
  },
  {
   "cell_type": "markdown",
   "id": "8827b19e",
   "metadata": {},
   "source": [
    "### Beats per Minute Accuracy\n",
    "Assessed in a comparison towards FDA approved Apple's BPM rating."
   ]
  },
  {
   "cell_type": "code",
   "execution_count": null,
   "id": "430c6ba7",
   "metadata": {},
   "outputs": [],
   "source": [
    "fig = plt.figure(figsize=(10,3))\n",
    "ax = sns.barplot(data=result_table, x=\"algorithm\", y=\"bpm_difference_rr\")\n",
    "ax.set(xlabel='Algorithm', ylabel='Absolute error')\n",
    "ax.set_title('Alignment: BPM detected by PeakSwift vs. Apple')\n",
    "plt.show()\n",
    "fig.savefig('./results/comparisonBPM.png', dpi=300)\n",
    "plt.close()"
   ]
  },
  {
   "cell_type": "markdown",
   "id": "59b1be7b",
   "metadata": {},
   "source": [
    "### Computational Runtime"
   ]
  },
  {
   "cell_type": "code",
   "execution_count": null,
   "id": "5dd330d2",
   "metadata": {},
   "outputs": [],
   "source": [
    "fig = plt.figure(figsize=(10,3))\n",
    "ax = sns.barplot(data=result_table, x=\"algorithm\", y=\"runtime_difference\")\n",
    "ax.set(xlabel='Algorithm', ylabel='Seconds')\n",
    "ax.set_title('How much less runtime does the iPhone 13 Pro have compared to the M1?')\n",
    "plt.show()\n",
    "fig.savefig('./results/comparisonRuntime.png', dpi=300)\n",
    "plt.close()"
   ]
  }
 ],
 "metadata": {
  "kernelspec": {
   "display_name": "Python 3 (ipykernel)",
   "language": "python",
   "name": "python3"
  },
  "language_info": {
   "codemirror_mode": {
    "name": "ipython",
    "version": 3
   },
   "file_extension": ".py",
   "mimetype": "text/x-python",
   "name": "python",
   "nbconvert_exporter": "python",
   "pygments_lexer": "ipython3",
   "version": "3.9.16"
  }
 },
 "nbformat": 4,
 "nbformat_minor": 5
}
